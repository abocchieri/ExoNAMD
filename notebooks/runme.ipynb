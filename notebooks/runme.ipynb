{
 "cells": [
  {
   "cell_type": "markdown",
   "metadata": {},
   "source": [
    "# ExoNAMD API v1.0\n"
   ]
  },
  {
   "cell_type": "markdown",
   "metadata": {},
   "source": [
    "## Summary\n",
    "\n",
    "The observer wants to compute the relative and/or absolute NAMD of:\n",
    "\n",
    "- a given multiplanetary system;\n",
    "- a subset of multiplanetary systems;\n",
    "- all the known ones.\n",
    "\n",
    "This tool handles all of the above cases.\n"
   ]
  },
  {
   "cell_type": "code",
   "execution_count": 77,
   "metadata": {},
   "outputs": [
    {
     "name": "stdout",
     "output_type": "stream",
     "text": [
      "The autoreload extension is already loaded. To reload it, use:\n",
      "  %reload_ext autoreload\n"
     ]
    }
   ],
   "source": [
    "%load_ext autoreload\n",
    "%autoreload 2"
   ]
  },
  {
   "cell_type": "code",
   "execution_count": 78,
   "metadata": {},
   "outputs": [],
   "source": [
    "import os\n",
    "import numpy as np\n",
    "import pandas as pd\n",
    "import matplotlib.pyplot as plt\n",
    "import requests\n",
    "from datetime import datetime\n",
    "from datetime import timedelta\n",
    "from spright import RMRelation\n",
    "import warnings\n",
    "\n",
    "from exonamd.utils import ROOT\n",
    "from exonamd.utils import fetch_aliases\n",
    "from exonamd.utils import update_host\n",
    "from exonamd.utils import update_planet\n",
    "\n",
    "\n",
    "warnings.filterwarnings(\"ignore\")\n",
    "pd.options.display.max_columns = 20\n",
    "pd.options.display.max_rows = 30\n",
    "pd.options.mode.copy_on_write = True"
   ]
  },
  {
   "cell_type": "markdown",
   "metadata": {},
   "source": [
    "### Task 1: getting the data\n",
    "\n",
    "This task retrieves the parameters of confirmed systems from the NASA Exoplanet Archive database, and stores them in a local database.\n"
   ]
  },
  {
   "cell_type": "code",
   "execution_count": 79,
   "metadata": {},
   "outputs": [],
   "source": [
    "# Define the URL for the API\n",
    "url = \"https://exoplanetarchive.ipac.caltech.edu/TAP/sync\"\n",
    "\n",
    "# Define the date you want to filter by\n",
    "from_scratch = False  # change to False in production\n",
    "if from_scratch:\n",
    "    latest = datetime.strptime(\"1990-01-01\", \"%Y-%m-%d\")  # Example date\n",
    "else:\n",
    "    # df_old = pd.read_csv(os.path.join(ROOT, \"data\", \"exo.csv\"))\n",
    "    df_old = pd.read_csv(os.path.join(\"../exonamd/\", \"data\", \"exo.csv\"))\n",
    "    latest = df_old[\"rowupdate\"].max()\n",
    "    latest = datetime.strptime(latest, \"%Y-%m-%d\")  # Example date\n",
    "    latest = latest - timedelta(days=1)\n",
    "\n",
    "# Convert the date to a string in the format 'YYYY-MM-DD'\n",
    "latest = latest.strftime(\"%Y-%m-%d\")\n",
    "\n",
    "# Define the multiplicity you want to filter by\n",
    "multiplicity = 5\n",
    "\n",
    "# Define the SQL query to retrieve the required data\n",
    "query = f\"\"\"\n",
    "SELECT \n",
    "    hostname, \n",
    "    pl_name, \n",
    "    default_flag,\n",
    "    rowupdate,\n",
    "    sy_pnum, \n",
    "    st_rad,\n",
    "    st_mass,\n",
    "    pl_orbper,\n",
    "    pl_orbsmax, \n",
    "    pl_orbsmaxerr1, \n",
    "    pl_orbsmaxerr2, \n",
    "    pl_rade,\n",
    "    pl_radeerr1,\n",
    "    pl_radeerr2,\n",
    "    pl_bmasse, \n",
    "    pl_bmasseerr1, \n",
    "    pl_bmasseerr2, \n",
    "    pl_orbeccen, \n",
    "    pl_orbeccenerr1, \n",
    "    pl_orbeccenerr2, \n",
    "    pl_orbincl, \n",
    "    pl_orbinclerr1, \n",
    "    pl_orbinclerr2,\n",
    "    pl_trueobliq,\n",
    "    pl_trueobliqerr1,\n",
    "    pl_trueobliqerr2,\n",
    "    pl_ratdor,\n",
    "    pl_ratror\n",
    "FROM ps\n",
    "WHERE\n",
    "    sy_pnum > '{multiplicity}'\n",
    "    AND rowupdate > '{latest}'\n",
    "\"\"\"\n",
    "\n",
    "# Define the parameters for the request\n",
    "params = {\n",
    "    \"query\": query,\n",
    "    \"format\": \"json\",\n",
    "}\n",
    "\n",
    "# Make the request to the API\n",
    "response = requests.get(url, params=params)\n",
    "\n",
    "if response.status_code == 200:\n",
    "    # Parse the JSON response\n",
    "    data = response.json()\n",
    "    # Convert the JSON data to a pandas DataFrame\n",
    "    df = pd.DataFrame(data)\n",
    "else:\n",
    "    print(f\"Error: {response.status_code}\")"
   ]
  },
  {
   "cell_type": "markdown",
   "metadata": {},
   "source": [
    "Deal with None values\n"
   ]
  },
  {
   "cell_type": "code",
   "execution_count": 80,
   "metadata": {},
   "outputs": [],
   "source": [
    "df = df.replace({None: np.nan, \"\": np.nan})"
   ]
  },
  {
   "cell_type": "markdown",
   "metadata": {},
   "source": [
    "### Task 2: dealing with the aliases\n"
   ]
  },
  {
   "cell_type": "markdown",
   "metadata": {},
   "source": [
    "Fetch aliases\n"
   ]
  },
  {
   "cell_type": "code",
   "execution_count": 81,
   "metadata": {},
   "outputs": [
    {
     "name": "stdout",
     "output_type": "stream",
     "text": [
      "Fetched 2/2 entries on try 1\n"
     ]
    }
   ],
   "source": [
    "aliases = fetch_aliases(df[\"hostname\"].unique())"
   ]
  },
  {
   "cell_type": "markdown",
   "metadata": {},
   "source": [
    "Curate aliases\n"
   ]
  },
  {
   "cell_type": "code",
   "execution_count": 82,
   "metadata": {},
   "outputs": [],
   "source": [
    "# # For testing\n",
    "# df2 = df.copy()\n",
    "# df2.loc[df2['hostname'] == 'Kepler-20', 'hostname'] = 'KOI-70'\n",
    "# df2.loc[df2['hostname'] == 'Kepler-80', 'hostname'] = 'KIC 4852528'\n",
    "# df2['hostname'] = df2.apply(update_host, args=(aliases, True), axis=1)\n",
    "df[\"hostname\"] = df.apply(update_host, args=(aliases, False), axis=1)\n",
    "\n",
    "# # For testing\n",
    "# df2 = df.copy()\n",
    "# df2.loc[df2['pl_name'] == 'Kepler-20 c', 'pl_name'] = 'KOI-70.01'\n",
    "# df2.loc[df2['pl_name'] == 'Kepler-11 b', 'pl_name'] = 'KOI-157 b'\n",
    "# df2['pl_name'] = df2.apply(update_planet, args=(aliases, True), axis=1)\n",
    "df[\"pl_name\"] = df.apply(update_planet, args=(aliases, False), axis=1)"
   ]
  },
  {
   "cell_type": "code",
   "execution_count": 83,
   "metadata": {},
   "outputs": [],
   "source": [
    "# Double check that the names are consistent\n",
    "\n",
    "for hostname in df[\"hostname\"].unique():\n",
    "    df_host = df[df[\"hostname\"] == hostname]\n",
    "    names = df_host[\"pl_name\"]\n",
    "    if len(set([name[:3] for name in names])) > 1:\n",
    "        print(f\"Inconsistent name for {hostname}\")"
   ]
  },
  {
   "cell_type": "markdown",
   "metadata": {},
   "source": [
    "### Task 3: computing missing values (if any) from simple equations\n"
   ]
  },
  {
   "cell_type": "code",
   "execution_count": 84,
   "metadata": {},
   "outputs": [],
   "source": [
    "from exonamd.utils import solve_a_rs\n",
    "from exonamd.utils import solve_rprs\n",
    "from exonamd.utils import solve_a_period\n",
    "\n",
    "\n",
    "def complete_values(row):\n",
    "\n",
    "    sma = row[\"pl_orbsmax\"]\n",
    "    ars = row[\"pl_ratdor\"]\n",
    "    rstar = row[\"st_rad\"]\n",
    "    rplanet = row[\"pl_rade\"]\n",
    "    rprs = row[\"pl_ratror\"]\n",
    "    period = row[\"pl_orbper\"]\n",
    "    mstar = row[\"st_mass\"]\n",
    "\n",
    "    # Rank groups\n",
    "    a_rs_ = np.isnan(sma) + np.isnan(ars) + np.isnan(rstar)\n",
    "    rprs_ = np.isnan(rplanet) + np.isnan(rprs) + np.isnan(rstar)\n",
    "    a_period_ = np.isnan(period) + np.isnan(sma) + np.isnan(mstar)\n",
    "    solve_order = np.argsort([a_rs_, rprs_, a_period_])\n",
    "    for i in solve_order:\n",
    "        if i == 0:\n",
    "            # Solve semi-major axis -- stellar radius system of equations.\n",
    "            solution = solve_a_rs(sma, rstar, ars)\n",
    "            sma, rstar, ars = solution\n",
    "        elif i == 1:\n",
    "            # Solve planet radius -- stellar radius system of equations.\n",
    "            solution = solve_rprs(rplanet, rstar, rprs)\n",
    "            rplanet, rstar, rprs = solution\n",
    "        elif i == 2:\n",
    "            # Solve period-sma-mstar system of equations.\n",
    "            solution = solve_a_period(period, sma, mstar)\n",
    "            period, sma, mstar = solution\n",
    "\n",
    "    return sma, ars, rstar, rplanet, rprs, period, mstar"
   ]
  },
  {
   "cell_type": "code",
   "execution_count": 85,
   "metadata": {},
   "outputs": [],
   "source": [
    "df[\n",
    "    [\n",
    "        \"pl_orbsmax\",\n",
    "        \"pl_ratdor\",\n",
    "        \"st_rad\",\n",
    "        \"pl_rade\",\n",
    "        \"pl_ratror\",\n",
    "        \"pl_orbper\",\n",
    "        \"st_mass\",\n",
    "    ]\n",
    "] = df.apply(complete_values, axis=1, result_type=\"expand\")"
   ]
  },
  {
   "cell_type": "markdown",
   "metadata": {},
   "source": [
    "### Task 4: storing the curated database\n"
   ]
  },
  {
   "cell_type": "code",
   "execution_count": 86,
   "metadata": {},
   "outputs": [],
   "source": [
    "if not from_scratch:\n",
    "    df_new = df.copy()\n",
    "    df = pd.concat([df_new, df_old], ignore_index=True)\n",
    "    df = df.drop_duplicates(keep=\"last\")\n",
    "\n",
    "df.to_csv(os.path.join(\"../exonamd/\", \"data\", \"exo.csv\"), index=False)"
   ]
  },
  {
   "cell_type": "markdown",
   "metadata": {},
   "source": [
    "Drop columns that are no longer needed\n"
   ]
  },
  {
   "cell_type": "code",
   "execution_count": 87,
   "metadata": {},
   "outputs": [],
   "source": [
    "df.drop(\n",
    "    columns=[\n",
    "        \"pl_ratdor\",\n",
    "        \"st_rad\",\n",
    "        \"pl_ratror\",\n",
    "        \"pl_orbper\",\n",
    "        \"st_mass\",\n",
    "    ],\n",
    "    inplace=True,\n",
    ")"
   ]
  },
  {
   "cell_type": "markdown",
   "metadata": {},
   "source": [
    "### Task 5: input missing values (if any) by interpolation\n"
   ]
  },
  {
   "cell_type": "markdown",
   "metadata": {},
   "source": [
    "Use nanmedian to thin down the data\n"
   ]
  },
  {
   "cell_type": "code",
   "execution_count": 88,
   "metadata": {},
   "outputs": [],
   "source": [
    "keep_indices = []\n",
    "\n",
    "for planet in df[\"pl_name\"].unique():\n",
    "    df_planet = df[df[\"pl_name\"] == planet]\n",
    "    default_index = df_planet[df_planet[\"default_flag\"] == 1].index\n",
    "    for col in [\n",
    "        c\n",
    "        for c in df_planet.columns\n",
    "        if c not in [\"hostname\", \"pl_name\", \"default_flag\", \"rowupdate\"]\n",
    "    ]:\n",
    "        avg = np.nanmedian(df_planet[col].values)\n",
    "        df.loc[default_index, col] = avg\n",
    "    keep_indices.extend(default_index)\n",
    "\n",
    "df.drop(df.index[~df.index.isin(keep_indices)], inplace=True)\n",
    "df.drop(columns=\"default_flag\", inplace=True)"
   ]
  },
  {
   "cell_type": "markdown",
   "metadata": {},
   "source": [
    "Instantiate flags\n"
   ]
  },
  {
   "cell_type": "code",
   "execution_count": 89,
   "metadata": {},
   "outputs": [],
   "source": [
    "df[\"flag\"] = \"0\""
   ]
  },
  {
   "cell_type": "markdown",
   "metadata": {},
   "source": [
    "Solve missing eccentricity values\n"
   ]
  },
  {
   "cell_type": "code",
   "execution_count": 90,
   "metadata": {},
   "outputs": [],
   "source": [
    "def solve_eccentricity(row):\n",
    "    ecc = row[\"pl_orbeccen\"]\n",
    "    eccerr1 = row[\"pl_orbeccenerr1\"]\n",
    "    eccerr2 = row[\"pl_orbeccenerr2\"]\n",
    "    flag = row[\"flag\"]\n",
    "\n",
    "    if np.isnan(ecc):\n",
    "        ecc = 0.63 * row[\"sy_pnum\"] ** (-1.02)\n",
    "        eccerr1 = 0.0\n",
    "        eccerr2 = 0.0\n",
    "        flag += \"1+-\"\n",
    "\n",
    "    if np.isnan(eccerr1):\n",
    "        eccerr1 = 0.0\n",
    "        flag += \"1+\"\n",
    "\n",
    "    if np.isnan(eccerr2):\n",
    "        eccerr2 = 0.0\n",
    "        flag += \"1-\"\n",
    "\n",
    "    return ecc, eccerr1, eccerr2, flag"
   ]
  },
  {
   "cell_type": "code",
   "execution_count": 91,
   "metadata": {},
   "outputs": [],
   "source": [
    "df[\n",
    "    [\n",
    "        \"pl_orbeccen\",\n",
    "        \"pl_orbeccenerr1\",\n",
    "        \"pl_orbeccenerr2\",\n",
    "        \"flag\",\n",
    "    ]\n",
    "] = df.apply(solve_eccentricity, axis=1, result_type=\"expand\")"
   ]
  },
  {
   "cell_type": "markdown",
   "metadata": {},
   "source": [
    "Solve missing planetary mass values\n"
   ]
  },
  {
   "cell_type": "code",
   "execution_count": 92,
   "metadata": {},
   "outputs": [],
   "source": [
    "rmr = RMRelation()\n",
    "\n",
    "\n",
    "def solve_mass(row, min_radius=0.5, max_radius=6.0):\n",
    "\n",
    "    mass = row[\"pl_bmasse\"]\n",
    "    masserr1 = row[\"pl_bmasseerr1\"]\n",
    "    masserr2 = row[\"pl_bmasseerr2\"]\n",
    "    radius = row[\"pl_rade\"]\n",
    "    radiuserr1 = row[\"pl_radeerr1\"]\n",
    "    radiuserr2 = row[\"pl_radeerr2\"]\n",
    "    flag = row[\"flag\"]\n",
    "\n",
    "    if (\n",
    "        np.isnan(mass)\n",
    "        and radius > min_radius\n",
    "        and radius < max_radius\n",
    "        and not np.isnan(radiuserr1)\n",
    "        and not np.isnan(radiuserr2)\n",
    "    ):\n",
    "        mds = rmr.predict_mass(radius=(radius, 0.5 * (radiuserr1 - radiuserr2)))\n",
    "        q16, q50, q84 = np.percentile(mds.samples, [16, 50, 84])\n",
    "        mass = q50\n",
    "        masserr1 = q84 - q50\n",
    "        masserr2 = q16 - q50\n",
    "        flag += \"2+-\"\n",
    "\n",
    "    if np.isnan(masserr1):\n",
    "        masserr1 = 0.0\n",
    "        flag += \"2+\"\n",
    "\n",
    "    if np.isnan(masserr2):\n",
    "        masserr2 = 0.0\n",
    "        flag += \"2-\"\n",
    "\n",
    "    return mass, masserr1, masserr2, flag"
   ]
  },
  {
   "cell_type": "code",
   "execution_count": 93,
   "metadata": {},
   "outputs": [],
   "source": [
    "df[\n",
    "    [\n",
    "        \"pl_bmasse\",\n",
    "        \"pl_bmasseerr1\",\n",
    "        \"pl_bmasseerr2\",\n",
    "        \"flag\",\n",
    "    ]\n",
    "] = df.apply(solve_mass, axis=1, result_type=\"expand\")"
   ]
  },
  {
   "cell_type": "markdown",
   "metadata": {},
   "source": [
    "Drop columns that are no longer needed\n"
   ]
  },
  {
   "cell_type": "code",
   "execution_count": 94,
   "metadata": {},
   "outputs": [],
   "source": [
    "df = df.drop(columns=[\"pl_rade\", \"pl_radeerr1\", \"pl_radeerr2\"])"
   ]
  },
  {
   "cell_type": "markdown",
   "metadata": {},
   "source": [
    "Remove systems where at least one planet has no mass or semi-major axis (if any)\n"
   ]
  },
  {
   "cell_type": "code",
   "execution_count": 95,
   "metadata": {},
   "outputs": [],
   "source": [
    "remove_indices = []\n",
    "for hostname in df[\"hostname\"].unique():\n",
    "    df_host = df[df[\"hostname\"] == hostname]\n",
    "    if df_host[[\"pl_bmasse\", \"pl_orbsmax\"]].isnull().any().any():\n",
    "        print(\n",
    "            f\"System {hostname} will be removed\"\n",
    "            \"due to missing values in mass or semi-major axis.\"\n",
    "        )\n",
    "        remove_indices.extend(df_host.index)\n",
    "df.drop(df.index[remove_indices], inplace=True)"
   ]
  },
  {
   "cell_type": "markdown",
   "metadata": {},
   "source": [
    "Solve missing values in inclinations\n"
   ]
  },
  {
   "cell_type": "code",
   "execution_count": 96,
   "metadata": {},
   "outputs": [],
   "source": [
    "def solve_inclination(row, df):\n",
    "\n",
    "    hostname = row[\"hostname\"]\n",
    "    incl = row[\"pl_orbincl\"]\n",
    "    inclerr1 = row[\"pl_orbinclerr1\"]\n",
    "    inclerr2 = row[\"pl_orbinclerr2\"]\n",
    "    flag = row[\"flag\"]\n",
    "\n",
    "    host = df[df[\"hostname\"] == hostname]\n",
    "    mass_max = host[\"pl_bmasse\"].idxmax()\n",
    "    inclnan = host[host[\"pl_orbincl\"].isnull()]\n",
    "\n",
    "    # if inclination is not nan, check the errors\n",
    "    # if they are nan, set them to 0\n",
    "    if not np.isnan(incl):\n",
    "        if np.isnan(inclerr1):\n",
    "            inclerr1 = 0.0\n",
    "            flag += \"3+\"\n",
    "        if np.isnan(inclerr2):\n",
    "            inclerr2 = 0.0\n",
    "            flag += \"3-\"\n",
    "\n",
    "    elif len(inclnan) == len(host):  \n",
    "        # i.e., all inclinations in the system are nan\n",
    "        incl = 90.0\n",
    "        inclerr1 = 0.0\n",
    "        inclerr2 = 0.0\n",
    "        flag += \"3+-\"\n",
    "\n",
    "    elif mass_max in inclnan.index:\n",
    "        # i.e., the most massive planet has inclination nan\n",
    "        # Note: we could change this to the next most massive planet later on\n",
    "        incl = 90.0\n",
    "        inclerr1 = 0.0\n",
    "        inclerr2 = 0.0\n",
    "        flag += \"3+-\"\n",
    "\n",
    "    else:\n",
    "        # i.e., the most massive planet reports inclination\n",
    "        incl = host.loc[mass_max, \"pl_orbincl\"]\n",
    "        inclerr1 = host.loc[mass_max, \"pl_orbinclerr1\"]\n",
    "        inclerr2 = host.loc[mass_max, \"pl_orbinclerr2\"]\n",
    "        flag += \"3+-\"\n",
    "\n",
    "    return incl, inclerr1, inclerr2, flag"
   ]
  },
  {
   "cell_type": "code",
   "execution_count": 97,
   "metadata": {},
   "outputs": [],
   "source": [
    "df[\n",
    "    [\n",
    "        \"pl_orbincl\",\n",
    "        \"pl_orbinclerr1\",\n",
    "        \"pl_orbinclerr2\",\n",
    "        \"flag\",\n",
    "    ]\n",
    "] = df.apply(solve_inclination, args=(df,), axis=1, result_type=\"expand\")"
   ]
  },
  {
   "cell_type": "markdown",
   "metadata": {},
   "source": [
    "Solve missing values in semi-major axis uncertainties\n"
   ]
  },
  {
   "cell_type": "code",
   "execution_count": 98,
   "metadata": {},
   "outputs": [],
   "source": [
    "def solve_sma(row):\n",
    "\n",
    "    smaerr1 = row[\"pl_orbsmaxerr1\"]\n",
    "    smaerr2 = row[\"pl_orbsmaxerr2\"]\n",
    "    flag = row[\"flag\"]\n",
    "\n",
    "    if np.isnan(smaerr1):\n",
    "        smaerr1 = 0.0\n",
    "        flag += \"4+\"\n",
    "\n",
    "    if np.isnan(smaerr2):\n",
    "        smaerr2 = 0.0\n",
    "        flag += \"4-\"\n",
    "\n",
    "    return smaerr1, smaerr2, flag"
   ]
  },
  {
   "cell_type": "code",
   "execution_count": 99,
   "metadata": {},
   "outputs": [],
   "source": [
    "df[\n",
    "    [\n",
    "        \"pl_orbsmaxerr1\",\n",
    "        \"pl_orbsmaxerr2\",\n",
    "        \"flag\",\n",
    "    ]\n",
    "] = df.apply(solve_sma, axis=1, result_type=\"expand\")"
   ]
  },
  {
   "cell_type": "markdown",
   "metadata": {},
   "source": [
    "### Task 6: storing the curated+interpolated database\n"
   ]
  },
  {
   "cell_type": "code",
   "execution_count": 101,
   "metadata": {},
   "outputs": [],
   "source": [
    "df.to_csv(os.path.join(\"../exonamd/\", \"data\", \"exo_interp.csv\"), index=False)"
   ]
  },
  {
   "cell_type": "markdown",
   "metadata": {},
   "source": []
  }
 ],
 "metadata": {
  "kernelspec": {
   "display_name": "exonamd",
   "language": "python",
   "name": "python3"
  },
  "language_info": {
   "codemirror_mode": {
    "name": "ipython",
    "version": 3
   },
   "file_extension": ".py",
   "mimetype": "text/x-python",
   "name": "python",
   "nbconvert_exporter": "python",
   "pygments_lexer": "ipython3",
   "version": "3.10.14"
  }
 },
 "nbformat": 4,
 "nbformat_minor": 2
}
