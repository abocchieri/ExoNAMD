{
 "cells": [
  {
   "cell_type": "markdown",
   "metadata": {},
   "source": [
    "# ExoNAMD API v1.0"
   ]
  },
  {
   "cell_type": "markdown",
   "metadata": {},
   "source": [
    "## Summary\n",
    "\n",
    "The observer wants to compute the relative and/or absolute NAMD of:\n",
    "- a given multiplanetary system;\n",
    "- a subset of multiplanetary systems;\n",
    "- or all the known ones.\n",
    "\n",
    "This tool handles all of the above."
   ]
  },
  {
   "cell_type": "code",
   "execution_count": 22,
   "metadata": {},
   "outputs": [
    {
     "name": "stdout",
     "output_type": "stream",
     "text": [
      "The autoreload extension is already loaded. To reload it, use:\n",
      "  %reload_ext autoreload\n"
     ]
    }
   ],
   "source": [
    "%load_ext autoreload\n",
    "%autoreload 2"
   ]
  },
  {
   "cell_type": "code",
   "execution_count": 23,
   "metadata": {},
   "outputs": [],
   "source": [
    "import os\n",
    "import numpy as np\n",
    "import pandas as pd\n",
    "import matplotlib.pyplot as plt\n",
    "import requests\n",
    "from datetime import datetime\n",
    "from datetime import timedelta\n",
    "\n",
    "pd.options.display.max_columns = 20\n",
    "pd.options.display.max_rows = 30\n",
    "pd.options.mode.copy_on_write = True\n",
    "import warnings\n",
    "\n",
    "warnings.filterwarnings(\"ignore\")\n",
    "\n",
    "from exonamd.utils import ROOT\n",
    "from exonamd.utils import fetch_aliases\n",
    "from exonamd.utils import update_host\n",
    "from exonamd.utils import update_planet"
   ]
  },
  {
   "cell_type": "markdown",
   "metadata": {},
   "source": [
    "### Task 1: getting the data\n",
    "\n",
    "This task retrieves the parameters of confirmed systems from the NASA Exoplanet Archive database, and stores them in a local database."
   ]
  },
  {
   "cell_type": "code",
   "execution_count": 24,
   "metadata": {},
   "outputs": [],
   "source": [
    "# Define the URL for the API\n",
    "url = \"https://exoplanetarchive.ipac.caltech.edu/TAP/sync\"\n",
    "\n",
    "# Define the date you want to filter by\n",
    "from_scratch = False  # change to False in production\n",
    "if from_scratch:\n",
    "    latest = datetime.strptime('1950-01-01', \"%Y-%m-%d\")  # Example date\n",
    "else:\n",
    "    df_old = pd.read_csv(os.path.join(ROOT, \"data\", \"exo.csv\"))\n",
    "    latest = df_old['rowupdate'].max()\n",
    "    latest = datetime.strptime(latest, \"%Y-%m-%d\")  # Example date\n",
    "    latest = latest - timedelta(days=1)\n",
    "\n",
    "# Convert the date to a string in the format 'YYYY-MM-DD'\n",
    "latest = latest.strftime('%Y-%m-%d')\n",
    "\n",
    "# Define the multiplicity you want to filter by\n",
    "multiplicity = 1\n",
    "\n",
    "# Define the SQL query to retrieve the required data\n",
    "query = f\"\"\"\n",
    "SELECT \n",
    "    hostname, \n",
    "    pl_name, \n",
    "    default_flag,\n",
    "    rowupdate,\n",
    "    sy_pnum, \n",
    "    pl_orbsmax, \n",
    "    pl_orbsmaxerr1, \n",
    "    pl_orbsmaxerr2, \n",
    "    pl_rade,\n",
    "    pl_radeerr1,\n",
    "    pl_radeerr2,\n",
    "    pl_bmasse, \n",
    "    pl_bmasseerr1, \n",
    "    pl_bmasseerr2, \n",
    "    pl_orbeccen, \n",
    "    pl_orbeccenerr1, \n",
    "    pl_orbeccenerr2, \n",
    "    pl_orbincl, \n",
    "    pl_orbinclerr1, \n",
    "    pl_orbinclerr2,\n",
    "    pl_trueobliq,\n",
    "    pl_trueobliqerr1,\n",
    "    pl_trueobliqerr2\n",
    "FROM ps\n",
    "WHERE\n",
    "    sy_pnum > '{multiplicity}'\n",
    "    AND rowupdate > '{latest}'\n",
    "\"\"\"\n",
    "\n",
    "# Define the parameters for the request\n",
    "params = {\n",
    "    \"query\": query,\n",
    "    \"format\": \"json\",\n",
    "}\n",
    "\n",
    "# Make the request to the API\n",
    "response = requests.get(url, params=params)\n",
    "\n",
    "# Check if the request was successful\n",
    "if response.status_code == 200:\n",
    "    # Parse the JSON response\n",
    "    data = response.json()\n",
    "\n",
    "    # Convert the JSON data to a pandas DataFrame\n",
    "    df = pd.DataFrame(data)\n",
    "else:\n",
    "    print(f\"Error: {response.status_code}\")"
   ]
  },
  {
   "cell_type": "markdown",
   "metadata": {},
   "source": [
    "### Task 2: dealing with the aliases"
   ]
  },
  {
   "cell_type": "markdown",
   "metadata": {},
   "source": [
    "Fetch aliases"
   ]
  },
  {
   "cell_type": "code",
   "execution_count": 25,
   "metadata": {},
   "outputs": [
    {
     "name": "stdout",
     "output_type": "stream",
     "text": [
      "Fetched 3/3 entries on try 1\n"
     ]
    }
   ],
   "source": [
    "aliases = fetch_aliases(df['hostname'].unique())"
   ]
  },
  {
   "cell_type": "markdown",
   "metadata": {},
   "source": [
    "Curate aliases"
   ]
  },
  {
   "cell_type": "code",
   "execution_count": 26,
   "metadata": {},
   "outputs": [],
   "source": [
    "# # For testing\n",
    "# df2 = df.copy()\n",
    "# df2.loc[df2['hostname'] == 'Kepler-20', 'hostname'] = 'KOI-70'\n",
    "# df2.loc[df2['hostname'] == 'Kepler-80', 'hostname'] = 'KIC 4852528'\n",
    "# df2['hostname'] = df2.apply(update_host, args=(aliases, True), axis=1)\n",
    "df['hostname'] = df.apply(update_host, args=(aliases, False), axis=1)\n",
    "\n",
    "# # For testing\n",
    "# df2 = df.copy()\n",
    "# df2.loc[df2['pl_name'] == 'Kepler-20 c', 'pl_name'] = 'KOI-70.01'\n",
    "# df2.loc[df2['pl_name'] == 'Kepler-11 b', 'pl_name'] = 'KOI-157 b'\n",
    "# df2['pl_name'] = df2.apply(update_planet, args=(aliases, True), axis=1)\n",
    "df['pl_name'] = df.apply(update_planet, args=(aliases, False), axis=1)"
   ]
  },
  {
   "cell_type": "markdown",
   "metadata": {},
   "source": [
    "### Task 3: computing missing values (if any) from simple equations"
   ]
  },
  {
   "cell_type": "markdown",
   "metadata": {},
   "source": []
  },
  {
   "cell_type": "markdown",
   "metadata": {},
   "source": [
    "### Task 4: storing the curated database"
   ]
  },
  {
   "cell_type": "code",
   "execution_count": 27,
   "metadata": {},
   "outputs": [],
   "source": [
    "if not from_scratch:\n",
    "    df_new = df.copy()\n",
    "    df = pd.concat([df_new, df_old], ignore_index=True)\n",
    "    df = df.drop_duplicates(keep='last')\n",
    "\n",
    "df.to_csv(os.path.join(ROOT, \"data\", \"exo.csv\"), index=False)"
   ]
  },
  {
   "cell_type": "code",
   "execution_count": 28,
   "metadata": {},
   "outputs": [
    {
     "data": {
      "text/html": [
       "<div>\n",
       "<style scoped>\n",
       "    .dataframe tbody tr th:only-of-type {\n",
       "        vertical-align: middle;\n",
       "    }\n",
       "\n",
       "    .dataframe tbody tr th {\n",
       "        vertical-align: top;\n",
       "    }\n",
       "\n",
       "    .dataframe thead th {\n",
       "        text-align: right;\n",
       "    }\n",
       "</style>\n",
       "<table border=\"1\" class=\"dataframe\">\n",
       "  <thead>\n",
       "    <tr style=\"text-align: right;\">\n",
       "      <th></th>\n",
       "      <th>pl_name</th>\n",
       "      <th>pl_trueobliq</th>\n",
       "      <th>pl_trueobliqerr1</th>\n",
       "      <th>pl_trueobliqerr2</th>\n",
       "    </tr>\n",
       "  </thead>\n",
       "  <tbody>\n",
       "    <tr>\n",
       "      <th>487</th>\n",
       "      <td>K2-290 c</td>\n",
       "      <td>124.0</td>\n",
       "      <td>6.0</td>\n",
       "      <td>-6.0</td>\n",
       "    </tr>\n",
       "    <tr>\n",
       "      <th>731</th>\n",
       "      <td>HAT-P-11 b</td>\n",
       "      <td>106.0</td>\n",
       "      <td>15.0</td>\n",
       "      <td>-11.0</td>\n",
       "    </tr>\n",
       "    <tr>\n",
       "      <th>942</th>\n",
       "      <td>XO-2 N b</td>\n",
       "      <td>27.0</td>\n",
       "      <td>12.0</td>\n",
       "      <td>-27.0</td>\n",
       "    </tr>\n",
       "    <tr>\n",
       "      <th>1193</th>\n",
       "      <td>WASP-107 b</td>\n",
       "      <td>109.81</td>\n",
       "      <td>28.17</td>\n",
       "      <td>-13.64</td>\n",
       "    </tr>\n",
       "    <tr>\n",
       "      <th>1204</th>\n",
       "      <td>V1298 Tau b</td>\n",
       "      <td>8.0</td>\n",
       "      <td>4.0</td>\n",
       "      <td>-7.0</td>\n",
       "    </tr>\n",
       "    <tr>\n",
       "      <th>1207</th>\n",
       "      <td>Kepler-9 b</td>\n",
       "      <td>28.1</td>\n",
       "      <td>13.0</td>\n",
       "      <td>-13.6</td>\n",
       "    </tr>\n",
       "    <tr>\n",
       "      <th>1406</th>\n",
       "      <td>WASP-84 b</td>\n",
       "      <td>17.3</td>\n",
       "      <td>7.7</td>\n",
       "      <td>-7.7</td>\n",
       "    </tr>\n",
       "    <tr>\n",
       "      <th>3323</th>\n",
       "      <td>Kepler-25 c</td>\n",
       "      <td>26.9</td>\n",
       "      <td>7.0</td>\n",
       "      <td>-9.2</td>\n",
       "    </tr>\n",
       "    <tr>\n",
       "      <th>4466</th>\n",
       "      <td>TOI-942 b</td>\n",
       "      <td>2.0</td>\n",
       "      <td>27.0</td>\n",
       "      <td>-23.0</td>\n",
       "    </tr>\n",
       "    <tr>\n",
       "      <th>5097</th>\n",
       "      <td>Kepler-462 b</td>\n",
       "      <td>72.0</td>\n",
       "      <td>3.0</td>\n",
       "      <td>-3.0</td>\n",
       "    </tr>\n",
       "  </tbody>\n",
       "</table>\n",
       "</div>"
      ],
      "text/plain": [
       "           pl_name pl_trueobliq pl_trueobliqerr1 pl_trueobliqerr2\n",
       "487       K2-290 c        124.0              6.0             -6.0\n",
       "731     HAT-P-11 b        106.0             15.0            -11.0\n",
       "942       XO-2 N b         27.0             12.0            -27.0\n",
       "1193    WASP-107 b       109.81            28.17           -13.64\n",
       "1204   V1298 Tau b          8.0              4.0             -7.0\n",
       "1207    Kepler-9 b         28.1             13.0            -13.6\n",
       "1406     WASP-84 b         17.3              7.7             -7.7\n",
       "3323   Kepler-25 c         26.9              7.0             -9.2\n",
       "4466     TOI-942 b          2.0             27.0            -23.0\n",
       "5097  Kepler-462 b         72.0              3.0             -3.0"
      ]
     },
     "execution_count": 28,
     "metadata": {},
     "output_type": "execute_result"
    }
   ],
   "source": [
    "df[df[\"pl_trueobliq\"].notnull()][[\"pl_name\", \"pl_trueobliq\", \"pl_trueobliqerr1\", \"pl_trueobliqerr2\"]]"
   ]
  },
  {
   "cell_type": "markdown",
   "metadata": {},
   "source": [
    "### Task 5: input missing values (if any) by interpolation"
   ]
  },
  {
   "cell_type": "code",
   "execution_count": 29,
   "metadata": {},
   "outputs": [],
   "source": [
    "# code here"
   ]
  },
  {
   "cell_type": "markdown",
   "metadata": {},
   "source": [
    "### Task 6: storing the curated+interpolated database"
   ]
  },
  {
   "cell_type": "code",
   "execution_count": 30,
   "metadata": {},
   "outputs": [],
   "source": [
    "# code here"
   ]
  },
  {
   "cell_type": "markdown",
   "metadata": {},
   "source": []
  }
 ],
 "metadata": {
  "kernelspec": {
   "display_name": "exonamd",
   "language": "python",
   "name": "python3"
  },
  "language_info": {
   "codemirror_mode": {
    "name": "ipython",
    "version": 3
   },
   "file_extension": ".py",
   "mimetype": "text/x-python",
   "name": "python",
   "nbconvert_exporter": "python",
   "pygments_lexer": "ipython3",
   "version": "3.10.14"
  }
 },
 "nbformat": 4,
 "nbformat_minor": 2
}
