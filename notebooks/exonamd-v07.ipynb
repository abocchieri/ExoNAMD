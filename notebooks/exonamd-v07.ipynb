{
 "cells": [
  {
   "cell_type": "markdown",
   "metadata": {},
   "source": [
    "# ExoNAMD API v1.0"
   ]
  },
  {
   "cell_type": "markdown",
   "metadata": {},
   "source": [
    "## Summary\n",
    "\n",
    "The observer wants to compute the relative and/or absolute NAMD of:\n",
    "- a given multiplanetary system;\n",
    "- a subset of multiplanetary systems;\n",
    "- or all the known ones.\n",
    "\n",
    "This tool handles all of the above."
   ]
  },
  {
   "cell_type": "code",
   "execution_count": 1,
   "metadata": {},
   "outputs": [],
   "source": [
    "%load_ext autoreload\n",
    "%autoreload 2"
   ]
  },
  {
   "cell_type": "code",
   "execution_count": 2,
   "metadata": {},
   "outputs": [],
   "source": [
    "import os\n",
    "import numpy as np\n",
    "import pandas as pd\n",
    "import matplotlib.pyplot as plt\n",
    "import requests\n",
    "from datetime import datetime\n",
    "from datetime import timedelta\n",
    "\n",
    "pd.options.display.max_columns = 20\n",
    "pd.options.display.max_rows = 30\n",
    "pd.options.mode.copy_on_write = True\n",
    "import warnings\n",
    "\n",
    "warnings.filterwarnings(\"ignore\")\n",
    "\n",
    "from exonamd.utils import ROOT\n",
    "from exonamd.utils import fetch_aliases\n",
    "from exonamd.utils import update_host\n",
    "from exonamd.utils import update_planet"
   ]
  },
  {
   "cell_type": "markdown",
   "metadata": {},
   "source": [
    "### Task 1: getting the data\n",
    "\n",
    "This task retrieves the parameters of confirmed systems from the NASA Exoplanet Archive database, and stores them in a local database."
   ]
  },
  {
   "cell_type": "code",
   "execution_count": 3,
   "metadata": {},
   "outputs": [],
   "source": [
    "# Define the URL for the API\n",
    "url = \"https://exoplanetarchive.ipac.caltech.edu/TAP/sync\"\n",
    "\n",
    "# Define the date you want to filter by\n",
    "from_scratch = False  # change to False in production\n",
    "if from_scratch:\n",
    "    latest = datetime.strptime('1950-01-01', \"%Y-%m-%d\")  # Example date\n",
    "else:\n",
    "    df_old = pd.read_csv(os.path.join(ROOT, \"data\", \"exo.csv\"))\n",
    "    latest = df_old['rowupdate'].max()\n",
    "    latest = datetime.strptime(latest, \"%Y-%m-%d\")  # Example date\n",
    "    latest = latest - timedelta(days=1)\n",
    "\n",
    "# Convert the date to a string in the format 'YYYY-MM-DD'\n",
    "latest = latest.strftime('%Y-%m-%d')\n",
    "\n",
    "# Define the multiplicity you want to filter by\n",
    "multiplicity = 1\n",
    "\n",
    "# Define the SQL query to retrieve the required data\n",
    "query = f\"\"\"\n",
    "SELECT \n",
    "    hostname, \n",
    "    pl_name, \n",
    "    default_flag,\n",
    "    rowupdate,\n",
    "    sy_pnum, \n",
    "    pl_orbsmax, \n",
    "    pl_orbsmaxerr1, \n",
    "    pl_orbsmaxerr2, \n",
    "    pl_rade,\n",
    "    pl_radeerr1,\n",
    "    pl_radeerr2,\n",
    "    pl_bmasse, \n",
    "    pl_bmasseerr1, \n",
    "    pl_bmasseerr2, \n",
    "    pl_orbeccen, \n",
    "    pl_orbeccenerr1, \n",
    "    pl_orbeccenerr2, \n",
    "    pl_orbincl, \n",
    "    pl_orbinclerr1, \n",
    "    pl_orbinclerr2,\n",
    "    pl_trueobliq,\n",
    "    pl_trueobliqerr1,\n",
    "    pl_trueobliqerr2\n",
    "FROM ps\n",
    "WHERE\n",
    "    sy_pnum > '{multiplicity}'\n",
    "    AND rowupdate > '{latest}'\n",
    "\"\"\"\n",
    "\n",
    "# Define the parameters for the request\n",
    "params = {\n",
    "    \"query\": query,\n",
    "    \"format\": \"json\",\n",
    "}\n",
    "\n",
    "# Make the request to the API\n",
    "response = requests.get(url, params=params)\n",
    "\n",
    "# Check if the request was successful\n",
    "if response.status_code == 200:\n",
    "    # Parse the JSON response\n",
    "    data = response.json()\n",
    "\n",
    "    # Convert the JSON data to a pandas DataFrame\n",
    "    df = pd.DataFrame(data)\n",
    "else:\n",
    "    print(f\"Error: {response.status_code}\")"
   ]
  },
  {
   "cell_type": "markdown",
   "metadata": {},
   "source": [
    "### Task 2: dealing with the aliases"
   ]
  },
  {
   "cell_type": "markdown",
   "metadata": {},
   "source": [
    "Fetch aliases"
   ]
  },
  {
   "cell_type": "code",
   "execution_count": 4,
   "metadata": {},
   "outputs": [
    {
     "name": "stdout",
     "output_type": "stream",
     "text": [
      "Fetched 966/966 entries on try 1\n"
     ]
    }
   ],
   "source": [
    "aliases = fetch_aliases(df['hostname'].unique())"
   ]
  },
  {
   "cell_type": "markdown",
   "metadata": {},
   "source": [
    "Curate aliases"
   ]
  },
  {
   "cell_type": "code",
   "execution_count": 6,
   "metadata": {},
   "outputs": [
    {
     "name": "stdout",
     "output_type": "stream",
     "text": [
      "Found TOI-1338 b in aliases, updating to TOI-1338 A b\n",
      "Found TOI-1338 b in aliases, updating to TOI-1338 A b\n",
      "Found TOI-1338 b in aliases, updating to TOI-1338 A b\n",
      "Found TOI-1338 c in aliases, updating to TOI-1338 A c\n",
      "Found TOI-1338 b in aliases, updating to TOI-1338 A b\n",
      "Found TOI-1338 c in aliases, updating to TOI-1338 A c\n",
      "Found HIP 29442 c in aliases, updating to HD 42813 c\n",
      "Found pi Men c in aliases, updating to HD 39091 c\n",
      "Found pi Men d in aliases, updating to HD 39091 d\n",
      "Found pi Men c in aliases, updating to HD 39091 c\n",
      "Found pi Men c in aliases, updating to HD 39091 c\n",
      "Found HD 11343 c in aliases, updating to HIP 8541 c\n",
      "Found pi Men c in aliases, updating to HD 39091 c\n",
      "Found Kepler-448 c in aliases, updating to KOI-12 c\n",
      "Found pi Men c in aliases, updating to HD 39091 c\n",
      "Found pi Men c in aliases, updating to HD 39091 c\n",
      "Found TOI-411 b in aliases, updating to HD 22946 b\n",
      "Found TOI-411 c in aliases, updating to HD 22946 c\n",
      "Found TOI-411 b in aliases, updating to HD 22946 b\n",
      "Found TOI-411 c in aliases, updating to HD 22946 c\n",
      "Found TOI-411 c in aliases, updating to HD 22946 c\n",
      "Found TOI-411 b in aliases, updating to HD 22946 b\n",
      "Found HIP 29442 d in aliases, updating to HD 42813 d\n",
      "Found Kepler-90 i in aliases, updating to KOI-351 i\n",
      "Found Kepler-88 d in aliases, updating to KOI-142 d\n",
      "Found Kepler-88 d in aliases, updating to KOI-142 d\n",
      "Found Kepler-90 i in aliases, updating to KOI-351 i\n",
      "Found HD 21749 c in aliases, updating to GJ 143 c\n",
      "Found HD 21749 c in aliases, updating to GJ 143 c\n",
      "Found HD 145675 c in aliases, updating to 14 Her c\n",
      "Found Kepler-457 d in aliases, updating to KOI-7892 d\n",
      "Found Kepler-457 d in aliases, updating to KOI-7892 d\n",
      "Found HD 145675 c in aliases, updating to 14 Her c\n",
      "Found HD 95735 c in aliases, updating to GJ 411 c\n",
      "Found KOI-1831 d in aliases, updating to Kepler-324 d\n",
      "Found EPIC 205950854 c in aliases, updating to K2-168 c\n",
      "Found KOI-1831 d in aliases, updating to Kepler-324 d\n",
      "Found KOI-1831 d in aliases, updating to Kepler-324 d\n",
      "Found KOI-1831 d in aliases, updating to Kepler-324 d\n",
      "Found Kepler-457 d in aliases, updating to KOI-7892 d\n",
      "Found EPIC 205950854 c in aliases, updating to K2-168 c\n",
      "Found KOI-1831 d in aliases, updating to Kepler-324 d\n",
      "Found Kepler-460 c in aliases, updating to KIC 5437945 c\n",
      "Found Kepler-451 c in aliases, updating to 2MASS J19383260+4603591 c\n",
      "Found Kepler-451 d in aliases, updating to 2MASS J19383260+4603591 d\n",
      "Found K2-312 c in aliases, updating to HD 80653 c\n",
      "Found EPIC 201615463 c in aliases, updating to K2-166 c\n",
      "Found EPIC 220554210 c in aliases, updating to K2-282 c\n",
      "Found Kepler-458 c in aliases, updating to KIC 9663113 c\n",
      "Found EPIC 201833600 c in aliases, updating to K2-50 c\n",
      "Found EPIC 201754305 d in aliases, updating to K2-16 d\n",
      "Found KIC 8540376 c in aliases, updating to KOI-7892 c\n",
      "Found KOI-1831 d in aliases, updating to Kepler-324 d\n",
      "Found EPIC 220554210 c in aliases, updating to K2-282 c\n",
      "Found KOI-1831 d in aliases, updating to Kepler-324 d\n",
      "Found KOI-1831 d in aliases, updating to Kepler-324 d\n",
      "Found KIC 8540376 b in aliases, updating to KOI-7892 b\n",
      "Found HD 95735 c in aliases, updating to GJ 411 c\n",
      "Found EPIC 205950854 c in aliases, updating to K2-168 c\n",
      "Found EPIC 220554210 c in aliases, updating to K2-282 c\n",
      "Found Kepler-458 c in aliases, updating to KIC 9663113 c\n",
      "Found Kepler-458 c in aliases, updating to KIC 9663113 c\n",
      "Found Kepler-458 c in aliases, updating to KIC 9663113 c\n",
      "Found EPIC 201833600 c in aliases, updating to K2-50 c\n",
      "Found Kepler-458 c in aliases, updating to KIC 9663113 c\n",
      "Found Kepler-458 c in aliases, updating to KIC 9663113 c\n",
      "Found Kepler-460 c in aliases, updating to KIC 5437945 c\n",
      "Found Kepler-460 c in aliases, updating to KIC 5437945 c\n",
      "Found Kepler-460 c in aliases, updating to KIC 5437945 c\n",
      "Found Kepler-460 c in aliases, updating to KIC 5437945 c\n",
      "Found Kepler-458 c in aliases, updating to KIC 9663113 c\n",
      "Found Kepler-458 c in aliases, updating to KIC 9663113 c\n",
      "Found Kepler-458 c in aliases, updating to KIC 9663113 c\n",
      "Found Kepler-458 c in aliases, updating to KIC 9663113 c\n",
      "Found Kepler-460 c in aliases, updating to KIC 5437945 c\n",
      "Found Kepler-460 c in aliases, updating to KIC 5437945 c\n",
      "Found KOI-1833 d in aliases, updating to Kepler-968 d\n",
      "Found KOI-1833 d in aliases, updating to Kepler-968 d\n",
      "Found KOI-1833 d in aliases, updating to Kepler-968 d\n",
      "Found KOI-1833 d in aliases, updating to Kepler-968 d\n",
      "Found KOI-1833 d in aliases, updating to Kepler-968 d\n",
      "Found KOI-1833 d in aliases, updating to Kepler-968 d\n",
      "Found KOI-1833 d in aliases, updating to Kepler-968 d\n"
     ]
    }
   ],
   "source": [
    "# # For testing\n",
    "# df2 = df.copy()\n",
    "# df2.loc[df2['hostname'] == 'Kepler-20', 'hostname'] = 'KOI-70'\n",
    "# df2.loc[df2['hostname'] == 'Kepler-80', 'hostname'] = 'KIC 4852528'\n",
    "# df2['hostname'] = df2.apply(update_host, args=(aliases, True), axis=1)\n",
    "df['hostname'] = df.apply(update_host, args=(aliases, True), axis=1)\n",
    "\n",
    "# # For testing\n",
    "# df2 = df.copy()\n",
    "# df2.loc[df2['pl_name'] == 'Kepler-20 c', 'pl_name'] = 'KOI-70.01'\n",
    "# df2.loc[df2['pl_name'] == 'Kepler-11 b', 'pl_name'] = 'KOI-157 b'\n",
    "# df2['pl_name'] = df2.apply(update_planet, args=(aliases, True), axis=1)\n",
    "df['pl_name'] = df.apply(update_planet, args=(aliases, True), axis=1)"
   ]
  },
  {
   "cell_type": "markdown",
   "metadata": {},
   "source": []
  },
  {
   "cell_type": "code",
   "execution_count": 7,
   "metadata": {},
   "outputs": [],
   "source": [
    "for hostname in df[\"hostname\"].unique():\n",
    "    df_host = df[df[\"hostname\"] == hostname]\n",
    "    # we check the names of the planets in the system\n",
    "    # if they use a different naming convention, we discard the system\n",
    "    names = df_host[\"pl_name\"]\n",
    "    # check if the first three characters are the same\n",
    "    if len(set([name[:3] for name in names])) > 1:\n",
    "        # discard the system\n",
    "        print(f\"Discarding {hostname}\")"
   ]
  },
  {
   "cell_type": "markdown",
   "metadata": {},
   "source": [
    "### Task 3: computing missing values (if any) from simple equations"
   ]
  },
  {
   "cell_type": "markdown",
   "metadata": {},
   "source": []
  },
  {
   "cell_type": "markdown",
   "metadata": {},
   "source": [
    "### Task 4: storing the curated database"
   ]
  },
  {
   "cell_type": "code",
   "execution_count": 8,
   "metadata": {},
   "outputs": [],
   "source": [
    "if not from_scratch:\n",
    "    df_new = df.copy()\n",
    "    df = pd.concat([df_new, df_old], ignore_index=True)\n",
    "    df = df.drop_duplicates(keep='last')\n",
    "\n",
    "df.to_csv(os.path.join(ROOT, \"data\", \"exo.csv\"), index=False)"
   ]
  },
  {
   "cell_type": "code",
   "execution_count": 9,
   "metadata": {},
   "outputs": [
    {
     "data": {
      "text/html": [
       "<div>\n",
       "<style scoped>\n",
       "    .dataframe tbody tr th:only-of-type {\n",
       "        vertical-align: middle;\n",
       "    }\n",
       "\n",
       "    .dataframe tbody tr th {\n",
       "        vertical-align: top;\n",
       "    }\n",
       "\n",
       "    .dataframe thead th {\n",
       "        text-align: right;\n",
       "    }\n",
       "</style>\n",
       "<table border=\"1\" class=\"dataframe\">\n",
       "  <thead>\n",
       "    <tr style=\"text-align: right;\">\n",
       "      <th></th>\n",
       "      <th>pl_name</th>\n",
       "      <th>pl_trueobliq</th>\n",
       "      <th>pl_trueobliqerr1</th>\n",
       "      <th>pl_trueobliqerr2</th>\n",
       "    </tr>\n",
       "  </thead>\n",
       "  <tbody>\n",
       "    <tr>\n",
       "      <th>482</th>\n",
       "      <td>K2-290 c</td>\n",
       "      <td>124.00</td>\n",
       "      <td>6.00</td>\n",
       "      <td>-6.00</td>\n",
       "    </tr>\n",
       "    <tr>\n",
       "      <th>728</th>\n",
       "      <td>HAT-P-11 b</td>\n",
       "      <td>106.00</td>\n",
       "      <td>15.00</td>\n",
       "      <td>-11.00</td>\n",
       "    </tr>\n",
       "    <tr>\n",
       "      <th>939</th>\n",
       "      <td>XO-2 N b</td>\n",
       "      <td>27.00</td>\n",
       "      <td>12.00</td>\n",
       "      <td>-27.00</td>\n",
       "    </tr>\n",
       "    <tr>\n",
       "      <th>1191</th>\n",
       "      <td>WASP-107 b</td>\n",
       "      <td>109.81</td>\n",
       "      <td>28.17</td>\n",
       "      <td>-13.64</td>\n",
       "    </tr>\n",
       "    <tr>\n",
       "      <th>1202</th>\n",
       "      <td>V1298 Tau b</td>\n",
       "      <td>8.00</td>\n",
       "      <td>4.00</td>\n",
       "      <td>-7.00</td>\n",
       "    </tr>\n",
       "    <tr>\n",
       "      <th>1205</th>\n",
       "      <td>Kepler-9 b</td>\n",
       "      <td>28.10</td>\n",
       "      <td>13.00</td>\n",
       "      <td>-13.60</td>\n",
       "    </tr>\n",
       "    <tr>\n",
       "      <th>1404</th>\n",
       "      <td>WASP-84 b</td>\n",
       "      <td>17.30</td>\n",
       "      <td>7.70</td>\n",
       "      <td>-7.70</td>\n",
       "    </tr>\n",
       "    <tr>\n",
       "      <th>3327</th>\n",
       "      <td>Kepler-25 c</td>\n",
       "      <td>26.90</td>\n",
       "      <td>7.00</td>\n",
       "      <td>-9.20</td>\n",
       "    </tr>\n",
       "    <tr>\n",
       "      <th>4473</th>\n",
       "      <td>TOI-942 b</td>\n",
       "      <td>2.00</td>\n",
       "      <td>27.00</td>\n",
       "      <td>-23.00</td>\n",
       "    </tr>\n",
       "    <tr>\n",
       "      <th>5105</th>\n",
       "      <td>Kepler-462 b</td>\n",
       "      <td>72.00</td>\n",
       "      <td>3.00</td>\n",
       "      <td>-3.00</td>\n",
       "    </tr>\n",
       "  </tbody>\n",
       "</table>\n",
       "</div>"
      ],
      "text/plain": [
       "           pl_name  pl_trueobliq  pl_trueobliqerr1  pl_trueobliqerr2\n",
       "482       K2-290 c        124.00              6.00             -6.00\n",
       "728     HAT-P-11 b        106.00             15.00            -11.00\n",
       "939       XO-2 N b         27.00             12.00            -27.00\n",
       "1191    WASP-107 b        109.81             28.17            -13.64\n",
       "1202   V1298 Tau b          8.00              4.00             -7.00\n",
       "1205    Kepler-9 b         28.10             13.00            -13.60\n",
       "1404     WASP-84 b         17.30              7.70             -7.70\n",
       "3327   Kepler-25 c         26.90              7.00             -9.20\n",
       "4473     TOI-942 b          2.00             27.00            -23.00\n",
       "5105  Kepler-462 b         72.00              3.00             -3.00"
      ]
     },
     "execution_count": 9,
     "metadata": {},
     "output_type": "execute_result"
    }
   ],
   "source": [
    "df[df[\"pl_trueobliq\"].notnull()][[\"pl_name\", \"pl_trueobliq\", \"pl_trueobliqerr1\", \"pl_trueobliqerr2\"]]"
   ]
  },
  {
   "cell_type": "markdown",
   "metadata": {},
   "source": [
    "### Task 5: input missing values (if any) by interpolation"
   ]
  },
  {
   "cell_type": "code",
   "execution_count": 10,
   "metadata": {},
   "outputs": [],
   "source": [
    "# code here"
   ]
  },
  {
   "cell_type": "markdown",
   "metadata": {},
   "source": [
    "### Task 6: storing the curated+interpolated database"
   ]
  },
  {
   "cell_type": "code",
   "execution_count": 11,
   "metadata": {},
   "outputs": [],
   "source": [
    "# code here"
   ]
  },
  {
   "cell_type": "markdown",
   "metadata": {},
   "source": []
  }
 ],
 "metadata": {
  "kernelspec": {
   "display_name": "exonamd",
   "language": "python",
   "name": "python3"
  },
  "language_info": {
   "codemirror_mode": {
    "name": "ipython",
    "version": 3
   },
   "file_extension": ".py",
   "mimetype": "text/x-python",
   "name": "python",
   "nbconvert_exporter": "python",
   "pygments_lexer": "ipython3",
   "version": "3.10.14"
  }
 },
 "nbformat": 4,
 "nbformat_minor": 2
}
