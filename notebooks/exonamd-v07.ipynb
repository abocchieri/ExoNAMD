{
 "cells": [
  {
   "cell_type": "markdown",
   "metadata": {},
   "source": [
    "# ExoNAMD API v1.0"
   ]
  },
  {
   "cell_type": "markdown",
   "metadata": {},
   "source": [
    "## Summary\n",
    "\n",
    "The observer wants to compute the relative and/or absolute NAMD of:\n",
    "- a given multiplanetary system;\n",
    "- a subset of multiplanetary systems;\n",
    "- or all the known ones.\n",
    "\n",
    "This tool handles all of the above."
   ]
  },
  {
   "cell_type": "code",
   "execution_count": 42,
   "metadata": {},
   "outputs": [
    {
     "name": "stdout",
     "output_type": "stream",
     "text": [
      "The autoreload extension is already loaded. To reload it, use:\n",
      "  %reload_ext autoreload\n"
     ]
    }
   ],
   "source": [
    "%load_ext autoreload\n",
    "%autoreload 2"
   ]
  },
  {
   "cell_type": "code",
   "execution_count": 43,
   "metadata": {},
   "outputs": [],
   "source": [
    "import os\n",
    "import numpy as np\n",
    "import pandas as pd\n",
    "import matplotlib.pyplot as plt\n",
    "import requests\n",
    "from datetime import datetime\n",
    "from datetime import timedelta\n",
    "\n",
    "pd.options.display.max_columns = 20\n",
    "pd.options.display.max_rows = 30\n",
    "pd.options.mode.copy_on_write = True\n",
    "import warnings\n",
    "\n",
    "warnings.filterwarnings(\"ignore\")\n",
    "\n",
    "from exonamd.utils import ROOT\n",
    "from exonamd.utils import fetch_aliases"
   ]
  },
  {
   "cell_type": "markdown",
   "metadata": {},
   "source": [
    "### Task 1: getting the data\n",
    "\n",
    "This task retrieves the parameters of confirmed systems from the NASA Exoplanet Archive database, and stores them in a local database."
   ]
  },
  {
   "cell_type": "code",
   "execution_count": 44,
   "metadata": {},
   "outputs": [],
   "source": [
    "# Define the URL for the API\n",
    "url = \"https://exoplanetarchive.ipac.caltech.edu/TAP/sync\"\n",
    "\n",
    "# Define the date you want to filter by\n",
    "from_scratch = False  # change to False in production\n",
    "if from_scratch:\n",
    "    latest = datetime.strptime('1950-01-01', \"%Y-%m-%d\")  # Example date\n",
    "else:\n",
    "    df_old = pd.read_csv(os.path.join(ROOT, \"data\", \"exo.csv\"))\n",
    "    latest = df_old['rowupdate'].max()\n",
    "    latest = datetime.strptime(latest, \"%Y-%m-%d\")  # Example date\n",
    "    latest = latest - timedelta(days=1)\n",
    "\n",
    "# Convert the date to a string in the format 'YYYY-MM-DD'\n",
    "latest = latest.strftime('%Y-%m-%d')\n",
    "\n",
    "# Define the multiplicity you want to filter by\n",
    "multiplicity = 1\n",
    "\n",
    "# Define the SQL query to retrieve the required data\n",
    "query = f\"\"\"\n",
    "SELECT \n",
    "    hostname, \n",
    "    pl_name, \n",
    "    default_flag,\n",
    "    rowupdate,\n",
    "    sy_pnum, \n",
    "    pl_orbsmax, \n",
    "    pl_orbsmaxerr1, \n",
    "    pl_orbsmaxerr2, \n",
    "    pl_rade,\n",
    "    pl_radeerr1,\n",
    "    pl_radeerr2,\n",
    "    pl_bmasse, \n",
    "    pl_bmasseerr1, \n",
    "    pl_bmasseerr2, \n",
    "    pl_orbeccen, \n",
    "    pl_orbeccenerr1, \n",
    "    pl_orbeccenerr2, \n",
    "    pl_orbincl, \n",
    "    pl_orbinclerr1, \n",
    "    pl_orbinclerr2,\n",
    "    pl_trueobliq,\n",
    "    pl_trueobliqerr1,\n",
    "    pl_trueobliqerr2\n",
    "FROM ps\n",
    "WHERE\n",
    "    sy_pnum > '{multiplicity}'\n",
    "    AND rowupdate > '{latest}'\n",
    "\"\"\"\n",
    "\n",
    "# Define the parameters for the request\n",
    "params = {\n",
    "    \"query\": query,\n",
    "    \"format\": \"json\",\n",
    "}\n",
    "\n",
    "# Make the request to the API\n",
    "response = requests.get(url, params=params)\n",
    "\n",
    "# Check if the request was successful\n",
    "if response.status_code == 200:\n",
    "    # Parse the JSON response\n",
    "    data = response.json()\n",
    "\n",
    "    # Convert the JSON data to a pandas DataFrame\n",
    "    df = pd.DataFrame(data)\n",
    "else:\n",
    "    print(f\"Error: {response.status_code}\")"
   ]
  },
  {
   "cell_type": "markdown",
   "metadata": {},
   "source": [
    "### Task 2: dealing with the aliases"
   ]
  },
  {
   "cell_type": "markdown",
   "metadata": {},
   "source": [
    "Fetch aliases"
   ]
  },
  {
   "cell_type": "code",
   "execution_count": 45,
   "metadata": {},
   "outputs": [
    {
     "name": "stdout",
     "output_type": "stream",
     "text": [
      "Fetched 3/3 entries on try 1\n"
     ]
    }
   ],
   "source": [
    "aliases = fetch_aliases(df['hostname'].unique())"
   ]
  },
  {
   "cell_type": "markdown",
   "metadata": {},
   "source": [
    "Curate aliases"
   ]
  },
  {
   "cell_type": "code",
   "execution_count": 46,
   "metadata": {},
   "outputs": [],
   "source": [
    "def update_host(row, verbose=False):\n",
    "    host = row['hostname']\n",
    "    for key in aliases.keys():\n",
    "        if host in aliases[key]['host_aliases']:\n",
    "            if verbose and host != key:\n",
    "                print(f\"Found {host} in aliases, updating to {key}\")\n",
    "            return key\n",
    "    return host\n",
    "\n",
    "# # For testing\n",
    "# df2 = df.copy()\n",
    "# df2.loc[df2['hostname'] == 'Kepler-20', 'hostname'] = 'KOI-70'\n",
    "# df2.loc[df2['hostname'] == 'Kepler-80', 'hostname'] = 'KIC 4852528'\n",
    "# df2['hostname'] = df2.apply(update_host, axis=1)\n",
    "df['hostname'] = df.apply(update_host, axis=1)\n",
    "\n",
    "def update_planet(row, verbose=False):\n",
    "    planet = row['pl_name']\n",
    "    for key in aliases.keys():\n",
    "        if planet in aliases[key]['planet_aliases'].keys():\n",
    "            if verbose and planet != aliases[key]['planet_aliases'][planet]:\n",
    "                print(f\"Found {planet} in aliases, updating to {aliases[key]['planet_aliases'][planet]}\")\n",
    "            return aliases[key]['planet_aliases'][planet]\n",
    "    return planet\n",
    "\n",
    "# # For testing\n",
    "# df2 = df.copy()\n",
    "# df2.loc[df2['pl_name'] == 'Kepler-20 c', 'pl_name'] = 'KOI-70.01'\n",
    "# df2.loc[df2['pl_name'] == 'Kepler-11 b', 'pl_name'] = 'KOI-157 b'\n",
    "# df2['pl_name'] = df2.apply(update_planet, axis=1)\n",
    "df['pl_name'] = df.apply(update_planet, axis=1)"
   ]
  },
  {
   "cell_type": "markdown",
   "metadata": {},
   "source": [
    "### Task 3: computing missing values (if any) from simple equations"
   ]
  },
  {
   "cell_type": "markdown",
   "metadata": {},
   "source": []
  },
  {
   "cell_type": "markdown",
   "metadata": {},
   "source": [
    "### Task 4: storing the curated database"
   ]
  },
  {
   "cell_type": "code",
   "execution_count": 47,
   "metadata": {},
   "outputs": [],
   "source": [
    "df_new = df.copy()\n",
    "\n",
    "if from_scratch:\n",
    "    df_latest = df_new\n",
    "else:\n",
    "    df_latest = pd.concat([df_new, df_old], ignore_index=True)\n",
    "    df_latest = df_latest.drop_duplicates(keep='last')\n",
    "\n",
    "df_latest.to_csv(os.path.join(ROOT, \"data\", \"exo.csv\"), index=False)"
   ]
  },
  {
   "cell_type": "code",
   "execution_count": null,
   "metadata": {},
   "outputs": [],
   "source": []
  },
  {
   "cell_type": "markdown",
   "metadata": {},
   "source": [
    "### Task 5: input missing values (if any) by interpolation"
   ]
  },
  {
   "cell_type": "code",
   "execution_count": null,
   "metadata": {},
   "outputs": [],
   "source": [
    "# code here"
   ]
  },
  {
   "cell_type": "markdown",
   "metadata": {},
   "source": [
    "### Task 6: storing the curated+interpolated database"
   ]
  },
  {
   "cell_type": "code",
   "execution_count": null,
   "metadata": {},
   "outputs": [],
   "source": [
    "# code here"
   ]
  },
  {
   "cell_type": "markdown",
   "metadata": {},
   "source": []
  }
 ],
 "metadata": {
  "kernelspec": {
   "display_name": "exonamd",
   "language": "python",
   "name": "python3"
  },
  "language_info": {
   "codemirror_mode": {
    "name": "ipython",
    "version": 3
   },
   "file_extension": ".py",
   "mimetype": "text/x-python",
   "name": "python",
   "nbconvert_exporter": "python",
   "pygments_lexer": "ipython3",
   "version": "3.10.14"
  }
 },
 "nbformat": 4,
 "nbformat_minor": 2
}
