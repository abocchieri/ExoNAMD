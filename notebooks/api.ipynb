{
 "cells": [
  {
   "cell_type": "markdown",
   "metadata": {},
   "source": [
    "# ExoNAMD API v1.0\n"
   ]
  },
  {
   "cell_type": "markdown",
   "metadata": {},
   "source": [
    "## Summary\n",
    "\n",
    "The observer wants to compute the relative and/or absolute NAMD of:\n",
    "\n",
    "- a given multiplanetary system;\n",
    "- a subset of multiplanetary systems;\n",
    "- all the known ones.\n",
    "\n",
    "This tool handles all of the above cases.\n"
   ]
  },
  {
   "cell_type": "code",
   "execution_count": 12,
   "metadata": {},
   "outputs": [
    {
     "name": "stdout",
     "output_type": "stream",
     "text": [
      "The autoreload extension is already loaded. To reload it, use:\n",
      "  %reload_ext autoreload\n"
     ]
    }
   ],
   "source": [
    "%load_ext autoreload\n",
    "%autoreload 2"
   ]
  },
  {
   "cell_type": "code",
   "execution_count": 21,
   "metadata": {},
   "outputs": [],
   "source": [
    "import os\n",
    "import numpy as np\n",
    "\n",
    "import pandas as pd\n",
    "# import modin.pandas as pd\n",
    "import swifter\n",
    "import warnings\n",
    "\n",
    "from exonamd.catalog import download_nasa_confirmed_planets\n",
    "from exonamd.utils import ROOT\n",
    "from exonamd.utils import fetch_aliases\n",
    "from exonamd.utils import update_host\n",
    "from exonamd.utils import update_planet\n",
    "from exonamd.solve import solve_values\n",
    "from exonamd.interp import interp_eccentricity\n",
    "from exonamd.interp import interp_mass\n",
    "from exonamd.interp import interp_inclination\n",
    "from exonamd.interp import interp_sma\n",
    "\n",
    "\n",
    "warnings.filterwarnings(\"ignore\")\n",
    "pd.options.display.max_columns = 20\n",
    "pd.options.display.max_rows = 30\n",
    "pd.options.mode.copy_on_write = True"
   ]
  },
  {
   "cell_type": "markdown",
   "metadata": {},
   "source": [
    "### Task 1: getting the data\n",
    "\n",
    "This task retrieves the parameters of confirmed systems from the NASA Exoplanet Archive database.\n"
   ]
  },
  {
   "cell_type": "code",
   "execution_count": 22,
   "metadata": {},
   "outputs": [],
   "source": [
    "df, df_old = download_nasa_confirmed_planets(\n",
    "    sy_pnum=1,\n",
    "    from_scratch=False,\n",
    ")"
   ]
  },
  {
   "cell_type": "markdown",
   "metadata": {},
   "source": [
    "### Task 2: dealing with the aliases\n"
   ]
  },
  {
   "cell_type": "markdown",
   "metadata": {},
   "source": [
    "Fetch aliases\n"
   ]
  },
  {
   "cell_type": "code",
   "execution_count": 23,
   "metadata": {},
   "outputs": [
    {
     "name": "stdout",
     "output_type": "stream",
     "text": [
      "Fetched 3/3 entries on try 1\n"
     ]
    }
   ],
   "source": [
    "aliases = fetch_aliases(df[\"hostname\"].unique())"
   ]
  },
  {
   "cell_type": "markdown",
   "metadata": {},
   "source": [
    "Curate aliases\n"
   ]
  },
  {
   "cell_type": "code",
   "execution_count": 24,
   "metadata": {},
   "outputs": [
    {
     "data": {
      "application/vnd.jupyter.widget-view+json": {
       "model_id": "a7879142fd794c25ada6361f27d3af87",
       "version_major": 2,
       "version_minor": 0
      },
      "text/plain": [
       "Pandas Apply:   0%|          | 0/6 [00:00<?, ?it/s]"
      ]
     },
     "metadata": {},
     "output_type": "display_data"
    },
    {
     "data": {
      "application/vnd.jupyter.widget-view+json": {
       "model_id": "8f038eaf5d164e0f80d2616f83548613",
       "version_major": 2,
       "version_minor": 0
      },
      "text/plain": [
       "Pandas Apply:   0%|          | 0/6 [00:00<?, ?it/s]"
      ]
     },
     "metadata": {},
     "output_type": "display_data"
    }
   ],
   "source": [
    "df[\"hostname\"] = df.swifter.apply(update_host, args=(aliases,), axis=1)\n",
    "df[\"pl_name\"] = df.swifter.apply(update_planet, args=(aliases,), axis=1)"
   ]
  },
  {
   "cell_type": "code",
   "execution_count": 25,
   "metadata": {},
   "outputs": [],
   "source": [
    "def check_name(names):\n",
    "    if len(set(name[:3] for name in names)) > 1:\n",
    "        return False\n",
    "    return True\n",
    "\n",
    "\n",
    "name_ok = df.groupby(\"hostname\")[\"pl_name\"].apply(check_name)\n",
    "\n",
    "for hostname in name_ok[~name_ok].index:\n",
    "    print(f\"Inconsistent planet names for {hostname}\")"
   ]
  },
  {
   "cell_type": "markdown",
   "metadata": {},
   "source": [
    "### Task 3: computing missing values (if any) from simple equations\n"
   ]
  },
  {
   "cell_type": "code",
   "execution_count": 26,
   "metadata": {},
   "outputs": [
    {
     "data": {
      "application/vnd.jupyter.widget-view+json": {
       "model_id": "0533acfe8c644e258b9b98bbe06a2d08",
       "version_major": 2,
       "version_minor": 0
      },
      "text/plain": [
       "Pandas Apply:   0%|          | 0/6 [00:00<?, ?it/s]"
      ]
     },
     "metadata": {},
     "output_type": "display_data"
    }
   ],
   "source": [
    "df[\n",
    "    [\n",
    "        \"pl_orbsmax\",\n",
    "        \"pl_ratdor\",\n",
    "        \"st_rad\",\n",
    "        \"pl_rade\",\n",
    "        \"pl_ratror\",\n",
    "        \"pl_orbper\",\n",
    "        \"st_mass\",\n",
    "    ]\n",
    "] = df.swifter.apply(solve_values, axis=1, result_type=\"expand\")"
   ]
  },
  {
   "cell_type": "markdown",
   "metadata": {},
   "source": [
    "### Task 4: storing the curated database\n"
   ]
  },
  {
   "cell_type": "code",
   "execution_count": 27,
   "metadata": {},
   "outputs": [],
   "source": [
    "if df_old is not None:\n",
    "    df_new = df.copy()\n",
    "    df = pd.concat([df_new, df_old], ignore_index=True)\n",
    "    df = df.drop_duplicates(keep=\"last\")\n",
    "\n",
    "df.to_csv(os.path.join(ROOT, \"data\", \"exo.csv\"), index=False)"
   ]
  },
  {
   "cell_type": "code",
   "execution_count": 28,
   "metadata": {},
   "outputs": [],
   "source": [
    "# df = pd.read_csv(os.path.join(ROOT, \"data\", \"exo.csv\"))"
   ]
  },
  {
   "cell_type": "markdown",
   "metadata": {},
   "source": [
    "Drop columns that are no longer needed\n"
   ]
  },
  {
   "cell_type": "code",
   "execution_count": 29,
   "metadata": {},
   "outputs": [],
   "source": [
    "df.drop(\n",
    "    columns=[\n",
    "        \"pl_ratdor\",\n",
    "        \"st_rad\",\n",
    "        \"pl_ratror\",\n",
    "        \"pl_orbper\",\n",
    "        \"st_mass\",\n",
    "    ],\n",
    "    inplace=True,\n",
    ")"
   ]
  },
  {
   "cell_type": "markdown",
   "metadata": {},
   "source": [
    "### Task 5: input missing values (if any) by interpolation\n"
   ]
  },
  {
   "cell_type": "markdown",
   "metadata": {},
   "source": [
    "Use nanmedian to thin down the data\n"
   ]
  },
  {
   "cell_type": "code",
   "execution_count": 30,
   "metadata": {},
   "outputs": [],
   "source": [
    "cols = [\n",
    "    c\n",
    "    for c in df.columns\n",
    "    if c not in [\"hostname\", \"pl_name\", \"default_flag\", \"rowupdate\"]\n",
    "]\n",
    "\n",
    "medians = df.groupby(\"pl_name\")[cols].transform(np.nanmedian)\n",
    "df.loc[df[\"default_flag\"] == 1, cols] = medians.loc[df[\"default_flag\"] == 1]\n",
    "df = df[df[\"default_flag\"] == 1]\n",
    "df.drop(columns=\"default_flag\", inplace=True)"
   ]
  },
  {
   "cell_type": "markdown",
   "metadata": {},
   "source": [
    "Instantiate flags\n"
   ]
  },
  {
   "cell_type": "code",
   "execution_count": 31,
   "metadata": {},
   "outputs": [],
   "source": [
    "df[\"flag\"] = \"0\""
   ]
  },
  {
   "cell_type": "markdown",
   "metadata": {},
   "source": [
    "Solve missing eccentricity values\n"
   ]
  },
  {
   "cell_type": "code",
   "execution_count": 32,
   "metadata": {},
   "outputs": [
    {
     "data": {
      "application/vnd.jupyter.widget-view+json": {
       "model_id": "0a37e51cb8134155bc362593cdffc526",
       "version_major": 2,
       "version_minor": 0
      },
      "text/plain": [
       "Pandas Apply:   0%|          | 0/2428 [00:00<?, ?it/s]"
      ]
     },
     "metadata": {},
     "output_type": "display_data"
    }
   ],
   "source": [
    "df[\n",
    "    [\n",
    "        \"pl_orbeccen\",\n",
    "        \"pl_orbeccenerr1\",\n",
    "        \"pl_orbeccenerr2\",\n",
    "        \"flag\",\n",
    "    ]\n",
    "] = df.swifter.apply(interp_eccentricity, axis=1, result_type=\"expand\")"
   ]
  },
  {
   "cell_type": "markdown",
   "metadata": {},
   "source": [
    "Solve missing planetary mass values\n"
   ]
  },
  {
   "cell_type": "code",
   "execution_count": 33,
   "metadata": {},
   "outputs": [
    {
     "data": {
      "application/vnd.jupyter.widget-view+json": {
       "model_id": "1659724ca7a14629bba884120fb15252",
       "version_major": 2,
       "version_minor": 0
      },
      "text/plain": [
       "Pandas Apply:   0%|          | 0/2428 [00:00<?, ?it/s]"
      ]
     },
     "metadata": {},
     "output_type": "display_data"
    }
   ],
   "source": [
    "df[\n",
    "    [\n",
    "        \"pl_bmasse\",\n",
    "        \"pl_bmasseerr1\",\n",
    "        \"pl_bmasseerr2\",\n",
    "        \"flag\",\n",
    "    ]\n",
    "] = df.swifter.apply(interp_mass, axis=1, result_type=\"expand\")"
   ]
  },
  {
   "cell_type": "markdown",
   "metadata": {},
   "source": [
    "Drop columns that are no longer needed\n"
   ]
  },
  {
   "cell_type": "code",
   "execution_count": 34,
   "metadata": {},
   "outputs": [],
   "source": [
    "df = df.drop(columns=[\"pl_rade\", \"pl_radeerr1\", \"pl_radeerr2\"])"
   ]
  },
  {
   "cell_type": "markdown",
   "metadata": {},
   "source": [
    "Remove systems where at least one planet has no mass or semi-major axis (if any)\n"
   ]
  },
  {
   "cell_type": "code",
   "execution_count": 35,
   "metadata": {},
   "outputs": [],
   "source": [
    "mask = (\n",
    "    df.groupby(\"hostname\")[[\"pl_bmasse\", \"pl_orbsmax\"]]\n",
    "    .transform(lambda x: x.isnull().any())\n",
    "    .any(axis=1)\n",
    ")\n",
    "df = df[~mask]"
   ]
  },
  {
   "cell_type": "markdown",
   "metadata": {},
   "source": [
    "Solve missing values in inclinations\n"
   ]
  },
  {
   "cell_type": "code",
   "execution_count": 36,
   "metadata": {},
   "outputs": [
    {
     "data": {
      "application/vnd.jupyter.widget-view+json": {
       "model_id": "07c501ad2cf34847a810ccf75ef2c6bf",
       "version_major": 2,
       "version_minor": 0
      },
      "text/plain": [
       "Pandas Apply:   0%|          | 0/2206 [00:00<?, ?it/s]"
      ]
     },
     "metadata": {},
     "output_type": "display_data"
    }
   ],
   "source": [
    "df[\n",
    "    [\n",
    "        \"pl_orbincl\",\n",
    "        \"pl_orbinclerr1\",\n",
    "        \"pl_orbinclerr2\",\n",
    "        \"flag\",\n",
    "    ]\n",
    "] = df.swifter.apply(interp_inclination, args=(df,), axis=1, result_type=\"expand\")"
   ]
  },
  {
   "cell_type": "markdown",
   "metadata": {},
   "source": [
    "Solve missing values in semi-major axis uncertainties\n"
   ]
  },
  {
   "cell_type": "code",
   "execution_count": 37,
   "metadata": {},
   "outputs": [
    {
     "data": {
      "application/vnd.jupyter.widget-view+json": {
       "model_id": "8e61b38474774cd89566763632928c84",
       "version_major": 2,
       "version_minor": 0
      },
      "text/plain": [
       "Pandas Apply:   0%|          | 0/2206 [00:00<?, ?it/s]"
      ]
     },
     "metadata": {},
     "output_type": "display_data"
    }
   ],
   "source": [
    "df[\n",
    "    [\n",
    "        \"pl_orbsmaxerr1\",\n",
    "        \"pl_orbsmaxerr2\",\n",
    "        \"flag\",\n",
    "    ]\n",
    "] = df.swifter.apply(interp_sma, axis=1, result_type=\"expand\")"
   ]
  },
  {
   "cell_type": "markdown",
   "metadata": {},
   "source": [
    "### Task 6: storing the curated+interpolated database\n"
   ]
  },
  {
   "cell_type": "code",
   "execution_count": 38,
   "metadata": {},
   "outputs": [],
   "source": [
    "df.to_csv(os.path.join(ROOT, \"data\", \"exo_interp.csv\"), index=False)"
   ]
  },
  {
   "cell_type": "markdown",
   "metadata": {},
   "source": []
  },
  {
   "cell_type": "code",
   "execution_count": 39,
   "metadata": {},
   "outputs": [],
   "source": [
    "df = pd.read_csv(os.path.join(ROOT, \"data\", \"exo_interp.csv\"))"
   ]
  },
  {
   "cell_type": "code",
   "execution_count": 40,
   "metadata": {},
   "outputs": [
    {
     "data": {
      "text/plain": [
       "(876,)"
      ]
     },
     "execution_count": 40,
     "metadata": {},
     "output_type": "execute_result"
    }
   ],
   "source": [
    "df[\"hostname\"].unique().shape"
   ]
  },
  {
   "cell_type": "markdown",
   "metadata": {},
   "source": []
  }
 ],
 "metadata": {
  "kernelspec": {
   "display_name": "exonamd",
   "language": "python",
   "name": "python3"
  },
  "language_info": {
   "codemirror_mode": {
    "name": "ipython",
    "version": 3
   },
   "file_extension": ".py",
   "mimetype": "text/x-python",
   "name": "python",
   "nbconvert_exporter": "python",
   "pygments_lexer": "ipython3",
   "version": "3.10.14"
  }
 },
 "nbformat": 4,
 "nbformat_minor": 2
}
