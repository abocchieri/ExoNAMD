{
 "cells": [
  {
   "cell_type": "markdown",
   "metadata": {},
   "source": [
    "# ExoNAMD API v1.0\n"
   ]
  },
  {
   "cell_type": "markdown",
   "metadata": {},
   "source": [
    "## Summary\n",
    "\n",
    "The observer wants to compute the relative and/or absolute NAMD of:\n",
    "\n",
    "- a given multiplanetary system;\n",
    "- a subset of multiplanetary systems;\n",
    "- all the known ones.\n",
    "\n",
    "This tool handles all of the above cases.\n"
   ]
  },
  {
   "cell_type": "code",
   "execution_count": 1,
   "metadata": {},
   "outputs": [],
   "source": [
    "%load_ext autoreload\n",
    "%autoreload 2"
   ]
  },
  {
   "cell_type": "code",
   "execution_count": 2,
   "metadata": {},
   "outputs": [],
   "source": [
    "import os\n",
    "import numpy as np\n",
    "\n",
    "import pandas as pd\n",
    "\n",
    "# import modin.pandas as pd\n",
    "import swifter\n",
    "import warnings\n",
    "\n",
    "from exonamd.catalog import download_nasa_confirmed_planets\n",
    "from exonamd.utils import ROOT\n",
    "from exonamd.utils import fetch_aliases\n",
    "from exonamd.utils import update_host\n",
    "from exonamd.utils import update_planet\n",
    "from exonamd.solve import solve_values\n",
    "from exonamd.interp import interp_eccentricity\n",
    "from exonamd.interp import interp_mass\n",
    "from exonamd.interp import interp_inclination\n",
    "from exonamd.interp import interp_sma\n",
    "from exonamd.solve import solve_relincl\n",
    "from exonamd.interp import interp_trueobliq\n",
    "from exonamd.solve import solve_amd\n",
    "\n",
    "\n",
    "warnings.filterwarnings(\"ignore\")\n",
    "pd.options.display.max_columns = 20\n",
    "pd.options.display.max_rows = 30\n",
    "pd.options.mode.copy_on_write = True\n",
    "swifter.set_defaults(\n",
    "    npartitions=None,\n",
    "    dask_threshold=1,\n",
    "    scheduler=\"processes\",\n",
    "    progress_bar=False,\n",
    "    progress_bar_desc=None,\n",
    "    allow_dask_on_strings=False,\n",
    "    force_parallel=False,\n",
    ")"
   ]
  },
  {
   "cell_type": "markdown",
   "metadata": {},
   "source": [
    "### Task 1: getting the data\n",
    "\n",
    "This task retrieves the parameters of confirmed systems from the NASA Exoplanet Archive database.\n"
   ]
  },
  {
   "cell_type": "code",
   "execution_count": 3,
   "metadata": {},
   "outputs": [],
   "source": [
    "df, df_old = download_nasa_confirmed_planets(\n",
    "    sy_pnum=1,\n",
    "    from_scratch=False,\n",
    ")"
   ]
  },
  {
   "cell_type": "markdown",
   "metadata": {},
   "source": [
    "### Task 2: dealing with the aliases\n"
   ]
  },
  {
   "cell_type": "markdown",
   "metadata": {},
   "source": [
    "Fetch aliases\n"
   ]
  },
  {
   "cell_type": "code",
   "execution_count": 4,
   "metadata": {},
   "outputs": [
    {
     "name": "stdout",
     "output_type": "stream",
     "text": [
      "Fetched 3/3 entries on try 1\n"
     ]
    }
   ],
   "source": [
    "aliases = fetch_aliases(df[\"hostname\"].unique())"
   ]
  },
  {
   "cell_type": "markdown",
   "metadata": {},
   "source": [
    "Curate aliases\n"
   ]
  },
  {
   "cell_type": "code",
   "execution_count": 5,
   "metadata": {},
   "outputs": [
    {
     "data": {
      "application/vnd.jupyter.widget-view+json": {
       "model_id": "bd1a0042fdca433e8fdc6c243a6762eb",
       "version_major": 2,
       "version_minor": 0
      },
      "text/plain": [
       "Pandas Apply:   0%|          | 0/6 [00:00<?, ?it/s]"
      ]
     },
     "metadata": {},
     "output_type": "display_data"
    },
    {
     "data": {
      "application/vnd.jupyter.widget-view+json": {
       "model_id": "a8920079b467406b9f21b1847ae236a1",
       "version_major": 2,
       "version_minor": 0
      },
      "text/plain": [
       "Pandas Apply:   0%|          | 0/6 [00:00<?, ?it/s]"
      ]
     },
     "metadata": {},
     "output_type": "display_data"
    }
   ],
   "source": [
    "df[\"hostname\"] = df.swifter.apply(update_host, args=(aliases,), axis=1)\n",
    "df[\"pl_name\"] = df.swifter.apply(update_planet, args=(aliases,), axis=1)"
   ]
  },
  {
   "cell_type": "markdown",
   "metadata": {},
   "source": [
    "Check consistency of planet names\n"
   ]
  },
  {
   "cell_type": "code",
   "execution_count": 6,
   "metadata": {},
   "outputs": [],
   "source": [
    "def check_name(names):\n",
    "    if len(set(name[:3] for name in names)) > 1:\n",
    "        return False\n",
    "    return True\n",
    "\n",
    "\n",
    "name_ok = df.groupby(\"hostname\")[\"pl_name\"].apply(check_name)\n",
    "\n",
    "for hostname in name_ok[~name_ok].index:\n",
    "    print(f\"Inconsistent planet names for {hostname}\")"
   ]
  },
  {
   "cell_type": "markdown",
   "metadata": {},
   "source": [
    "### Task 3: computing missing values (if any) from simple equations\n"
   ]
  },
  {
   "cell_type": "code",
   "execution_count": 7,
   "metadata": {},
   "outputs": [
    {
     "data": {
      "application/vnd.jupyter.widget-view+json": {
       "model_id": "a6b5840791bf448c950bf244f89b0ec7",
       "version_major": 2,
       "version_minor": 0
      },
      "text/plain": [
       "Pandas Apply:   0%|          | 0/6 [00:00<?, ?it/s]"
      ]
     },
     "metadata": {},
     "output_type": "display_data"
    }
   ],
   "source": [
    "df[\n",
    "    [\n",
    "        \"pl_orbsmax\",\n",
    "        \"pl_ratdor\",\n",
    "        \"st_rad\",\n",
    "        \"pl_rade\",\n",
    "        \"pl_ratror\",\n",
    "        \"pl_orbper\",\n",
    "        \"st_mass\",\n",
    "    ]\n",
    "] = df.swifter.apply(solve_values, axis=1)"
   ]
  },
  {
   "cell_type": "markdown",
   "metadata": {},
   "source": [
    "### Task 4: storing the curated database\n"
   ]
  },
  {
   "cell_type": "code",
   "execution_count": 8,
   "metadata": {},
   "outputs": [],
   "source": [
    "if df_old is not None:\n",
    "    df_new = df.copy()\n",
    "    df = pd.concat([df_new, df_old], ignore_index=True)\n",
    "    df = df.drop_duplicates(keep=\"last\")\n",
    "\n",
    "df.to_csv(os.path.join(ROOT, \"data\", \"exo.csv\"), index=False)"
   ]
  },
  {
   "cell_type": "code",
   "execution_count": 9,
   "metadata": {},
   "outputs": [],
   "source": [
    "df = pd.read_csv(os.path.join(ROOT, \"data\", \"exo.csv\"))"
   ]
  },
  {
   "cell_type": "markdown",
   "metadata": {},
   "source": [
    "Drop columns that are no longer needed\n"
   ]
  },
  {
   "cell_type": "code",
   "execution_count": 10,
   "metadata": {},
   "outputs": [],
   "source": [
    "df.drop(\n",
    "    columns=[\n",
    "        \"pl_ratdor\",\n",
    "        \"st_rad\",\n",
    "        \"pl_ratror\",\n",
    "        \"pl_orbper\",\n",
    "        \"st_mass\",\n",
    "    ],\n",
    "    inplace=True,\n",
    ")"
   ]
  },
  {
   "cell_type": "markdown",
   "metadata": {},
   "source": [
    "### Task 5: input missing values (if any) by interpolation\n"
   ]
  },
  {
   "cell_type": "markdown",
   "metadata": {},
   "source": [
    "Use nanmedian to thin down the data\n"
   ]
  },
  {
   "cell_type": "code",
   "execution_count": 11,
   "metadata": {},
   "outputs": [],
   "source": [
    "cols = [\n",
    "    c\n",
    "    for c in df.columns\n",
    "    if c not in [\"hostname\", \"pl_name\", \"default_flag\", \"rowupdate\"]\n",
    "]\n",
    "\n",
    "medians = df.groupby(\"pl_name\")[cols].transform(np.nanmedian)\n",
    "df.loc[df[\"default_flag\"] == 1, cols] = medians.loc[df[\"default_flag\"] == 1]\n",
    "df = df[df[\"default_flag\"] == 1]\n",
    "df.drop(columns=\"default_flag\", inplace=True)"
   ]
  },
  {
   "cell_type": "markdown",
   "metadata": {},
   "source": [
    "Check presence of duplicates!!!\n"
   ]
  },
  {
   "cell_type": "code",
   "execution_count": 12,
   "metadata": {},
   "outputs": [
    {
     "data": {
      "text/html": [
       "<div>\n",
       "<style scoped>\n",
       "    .dataframe tbody tr th:only-of-type {\n",
       "        vertical-align: middle;\n",
       "    }\n",
       "\n",
       "    .dataframe tbody tr th {\n",
       "        vertical-align: top;\n",
       "    }\n",
       "\n",
       "    .dataframe thead th {\n",
       "        text-align: right;\n",
       "    }\n",
       "</style>\n",
       "<table border=\"1\" class=\"dataframe\">\n",
       "  <thead>\n",
       "    <tr style=\"text-align: right;\">\n",
       "      <th></th>\n",
       "      <th>hostname</th>\n",
       "      <th>pl_name</th>\n",
       "      <th>rowupdate</th>\n",
       "      <th>sy_pnum</th>\n",
       "      <th>pl_orbsmax</th>\n",
       "      <th>pl_orbsmaxerr1</th>\n",
       "      <th>pl_orbsmaxerr2</th>\n",
       "      <th>pl_rade</th>\n",
       "      <th>pl_radeerr1</th>\n",
       "      <th>pl_radeerr2</th>\n",
       "      <th>...</th>\n",
       "      <th>pl_bmasseerr2</th>\n",
       "      <th>pl_orbeccen</th>\n",
       "      <th>pl_orbeccenerr1</th>\n",
       "      <th>pl_orbeccenerr2</th>\n",
       "      <th>pl_orbincl</th>\n",
       "      <th>pl_orbinclerr1</th>\n",
       "      <th>pl_orbinclerr2</th>\n",
       "      <th>pl_trueobliq</th>\n",
       "      <th>pl_trueobliqerr1</th>\n",
       "      <th>pl_trueobliqerr2</th>\n",
       "    </tr>\n",
       "  </thead>\n",
       "  <tbody>\n",
       "    <tr>\n",
       "      <th>6</th>\n",
       "      <td>TOI-1338 A</td>\n",
       "      <td>TOI-1338 A b</td>\n",
       "      <td>2024-08-07</td>\n",
       "      <td>2</td>\n",
       "      <td>0.420509</td>\n",
       "      <td>0.00860</td>\n",
       "      <td>-0.00880</td>\n",
       "      <td>7.6610</td>\n",
       "      <td>0.053</td>\n",
       "      <td>-0.053</td>\n",
       "      <td>...</td>\n",
       "      <td>-2.1</td>\n",
       "      <td>0.0331</td>\n",
       "      <td>0.0022</td>\n",
       "      <td>-0.0021</td>\n",
       "      <td>90.494</td>\n",
       "      <td>0.013</td>\n",
       "      <td>-0.014</td>\n",
       "      <td>NaN</td>\n",
       "      <td>NaN</td>\n",
       "      <td>NaN</td>\n",
       "    </tr>\n",
       "    <tr>\n",
       "      <th>291</th>\n",
       "      <td>TOI-1338 A</td>\n",
       "      <td>TOI-1338 A b</td>\n",
       "      <td>2024-08-07</td>\n",
       "      <td>2</td>\n",
       "      <td>0.420509</td>\n",
       "      <td>0.00860</td>\n",
       "      <td>-0.00880</td>\n",
       "      <td>7.6610</td>\n",
       "      <td>0.053</td>\n",
       "      <td>-0.053</td>\n",
       "      <td>...</td>\n",
       "      <td>-2.1</td>\n",
       "      <td>0.0331</td>\n",
       "      <td>0.0022</td>\n",
       "      <td>-0.0021</td>\n",
       "      <td>90.494</td>\n",
       "      <td>0.013</td>\n",
       "      <td>-0.014</td>\n",
       "      <td>NaN</td>\n",
       "      <td>NaN</td>\n",
       "      <td>NaN</td>\n",
       "    </tr>\n",
       "    <tr>\n",
       "      <th>9</th>\n",
       "      <td>TOI-1338 A</td>\n",
       "      <td>TOI-1338 A c</td>\n",
       "      <td>2024-08-07</td>\n",
       "      <td>2</td>\n",
       "      <td>0.724598</td>\n",
       "      <td>0.01600</td>\n",
       "      <td>-0.01600</td>\n",
       "      <td>NaN</td>\n",
       "      <td>NaN</td>\n",
       "      <td>NaN</td>\n",
       "      <td>...</td>\n",
       "      <td>-3.6</td>\n",
       "      <td>0.0370</td>\n",
       "      <td>0.0320</td>\n",
       "      <td>-0.0260</td>\n",
       "      <td>97.000</td>\n",
       "      <td>6.700</td>\n",
       "      <td>-6.800</td>\n",
       "      <td>NaN</td>\n",
       "      <td>NaN</td>\n",
       "      <td>NaN</td>\n",
       "    </tr>\n",
       "    <tr>\n",
       "      <th>292</th>\n",
       "      <td>TOI-1338 A</td>\n",
       "      <td>TOI-1338 A c</td>\n",
       "      <td>2024-08-07</td>\n",
       "      <td>2</td>\n",
       "      <td>0.724598</td>\n",
       "      <td>0.01600</td>\n",
       "      <td>-0.01600</td>\n",
       "      <td>NaN</td>\n",
       "      <td>NaN</td>\n",
       "      <td>NaN</td>\n",
       "      <td>...</td>\n",
       "      <td>-3.6</td>\n",
       "      <td>0.0370</td>\n",
       "      <td>0.0320</td>\n",
       "      <td>-0.0260</td>\n",
       "      <td>97.000</td>\n",
       "      <td>6.700</td>\n",
       "      <td>-6.800</td>\n",
       "      <td>NaN</td>\n",
       "      <td>NaN</td>\n",
       "      <td>NaN</td>\n",
       "    </tr>\n",
       "    <tr>\n",
       "      <th>1</th>\n",
       "      <td>TOI-1408</td>\n",
       "      <td>TOI-1338 A b</td>\n",
       "      <td>2024-08-07</td>\n",
       "      <td>2</td>\n",
       "      <td>0.420509</td>\n",
       "      <td>0.00860</td>\n",
       "      <td>-0.00880</td>\n",
       "      <td>7.6610</td>\n",
       "      <td>0.053</td>\n",
       "      <td>-0.053</td>\n",
       "      <td>...</td>\n",
       "      <td>-2.1</td>\n",
       "      <td>0.0331</td>\n",
       "      <td>0.0022</td>\n",
       "      <td>-0.0021</td>\n",
       "      <td>90.494</td>\n",
       "      <td>0.013</td>\n",
       "      <td>-0.014</td>\n",
       "      <td>NaN</td>\n",
       "      <td>NaN</td>\n",
       "      <td>NaN</td>\n",
       "    </tr>\n",
       "    <tr>\n",
       "      <th>4</th>\n",
       "      <td>TOI-1408</td>\n",
       "      <td>TOI-1338 A b</td>\n",
       "      <td>2024-08-07</td>\n",
       "      <td>2</td>\n",
       "      <td>0.420509</td>\n",
       "      <td>0.00860</td>\n",
       "      <td>-0.00880</td>\n",
       "      <td>7.6610</td>\n",
       "      <td>0.053</td>\n",
       "      <td>-0.053</td>\n",
       "      <td>...</td>\n",
       "      <td>-2.1</td>\n",
       "      <td>0.0331</td>\n",
       "      <td>0.0022</td>\n",
       "      <td>-0.0021</td>\n",
       "      <td>90.494</td>\n",
       "      <td>0.013</td>\n",
       "      <td>-0.014</td>\n",
       "      <td>NaN</td>\n",
       "      <td>NaN</td>\n",
       "      <td>NaN</td>\n",
       "    </tr>\n",
       "    <tr>\n",
       "      <th>10</th>\n",
       "      <td>TOI-1408</td>\n",
       "      <td>TOI-1408 b</td>\n",
       "      <td>2024-08-07</td>\n",
       "      <td>2</td>\n",
       "      <td>0.057780</td>\n",
       "      <td>0.00010</td>\n",
       "      <td>-0.00010</td>\n",
       "      <td>20.9065</td>\n",
       "      <td>4.000</td>\n",
       "      <td>-4.000</td>\n",
       "      <td>...</td>\n",
       "      <td>-4.0</td>\n",
       "      <td>0.0023</td>\n",
       "      <td>0.0005</td>\n",
       "      <td>-0.0005</td>\n",
       "      <td>82.400</td>\n",
       "      <td>0.200</td>\n",
       "      <td>-0.200</td>\n",
       "      <td>NaN</td>\n",
       "      <td>NaN</td>\n",
       "      <td>NaN</td>\n",
       "    </tr>\n",
       "    <tr>\n",
       "      <th>287</th>\n",
       "      <td>TOI-1408</td>\n",
       "      <td>TOI-1408 b</td>\n",
       "      <td>2024-08-07</td>\n",
       "      <td>2</td>\n",
       "      <td>0.057780</td>\n",
       "      <td>0.00010</td>\n",
       "      <td>-0.00010</td>\n",
       "      <td>20.9065</td>\n",
       "      <td>4.000</td>\n",
       "      <td>-4.000</td>\n",
       "      <td>...</td>\n",
       "      <td>-4.0</td>\n",
       "      <td>0.0023</td>\n",
       "      <td>0.0005</td>\n",
       "      <td>-0.0005</td>\n",
       "      <td>82.400</td>\n",
       "      <td>0.200</td>\n",
       "      <td>-0.200</td>\n",
       "      <td>NaN</td>\n",
       "      <td>NaN</td>\n",
       "      <td>NaN</td>\n",
       "    </tr>\n",
       "    <tr>\n",
       "      <th>11</th>\n",
       "      <td>TOI-1408</td>\n",
       "      <td>TOI-1408 c</td>\n",
       "      <td>2024-08-07</td>\n",
       "      <td>2</td>\n",
       "      <td>0.035870</td>\n",
       "      <td>0.00008</td>\n",
       "      <td>-0.00008</td>\n",
       "      <td>2.2200</td>\n",
       "      <td>0.060</td>\n",
       "      <td>-0.060</td>\n",
       "      <td>...</td>\n",
       "      <td>-0.2</td>\n",
       "      <td>0.1353</td>\n",
       "      <td>0.0001</td>\n",
       "      <td>-0.0001</td>\n",
       "      <td>82.600</td>\n",
       "      <td>0.300</td>\n",
       "      <td>-0.300</td>\n",
       "      <td>NaN</td>\n",
       "      <td>NaN</td>\n",
       "      <td>NaN</td>\n",
       "    </tr>\n",
       "    <tr>\n",
       "      <th>288</th>\n",
       "      <td>TOI-1408</td>\n",
       "      <td>TOI-1408 c</td>\n",
       "      <td>2024-08-07</td>\n",
       "      <td>2</td>\n",
       "      <td>0.035870</td>\n",
       "      <td>0.00008</td>\n",
       "      <td>-0.00008</td>\n",
       "      <td>2.2200</td>\n",
       "      <td>0.060</td>\n",
       "      <td>-0.060</td>\n",
       "      <td>...</td>\n",
       "      <td>-0.2</td>\n",
       "      <td>0.1353</td>\n",
       "      <td>0.0001</td>\n",
       "      <td>-0.0001</td>\n",
       "      <td>82.600</td>\n",
       "      <td>0.300</td>\n",
       "      <td>-0.300</td>\n",
       "      <td>NaN</td>\n",
       "      <td>NaN</td>\n",
       "      <td>NaN</td>\n",
       "    </tr>\n",
       "    <tr>\n",
       "      <th>0</th>\n",
       "      <td>TOI-1408</td>\n",
       "      <td>TOI-421 b</td>\n",
       "      <td>2024-08-07</td>\n",
       "      <td>2</td>\n",
       "      <td>0.055400</td>\n",
       "      <td>0.00100</td>\n",
       "      <td>-0.00100</td>\n",
       "      <td>2.6400</td>\n",
       "      <td>0.080</td>\n",
       "      <td>-0.080</td>\n",
       "      <td>...</td>\n",
       "      <td>-0.6</td>\n",
       "      <td>0.1300</td>\n",
       "      <td>0.0500</td>\n",
       "      <td>-0.0500</td>\n",
       "      <td>85.680</td>\n",
       "      <td>0.360</td>\n",
       "      <td>-0.460</td>\n",
       "      <td>NaN</td>\n",
       "      <td>NaN</td>\n",
       "      <td>NaN</td>\n",
       "    </tr>\n",
       "    <tr>\n",
       "      <th>2</th>\n",
       "      <td>TOI-1408</td>\n",
       "      <td>TOI-421 b</td>\n",
       "      <td>2024-08-07</td>\n",
       "      <td>2</td>\n",
       "      <td>0.055400</td>\n",
       "      <td>0.00100</td>\n",
       "      <td>-0.00100</td>\n",
       "      <td>2.6400</td>\n",
       "      <td>0.080</td>\n",
       "      <td>-0.080</td>\n",
       "      <td>...</td>\n",
       "      <td>-0.6</td>\n",
       "      <td>0.1300</td>\n",
       "      <td>0.0500</td>\n",
       "      <td>-0.0500</td>\n",
       "      <td>85.680</td>\n",
       "      <td>0.360</td>\n",
       "      <td>-0.460</td>\n",
       "      <td>NaN</td>\n",
       "      <td>NaN</td>\n",
       "      <td>NaN</td>\n",
       "    </tr>\n",
       "    <tr>\n",
       "      <th>7</th>\n",
       "      <td>TOI-421</td>\n",
       "      <td>TOI-421 b</td>\n",
       "      <td>2024-08-07</td>\n",
       "      <td>2</td>\n",
       "      <td>0.055400</td>\n",
       "      <td>0.00100</td>\n",
       "      <td>-0.00100</td>\n",
       "      <td>2.6400</td>\n",
       "      <td>0.080</td>\n",
       "      <td>-0.080</td>\n",
       "      <td>...</td>\n",
       "      <td>-0.6</td>\n",
       "      <td>0.1300</td>\n",
       "      <td>0.0500</td>\n",
       "      <td>-0.0500</td>\n",
       "      <td>85.680</td>\n",
       "      <td>0.360</td>\n",
       "      <td>-0.460</td>\n",
       "      <td>NaN</td>\n",
       "      <td>NaN</td>\n",
       "      <td>NaN</td>\n",
       "    </tr>\n",
       "    <tr>\n",
       "      <th>289</th>\n",
       "      <td>TOI-421</td>\n",
       "      <td>TOI-421 b</td>\n",
       "      <td>2024-08-07</td>\n",
       "      <td>2</td>\n",
       "      <td>0.055400</td>\n",
       "      <td>0.00100</td>\n",
       "      <td>-0.00100</td>\n",
       "      <td>2.6400</td>\n",
       "      <td>0.080</td>\n",
       "      <td>-0.080</td>\n",
       "      <td>...</td>\n",
       "      <td>-0.6</td>\n",
       "      <td>0.1300</td>\n",
       "      <td>0.0500</td>\n",
       "      <td>-0.0500</td>\n",
       "      <td>85.680</td>\n",
       "      <td>0.360</td>\n",
       "      <td>-0.460</td>\n",
       "      <td>NaN</td>\n",
       "      <td>NaN</td>\n",
       "      <td>NaN</td>\n",
       "    </tr>\n",
       "    <tr>\n",
       "      <th>8</th>\n",
       "      <td>TOI-421</td>\n",
       "      <td>TOI-421 c</td>\n",
       "      <td>2024-08-07</td>\n",
       "      <td>2</td>\n",
       "      <td>0.117000</td>\n",
       "      <td>0.00180</td>\n",
       "      <td>-0.00180</td>\n",
       "      <td>5.0900</td>\n",
       "      <td>0.070</td>\n",
       "      <td>-0.070</td>\n",
       "      <td>...</td>\n",
       "      <td>-1.4</td>\n",
       "      <td>0.1900</td>\n",
       "      <td>0.0400</td>\n",
       "      <td>-0.0400</td>\n",
       "      <td>88.353</td>\n",
       "      <td>0.078</td>\n",
       "      <td>-0.084</td>\n",
       "      <td>NaN</td>\n",
       "      <td>NaN</td>\n",
       "      <td>NaN</td>\n",
       "    </tr>\n",
       "    <tr>\n",
       "      <th>290</th>\n",
       "      <td>TOI-421</td>\n",
       "      <td>TOI-421 c</td>\n",
       "      <td>2024-08-07</td>\n",
       "      <td>2</td>\n",
       "      <td>0.117000</td>\n",
       "      <td>0.00180</td>\n",
       "      <td>-0.00180</td>\n",
       "      <td>5.0900</td>\n",
       "      <td>0.070</td>\n",
       "      <td>-0.070</td>\n",
       "      <td>...</td>\n",
       "      <td>-1.4</td>\n",
       "      <td>0.1900</td>\n",
       "      <td>0.0400</td>\n",
       "      <td>-0.0400</td>\n",
       "      <td>88.353</td>\n",
       "      <td>0.078</td>\n",
       "      <td>-0.084</td>\n",
       "      <td>NaN</td>\n",
       "      <td>NaN</td>\n",
       "      <td>NaN</td>\n",
       "    </tr>\n",
       "  </tbody>\n",
       "</table>\n",
       "<p>16 rows × 22 columns</p>\n",
       "</div>"
      ],
      "text/plain": [
       "       hostname       pl_name   rowupdate  sy_pnum  pl_orbsmax  \\\n",
       "6    TOI-1338 A  TOI-1338 A b  2024-08-07        2    0.420509   \n",
       "291  TOI-1338 A  TOI-1338 A b  2024-08-07        2    0.420509   \n",
       "9    TOI-1338 A  TOI-1338 A c  2024-08-07        2    0.724598   \n",
       "292  TOI-1338 A  TOI-1338 A c  2024-08-07        2    0.724598   \n",
       "1      TOI-1408  TOI-1338 A b  2024-08-07        2    0.420509   \n",
       "4      TOI-1408  TOI-1338 A b  2024-08-07        2    0.420509   \n",
       "10     TOI-1408    TOI-1408 b  2024-08-07        2    0.057780   \n",
       "287    TOI-1408    TOI-1408 b  2024-08-07        2    0.057780   \n",
       "11     TOI-1408    TOI-1408 c  2024-08-07        2    0.035870   \n",
       "288    TOI-1408    TOI-1408 c  2024-08-07        2    0.035870   \n",
       "0      TOI-1408     TOI-421 b  2024-08-07        2    0.055400   \n",
       "2      TOI-1408     TOI-421 b  2024-08-07        2    0.055400   \n",
       "7       TOI-421     TOI-421 b  2024-08-07        2    0.055400   \n",
       "289     TOI-421     TOI-421 b  2024-08-07        2    0.055400   \n",
       "8       TOI-421     TOI-421 c  2024-08-07        2    0.117000   \n",
       "290     TOI-421     TOI-421 c  2024-08-07        2    0.117000   \n",
       "\n",
       "     pl_orbsmaxerr1  pl_orbsmaxerr2  pl_rade  pl_radeerr1  pl_radeerr2  ...  \\\n",
       "6           0.00860        -0.00880   7.6610        0.053       -0.053  ...   \n",
       "291         0.00860        -0.00880   7.6610        0.053       -0.053  ...   \n",
       "9           0.01600        -0.01600      NaN          NaN          NaN  ...   \n",
       "292         0.01600        -0.01600      NaN          NaN          NaN  ...   \n",
       "1           0.00860        -0.00880   7.6610        0.053       -0.053  ...   \n",
       "4           0.00860        -0.00880   7.6610        0.053       -0.053  ...   \n",
       "10          0.00010        -0.00010  20.9065        4.000       -4.000  ...   \n",
       "287         0.00010        -0.00010  20.9065        4.000       -4.000  ...   \n",
       "11          0.00008        -0.00008   2.2200        0.060       -0.060  ...   \n",
       "288         0.00008        -0.00008   2.2200        0.060       -0.060  ...   \n",
       "0           0.00100        -0.00100   2.6400        0.080       -0.080  ...   \n",
       "2           0.00100        -0.00100   2.6400        0.080       -0.080  ...   \n",
       "7           0.00100        -0.00100   2.6400        0.080       -0.080  ...   \n",
       "289         0.00100        -0.00100   2.6400        0.080       -0.080  ...   \n",
       "8           0.00180        -0.00180   5.0900        0.070       -0.070  ...   \n",
       "290         0.00180        -0.00180   5.0900        0.070       -0.070  ...   \n",
       "\n",
       "     pl_bmasseerr2  pl_orbeccen  pl_orbeccenerr1  pl_orbeccenerr2  pl_orbincl  \\\n",
       "6             -2.1       0.0331           0.0022          -0.0021      90.494   \n",
       "291           -2.1       0.0331           0.0022          -0.0021      90.494   \n",
       "9             -3.6       0.0370           0.0320          -0.0260      97.000   \n",
       "292           -3.6       0.0370           0.0320          -0.0260      97.000   \n",
       "1             -2.1       0.0331           0.0022          -0.0021      90.494   \n",
       "4             -2.1       0.0331           0.0022          -0.0021      90.494   \n",
       "10            -4.0       0.0023           0.0005          -0.0005      82.400   \n",
       "287           -4.0       0.0023           0.0005          -0.0005      82.400   \n",
       "11            -0.2       0.1353           0.0001          -0.0001      82.600   \n",
       "288           -0.2       0.1353           0.0001          -0.0001      82.600   \n",
       "0             -0.6       0.1300           0.0500          -0.0500      85.680   \n",
       "2             -0.6       0.1300           0.0500          -0.0500      85.680   \n",
       "7             -0.6       0.1300           0.0500          -0.0500      85.680   \n",
       "289           -0.6       0.1300           0.0500          -0.0500      85.680   \n",
       "8             -1.4       0.1900           0.0400          -0.0400      88.353   \n",
       "290           -1.4       0.1900           0.0400          -0.0400      88.353   \n",
       "\n",
       "     pl_orbinclerr1  pl_orbinclerr2  pl_trueobliq  pl_trueobliqerr1  \\\n",
       "6             0.013          -0.014           NaN               NaN   \n",
       "291           0.013          -0.014           NaN               NaN   \n",
       "9             6.700          -6.800           NaN               NaN   \n",
       "292           6.700          -6.800           NaN               NaN   \n",
       "1             0.013          -0.014           NaN               NaN   \n",
       "4             0.013          -0.014           NaN               NaN   \n",
       "10            0.200          -0.200           NaN               NaN   \n",
       "287           0.200          -0.200           NaN               NaN   \n",
       "11            0.300          -0.300           NaN               NaN   \n",
       "288           0.300          -0.300           NaN               NaN   \n",
       "0             0.360          -0.460           NaN               NaN   \n",
       "2             0.360          -0.460           NaN               NaN   \n",
       "7             0.360          -0.460           NaN               NaN   \n",
       "289           0.360          -0.460           NaN               NaN   \n",
       "8             0.078          -0.084           NaN               NaN   \n",
       "290           0.078          -0.084           NaN               NaN   \n",
       "\n",
       "     pl_trueobliqerr2  \n",
       "6                 NaN  \n",
       "291               NaN  \n",
       "9                 NaN  \n",
       "292               NaN  \n",
       "1                 NaN  \n",
       "4                 NaN  \n",
       "10                NaN  \n",
       "287               NaN  \n",
       "11                NaN  \n",
       "288               NaN  \n",
       "0                 NaN  \n",
       "2                 NaN  \n",
       "7                 NaN  \n",
       "289               NaN  \n",
       "8                 NaN  \n",
       "290               NaN  \n",
       "\n",
       "[16 rows x 22 columns]"
      ]
     },
     "execution_count": 12,
     "metadata": {},
     "output_type": "execute_result"
    }
   ],
   "source": [
    "len(df.hostname.unique()), len(df.pl_name.unique()), len(df)\n",
    "df[df.duplicated(subset=[\"hostname\", \"pl_name\"], keep=False)].sort_values(\n",
    "    by=[\"hostname\", \"pl_name\"]\n",
    ")"
   ]
  },
  {
   "cell_type": "markdown",
   "metadata": {},
   "source": [
    "Instantiate flags\n"
   ]
  },
  {
   "cell_type": "code",
   "execution_count": 13,
   "metadata": {},
   "outputs": [],
   "source": [
    "df[\"flag\"] = \"0\""
   ]
  },
  {
   "cell_type": "markdown",
   "metadata": {},
   "source": [
    "Solve missing eccentricity values\n"
   ]
  },
  {
   "cell_type": "code",
   "execution_count": 14,
   "metadata": {},
   "outputs": [
    {
     "data": {
      "application/vnd.jupyter.widget-view+json": {
       "model_id": "f2bc63440c5f4bf1a4b3d712e7c88f2b",
       "version_major": 2,
       "version_minor": 0
      },
      "text/plain": [
       "Pandas Apply:   0%|          | 0/2430 [00:00<?, ?it/s]"
      ]
     },
     "metadata": {},
     "output_type": "display_data"
    }
   ],
   "source": [
    "df[\n",
    "    [\n",
    "        \"pl_orbeccen\",\n",
    "        \"pl_orbeccenerr1\",\n",
    "        \"pl_orbeccenerr2\",\n",
    "        \"flag\",\n",
    "    ]\n",
    "] = df.swifter.apply(interp_eccentricity, axis=1)"
   ]
  },
  {
   "cell_type": "markdown",
   "metadata": {},
   "source": [
    "Solve missing planetary mass values\n"
   ]
  },
  {
   "cell_type": "code",
   "execution_count": 15,
   "metadata": {},
   "outputs": [
    {
     "data": {
      "application/vnd.jupyter.widget-view+json": {
       "model_id": "83291f92a05d4b94b0177412c93b8fab",
       "version_major": 2,
       "version_minor": 0
      },
      "text/plain": [
       "Pandas Apply:   0%|          | 0/2430 [00:00<?, ?it/s]"
      ]
     },
     "metadata": {},
     "output_type": "display_data"
    }
   ],
   "source": [
    "df[\n",
    "    [\n",
    "        \"pl_bmasse\",\n",
    "        \"pl_bmasseerr1\",\n",
    "        \"pl_bmasseerr2\",\n",
    "        \"flag\",\n",
    "    ]\n",
    "] = df.swifter.apply(interp_mass, axis=1)"
   ]
  },
  {
   "cell_type": "markdown",
   "metadata": {},
   "source": [
    "Drop columns that are no longer needed\n"
   ]
  },
  {
   "cell_type": "code",
   "execution_count": 16,
   "metadata": {},
   "outputs": [],
   "source": [
    "df = df.drop(columns=[\"pl_rade\", \"pl_radeerr1\", \"pl_radeerr2\"])"
   ]
  },
  {
   "cell_type": "markdown",
   "metadata": {},
   "source": [
    "Remove systems where at least one planet has no mass or semi-major axis (if any)\n"
   ]
  },
  {
   "cell_type": "code",
   "execution_count": 17,
   "metadata": {},
   "outputs": [],
   "source": [
    "mask = (\n",
    "    df.groupby(\"hostname\")[[\"pl_bmasse\", \"pl_orbsmax\"]]\n",
    "    .transform(lambda x: x.isnull().any())\n",
    "    .any(axis=1)\n",
    ")\n",
    "df = df[~mask]"
   ]
  },
  {
   "cell_type": "markdown",
   "metadata": {},
   "source": [
    "Solve missing values in inclinations\n"
   ]
  },
  {
   "cell_type": "code",
   "execution_count": 18,
   "metadata": {},
   "outputs": [
    {
     "data": {
      "application/vnd.jupyter.widget-view+json": {
       "model_id": "4f6b9d7c004144b9bd739fb077da4571",
       "version_major": 2,
       "version_minor": 0
      },
      "text/plain": [
       "Pandas Apply:   0%|          | 0/2208 [00:00<?, ?it/s]"
      ]
     },
     "metadata": {},
     "output_type": "display_data"
    }
   ],
   "source": [
    "df[\n",
    "    [\n",
    "        \"pl_orbincl\",\n",
    "        \"pl_orbinclerr1\",\n",
    "        \"pl_orbinclerr2\",\n",
    "        \"flag\",\n",
    "    ]\n",
    "] = df.swifter.apply(interp_inclination, args=(df,), axis=1)"
   ]
  },
  {
   "cell_type": "markdown",
   "metadata": {},
   "source": [
    "Interpolate missing values in semi-major axis uncertainties\n"
   ]
  },
  {
   "cell_type": "code",
   "execution_count": 19,
   "metadata": {},
   "outputs": [
    {
     "data": {
      "application/vnd.jupyter.widget-view+json": {
       "model_id": "a434170da465418b96bb2fca2eb8aaf7",
       "version_major": 2,
       "version_minor": 0
      },
      "text/plain": [
       "Pandas Apply:   0%|          | 0/2208 [00:00<?, ?it/s]"
      ]
     },
     "metadata": {},
     "output_type": "display_data"
    }
   ],
   "source": [
    "df[\n",
    "    [\n",
    "        \"pl_orbsmaxerr1\",\n",
    "        \"pl_orbsmaxerr2\",\n",
    "        \"flag\",\n",
    "    ]\n",
    "] = df.swifter.apply(interp_sma, axis=1)"
   ]
  },
  {
   "cell_type": "markdown",
   "metadata": {},
   "source": [
    "### Task 6: compute the parameters for the NAMD calculation\n"
   ]
  },
  {
   "cell_type": "markdown",
   "metadata": {},
   "source": [
    "Compute the relative inclination\n"
   ]
  },
  {
   "cell_type": "code",
   "execution_count": 27,
   "metadata": {},
   "outputs": [],
   "source": [
    "df[\n",
    "    [\n",
    "        \"pl_relincl\",\n",
    "        \"pl_relinclerr1\",\n",
    "        \"pl_relinclerr2\",\n",
    "    ]\n",
    "] = df.swifter.apply(solve_relincl, args=(df,), axis=1)"
   ]
  },
  {
   "cell_type": "markdown",
   "metadata": {},
   "source": [
    "Move \"flag\" to last column in dataframe\n"
   ]
  },
  {
   "cell_type": "code",
   "execution_count": 37,
   "metadata": {},
   "outputs": [],
   "source": [
    "cols = df.columns.tolist()\n",
    "cols.remove(\"flag\")\n",
    "df = df[cols + [\"flag\"]]"
   ]
  },
  {
   "cell_type": "markdown",
   "metadata": {},
   "source": [
    "Interpolate missing values in true obliquity\n"
   ]
  },
  {
   "cell_type": "code",
   "execution_count": 28,
   "metadata": {},
   "outputs": [],
   "source": [
    "df[\n",
    "    [\n",
    "        \"pl_trueobliq\",\n",
    "        \"pl_trueobliqerr1\",\n",
    "        \"pl_trueobliqerr2\",\n",
    "        \"flag\",\n",
    "    ]\n",
    "] = df.swifter.apply(interp_trueobliq, args=(df,), axis=1)"
   ]
  },
  {
   "cell_type": "markdown",
   "metadata": {},
   "source": [
    "### Task 7: storing the curated+interpolated database\n"
   ]
  },
  {
   "cell_type": "code",
   "execution_count": 38,
   "metadata": {},
   "outputs": [],
   "source": [
    "df.to_csv(os.path.join(ROOT, \"data\", \"exo_interp.csv\"), index=False)"
   ]
  },
  {
   "cell_type": "code",
   "execution_count": 102,
   "metadata": {},
   "outputs": [],
   "source": [
    "df = pd.read_csv(os.path.join(ROOT, \"data\", \"exo_interp.csv\"))"
   ]
  },
  {
   "cell_type": "code",
   "execution_count": 103,
   "metadata": {},
   "outputs": [],
   "source": [
    "# df[~df[\"flag\"].str.contains(\"5\")]"
   ]
  },
  {
   "cell_type": "markdown",
   "metadata": {},
   "source": [
    "### Task 8: compute the NAMD\n"
   ]
  },
  {
   "cell_type": "markdown",
   "metadata": {},
   "source": [
    "Solve the amd"
   ]
  },
  {
   "cell_type": "code",
   "execution_count": 111,
   "metadata": {},
   "outputs": [],
   "source": [
    "df[\"amd\"] = df.swifter.apply(solve_amd, axis=1)"
   ]
  },
  {
   "cell_type": "markdown",
   "metadata": {},
   "source": []
  }
 ],
 "metadata": {
  "kernelspec": {
   "display_name": "exonamd",
   "language": "python",
   "name": "python3"
  },
  "language_info": {
   "codemirror_mode": {
    "name": "ipython",
    "version": 3
   },
   "file_extension": ".py",
   "mimetype": "text/x-python",
   "name": "python",
   "nbconvert_exporter": "python",
   "pygments_lexer": "ipython3",
   "version": "3.10.14"
  }
 },
 "nbformat": 4,
 "nbformat_minor": 2
}
