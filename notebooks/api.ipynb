{
 "cells": [
  {
   "cell_type": "markdown",
   "metadata": {},
   "source": [
    "# ExoNAMD API v1.0\n"
   ]
  },
  {
   "cell_type": "markdown",
   "metadata": {},
   "source": [
    "## Summary\n",
    "\n",
    "The observer wants to compute the relative and/or absolute NAMD of:\n",
    "\n",
    "- a given multiplanetary system;\n",
    "- a subset of multiplanetary systems;\n",
    "- all the known ones.\n",
    "\n",
    "This tool handles all of the above cases.\n"
   ]
  },
  {
   "cell_type": "code",
   "execution_count": 1,
   "metadata": {},
   "outputs": [],
   "source": [
    "%load_ext autoreload\n",
    "%autoreload 2"
   ]
  },
  {
   "cell_type": "code",
   "execution_count": 2,
   "metadata": {},
   "outputs": [],
   "source": [
    "import os\n",
    "import numpy as np\n",
    "import pandas as pd\n",
    "import swifter\n",
    "import warnings\n",
    "\n",
    "from exonamd.catalog import download_nasa_confirmed_planets\n",
    "from exonamd.utils import ROOT\n",
    "from exonamd.utils import fetch_aliases\n",
    "from exonamd.utils import update_host\n",
    "from exonamd.utils import update_planet\n",
    "from exonamd.solve import solve_values\n",
    "from exonamd.interp import interp_eccentricity\n",
    "from exonamd.interp import interp_mass\n",
    "from exonamd.interp import interp_inclination\n",
    "from exonamd.interp import interp_sma\n",
    "from exonamd.solve import solve_relincl\n",
    "from exonamd.interp import interp_trueobliq\n",
    "from exonamd.utils import groupby_apply_merge\n",
    "from exonamd.solve import solve_namd\n",
    "from exonamd.solve import solve_namd_mc\n",
    "from exonamd.plot import simple_plot\n",
    "from exonamd.plot import pop_plot\n",
    "\n",
    "\n",
    "warnings.filterwarnings(\"ignore\", category=RuntimeWarning, module=\"pandas\")\n",
    "pd.options.display.max_columns = 20\n",
    "pd.options.display.max_rows = 30\n",
    "pd.options.mode.copy_on_write = True\n",
    "swifter.set_defaults(\n",
    "    npartitions=None,\n",
    "    dask_threshold=1,\n",
    "    scheduler=\"processes\",\n",
    "    progress_bar=True,\n",
    "    progress_bar_desc=None,\n",
    "    allow_dask_on_strings=False,\n",
    "    force_parallel=False,\n",
    ")"
   ]
  },
  {
   "cell_type": "markdown",
   "metadata": {},
   "source": [
    "### Task 1: getting the data\n",
    "\n",
    "This task retrieves the parameters of confirmed systems from the NASA Exoplanet Archive database.\n"
   ]
  },
  {
   "cell_type": "code",
   "execution_count": null,
   "metadata": {},
   "outputs": [],
   "source": [
    "df, df_old = download_nasa_confirmed_planets(\n",
    "    sy_pnum=1,\n",
    "    from_scratch=True,\n",
    ")"
   ]
  },
  {
   "cell_type": "markdown",
   "metadata": {},
   "source": [
    "### Task 2: dealing with the aliases\n"
   ]
  },
  {
   "cell_type": "markdown",
   "metadata": {},
   "source": [
    "Fetch aliases\n"
   ]
  },
  {
   "cell_type": "code",
   "execution_count": null,
   "metadata": {},
   "outputs": [],
   "source": [
    "aliases = fetch_aliases(df[\"hostname\"].unique())"
   ]
  },
  {
   "cell_type": "markdown",
   "metadata": {},
   "source": [
    "Curate aliases\n"
   ]
  },
  {
   "cell_type": "code",
   "execution_count": null,
   "metadata": {},
   "outputs": [],
   "source": [
    "df[\"hostname\"] = df.swifter.apply(update_host, args=(aliases,), axis=1)\n",
    "df[\"pl_name\"] = df.swifter.apply(update_planet, args=(aliases,), axis=1)"
   ]
  },
  {
   "cell_type": "markdown",
   "metadata": {},
   "source": [
    "Check consistency of planet names\n"
   ]
  },
  {
   "cell_type": "code",
   "execution_count": null,
   "metadata": {},
   "outputs": [],
   "source": [
    "def check_name(names):\n",
    "    if len(set(name[:3] for name in names)) > 1:\n",
    "        return False\n",
    "    return True\n",
    "\n",
    "\n",
    "name_ok = df.groupby(\"hostname\")[\"pl_name\"].apply(check_name)\n",
    "\n",
    "for hostname in name_ok[~name_ok].index:\n",
    "    print(f\"Inconsistent planet names for {hostname}\")"
   ]
  },
  {
   "cell_type": "markdown",
   "metadata": {},
   "source": [
    "### Task 3: computing missing values (if any) from simple equations\n"
   ]
  },
  {
   "cell_type": "code",
   "execution_count": null,
   "metadata": {},
   "outputs": [],
   "source": [
    "df[\n",
    "    [\n",
    "        \"pl_orbsmax\",\n",
    "        \"pl_ratdor\",\n",
    "        \"st_rad\",\n",
    "        \"pl_rade\",\n",
    "        \"pl_ratror\",\n",
    "        \"pl_orbper\",\n",
    "        \"st_mass\",\n",
    "    ]\n",
    "] = df.swifter.apply(solve_values, axis=1)"
   ]
  },
  {
   "cell_type": "markdown",
   "metadata": {},
   "source": [
    "### Task 4: storing the curated database\n"
   ]
  },
  {
   "cell_type": "code",
   "execution_count": null,
   "metadata": {},
   "outputs": [],
   "source": [
    "if df_old is not None:\n",
    "    df = pd.concat([df.copy(), df_old], ignore_index=True)\n",
    "    df = df.drop_duplicates(keep=\"last\")\n",
    "    df.reset_index(drop=True)\n",
    "\n",
    "df.to_csv(os.path.join(ROOT, \"data\", \"exo.csv\"), index=False)"
   ]
  },
  {
   "cell_type": "code",
   "execution_count": null,
   "metadata": {},
   "outputs": [],
   "source": [
    "df = pd.read_csv(os.path.join(ROOT, \"data\", \"exo.csv\"))"
   ]
  },
  {
   "cell_type": "markdown",
   "metadata": {},
   "source": [
    "Drop columns that are no longer needed\n"
   ]
  },
  {
   "cell_type": "code",
   "execution_count": null,
   "metadata": {},
   "outputs": [],
   "source": [
    "df.drop(\n",
    "    columns=[\n",
    "        \"pl_ratdor\",\n",
    "        \"st_rad\",\n",
    "        \"pl_ratror\",\n",
    "        \"pl_orbper\",\n",
    "        \"st_mass\",\n",
    "    ],\n",
    "    inplace=True,\n",
    ")"
   ]
  },
  {
   "cell_type": "markdown",
   "metadata": {},
   "source": [
    "### Task 5: input missing values (if any) by interpolation\n"
   ]
  },
  {
   "cell_type": "markdown",
   "metadata": {},
   "source": [
    "Use nanmedian to thin down the data\n"
   ]
  },
  {
   "cell_type": "code",
   "execution_count": null,
   "metadata": {},
   "outputs": [],
   "source": [
    "cols = [\n",
    "    c\n",
    "    for c in df.columns\n",
    "    if c not in [\"hostname\", \"pl_name\", \"default_flag\", \"rowupdate\"]\n",
    "]\n",
    "\n",
    "medians = df.groupby(\"pl_name\")[cols].transform(np.nanmedian)\n",
    "df.loc[df[\"default_flag\"] == 1, cols] = medians.loc[df[\"default_flag\"] == 1]\n",
    "df = df[df[\"default_flag\"] == 1]\n",
    "df.drop(columns=\"default_flag\", inplace=True)"
   ]
  },
  {
   "cell_type": "markdown",
   "metadata": {},
   "source": [
    "Check presence of duplicates (if any)\n"
   ]
  },
  {
   "cell_type": "code",
   "execution_count": null,
   "metadata": {},
   "outputs": [],
   "source": [
    "df[df.duplicated(subset=[\"hostname\", \"pl_name\"], keep=False)].sort_values(\n",
    "    by=[\"hostname\", \"pl_name\"]\n",
    ")"
   ]
  },
  {
   "cell_type": "markdown",
   "metadata": {},
   "source": [
    "Instantiate flags\n"
   ]
  },
  {
   "cell_type": "code",
   "execution_count": null,
   "metadata": {},
   "outputs": [],
   "source": [
    "df[\"flag\"] = \"0\""
   ]
  },
  {
   "cell_type": "markdown",
   "metadata": {},
   "source": [
    "Solve missing eccentricity values\n"
   ]
  },
  {
   "cell_type": "code",
   "execution_count": null,
   "metadata": {},
   "outputs": [],
   "source": [
    "df[\n",
    "    [\n",
    "        \"pl_orbeccen\",\n",
    "        \"pl_orbeccenerr1\",\n",
    "        \"pl_orbeccenerr2\",\n",
    "        \"flag\",\n",
    "    ]\n",
    "] = df.swifter.apply(interp_eccentricity, axis=1)"
   ]
  },
  {
   "cell_type": "markdown",
   "metadata": {},
   "source": [
    "Solve missing planetary mass values\n"
   ]
  },
  {
   "cell_type": "code",
   "execution_count": null,
   "metadata": {},
   "outputs": [],
   "source": [
    "df[\n",
    "    [\n",
    "        \"pl_bmasse\",\n",
    "        \"pl_bmasseerr1\",\n",
    "        \"pl_bmasseerr2\",\n",
    "        \"flag\",\n",
    "    ]\n",
    "] = df.swifter.apply(interp_mass, axis=1)"
   ]
  },
  {
   "cell_type": "markdown",
   "metadata": {},
   "source": [
    "Drop columns that are no longer needed\n"
   ]
  },
  {
   "cell_type": "code",
   "execution_count": null,
   "metadata": {},
   "outputs": [],
   "source": [
    "df.drop(columns=[\"pl_rade\", \"pl_radeerr1\", \"pl_radeerr2\"], inplace=True)"
   ]
  },
  {
   "cell_type": "markdown",
   "metadata": {},
   "source": [
    "Remove systems where at least one planet has no mass or semi-major axis (if any)\n"
   ]
  },
  {
   "cell_type": "code",
   "execution_count": null,
   "metadata": {},
   "outputs": [],
   "source": [
    "mask = (\n",
    "    df.groupby(\"hostname\")[[\"pl_bmasse\", \"pl_orbsmax\"]]\n",
    "    .transform(lambda x: x.isnull().any())\n",
    "    .any(axis=1)\n",
    ")\n",
    "df = df[~mask]"
   ]
  },
  {
   "cell_type": "markdown",
   "metadata": {},
   "source": [
    "Solve missing values in inclinations\n"
   ]
  },
  {
   "cell_type": "code",
   "execution_count": null,
   "metadata": {},
   "outputs": [],
   "source": [
    "df[\n",
    "    [\n",
    "        \"pl_orbincl\",\n",
    "        \"pl_orbinclerr1\",\n",
    "        \"pl_orbinclerr2\",\n",
    "        \"flag\",\n",
    "    ]\n",
    "] = df.swifter.apply(interp_inclination, args=(df,), axis=1)"
   ]
  },
  {
   "cell_type": "markdown",
   "metadata": {},
   "source": [
    "Interpolate missing values in semi-major axis uncertainties\n"
   ]
  },
  {
   "cell_type": "code",
   "execution_count": null,
   "metadata": {},
   "outputs": [],
   "source": [
    "df[\n",
    "    [\n",
    "        \"pl_orbsmaxerr1\",\n",
    "        \"pl_orbsmaxerr2\",\n",
    "        \"flag\",\n",
    "    ]\n",
    "] = df.swifter.apply(interp_sma, axis=1)"
   ]
  },
  {
   "cell_type": "markdown",
   "metadata": {},
   "source": [
    "### Task 6: compute the parameters for the NAMD calculation\n"
   ]
  },
  {
   "cell_type": "markdown",
   "metadata": {},
   "source": [
    "Compute the relative inclination\n"
   ]
  },
  {
   "cell_type": "code",
   "execution_count": null,
   "metadata": {},
   "outputs": [],
   "source": [
    "df[\n",
    "    [\n",
    "        \"pl_relincl\",\n",
    "        \"pl_relinclerr1\",\n",
    "        \"pl_relinclerr2\",\n",
    "    ]\n",
    "] = df.swifter.apply(solve_relincl, args=(df,), axis=1)"
   ]
  },
  {
   "cell_type": "markdown",
   "metadata": {},
   "source": [
    "Interpolate missing values in true obliquity\n"
   ]
  },
  {
   "cell_type": "code",
   "execution_count": null,
   "metadata": {},
   "outputs": [],
   "source": [
    "df[\n",
    "    [\n",
    "        \"pl_trueobliq\",\n",
    "        \"pl_trueobliqerr1\",\n",
    "        \"pl_trueobliqerr2\",\n",
    "        \"flag\",\n",
    "    ]\n",
    "] = df.swifter.apply(interp_trueobliq, args=(df,), axis=1)"
   ]
  },
  {
   "cell_type": "markdown",
   "metadata": {},
   "source": [
    "### Task 7: storing the curated+interpolated database\n"
   ]
  },
  {
   "cell_type": "code",
   "execution_count": null,
   "metadata": {},
   "outputs": [],
   "source": [
    "df.to_csv(os.path.join(ROOT, \"data\", \"exo_interp.csv\"), index=False)"
   ]
  },
  {
   "cell_type": "code",
   "execution_count": null,
   "metadata": {},
   "outputs": [],
   "source": [
    "df = pd.read_csv(os.path.join(ROOT, \"data\", \"exo_interp.csv\"))\n",
    "df.drop(columns=[\"pl_orbincl\", \"pl_orbinclerr1\", \"pl_orbinclerr2\"], inplace=True)"
   ]
  },
  {
   "cell_type": "markdown",
   "metadata": {},
   "source": [
    "### Task 8: computing the NAMD\n"
   ]
  },
  {
   "cell_type": "markdown",
   "metadata": {},
   "source": [
    "Solve the relative and absolute namd\n"
   ]
  },
  {
   "cell_type": "code",
   "execution_count": null,
   "metadata": {},
   "outputs": [],
   "source": [
    "df = groupby_apply_merge(\n",
    "    df,\n",
    "    \"hostname\",\n",
    "    solve_namd,\n",
    "    kind=\"rel\",\n",
    "    allow_overwrite=True,\n",
    ")\n",
    "\n",
    "df = groupby_apply_merge(\n",
    "    df,\n",
    "    \"hostname\",\n",
    "    solve_namd,\n",
    "    kind=\"abs\",\n",
    "    allow_overwrite=True,\n",
    ")"
   ]
  },
  {
   "cell_type": "code",
   "execution_count": null,
   "metadata": {},
   "outputs": [],
   "source": [
    "_ = (\n",
    "    df.groupby(\"hostname\")[[\"namd_rel\", \"namd_abs\"]]\n",
    "    .transform(\"mean\")\n",
    "    .plot(kind=\"scatter\", x=\"namd_rel\", y=\"namd_abs\", loglog=True)\n",
    ")"
   ]
  },
  {
   "cell_type": "code",
   "execution_count": null,
   "metadata": {},
   "outputs": [],
   "source": [
    "_ = (\n",
    "    df.groupby(\"hostname\")[[\"sy_pnum\", \"namd_rel\"]]\n",
    "    .mean()\n",
    "    .reset_index()\n",
    "    .plot(kind=\"scatter\", x=\"sy_pnum\", y=\"namd_rel\", logy=True, title=\"Full sample\")\n",
    ")"
   ]
  },
  {
   "cell_type": "markdown",
   "metadata": {},
   "source": [
    "Core sample\n"
   ]
  },
  {
   "cell_type": "code",
   "execution_count": null,
   "metadata": {},
   "outputs": [],
   "source": [
    "core_flags = [\"0\", \"05+\", \"05-\", \"05+-\"]\n",
    "df_core = df.groupby(\"hostname\").filter(lambda x: all(x[\"flag\"].isin(core_flags)))"
   ]
  },
  {
   "cell_type": "code",
   "execution_count": null,
   "metadata": {},
   "outputs": [],
   "source": [
    "_ = (\n",
    "    df_core.groupby(\"hostname\")[[\"sy_pnum\", \"namd_rel\"]]\n",
    "    .transform(\"mean\")\n",
    "    .plot(kind=\"scatter\", x=\"sy_pnum\", y=\"namd_rel\", logy=True, title=\"Core sample\")\n",
    ")"
   ]
  },
  {
   "cell_type": "markdown",
   "metadata": {},
   "source": [
    "### Task 9: computing the NAMD and associated confidence intervals\n"
   ]
  },
  {
   "cell_type": "code",
   "execution_count": null,
   "metadata": {},
   "outputs": [],
   "source": [
    "Npt = 200000\n",
    "threshold = 100"
   ]
  },
  {
   "cell_type": "code",
   "execution_count": null,
   "metadata": {},
   "outputs": [],
   "source": [
    "df_core = groupby_apply_merge(\n",
    "    df_core,\n",
    "    \"hostname\",\n",
    "    solve_namd_mc,\n",
    "    kind=\"rel\",\n",
    "    Npt=Npt,\n",
    "    threshold=threshold,\n",
    "    allow_overwrite=True,\n",
    ")\n",
    "\n",
    "df_core = groupby_apply_merge(\n",
    "    df_core,\n",
    "    \"hostname\",\n",
    "    solve_namd_mc,\n",
    "    kind=\"abs\",\n",
    "    Npt=Npt,\n",
    "    threshold=threshold,\n",
    "    allow_overwrite=True,\n",
    ")"
   ]
  },
  {
   "cell_type": "code",
   "execution_count": null,
   "metadata": {},
   "outputs": [],
   "source": [
    "_ = (\n",
    "    df_core.groupby(\"hostname\")[[\"namd_rel_q50\", \"namd_abs_q50\"]]\n",
    "    .transform(\"mean\")\n",
    "    .plot(kind=\"scatter\", x=\"namd_rel_q50\", y=\"namd_abs_q50\", loglog=True)\n",
    ")"
   ]
  },
  {
   "cell_type": "code",
   "execution_count": null,
   "metadata": {},
   "outputs": [],
   "source": [
    "df_core.to_csv(os.path.join(ROOT, \"data\", \"exo_namd.csv\"), index=False)"
   ]
  },
  {
   "cell_type": "code",
   "execution_count": 5,
   "metadata": {},
   "outputs": [],
   "source": [
    "df_core = pd.read_csv(os.path.join(ROOT, \"data\", \"exo_namd.csv\"))"
   ]
  },
  {
   "cell_type": "markdown",
   "metadata": {},
   "source": [
    "### Some plots\n"
   ]
  },
  {
   "cell_type": "code",
   "execution_count": 6,
   "metadata": {},
   "outputs": [
    {
     "data": {
      "image/png": "[encoded data removed]",
      "text/plain": [
       "<Figure size 640x480 with 2 Axes>"
      ]
     },
     "metadata": {},
     "output_type": "display_data"
    }
   ],
   "source": [
    "pop_plot(\n",
    "    df=df_core.groupby(\"hostname\").apply(\n",
    "        lambda g: g.select_dtypes(exclude=[\"object\"]).mean(),\n",
    "        include_groups=False,\n",
    "    ),\n",
    "    kind=\"rel\",\n",
    "    title=\"Core planets\",\n",
    "    which=\"namd\",\n",
    "    yscale=\"log\",\n",
    "    xoffs=True,\n",
    ")"
   ]
  },
  {
   "cell_type": "code",
   "execution_count": 7,
   "metadata": {},
   "outputs": [
    {
     "ename": "NameError",
     "evalue": "name 'Npt' is not defined",
     "output_type": "error",
     "traceback": [
      "\u001b[0;31m---------------------------------------------------------------------------\u001b[0m",
      "\u001b[0;31mNameError\u001b[0m                                 Traceback (most recent call last)",
      "Cell \u001b[0;32mIn[7], line 7\u001b[0m\n\u001b[1;32m      1\u001b[0m hostname \u001b[38;5;241m=\u001b[39m \u001b[38;5;124m\"\u001b[39m\u001b[38;5;124mTRAPPIST-1\u001b[39m\u001b[38;5;124m\"\u001b[39m\n\u001b[1;32m      2\u001b[0m host \u001b[38;5;241m=\u001b[39m df_core[df_core[\u001b[38;5;124m\"\u001b[39m\u001b[38;5;124mhostname\u001b[39m\u001b[38;5;124m\"\u001b[39m] \u001b[38;5;241m==\u001b[39m hostname]\n\u001b[1;32m      4\u001b[0m retval \u001b[38;5;241m=\u001b[39m solve_namd_mc(\n\u001b[1;32m      5\u001b[0m     host\u001b[38;5;241m=\u001b[39mhost,\n\u001b[1;32m      6\u001b[0m     kind\u001b[38;5;241m=\u001b[39m\u001b[38;5;124m\"\u001b[39m\u001b[38;5;124mrel\u001b[39m\u001b[38;5;124m\"\u001b[39m,\n\u001b[0;32m----> 7\u001b[0m     Npt\u001b[38;5;241m=\u001b[39m\u001b[43mNpt\u001b[49m,\n\u001b[1;32m      8\u001b[0m     threshold\u001b[38;5;241m=\u001b[39mthreshold,\n\u001b[1;32m      9\u001b[0m     full\u001b[38;5;241m=\u001b[39m\u001b[38;5;28;01mTrue\u001b[39;00m,\n\u001b[1;32m     10\u001b[0m )\n\u001b[1;32m     12\u001b[0m simple_plot(\n\u001b[1;32m     13\u001b[0m     df\u001b[38;5;241m=\u001b[39mretval,\n\u001b[1;32m     14\u001b[0m     kind\u001b[38;5;241m=\u001b[39m\u001b[38;5;124m\"\u001b[39m\u001b[38;5;124mrel\u001b[39m\u001b[38;5;124m\"\u001b[39m,\n\u001b[0;32m   (...)\u001b[0m\n\u001b[1;32m     17\u001b[0m     scale\u001b[38;5;241m=\u001b[39m\u001b[38;5;124m\"\u001b[39m\u001b[38;5;124mlog\u001b[39m\u001b[38;5;124m\"\u001b[39m,\n\u001b[1;32m     18\u001b[0m )\n",
      "\u001b[0;31mNameError\u001b[0m: name 'Npt' is not defined"
     ]
    }
   ],
   "source": [
    "hostname = \"TRAPPIST-1\"\n",
    "host = df_core[df_core[\"hostname\"] == hostname]\n",
    "\n",
    "retval = solve_namd_mc(\n",
    "    host=host,\n",
    "    kind=\"rel\",\n",
    "    Npt=Npt,\n",
    "    threshold=threshold,\n",
    "    full=True,\n",
    ")\n",
    "\n",
    "simple_plot(\n",
    "    df=retval,\n",
    "    kind=\"rel\",\n",
    "    title=hostname,\n",
    "    which=\"namd\",\n",
    "    scale=\"log\",\n",
    ")"
   ]
  },
  {
   "cell_type": "code",
   "execution_count": 8,
   "metadata": {},
   "outputs": [
    {
     "ename": "NameError",
     "evalue": "name 'Npt' is not defined",
     "output_type": "error",
     "traceback": [
      "\u001b[0;31m---------------------------------------------------------------------------\u001b[0m",
      "\u001b[0;31mNameError\u001b[0m                                 Traceback (most recent call last)",
      "Cell \u001b[0;32mIn[8], line 4\u001b[0m\n\u001b[1;32m      1\u001b[0m retval \u001b[38;5;241m=\u001b[39m solve_namd_mc(\n\u001b[1;32m      2\u001b[0m     host\u001b[38;5;241m=\u001b[39mhost,\n\u001b[1;32m      3\u001b[0m     kind\u001b[38;5;241m=\u001b[39m\u001b[38;5;124m\"\u001b[39m\u001b[38;5;124mabs\u001b[39m\u001b[38;5;124m\"\u001b[39m,\n\u001b[0;32m----> 4\u001b[0m     Npt\u001b[38;5;241m=\u001b[39m\u001b[43mNpt\u001b[49m,\n\u001b[1;32m      5\u001b[0m     threshold\u001b[38;5;241m=\u001b[39mthreshold,\n\u001b[1;32m      6\u001b[0m     full\u001b[38;5;241m=\u001b[39m\u001b[38;5;28;01mTrue\u001b[39;00m,\n\u001b[1;32m      7\u001b[0m )\n\u001b[1;32m      9\u001b[0m simple_plot(\n\u001b[1;32m     10\u001b[0m     df\u001b[38;5;241m=\u001b[39mretval,\n\u001b[1;32m     11\u001b[0m     kind\u001b[38;5;241m=\u001b[39m\u001b[38;5;124m\"\u001b[39m\u001b[38;5;124mabs\u001b[39m\u001b[38;5;124m\"\u001b[39m,\n\u001b[0;32m   (...)\u001b[0m\n\u001b[1;32m     14\u001b[0m     scale\u001b[38;5;241m=\u001b[39m\u001b[38;5;124m\"\u001b[39m\u001b[38;5;124mlog\u001b[39m\u001b[38;5;124m\"\u001b[39m,\n\u001b[1;32m     15\u001b[0m )\n",
      "\u001b[0;31mNameError\u001b[0m: name 'Npt' is not defined"
     ]
    }
   ],
   "source": [
    "retval = solve_namd_mc(\n",
    "    host=host,\n",
    "    kind=\"abs\",\n",
    "    Npt=Npt,\n",
    "    threshold=threshold,\n",
    "    full=True,\n",
    ")\n",
    "\n",
    "simple_plot(\n",
    "    df=retval,\n",
    "    kind=\"abs\",\n",
    "    title=hostname,\n",
    "    which=\"namd\",\n",
    "    scale=\"log\",\n",
    ")"
   ]
  },
  {
   "cell_type": "code",
   "execution_count": null,
   "metadata": {},
   "outputs": [],
   "source": []
  }
 ],
 "metadata": {
  "kernelspec": {
   "display_name": "exonamd",
   "language": "python",
   "name": "python3"
  },
  "language_info": {
   "codemirror_mode": {
    "name": "ipython",
    "version": 3
   },
   "file_extension": ".py",
   "mimetype": "text/x-python",
   "name": "python",
   "nbconvert_exporter": "python",
   "pygments_lexer": "ipython3",
   "version": "3.10.14"
  }
 },
 "nbformat": 4,
 "nbformat_minor": 2
}
