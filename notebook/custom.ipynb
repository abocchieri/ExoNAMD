{
 "cells": [
  {
   "cell_type": "code",
   "execution_count": 636,
   "metadata": {},
   "outputs": [],
   "source": [
    "import os\n",
    "import numpy as np\n",
    "import pandas as pd\n",
    "import swifter\n",
    "import warnings\n",
    "from loguru import logger\n",
    "\n",
    "from exonamd.catalog import download_nasa_confirmed_planets\n",
    "from exonamd.utils import ROOT\n",
    "from exonamd.utils import fetch_aliases\n",
    "from exonamd.utils import update_host\n",
    "from exonamd.utils import update_planet\n",
    "from exonamd.utils import check_name\n",
    "from exonamd.solve import solve_values\n",
    "from exonamd.interp import interp_eccentricity\n",
    "from exonamd.interp import interp_mass\n",
    "from exonamd.interp import interp_inclination\n",
    "from exonamd.interp import interp_sma\n",
    "from exonamd.solve import solve_relincl\n",
    "from exonamd.interp import interp_trueobliq\n",
    "from exonamd.utils import groupby_apply_merge\n",
    "from exonamd.solve import solve_namd\n",
    "from exonamd.solve import solve_namd_mc\n",
    "from exonamd.plot import plot_host_namd\n",
    "from exonamd.plot import pop_plot\n",
    "\n",
    "\n",
    "warnings.filterwarnings(\"ignore\")\n",
    "pd.options.display.max_columns = 20\n",
    "pd.options.display.max_rows = 30\n",
    "pd.options.mode.copy_on_write = True\n",
    "swifter.set_defaults(\n",
    "    npartitions=None,\n",
    "    dask_threshold=1,\n",
    "    scheduler=\"processes\",\n",
    "    progress_bar=True,\n",
    "    progress_bar_desc=None,\n",
    "    allow_dask_on_strings=False,\n",
    "    force_parallel=False,\n",
    ")"
   ]
  },
  {
   "cell_type": "code",
   "execution_count": 637,
   "metadata": {},
   "outputs": [],
   "source": [
    "# fetch_aliases([\"Kepler-90\"])"
   ]
  },
  {
   "cell_type": "code",
   "execution_count": 638,
   "metadata": {},
   "outputs": [
    {
     "name": "stdout",
     "output_type": "stream",
     "text": [
      "The autoreload extension is already loaded. To reload it, use:\n",
      "  %reload_ext autoreload\n"
     ]
    }
   ],
   "source": [
    "%load_ext autoreload\n",
    "%autoreload 2"
   ]
  },
  {
   "cell_type": "code",
   "execution_count": 639,
   "metadata": {},
   "outputs": [],
   "source": [
    "df = pd.read_csv(\n",
    "    os.path.join('../exonamd', \"data\", \"custom_db_20241227_plus_famous.csv\"),\n",
    ")"
   ]
  },
  {
   "cell_type": "markdown",
   "metadata": {},
   "source": [
    "### Task 3: computing missing values (if any) from simple relations\n"
   ]
  },
  {
   "cell_type": "code",
   "execution_count": 640,
   "metadata": {},
   "outputs": [
    {
     "name": "stderr",
     "output_type": "stream",
     "text": [
      "\u001b[32m2024-12-27 17:04:59.571\u001b[0m | \u001b[1mINFO    \u001b[0m | \u001b[36m__main__\u001b[0m:\u001b[36m<module>\u001b[0m:\u001b[36m1\u001b[0m - \u001b[1mComputing missing values from simple relations\u001b[0m\n"
     ]
    },
    {
     "data": {
      "application/vnd.jupyter.widget-view+json": {
       "model_id": "56727792b12848ed98849640719daed0",
       "version_major": 2,
       "version_minor": 0
      },
      "text/plain": [
       "Pandas Apply:   0%|          | 0/72 [00:00<?, ?it/s]"
      ]
     },
     "metadata": {},
     "output_type": "display_data"
    },
    {
     "name": "stderr",
     "output_type": "stream",
     "text": [
      "\u001b[32m2024-12-27 17:04:59.667\u001b[0m | \u001b[1mINFO    \u001b[0m | \u001b[36m__main__\u001b[0m:\u001b[36m<module>\u001b[0m:\u001b[36m13\u001b[0m - \u001b[1mMissing values computed\u001b[0m\n"
     ]
    }
   ],
   "source": [
    "logger.info(\"Computing missing values from simple relations\")\n",
    "df[\n",
    "    [\n",
    "        \"pl_orbsmax\",\n",
    "        \"pl_ratdor\",\n",
    "        \"st_rad\",\n",
    "        \"pl_rade\",\n",
    "        \"pl_ratror\",\n",
    "        \"pl_orbper\",\n",
    "        \"st_mass\",\n",
    "    ]\n",
    "] = df.swifter.apply(solve_values, axis=1)\n",
    "logger.info(\"Missing values computed\")"
   ]
  },
  {
   "cell_type": "code",
   "execution_count": null,
   "metadata": {},
   "outputs": [],
   "source": []
  },
  {
   "cell_type": "markdown",
   "metadata": {},
   "source": [
    "### Task 4: storing the curated database\n"
   ]
  },
  {
   "cell_type": "markdown",
   "metadata": {},
   "source": [
    "Drop columns that are no longer needed\n"
   ]
  },
  {
   "cell_type": "code",
   "execution_count": 641,
   "metadata": {},
   "outputs": [
    {
     "name": "stderr",
     "output_type": "stream",
     "text": [
      "\u001b[32m2024-12-27 17:04:59.738\u001b[0m | \u001b[34m\u001b[1mDEBUG   \u001b[0m | \u001b[36m__main__\u001b[0m:\u001b[36m<module>\u001b[0m:\u001b[36m1\u001b[0m - \u001b[34m\u001b[1mDropping columns that are no longer needed\u001b[0m\n",
      "\u001b[32m2024-12-27 17:04:59.741\u001b[0m | \u001b[34m\u001b[1mDEBUG   \u001b[0m | \u001b[36m__main__\u001b[0m:\u001b[36m<module>\u001b[0m:\u001b[36m12\u001b[0m - \u001b[34m\u001b[1mColumns dropped\u001b[0m\n"
     ]
    }
   ],
   "source": [
    "logger.debug(\"Dropping columns that are no longer needed\")\n",
    "df.drop(\n",
    "    columns=[\n",
    "        \"pl_ratdor\",\n",
    "        \"st_rad\",\n",
    "        \"pl_ratror\",\n",
    "        \"pl_orbper\",\n",
    "        \"st_mass\",\n",
    "    ],\n",
    "    inplace=True,\n",
    ")\n",
    "logger.debug(\"Columns dropped\")"
   ]
  },
  {
   "cell_type": "code",
   "execution_count": 642,
   "metadata": {},
   "outputs": [
    {
     "name": "stderr",
     "output_type": "stream",
     "text": [
      "\u001b[32m2024-12-27 17:04:59.814\u001b[0m | \u001b[1mINFO    \u001b[0m | \u001b[36m__main__\u001b[0m:\u001b[36m<module>\u001b[0m:\u001b[36m1\u001b[0m - \u001b[1mStoring the curated database\u001b[0m\n",
      "\u001b[32m2024-12-27 17:04:59.819\u001b[0m | \u001b[1mINFO    \u001b[0m | \u001b[36m__main__\u001b[0m:\u001b[36m<module>\u001b[0m:\u001b[36m5\u001b[0m - \u001b[1mDatabase stored at /export/NAS/ariel/users/andrea.bocchieri/.local/lib/python3.10/site-packages/exonamd/data/exo_custom_db_20241227_plus_famous.csv\u001b[0m\n"
     ]
    }
   ],
   "source": [
    "logger.info(\"Storing the curated database\")\n",
    "\n",
    "out_path = os.path.join(ROOT, \"data\", \"exo_custom_db_20241227_plus_famous.csv\")\n",
    "df.to_csv(out_path, index=False)\n",
    "logger.info(f\"Database stored at {out_path}\")"
   ]
  },
  {
   "cell_type": "code",
   "execution_count": null,
   "metadata": {},
   "outputs": [],
   "source": []
  },
  {
   "cell_type": "markdown",
   "metadata": {},
   "source": [
    "### Task 5: input missing values (if any) by interpolation\n"
   ]
  },
  {
   "cell_type": "markdown",
   "metadata": {},
   "source": [
    "Use nanmedian to thin down the data\n"
   ]
  },
  {
   "cell_type": "code",
   "execution_count": 643,
   "metadata": {},
   "outputs": [
    {
     "name": "stderr",
     "output_type": "stream",
     "text": [
      "\u001b[32m2024-12-27 17:04:59.893\u001b[0m | \u001b[1mINFO    \u001b[0m | \u001b[36m__main__\u001b[0m:\u001b[36m<module>\u001b[0m:\u001b[36m1\u001b[0m - \u001b[1mThinning down the data with nanmedian\u001b[0m\n"
     ]
    },
    {
     "name": "stderr",
     "output_type": "stream",
     "text": [
      "\u001b[32m2024-12-27 17:04:59.908\u001b[0m | \u001b[1mINFO    \u001b[0m | \u001b[36m__main__\u001b[0m:\u001b[36m<module>\u001b[0m:\u001b[36m6\u001b[0m - \u001b[1mData thinned down\u001b[0m\n"
     ]
    }
   ],
   "source": [
    "logger.info(\"Thinning down the data with nanmedian\")\n",
    "cols = df.columns.difference([\"hostname\", \"pl_name\", \"default_flag\", \"rowupdate\"])\n",
    "medians = df.groupby(\"pl_name\")[cols].transform(np.nanmedian)\n",
    "df.loc[df[\"default_flag\"] == 1, cols] = medians.loc[df[\"default_flag\"] == 1]\n",
    "df = df[df[\"default_flag\"] == 1].drop(columns=\"default_flag\")\n",
    "logger.info(\"Data thinned down\")"
   ]
  },
  {
   "cell_type": "markdown",
   "metadata": {},
   "source": [
    "Check presence of duplicates (if any)\n"
   ]
  },
  {
   "cell_type": "code",
   "execution_count": 644,
   "metadata": {},
   "outputs": [
    {
     "name": "stderr",
     "output_type": "stream",
     "text": [
      "\u001b[32m2024-12-27 17:05:00.010\u001b[0m | \u001b[1mINFO    \u001b[0m | \u001b[36m__main__\u001b[0m:\u001b[36m<module>\u001b[0m:\u001b[36m1\u001b[0m - \u001b[1mChecking for duplicates\u001b[0m\n"
     ]
    },
    {
     "name": "stderr",
     "output_type": "stream",
     "text": [
      "\u001b[32m2024-12-27 17:05:00.014\u001b[0m | \u001b[1mINFO    \u001b[0m | \u001b[36m__main__\u001b[0m:\u001b[36m<module>\u001b[0m:\u001b[36m9\u001b[0m - \u001b[1mNo duplicates found\u001b[0m\n"
     ]
    }
   ],
   "source": [
    "logger.info(\"Checking for duplicates\")\n",
    "dp = df[df.duplicated(subset=[\"hostname\", \"pl_name\"], keep=False)].sort_values(\n",
    "    by=[\"hostname\", \"pl_name\"]\n",
    ")\n",
    "\n",
    "if len(dp) > 0:\n",
    "    logger.error(f\"Duplicated rows for {dp['hostname'].unique()}\")\n",
    "    raise ValueError(f\"Duplicated rows for {dp['hostname'].unique()}\")\n",
    "logger.info(\"No duplicates found\")"
   ]
  },
  {
   "cell_type": "markdown",
   "metadata": {},
   "source": [
    "Instantiate flags\n"
   ]
  },
  {
   "cell_type": "code",
   "execution_count": 645,
   "metadata": {},
   "outputs": [
    {
     "name": "stderr",
     "output_type": "stream",
     "text": [
      "\u001b[32m2024-12-27 17:05:00.069\u001b[0m | \u001b[1mINFO    \u001b[0m | \u001b[36m__main__\u001b[0m:\u001b[36m<module>\u001b[0m:\u001b[36m1\u001b[0m - \u001b[1mInstantiating the flags\u001b[0m\n",
      "\u001b[32m2024-12-27 17:05:00.071\u001b[0m | \u001b[1mINFO    \u001b[0m | \u001b[36m__main__\u001b[0m:\u001b[36m<module>\u001b[0m:\u001b[36m3\u001b[0m - \u001b[1mFlags instantiated\u001b[0m\n"
     ]
    }
   ],
   "source": [
    "logger.info(\"Instantiating the flags\")\n",
    "df[\"flag\"] = \"0\"\n",
    "logger.info(\"Flags instantiated\")"
   ]
  },
  {
   "cell_type": "markdown",
   "metadata": {},
   "source": [
    "Solve missing eccentricity values\n"
   ]
  },
  {
   "cell_type": "code",
   "execution_count": 646,
   "metadata": {},
   "outputs": [
    {
     "name": "stderr",
     "output_type": "stream",
     "text": [
      "\u001b[32m2024-12-27 17:05:00.184\u001b[0m | \u001b[1mINFO    \u001b[0m | \u001b[36m__main__\u001b[0m:\u001b[36m<module>\u001b[0m:\u001b[36m1\u001b[0m - \u001b[1mInterpolating missing eccentricity values\u001b[0m\n"
     ]
    },
    {
     "data": {
      "application/vnd.jupyter.widget-view+json": {
       "model_id": "82bcf5b618474d2fae6650ff16ec1161",
       "version_major": 2,
       "version_minor": 0
      },
      "text/plain": [
       "Pandas Apply:   0%|          | 0/72 [00:00<?, ?it/s]"
      ]
     },
     "metadata": {},
     "output_type": "display_data"
    },
    {
     "name": "stderr",
     "output_type": "stream",
     "text": [
      "\u001b[32m2024-12-27 17:05:00.240\u001b[0m | \u001b[1mINFO    \u001b[0m | \u001b[36m__main__\u001b[0m:\u001b[36m<module>\u001b[0m:\u001b[36m10\u001b[0m - \u001b[1mValues interpolated\u001b[0m\n"
     ]
    }
   ],
   "source": [
    "logger.info(\"Interpolating missing eccentricity values\")\n",
    "df[\n",
    "    [\n",
    "        \"pl_orbeccen\",\n",
    "        \"pl_orbeccenerr1\",\n",
    "        \"pl_orbeccenerr2\",\n",
    "        \"flag\",\n",
    "    ]\n",
    "] = df.swifter.apply(interp_eccentricity, axis=1)\n",
    "logger.info(\"Values interpolated\")"
   ]
  },
  {
   "cell_type": "markdown",
   "metadata": {},
   "source": [
    "Solve missing planetary mass values\n"
   ]
  },
  {
   "cell_type": "code",
   "execution_count": 647,
   "metadata": {},
   "outputs": [
    {
     "name": "stderr",
     "output_type": "stream",
     "text": [
      "\u001b[32m2024-12-27 17:05:00.304\u001b[0m | \u001b[1mINFO    \u001b[0m | \u001b[36m__main__\u001b[0m:\u001b[36m<module>\u001b[0m:\u001b[36m1\u001b[0m - \u001b[1mInterpolating missing planetary mass values\u001b[0m\n"
     ]
    },
    {
     "data": {
      "application/vnd.jupyter.widget-view+json": {
       "model_id": "7a9e21756f0f4f328dc0de6b93f9f87f",
       "version_major": 2,
       "version_minor": 0
      },
      "text/plain": [
       "Pandas Apply:   0%|          | 0/72 [00:00<?, ?it/s]"
      ]
     },
     "metadata": {},
     "output_type": "display_data"
    },
    {
     "name": "stderr",
     "output_type": "stream",
     "text": [
      "\u001b[32m2024-12-27 17:05:02.228\u001b[0m | \u001b[1mINFO    \u001b[0m | \u001b[36m__main__\u001b[0m:\u001b[36m<module>\u001b[0m:\u001b[36m10\u001b[0m - \u001b[1mValues interpolated\u001b[0m\n"
     ]
    }
   ],
   "source": [
    "logger.info(\"Interpolating missing planetary mass values\")\n",
    "df[\n",
    "    [\n",
    "        \"pl_bmasse\",\n",
    "        \"pl_bmasseerr1\",\n",
    "        \"pl_bmasseerr2\",\n",
    "        \"flag\",\n",
    "    ]\n",
    "] = df.swifter.apply(interp_mass, axis=1)\n",
    "logger.info(\"Values interpolated\")"
   ]
  },
  {
   "cell_type": "markdown",
   "metadata": {},
   "source": [
    "Drop columns that are no longer needed\n"
   ]
  },
  {
   "cell_type": "code",
   "execution_count": 648,
   "metadata": {},
   "outputs": [
    {
     "name": "stderr",
     "output_type": "stream",
     "text": [
      "\u001b[32m2024-12-27 17:05:02.307\u001b[0m | \u001b[34m\u001b[1mDEBUG   \u001b[0m | \u001b[36m__main__\u001b[0m:\u001b[36m<module>\u001b[0m:\u001b[36m1\u001b[0m - \u001b[34m\u001b[1mDropping columns that are no longer needed\u001b[0m\n",
      "\u001b[32m2024-12-27 17:05:02.311\u001b[0m | \u001b[34m\u001b[1mDEBUG   \u001b[0m | \u001b[36m__main__\u001b[0m:\u001b[36m<module>\u001b[0m:\u001b[36m3\u001b[0m - \u001b[34m\u001b[1mColumns dropped\u001b[0m\n"
     ]
    }
   ],
   "source": [
    "logger.debug(\"Dropping columns that are no longer needed\")\n",
    "df.drop(columns=[\"pl_rade\", \"pl_radeerr1\", \"pl_radeerr2\"], inplace=True)\n",
    "logger.debug(\"Columns dropped\")"
   ]
  },
  {
   "cell_type": "markdown",
   "metadata": {},
   "source": [
    "Remove systems where at least one planet has no mass or semi-major axis (if any)\n"
   ]
  },
  {
   "cell_type": "code",
   "execution_count": 649,
   "metadata": {},
   "outputs": [
    {
     "name": "stderr",
     "output_type": "stream",
     "text": [
      "\u001b[32m2024-12-27 17:05:02.396\u001b[0m | \u001b[1mINFO    \u001b[0m | \u001b[36m__main__\u001b[0m:\u001b[36m<module>\u001b[0m:\u001b[36m1\u001b[0m - \u001b[1mRemoving systems where at least one planet has no mass or semi-major axis\u001b[0m\n",
      "\u001b[32m2024-12-27 17:05:02.412\u001b[0m | \u001b[1mINFO    \u001b[0m | \u001b[36m__main__\u001b[0m:\u001b[36m<module>\u001b[0m:\u001b[36m8\u001b[0m - \u001b[1mRemoving 1 systems: ['KOI-351']\u001b[0m\n",
      "\u001b[32m2024-12-27 17:05:02.414\u001b[0m | \u001b[1mINFO    \u001b[0m | \u001b[36m__main__\u001b[0m:\u001b[36m<module>\u001b[0m:\u001b[36m10\u001b[0m - \u001b[1mSystems removed\u001b[0m\n"
     ]
    }
   ],
   "source": [
    "logger.info(\"Removing systems where at least one planet has no mass or semi-major axis\")\n",
    "mask = (\n",
    "    df.groupby(\"hostname\")[[\"pl_bmasse\", \"pl_orbsmax\"]]\n",
    "    .transform(lambda x: x.isnull().any())\n",
    "    .any(axis=1)\n",
    ")\n",
    "rm_systems = df[mask][\"hostname\"].unique()\n",
    "logger.info(f\"Removing {len(rm_systems)} systems: {rm_systems}\")\n",
    "df = df[~mask]\n",
    "logger.info(\"Systems removed\")"
   ]
  },
  {
   "cell_type": "markdown",
   "metadata": {},
   "source": [
    "Solve missing values in inclinations\n"
   ]
  },
  {
   "cell_type": "code",
   "execution_count": 650,
   "metadata": {},
   "outputs": [
    {
     "name": "stderr",
     "output_type": "stream",
     "text": [
      "\u001b[32m2024-12-27 17:05:02.492\u001b[0m | \u001b[1mINFO    \u001b[0m | \u001b[36m__main__\u001b[0m:\u001b[36m<module>\u001b[0m:\u001b[36m1\u001b[0m - \u001b[1mInterpolating missing values in inclinations\u001b[0m\n"
     ]
    },
    {
     "data": {
      "application/vnd.jupyter.widget-view+json": {
       "model_id": "661ccbee86764f599c9fe6861e4f99fd",
       "version_major": 2,
       "version_minor": 0
      },
      "text/plain": [
       "Pandas Apply:   0%|          | 0/64 [00:00<?, ?it/s]"
      ]
     },
     "metadata": {},
     "output_type": "display_data"
    },
    {
     "name": "stderr",
     "output_type": "stream",
     "text": [
      "\u001b[32m2024-12-27 17:05:02.630\u001b[0m | \u001b[1mINFO    \u001b[0m | \u001b[36m__main__\u001b[0m:\u001b[36m<module>\u001b[0m:\u001b[36m10\u001b[0m - \u001b[1mValues interpolated\u001b[0m\n"
     ]
    }
   ],
   "source": [
    "logger.info(\"Interpolating missing values in inclinations\")\n",
    "df[\n",
    "    [\n",
    "        \"pl_orbincl\",\n",
    "        \"pl_orbinclerr1\",\n",
    "        \"pl_orbinclerr2\",\n",
    "        \"flag\",\n",
    "    ]\n",
    "] = df.swifter.apply(interp_inclination, args=(df,), axis=1)\n",
    "logger.info(\"Values interpolated\")"
   ]
  },
  {
   "cell_type": "markdown",
   "metadata": {},
   "source": [
    "Interpolate missing values in semi-major axis uncertainties\n"
   ]
  },
  {
   "cell_type": "code",
   "execution_count": 651,
   "metadata": {},
   "outputs": [
    {
     "name": "stderr",
     "output_type": "stream",
     "text": [
      "\u001b[32m2024-12-27 17:05:02.726\u001b[0m | \u001b[1mINFO    \u001b[0m | \u001b[36m__main__\u001b[0m:\u001b[36m<module>\u001b[0m:\u001b[36m1\u001b[0m - \u001b[1mInterpolating missing values in semi-major axis uncertainties\u001b[0m\n"
     ]
    },
    {
     "data": {
      "application/vnd.jupyter.widget-view+json": {
       "model_id": "23536262f57549918ee1738c8bde4d4e",
       "version_major": 2,
       "version_minor": 0
      },
      "text/plain": [
       "Pandas Apply:   0%|          | 0/64 [00:00<?, ?it/s]"
      ]
     },
     "metadata": {},
     "output_type": "display_data"
    },
    {
     "name": "stderr",
     "output_type": "stream",
     "text": [
      "\u001b[32m2024-12-27 17:05:02.780\u001b[0m | \u001b[1mINFO    \u001b[0m | \u001b[36m__main__\u001b[0m:\u001b[36m<module>\u001b[0m:\u001b[36m9\u001b[0m - \u001b[1mValues interpolated\u001b[0m\n"
     ]
    }
   ],
   "source": [
    "logger.info(\"Interpolating missing values in semi-major axis uncertainties\")\n",
    "df[\n",
    "    [\n",
    "        \"pl_orbsmaxerr1\",\n",
    "        \"pl_orbsmaxerr2\",\n",
    "        \"flag\",\n",
    "    ]\n",
    "] = df.swifter.apply(interp_sma, axis=1)\n",
    "logger.info(\"Values interpolated\")"
   ]
  },
  {
   "cell_type": "code",
   "execution_count": null,
   "metadata": {},
   "outputs": [],
   "source": []
  },
  {
   "cell_type": "markdown",
   "metadata": {},
   "source": [
    "### Task 6: compute the parameters for the NAMD calculation\n"
   ]
  },
  {
   "cell_type": "markdown",
   "metadata": {},
   "source": [
    "Compute the relative inclination\n"
   ]
  },
  {
   "cell_type": "code",
   "execution_count": 652,
   "metadata": {},
   "outputs": [
    {
     "name": "stderr",
     "output_type": "stream",
     "text": [
      "\u001b[32m2024-12-27 17:05:02.840\u001b[0m | \u001b[1mINFO    \u001b[0m | \u001b[36m__main__\u001b[0m:\u001b[36m<module>\u001b[0m:\u001b[36m1\u001b[0m - \u001b[1mComputing the relative inclinations\u001b[0m\n"
     ]
    },
    {
     "data": {
      "application/vnd.jupyter.widget-view+json": {
       "model_id": "2e87e1a40ab24c82aa15a42be69039fb",
       "version_major": 2,
       "version_minor": 0
      },
      "text/plain": [
       "Pandas Apply:   0%|          | 0/64 [00:00<?, ?it/s]"
      ]
     },
     "metadata": {},
     "output_type": "display_data"
    },
    {
     "name": "stderr",
     "output_type": "stream",
     "text": [
      "\u001b[32m2024-12-27 17:05:02.965\u001b[0m | \u001b[1mINFO    \u001b[0m | \u001b[36m__main__\u001b[0m:\u001b[36m<module>\u001b[0m:\u001b[36m9\u001b[0m - \u001b[1mValues computed\u001b[0m\n"
     ]
    }
   ],
   "source": [
    "logger.info(\"Computing the relative inclinations\")\n",
    "df[\n",
    "    [\n",
    "        \"pl_relincl\",\n",
    "        \"pl_relinclerr1\",\n",
    "        \"pl_relinclerr2\",\n",
    "    ]\n",
    "] = df.swifter.apply(solve_relincl, args=(df,), axis=1)\n",
    "logger.info(\"Values computed\")"
   ]
  },
  {
   "cell_type": "markdown",
   "metadata": {},
   "source": [
    "Interpolate missing values in true obliquity\n"
   ]
  },
  {
   "cell_type": "code",
   "execution_count": 653,
   "metadata": {},
   "outputs": [
    {
     "name": "stderr",
     "output_type": "stream",
     "text": [
      "\u001b[32m2024-12-27 17:05:03.018\u001b[0m | \u001b[1mINFO    \u001b[0m | \u001b[36m__main__\u001b[0m:\u001b[36m<module>\u001b[0m:\u001b[36m1\u001b[0m - \u001b[1mInterpolating missing values in true obliquity\u001b[0m\n"
     ]
    },
    {
     "data": {
      "application/vnd.jupyter.widget-view+json": {
       "model_id": "96defdadd7f74f19ae37c8eac1c96820",
       "version_major": 2,
       "version_minor": 0
      },
      "text/plain": [
       "Pandas Apply:   0%|          | 0/64 [00:00<?, ?it/s]"
      ]
     },
     "metadata": {},
     "output_type": "display_data"
    },
    {
     "name": "stderr",
     "output_type": "stream",
     "text": [
      "\u001b[32m2024-12-27 17:05:03.186\u001b[0m | \u001b[1mINFO    \u001b[0m | \u001b[36m__main__\u001b[0m:\u001b[36m<module>\u001b[0m:\u001b[36m10\u001b[0m - \u001b[1mValues interpolated\u001b[0m\n"
     ]
    }
   ],
   "source": [
    "logger.info(\"Interpolating missing values in true obliquity\")\n",
    "df[\n",
    "    [\n",
    "        \"pl_trueobliq\",\n",
    "        \"pl_trueobliqerr1\",\n",
    "        \"pl_trueobliqerr2\",\n",
    "        \"flag\",\n",
    "    ]\n",
    "] = df.swifter.apply(interp_trueobliq, args=(df,), axis=1)\n",
    "logger.info(\"Values interpolated\")"
   ]
  },
  {
   "cell_type": "code",
   "execution_count": null,
   "metadata": {},
   "outputs": [],
   "source": []
  },
  {
   "cell_type": "markdown",
   "metadata": {},
   "source": [
    "### Task 7: storing the curated+interpolated database\n"
   ]
  },
  {
   "cell_type": "code",
   "execution_count": 654,
   "metadata": {},
   "outputs": [
    {
     "name": "stderr",
     "output_type": "stream",
     "text": [
      "\u001b[32m2024-12-27 17:05:03.287\u001b[0m | \u001b[1mINFO    \u001b[0m | \u001b[36m__main__\u001b[0m:\u001b[36m<module>\u001b[0m:\u001b[36m1\u001b[0m - \u001b[1mStoring the curated+interpolated database\u001b[0m\n",
      "\u001b[32m2024-12-27 17:05:03.292\u001b[0m | \u001b[1mINFO    \u001b[0m | \u001b[36m__main__\u001b[0m:\u001b[36m<module>\u001b[0m:\u001b[36m4\u001b[0m - \u001b[1mDatabase stored at /export/NAS/ariel/users/andrea.bocchieri/.local/lib/python3.10/site-packages/exonamd/data/exo_interp_custom_db_20241227_plus_famous.csv\u001b[0m\n"
     ]
    }
   ],
   "source": [
    "logger.info(\"Storing the curated+interpolated database\")\n",
    "out_path = os.path.join(ROOT, \"data\", \"exo_interp_custom_db_20241227_plus_famous.csv\")\n",
    "df.to_csv(out_path, index=False)\n",
    "logger.info(f\"Database stored at {out_path}\")"
   ]
  },
  {
   "cell_type": "code",
   "execution_count": 655,
   "metadata": {},
   "outputs": [],
   "source": [
    "df = pd.read_csv(os.path.join(ROOT, \"data\", \"exo_interp_custom_db_20241227_plus_famous.csv\"))"
   ]
  },
  {
   "cell_type": "code",
   "execution_count": null,
   "metadata": {},
   "outputs": [],
   "source": []
  },
  {
   "cell_type": "markdown",
   "metadata": {},
   "source": [
    "### Task 8: computing the NAMD\n"
   ]
  },
  {
   "cell_type": "markdown",
   "metadata": {},
   "source": [
    "Drop columns that are no longer needed"
   ]
  },
  {
   "cell_type": "code",
   "execution_count": 656,
   "metadata": {},
   "outputs": [
    {
     "name": "stderr",
     "output_type": "stream",
     "text": [
      "\u001b[32m2024-12-27 17:05:03.538\u001b[0m | \u001b[34m\u001b[1mDEBUG   \u001b[0m | \u001b[36m__main__\u001b[0m:\u001b[36m<module>\u001b[0m:\u001b[36m1\u001b[0m - \u001b[34m\u001b[1mDropping columns that are no longer needed\u001b[0m\n"
     ]
    },
    {
     "name": "stderr",
     "output_type": "stream",
     "text": [
      "\u001b[32m2024-12-27 17:05:03.540\u001b[0m | \u001b[34m\u001b[1mDEBUG   \u001b[0m | \u001b[36m__main__\u001b[0m:\u001b[36m<module>\u001b[0m:\u001b[36m3\u001b[0m - \u001b[34m\u001b[1mColumns dropped\u001b[0m\n"
     ]
    }
   ],
   "source": [
    "logger.debug(\"Dropping columns that are no longer needed\")\n",
    "df.drop(columns=[\"pl_orbincl\", \"pl_orbinclerr1\", \"pl_orbinclerr2\"], inplace=True)\n",
    "logger.debug(\"Columns dropped\")"
   ]
  },
  {
   "cell_type": "markdown",
   "metadata": {},
   "source": [
    "Solve the relative and absolute namd\n"
   ]
  },
  {
   "cell_type": "code",
   "execution_count": 657,
   "metadata": {},
   "outputs": [
    {
     "name": "stderr",
     "output_type": "stream",
     "text": [
      "\u001b[32m2024-12-27 17:05:03.606\u001b[0m | \u001b[1mINFO    \u001b[0m | \u001b[36m__main__\u001b[0m:\u001b[36m<module>\u001b[0m:\u001b[36m1\u001b[0m - \u001b[1mComputing the relative NAMD\u001b[0m\n"
     ]
    },
    {
     "name": "stderr",
     "output_type": "stream",
     "text": [
      "\u001b[32m2024-12-27 17:05:03.666\u001b[0m | \u001b[1mINFO    \u001b[0m | \u001b[36m__main__\u001b[0m:\u001b[36m<module>\u001b[0m:\u001b[36m9\u001b[0m - \u001b[1mRelative NAMD computed\u001b[0m\n"
     ]
    }
   ],
   "source": [
    "logger.info(\"Computing the relative NAMD\")\n",
    "df = groupby_apply_merge(\n",
    "    df,\n",
    "    \"hostname\",\n",
    "    solve_namd,\n",
    "    kind=\"rel\",\n",
    "    allow_overwrite=True,\n",
    ")\n",
    "logger.info(\"Relative NAMD computed\")"
   ]
  },
  {
   "cell_type": "code",
   "execution_count": 658,
   "metadata": {},
   "outputs": [
    {
     "name": "stderr",
     "output_type": "stream",
     "text": [
      "\u001b[32m2024-12-27 17:05:03.740\u001b[0m | \u001b[1mINFO    \u001b[0m | \u001b[36m__main__\u001b[0m:\u001b[36m<module>\u001b[0m:\u001b[36m1\u001b[0m - \u001b[1mComputing the absolute NAMD\u001b[0m\n"
     ]
    },
    {
     "name": "stderr",
     "output_type": "stream",
     "text": [
      "\u001b[32m2024-12-27 17:05:03.800\u001b[0m | \u001b[1mINFO    \u001b[0m | \u001b[36m__main__\u001b[0m:\u001b[36m<module>\u001b[0m:\u001b[36m9\u001b[0m - \u001b[1mAbsolute NAMD computed\u001b[0m\n"
     ]
    }
   ],
   "source": [
    "logger.info(\"Computing the absolute NAMD\")\n",
    "df = groupby_apply_merge(\n",
    "    df,\n",
    "    \"hostname\",\n",
    "    solve_namd,\n",
    "    kind=\"abs\",\n",
    "    allow_overwrite=True,\n",
    ")\n",
    "logger.info(\"Absolute NAMD computed\")"
   ]
  },
  {
   "cell_type": "code",
   "execution_count": 659,
   "metadata": {},
   "outputs": [
    {
     "data": {
      "image/png": "[encoded data removed]",
      "text/plain": [
       "<Figure size 640x480 with 1 Axes>"
      ]
     },
     "metadata": {},
     "output_type": "display_data"
    }
   ],
   "source": [
    "_ = (\n",
    "    df.groupby(\"hostname\")[[\"namd_rel\", \"namd_abs\"]]\n",
    "    .transform(\"mean\")\n",
    "    .plot(kind=\"scatter\", x=\"namd_rel\", y=\"namd_abs\", loglog=True)\n",
    ")"
   ]
  },
  {
   "cell_type": "code",
   "execution_count": 660,
   "metadata": {},
   "outputs": [
    {
     "data": {
      "image/png": "[encoded data removed]",
      "text/plain": [
       "<Figure size 640x480 with 1 Axes>"
      ]
     },
     "metadata": {},
     "output_type": "display_data"
    }
   ],
   "source": [
    "_ = (\n",
    "    df.groupby(\"hostname\")[[\"sy_pnum\", \"namd_rel\"]]\n",
    "    .mean()\n",
    "    .reset_index()\n",
    "    .plot(kind=\"scatter\", x=\"sy_pnum\", y=\"namd_rel\", logy=True, title=\"Full sample\")\n",
    ")"
   ]
  },
  {
   "cell_type": "code",
   "execution_count": 661,
   "metadata": {},
   "outputs": [
    {
     "data": {
      "image/png": "[encoded data removed]",
      "text/plain": [
       "<Figure size 640x480 with 1 Axes>"
      ]
     },
     "metadata": {},
     "output_type": "display_data"
    }
   ],
   "source": [
    "_ = (\n",
    "    df.groupby(\"hostname\")[[\"sy_pnum\", \"namd_abs\"]]\n",
    "    .mean()\n",
    "    .reset_index()\n",
    "    .plot(kind=\"scatter\", x=\"sy_pnum\", y=\"namd_abs\", logy=True, title=\"Full sample\")\n",
    ")"
   ]
  },
  {
   "cell_type": "code",
   "execution_count": null,
   "metadata": {},
   "outputs": [],
   "source": []
  },
  {
   "cell_type": "markdown",
   "metadata": {},
   "source": [
    "### Task 9: computing the NAMD and associated confidence intervals\n"
   ]
  },
  {
   "cell_type": "code",
   "execution_count": 662,
   "metadata": {},
   "outputs": [],
   "source": [
    "Npt = 200000\n",
    "threshold = 1000"
   ]
  },
  {
   "cell_type": "code",
   "execution_count": 663,
   "metadata": {},
   "outputs": [
    {
     "name": "stderr",
     "output_type": "stream",
     "text": [
      "\u001b[32m2024-12-27 17:05:05.447\u001b[0m | \u001b[1mINFO    \u001b[0m | \u001b[36m__main__\u001b[0m:\u001b[36m<module>\u001b[0m:\u001b[36m1\u001b[0m - \u001b[1mComputing the Monte Carlo relative NAMD\u001b[0m\n",
      "\u001b[32m2024-12-27 17:05:08.090\u001b[0m | \u001b[1mINFO    \u001b[0m | \u001b[36m__main__\u001b[0m:\u001b[36m<module>\u001b[0m:\u001b[36m11\u001b[0m - \u001b[1mRelative NAMD computed\u001b[0m\n"
     ]
    }
   ],
   "source": [
    "logger.info(\"Computing the Monte Carlo relative NAMD\")\n",
    "df = groupby_apply_merge(\n",
    "    df,\n",
    "    \"hostname\",\n",
    "    solve_namd_mc,\n",
    "    kind=\"rel\",\n",
    "    Npt=Npt,\n",
    "    threshold=threshold,\n",
    "    allow_overwrite=True,\n",
    ")\n",
    "logger.info(\"Relative NAMD computed\")"
   ]
  },
  {
   "cell_type": "code",
   "execution_count": 664,
   "metadata": {},
   "outputs": [
    {
     "name": "stderr",
     "output_type": "stream",
     "text": [
      "\u001b[32m2024-12-27 17:05:08.156\u001b[0m | \u001b[1mINFO    \u001b[0m | \u001b[36m__main__\u001b[0m:\u001b[36m<module>\u001b[0m:\u001b[36m1\u001b[0m - \u001b[1mComputing the Monte Carlo absolute NAMD\u001b[0m\n",
      "\u001b[32m2024-12-27 17:05:10.528\u001b[0m | \u001b[1mINFO    \u001b[0m | \u001b[36m__main__\u001b[0m:\u001b[36m<module>\u001b[0m:\u001b[36m11\u001b[0m - \u001b[1mAbsolute NAMD computed\u001b[0m\n"
     ]
    }
   ],
   "source": [
    "logger.info(\"Computing the Monte Carlo absolute NAMD\")\n",
    "df = groupby_apply_merge(\n",
    "    df,\n",
    "    \"hostname\",\n",
    "    solve_namd_mc,\n",
    "    kind=\"abs\",\n",
    "    Npt=Npt,\n",
    "    threshold=threshold,\n",
    "    allow_overwrite=True,\n",
    ")\n",
    "logger.info(\"Absolute NAMD computed\")"
   ]
  },
  {
   "cell_type": "code",
   "execution_count": 665,
   "metadata": {},
   "outputs": [
    {
     "data": {
      "image/png": "[encoded data removed]",
      "text/plain": [
       "<Figure size 640x480 with 1 Axes>"
      ]
     },
     "metadata": {},
     "output_type": "display_data"
    }
   ],
   "source": [
    "_ = (\n",
    "    df.groupby(\"hostname\")[[\"namd_rel_q50\", \"namd_abs_q50\"]]\n",
    "    .transform(\"mean\")\n",
    "    .plot(kind=\"scatter\", x=\"namd_rel_q50\", y=\"namd_abs_q50\", loglog=True)\n",
    ")"
   ]
  },
  {
   "cell_type": "code",
   "execution_count": 666,
   "metadata": {},
   "outputs": [
    {
     "name": "stderr",
     "output_type": "stream",
     "text": [
      "\u001b[32m2024-12-27 17:05:11.223\u001b[0m | \u001b[1mINFO    \u001b[0m | \u001b[36m__main__\u001b[0m:\u001b[36m<module>\u001b[0m:\u001b[36m1\u001b[0m - \u001b[1mStoring the NAMD database\u001b[0m\n",
      "\u001b[32m2024-12-27 17:05:11.229\u001b[0m | \u001b[1mINFO    \u001b[0m | \u001b[36m__main__\u001b[0m:\u001b[36m<module>\u001b[0m:\u001b[36m4\u001b[0m - \u001b[1mDatabase stored at /export/NAS/ariel/users/andrea.bocchieri/.local/lib/python3.10/site-packages/exonamd/data/exo_namd_custom_db_20241227_plus_famous.csv\u001b[0m\n"
     ]
    }
   ],
   "source": [
    "logger.info(\"Storing the NAMD database\")\n",
    "out_path = os.path.join(ROOT, \"data\", \"exo_namd_custom_db_20241227_plus_famous.csv\")\n",
    "df.to_csv(out_path, index=False)\n",
    "logger.info(f\"Database stored at {out_path}\")"
   ]
  },
  {
   "cell_type": "code",
   "execution_count": 667,
   "metadata": {},
   "outputs": [],
   "source": [
    "df = pd.read_csv(os.path.join(ROOT, \"data\", \"exo_namd_custom_db_20241227_plus_famous.csv\"))"
   ]
  },
  {
   "cell_type": "code",
   "execution_count": null,
   "metadata": {},
   "outputs": [],
   "source": []
  },
  {
   "cell_type": "markdown",
   "metadata": {},
   "source": [
    "### Some plots\n"
   ]
  },
  {
   "cell_type": "code",
   "execution_count": 668,
   "metadata": {},
   "outputs": [
    {
     "name": "stderr",
     "output_type": "stream",
     "text": [
      "\u001b[32m2024-12-27 17:05:11.402\u001b[0m | \u001b[1mINFO    \u001b[0m | \u001b[36m__main__\u001b[0m:\u001b[36m<module>\u001b[0m:\u001b[36m1\u001b[0m - \u001b[1mPlotting the NAMD vs. multiplicity\u001b[0m\n"
     ]
    },
    {
     "data": {
      "image/png": "[encoded data removed]",
      "text/plain": [
       "<Figure size 640x480 with 2 Axes>"
      ]
     },
     "metadata": {},
     "output_type": "display_data"
    },
    {
     "name": "stderr",
     "output_type": "stream",
     "text": [
      "\u001b[32m2024-12-27 17:05:11.793\u001b[0m | \u001b[1mINFO    \u001b[0m | \u001b[36m__main__\u001b[0m:\u001b[36m<module>\u001b[0m:\u001b[36m12\u001b[0m - \u001b[1mPlot done\u001b[0m\n"
     ]
    }
   ],
   "source": [
    "logger.info(\"Plotting the NAMD vs. multiplicity\")\n",
    "pop_plot(\n",
    "    df=df.groupby(\"hostname\").apply(\n",
    "        lambda g: g.select_dtypes(exclude=[\"object\"]).mean(),\n",
    "    ),\n",
    "    kind=\"rel\",\n",
    "    # title=\"Core planets\",\n",
    "    which=\"namd\",\n",
    "    yscale=\"log\",\n",
    "    xoffs=True,\n",
    ")\n",
    "logger.info(\"Plot done\")"
   ]
  },
  {
   "cell_type": "code",
   "execution_count": 669,
   "metadata": {},
   "outputs": [
    {
     "name": "stderr",
     "output_type": "stream",
     "text": [
      "\u001b[32m2024-12-27 17:05:11.914\u001b[0m | \u001b[1mINFO    \u001b[0m | \u001b[36m__main__\u001b[0m:\u001b[36m<module>\u001b[0m:\u001b[36m1\u001b[0m - \u001b[1mPlotting the NAMD vs. multiplicity\u001b[0m\n"
     ]
    },
    {
     "data": {
      "image/png": "[encoded data removed]",
      "text/plain": [
       "<Figure size 640x480 with 2 Axes>"
      ]
     },
     "metadata": {},
     "output_type": "display_data"
    },
    {
     "name": "stderr",
     "output_type": "stream",
     "text": [
      "\u001b[32m2024-12-27 17:05:12.307\u001b[0m | \u001b[1mINFO    \u001b[0m | \u001b[36m__main__\u001b[0m:\u001b[36m<module>\u001b[0m:\u001b[36m12\u001b[0m - \u001b[1mPlot done\u001b[0m\n"
     ]
    }
   ],
   "source": [
    "logger.info(\"Plotting the NAMD vs. multiplicity\")\n",
    "pop_plot(\n",
    "    df=df.groupby(\"hostname\").apply(\n",
    "        lambda g: g.select_dtypes(exclude=[\"object\"]).mean(),\n",
    "    ),\n",
    "    kind=\"abs\",\n",
    "    # title=\"Core planets\",\n",
    "    which=\"namd\",\n",
    "    yscale=\"log\",\n",
    "    xoffs=True,\n",
    ")\n",
    "logger.info(\"Plot done\")"
   ]
  },
  {
   "cell_type": "code",
   "execution_count": 670,
   "metadata": {},
   "outputs": [],
   "source": [
    "# Npt = 10000000\n",
    "# threshold = 1000"
   ]
  },
  {
   "cell_type": "code",
   "execution_count": 671,
   "metadata": {},
   "outputs": [],
   "source": [
    "# plot_host_namd(\n",
    "#     df=df,\n",
    "#     hostname=\"TRAPPIST-1\",\n",
    "#     kind=\"abs\",\n",
    "#     Npt=Npt,\n",
    "#     threshold=threshold,\n",
    "# )"
   ]
  },
  {
   "cell_type": "code",
   "execution_count": 672,
   "metadata": {},
   "outputs": [],
   "source": [
    "# plot_host_namd(\n",
    "#     df=df,\n",
    "#     hostname=\"Kepler-462\",\n",
    "#     kind=\"abs\",\n",
    "#     Npt=Npt,\n",
    "#     threshold=threshold,\n",
    "# )"
   ]
  },
  {
   "cell_type": "markdown",
   "metadata": {},
   "source": [
    "TODO: \n",
    "\n",
    "1. check systems where the sy_pnum is different from the number of planets in the system reported in the exoplanet archive. e.g. XO-2 N\n",
    "2. check compatibility with TepCat"
   ]
  },
  {
   "cell_type": "code",
   "execution_count": 717,
   "metadata": {},
   "outputs": [
    {
     "data": {
      "image/png": "[encoded data removed]",
      "text/plain": [
       "<Figure size 640x480 with 1 Axes>"
      ]
     },
     "metadata": {},
     "output_type": "display_data"
    }
   ],
   "source": [
    "df_plot = df.groupby(\"hostname\")[\n",
    "    [\n",
    "        \"namd_rel\",\n",
    "        \"namd_abs\",\n",
    "        \"namd_rel_q16\",\n",
    "        \"namd_rel_q50\",\n",
    "        \"namd_rel_q84\",\n",
    "        \"namd_abs_q16\",\n",
    "        \"namd_abs_q50\",\n",
    "        \"namd_abs_q84\",\n",
    "    ]\n",
    "].apply(lambda g: g.select_dtypes(exclude=[\"object\"]).mean())\n",
    "\n",
    "\n",
    "import matplotlib.pyplot as plt\n",
    "\n",
    "fig = plt.figure()\n",
    "\n",
    "plt.yscale(\"log\")\n",
    "plt.xscale(\"log\")\n",
    "plt.xlabel(\"namd_rel\")\n",
    "plt.ylabel(\"namd_abs\")\n",
    "\n",
    "plt.errorbar(\n",
    "    x=df_plot[\"namd_rel_q50\"],\n",
    "    y=df_plot[\"namd_abs_q50\"],\n",
    "    xerr=(\n",
    "        df_plot[\"namd_rel_q84\"] - df_plot[\"namd_rel_q50\"],\n",
    "        df_plot[\"namd_rel_q50\"] - df_plot[\"namd_rel_q16\"],\n",
    "    ),\n",
    "    yerr=(\n",
    "        df_plot[\"namd_abs_q84\"] - df_plot[\"namd_abs_q50\"],\n",
    "        df_plot[\"namd_abs_q50\"] - df_plot[\"namd_abs_q16\"],\n",
    "    ),\n",
    "    fmt=\"o\",\n",
    "    markersize=3,\n",
    "    capsize=5,\n",
    "    alpha=0.5,\n",
    ")\n",
    "\n",
    "SS = df_plot[df_plot.index == \"SS\"]\n",
    "\n",
    "plt.errorbar(\n",
    "    x=SS[\"namd_rel_q50\"],\n",
    "    y=SS[\"namd_abs_q50\"],\n",
    "    xerr=(\n",
    "        SS[\"namd_rel_q84\"] - SS[\"namd_rel_q50\"],\n",
    "        SS[\"namd_rel_q50\"] - SS[\"namd_rel_q16\"],\n",
    "    ),\n",
    "    yerr=(\n",
    "        SS[\"namd_abs_q84\"] - SS[\"namd_abs_q50\"],\n",
    "        SS[\"namd_abs_q50\"] - SS[\"namd_abs_q16\"],\n",
    "    ),\n",
    "    fmt=\"o\",\n",
    "    markersize=3,\n",
    "    capsize=5,\n",
    "    alpha=0.5,\n",
    "    color=\"r\",\n",
    ")\n",
    "\n",
    "missing_mc = df_plot[\n",
    "    np.logical_or(df_plot[\"namd_abs_q50\"].isna(), df_plot[\"namd_rel_q50\"].isna())\n",
    "]\n",
    "\n",
    "plt.plot(\n",
    "    missing_mc[\"namd_rel\"],\n",
    "    missing_mc[\"namd_abs\"],\n",
    "    \"o\",\n",
    "    color=\"k\",\n",
    "    alpha=0.5,\n",
    "    markersize=3,\n",
    ")\n",
    "\n",
    "ymin = 1e-6\n",
    "ymax = 10\n",
    "xmin = 1e-6\n",
    "xmax = 1\n",
    "\n",
    "plt.xlim(xmin, xmax)\n",
    "plt.ylim(ymin, ymax)\n",
    "plt.vlines(1.3e-3, *plt.ylim(), colors=[\"k\"], linestyles=[\"--\"])\n",
    "plt.hlines(1.3e-3, *plt.xlim(), colors=[\"k\"], linestyles=[\"--\"])\n",
    "\n",
    "fig.text(0.3, 0.85, \"Perturbed, non-excited\", ha=\"center\", va=\"center\")\n",
    "fig.text(0.7, 0.85, \"Perturbed, excited\", ha=\"center\", va=\"center\")\n",
    "\n",
    "fig.text(0.3, 0.15, \"Non-perturbed, non-excited\", ha=\"center\", va=\"center\")\n",
    "fig.text(0.7, 0.15, \"Non-perturbed, excited\", ha=\"center\", va=\"center\")\n",
    "\n",
    "plt.show()"
   ]
  },
  {
   "cell_type": "code",
   "execution_count": 718,
   "metadata": {},
   "outputs": [],
   "source": [
    "# df[[\"pl_name\", \"namd_rel\", \"namd_abs\"]].values"
   ]
  },
  {
   "cell_type": "code",
   "execution_count": 720,
   "metadata": {},
   "outputs": [],
   "source": [
    "# df[df[\"hostname\"].isin([\"TRAPPIST-1\", \"TOI-942\"])].to_csv(\"deleteme.csv\")"
   ]
  },
  {
   "cell_type": "code",
   "execution_count": 721,
   "metadata": {},
   "outputs": [],
   "source": [
    "# df[\"hostname\"].unique().size"
   ]
  },
  {
   "cell_type": "code",
   "execution_count": 722,
   "metadata": {},
   "outputs": [],
   "source": [
    "# df_exo = pd.read_csv(\n",
    "#     os.path.join('../exonamd', \"data\", \"exo.csv\"),\n",
    "# )\n",
    "\n",
    "# systems = [\"TRAPPIST-1\", \"HD 110067\", \"55 Cnc\", \"KOI-351\", \"GJ 876\"]\n",
    "# df_exo = df_exo[df_exo[\"hostname\"].isin(systems)]\n",
    "\n",
    "# df_exo = df_exo[df_exo[\"default_flag\"] == 1]\n",
    "\n",
    "# # df_exo[\"pl_trueobliq\"] = df_exo[\"pl_trueobliq\"].fillna(np.random.uniform(0, 15))\n",
    "# # df_exo[\"pl_orbeccen\"] = df_exo[\"pl_orbeccen\"].fillna(np.random.uniform(0, 0.15))\n",
    "# # df_exo[\"pl_orbeccen\"] = 0.0\n",
    "# df_exo[\"pl_trueobliq\"] = df_exo[\"pl_trueobliq\"].fillna(np.random.uniform(0.005, 0.01))\n",
    "# df_exo[\"pl_orbeccen\"] = df_exo[\"pl_orbeccen\"].fillna(np.random.uniform(0.005, 0.01))\n",
    "\n",
    "# df_exo.to_csv(os.path.join('../exonamd', \"data\", \"df_exo_famous.csv\"), index=False)\n",
    "\n",
    "# df_db = pd.read_csv(\n",
    "#     os.path.join('../exonamd', \"data\", \"custom_db_20241227.csv\"),\n",
    "# )\n",
    "\n",
    "# df_db.loc[df_db[\"hostname\"] == \"TOI-942\", \"pl_orbeccen\"] = 0.2\n",
    "# df_db.loc[df_db[\"hostname\"] == \"TOI-942\", \"pl_orbeccenerr1\"] = 0.1\n",
    "# df_db.loc[df_db[\"hostname\"] == \"TOI-942\", \"pl_orbeccenerr2\"] = -0.001\n",
    "\n",
    "# df_new = pd.concat([df_db, df_exo])\n",
    "# df_new.to_csv(os.path.join('../exonamd', \"data\", \"custom_db_20241227_plus_famous.csv\"), index=False)\n",
    "\n",
    "# df_exo[[\"default_flag\", \"pl_name\", \"pl_bmasse\", \"pl_trueobliq\", \"pl_orbeccen\"]].values"
   ]
  },
  {
   "cell_type": "code",
   "execution_count": 678,
   "metadata": {},
   "outputs": [],
   "source": [
    "# df.loc[df[\"hostname\"] == \"TOI-942\", \"pl_orbeccenerr2\"] = -0.01"
   ]
  },
  {
   "cell_type": "code",
   "execution_count": 719,
   "metadata": {},
   "outputs": [],
   "source": [
    "# df.loc[df[\"hostname\"] == \"TOI-942\", [\"pl_bmasse\", \"pl_bmasseerr1\", \"pl_bmasseerr2\"]]"
   ]
  },
  {
   "cell_type": "code",
   "execution_count": null,
   "metadata": {},
   "outputs": [],
   "source": []
  }
 ],
 "metadata": {
  "kernelspec": {
   "display_name": "exonamd",
   "language": "python",
   "name": "python3"
  },
  "language_info": {
   "codemirror_mode": {
    "name": "ipython",
    "version": 3
   },
   "file_extension": ".py",
   "mimetype": "text/x-python",
   "name": "python",
   "nbconvert_exporter": "python",
   "pygments_lexer": "ipython3",
   "version": "3.10.14"
  }
 },
 "nbformat": 4,
 "nbformat_minor": 2
}
