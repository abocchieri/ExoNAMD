{
 "cells": [
  {
   "cell_type": "code",
   "execution_count": 1,
   "metadata": {},
   "outputs": [],
   "source": [
    "import os\n",
    "import numpy as np\n",
    "import pandas as pd\n",
    "import swifter\n",
    "import warnings\n",
    "from loguru import logger\n",
    "\n",
    "from exonamd.catalog import download_nasa_confirmed_planets\n",
    "from exonamd.utils import ROOT\n",
    "from exonamd.utils import fetch_aliases\n",
    "from exonamd.utils import update_host\n",
    "from exonamd.utils import update_planet\n",
    "from exonamd.utils import check_name\n",
    "from exonamd.solve import solve_values\n",
    "from exonamd.interp import interp_eccentricity\n",
    "from exonamd.interp import interp_mass\n",
    "from exonamd.interp import interp_inclination\n",
    "from exonamd.interp import interp_sma\n",
    "from exonamd.solve import solve_relincl\n",
    "from exonamd.interp import interp_trueobliq\n",
    "from exonamd.utils import groupby_apply_merge\n",
    "from exonamd.solve import solve_namd\n",
    "from exonamd.solve import solve_namd_mc\n",
    "from exonamd.plot import plot_host_namd\n",
    "from exonamd.plot import pop_plot\n",
    "\n",
    "\n",
    "warnings.filterwarnings(\"ignore\")\n",
    "pd.options.display.max_columns = 20\n",
    "pd.options.display.max_rows = 30\n",
    "pd.options.mode.copy_on_write = True\n",
    "swifter.set_defaults(\n",
    "    npartitions=None,\n",
    "    dask_threshold=1,\n",
    "    scheduler=\"processes\",\n",
    "    progress_bar=True,\n",
    "    progress_bar_desc=None,\n",
    "    allow_dask_on_strings=False,\n",
    "    force_parallel=False,\n",
    ")"
   ]
  },
  {
   "cell_type": "code",
   "execution_count": 2,
   "metadata": {},
   "outputs": [],
   "source": [
    "# fetch_aliases([\"Kepler-90\"])"
   ]
  },
  {
   "cell_type": "code",
   "execution_count": 3,
   "metadata": {},
   "outputs": [],
   "source": [
    "%load_ext autoreload\n",
    "%autoreload 2"
   ]
  },
  {
   "cell_type": "code",
   "execution_count": 7,
   "metadata": {},
   "outputs": [],
   "source": [
    "fname = \"custom_db_20241017e\"\n",
    "\n",
    "df = pd.read_csv(\n",
    "    os.path.join('../exonamd', \"data\", f\"{fname}.csv\"),\n",
    ")"
   ]
  },
  {
   "cell_type": "markdown",
   "metadata": {},
   "source": [
    "### Task 3: computing missing values (if any) from simple relations\n"
   ]
  },
  {
   "cell_type": "code",
   "execution_count": 8,
   "metadata": {},
   "outputs": [
    {
     "name": "stderr",
     "output_type": "stream",
     "text": [
      "\u001b[32m2025-07-08 16:22:10.591\u001b[0m | \u001b[1mINFO    \u001b[0m | \u001b[36m__main__\u001b[0m:\u001b[36m<module>\u001b[0m:\u001b[36m1\u001b[0m - \u001b[1mComputing missing values from simple relations\u001b[0m\n"
     ]
    },
    {
     "data": {
      "application/vnd.jupyter.widget-view+json": {
       "model_id": "cde8984e581b453a8dd46efaf5690eed",
       "version_major": 2,
       "version_minor": 0
      },
      "text/plain": [
       "Pandas Apply:   0%|          | 0/24 [00:00<?, ?it/s]"
      ]
     },
     "metadata": {},
     "output_type": "display_data"
    },
    {
     "name": "stderr",
     "output_type": "stream",
     "text": [
      "\u001b[32m2025-07-08 16:22:10.642\u001b[0m | \u001b[1mINFO    \u001b[0m | \u001b[36m__main__\u001b[0m:\u001b[36m<module>\u001b[0m:\u001b[36m13\u001b[0m - \u001b[1mMissing values computed\u001b[0m\n"
     ]
    }
   ],
   "source": [
    "logger.info(\"Computing missing values from simple relations\")\n",
    "df[\n",
    "    [\n",
    "        \"pl_orbsmax\",\n",
    "        \"pl_ratdor\",\n",
    "        \"st_rad\",\n",
    "        \"pl_rade\",\n",
    "        \"pl_ratror\",\n",
    "        \"pl_orbper\",\n",
    "        \"st_mass\",\n",
    "    ]\n",
    "] = df.swifter.apply(solve_values, axis=1)\n",
    "logger.info(\"Missing values computed\")"
   ]
  },
  {
   "cell_type": "code",
   "execution_count": null,
   "metadata": {},
   "outputs": [],
   "source": []
  },
  {
   "cell_type": "markdown",
   "metadata": {},
   "source": [
    "### Task 4: storing the curated database\n"
   ]
  },
  {
   "cell_type": "markdown",
   "metadata": {},
   "source": [
    "Drop columns that are no longer needed\n"
   ]
  },
  {
   "cell_type": "code",
   "execution_count": 9,
   "metadata": {},
   "outputs": [
    {
     "name": "stderr",
     "output_type": "stream",
     "text": [
      "\u001b[32m2025-07-08 16:22:11.561\u001b[0m | \u001b[34m\u001b[1mDEBUG   \u001b[0m | \u001b[36m__main__\u001b[0m:\u001b[36m<module>\u001b[0m:\u001b[36m1\u001b[0m - \u001b[34m\u001b[1mDropping columns that are no longer needed\u001b[0m\n",
      "\u001b[32m2025-07-08 16:22:11.564\u001b[0m | \u001b[34m\u001b[1mDEBUG   \u001b[0m | \u001b[36m__main__\u001b[0m:\u001b[36m<module>\u001b[0m:\u001b[36m12\u001b[0m - \u001b[34m\u001b[1mColumns dropped\u001b[0m\n"
     ]
    }
   ],
   "source": [
    "logger.debug(\"Dropping columns that are no longer needed\")\n",
    "df.drop(\n",
    "    columns=[\n",
    "        \"pl_ratdor\",\n",
    "        \"st_rad\",\n",
    "        \"pl_ratror\",\n",
    "        \"pl_orbper\",\n",
    "        \"st_mass\",\n",
    "    ],\n",
    "    inplace=True,\n",
    ")\n",
    "logger.debug(\"Columns dropped\")"
   ]
  },
  {
   "cell_type": "code",
   "execution_count": 10,
   "metadata": {},
   "outputs": [
    {
     "name": "stderr",
     "output_type": "stream",
     "text": [
      "\u001b[32m2025-07-08 16:22:22.184\u001b[0m | \u001b[1mINFO    \u001b[0m | \u001b[36m__main__\u001b[0m:\u001b[36m<module>\u001b[0m:\u001b[36m1\u001b[0m - \u001b[1mStoring the curated database\u001b[0m\n",
      "\u001b[32m2025-07-08 16:22:22.202\u001b[0m | \u001b[1mINFO    \u001b[0m | \u001b[36m__main__\u001b[0m:\u001b[36m<module>\u001b[0m:\u001b[36m5\u001b[0m - \u001b[1mDatabase stored at /export/NAS/ariel/data/andrea.bocchieri/ExoNAMD/exonamd/data/exo_custom_db_20241017e.csv\u001b[0m\n"
     ]
    }
   ],
   "source": [
    "logger.info(\"Storing the curated database\")\n",
    "\n",
    "out_path = os.path.join(ROOT, \"data\", f\"exo_{fname}.csv\")\n",
    "df.to_csv(out_path, index=False)\n",
    "logger.info(f\"Database stored at {out_path}\")"
   ]
  },
  {
   "cell_type": "code",
   "execution_count": null,
   "metadata": {},
   "outputs": [],
   "source": []
  },
  {
   "cell_type": "markdown",
   "metadata": {},
   "source": [
    "### Task 5: input missing values (if any) by interpolation\n"
   ]
  },
  {
   "cell_type": "markdown",
   "metadata": {},
   "source": [
    "Use nanmedian to thin down the data\n"
   ]
  },
  {
   "cell_type": "code",
   "execution_count": 11,
   "metadata": {},
   "outputs": [
    {
     "name": "stderr",
     "output_type": "stream",
     "text": [
      "\u001b[32m2025-07-08 16:22:48.281\u001b[0m | \u001b[1mINFO    \u001b[0m | \u001b[36m__main__\u001b[0m:\u001b[36m<module>\u001b[0m:\u001b[36m1\u001b[0m - \u001b[1mThinning down the data with nanmedian\u001b[0m\n",
      "\u001b[32m2025-07-08 16:22:48.317\u001b[0m | \u001b[1mINFO    \u001b[0m | \u001b[36m__main__\u001b[0m:\u001b[36m<module>\u001b[0m:\u001b[36m6\u001b[0m - \u001b[1mData thinned down\u001b[0m\n"
     ]
    }
   ],
   "source": [
    "logger.info(\"Thinning down the data with nanmedian\")\n",
    "cols = df.columns.difference([\"hostname\", \"pl_name\", \"default_flag\", \"rowupdate\"])\n",
    "medians = df.groupby(\"pl_name\")[cols].transform(np.nanmedian)\n",
    "df.loc[df[\"default_flag\"] == 1, cols] = medians.loc[df[\"default_flag\"] == 1]\n",
    "df = df[df[\"default_flag\"] == 1].drop(columns=\"default_flag\")\n",
    "logger.info(\"Data thinned down\")"
   ]
  },
  {
   "cell_type": "markdown",
   "metadata": {},
   "source": [
    "Check presence of duplicates (if any)\n"
   ]
  },
  {
   "cell_type": "code",
   "execution_count": 12,
   "metadata": {},
   "outputs": [
    {
     "name": "stderr",
     "output_type": "stream",
     "text": [
      "\u001b[32m2025-07-08 16:22:51.887\u001b[0m | \u001b[1mINFO    \u001b[0m | \u001b[36m__main__\u001b[0m:\u001b[36m<module>\u001b[0m:\u001b[36m1\u001b[0m - \u001b[1mChecking for duplicates\u001b[0m\n",
      "\u001b[32m2025-07-08 16:22:51.893\u001b[0m | \u001b[1mINFO    \u001b[0m | \u001b[36m__main__\u001b[0m:\u001b[36m<module>\u001b[0m:\u001b[36m9\u001b[0m - \u001b[1mNo duplicates found\u001b[0m\n"
     ]
    }
   ],
   "source": [
    "logger.info(\"Checking for duplicates\")\n",
    "dp = df[df.duplicated(subset=[\"hostname\", \"pl_name\"], keep=False)].sort_values(\n",
    "    by=[\"hostname\", \"pl_name\"]\n",
    ")\n",
    "\n",
    "if len(dp) > 0:\n",
    "    logger.error(f\"Duplicated rows for {dp['hostname'].unique()}\")\n",
    "    raise ValueError(f\"Duplicated rows for {dp['hostname'].unique()}\")\n",
    "logger.info(\"No duplicates found\")"
   ]
  },
  {
   "cell_type": "markdown",
   "metadata": {},
   "source": [
    "Instantiate flags\n"
   ]
  },
  {
   "cell_type": "code",
   "execution_count": 13,
   "metadata": {},
   "outputs": [
    {
     "name": "stderr",
     "output_type": "stream",
     "text": [
      "\u001b[32m2025-07-08 16:22:56.189\u001b[0m | \u001b[1mINFO    \u001b[0m | \u001b[36m__main__\u001b[0m:\u001b[36m<module>\u001b[0m:\u001b[36m1\u001b[0m - \u001b[1mInstantiating the flags\u001b[0m\n",
      "\u001b[32m2025-07-08 16:22:56.192\u001b[0m | \u001b[1mINFO    \u001b[0m | \u001b[36m__main__\u001b[0m:\u001b[36m<module>\u001b[0m:\u001b[36m3\u001b[0m - \u001b[1mFlags instantiated\u001b[0m\n"
     ]
    }
   ],
   "source": [
    "logger.info(\"Instantiating the flags\")\n",
    "df[\"flag\"] = \"0\"\n",
    "logger.info(\"Flags instantiated\")"
   ]
  },
  {
   "cell_type": "markdown",
   "metadata": {},
   "source": [
    "Solve missing eccentricity values\n"
   ]
  },
  {
   "cell_type": "code",
   "execution_count": 14,
   "metadata": {},
   "outputs": [
    {
     "name": "stderr",
     "output_type": "stream",
     "text": [
      "\u001b[32m2025-07-08 16:22:58.311\u001b[0m | \u001b[1mINFO    \u001b[0m | \u001b[36m__main__\u001b[0m:\u001b[36m<module>\u001b[0m:\u001b[36m1\u001b[0m - \u001b[1mInterpolating missing eccentricity values\u001b[0m\n"
     ]
    },
    {
     "data": {
      "application/vnd.jupyter.widget-view+json": {
       "model_id": "0bc34792be954136b340f4f355380d38",
       "version_major": 2,
       "version_minor": 0
      },
      "text/plain": [
       "Pandas Apply:   0%|          | 0/24 [00:00<?, ?it/s]"
      ]
     },
     "metadata": {},
     "output_type": "display_data"
    },
    {
     "name": "stderr",
     "output_type": "stream",
     "text": [
      "\u001b[32m2025-07-08 16:22:58.345\u001b[0m | \u001b[1mINFO    \u001b[0m | \u001b[36m__main__\u001b[0m:\u001b[36m<module>\u001b[0m:\u001b[36m10\u001b[0m - \u001b[1mValues interpolated\u001b[0m\n"
     ]
    }
   ],
   "source": [
    "logger.info(\"Interpolating missing eccentricity values\")\n",
    "df[\n",
    "    [\n",
    "        \"pl_orbeccen\",\n",
    "        \"pl_orbeccenerr1\",\n",
    "        \"pl_orbeccenerr2\",\n",
    "        \"flag\",\n",
    "    ]\n",
    "] = df.swifter.apply(interp_eccentricity, axis=1)\n",
    "logger.info(\"Values interpolated\")"
   ]
  },
  {
   "cell_type": "markdown",
   "metadata": {},
   "source": [
    "Solve missing planetary mass values\n"
   ]
  },
  {
   "cell_type": "code",
   "execution_count": 15,
   "metadata": {},
   "outputs": [
    {
     "name": "stderr",
     "output_type": "stream",
     "text": [
      "\u001b[32m2025-07-08 16:23:00.578\u001b[0m | \u001b[1mINFO    \u001b[0m | \u001b[36m__main__\u001b[0m:\u001b[36m<module>\u001b[0m:\u001b[36m1\u001b[0m - \u001b[1mInterpolating missing planetary mass values\u001b[0m\n"
     ]
    },
    {
     "data": {
      "application/vnd.jupyter.widget-view+json": {
       "model_id": "b7f60ba4d3524757993e35d2fccc8e02",
       "version_major": 2,
       "version_minor": 0
      },
      "text/plain": [
       "Pandas Apply:   0%|          | 0/24 [00:00<?, ?it/s]"
      ]
     },
     "metadata": {},
     "output_type": "display_data"
    },
    {
     "name": "stderr",
     "output_type": "stream",
     "text": [
      "\u001b[32m2025-07-08 16:23:00.614\u001b[0m | \u001b[1mINFO    \u001b[0m | \u001b[36m__main__\u001b[0m:\u001b[36m<module>\u001b[0m:\u001b[36m10\u001b[0m - \u001b[1mValues interpolated\u001b[0m\n"
     ]
    }
   ],
   "source": [
    "logger.info(\"Interpolating missing planetary mass values\")\n",
    "df[\n",
    "    [\n",
    "        \"pl_bmasse\",\n",
    "        \"pl_bmasseerr1\",\n",
    "        \"pl_bmasseerr2\",\n",
    "        \"flag\",\n",
    "    ]\n",
    "] = df.swifter.apply(interp_mass, axis=1)\n",
    "logger.info(\"Values interpolated\")"
   ]
  },
  {
   "cell_type": "markdown",
   "metadata": {},
   "source": [
    "Drop columns that are no longer needed\n"
   ]
  },
  {
   "cell_type": "code",
   "execution_count": 16,
   "metadata": {},
   "outputs": [
    {
     "name": "stderr",
     "output_type": "stream",
     "text": [
      "\u001b[32m2025-07-08 16:23:05.170\u001b[0m | \u001b[34m\u001b[1mDEBUG   \u001b[0m | \u001b[36m__main__\u001b[0m:\u001b[36m<module>\u001b[0m:\u001b[36m1\u001b[0m - \u001b[34m\u001b[1mDropping columns that are no longer needed\u001b[0m\n",
      "\u001b[32m2025-07-08 16:23:05.173\u001b[0m | \u001b[34m\u001b[1mDEBUG   \u001b[0m | \u001b[36m__main__\u001b[0m:\u001b[36m<module>\u001b[0m:\u001b[36m3\u001b[0m - \u001b[34m\u001b[1mColumns dropped\u001b[0m\n"
     ]
    }
   ],
   "source": [
    "logger.debug(\"Dropping columns that are no longer needed\")\n",
    "df.drop(columns=[\"pl_rade\", \"pl_radeerr1\", \"pl_radeerr2\"], inplace=True)\n",
    "logger.debug(\"Columns dropped\")"
   ]
  },
  {
   "cell_type": "markdown",
   "metadata": {},
   "source": [
    "Remove systems where at least one planet has no mass or semi-major axis (if any)\n"
   ]
  },
  {
   "cell_type": "code",
   "execution_count": 17,
   "metadata": {},
   "outputs": [
    {
     "name": "stderr",
     "output_type": "stream",
     "text": [
      "\u001b[32m2025-07-08 16:23:07.799\u001b[0m | \u001b[1mINFO    \u001b[0m | \u001b[36m__main__\u001b[0m:\u001b[36m<module>\u001b[0m:\u001b[36m1\u001b[0m - \u001b[1mRemoving systems where at least one planet has no mass or semi-major axis\u001b[0m\n",
      "\u001b[32m2025-07-08 16:23:07.808\u001b[0m | \u001b[1mINFO    \u001b[0m | \u001b[36m__main__\u001b[0m:\u001b[36m<module>\u001b[0m:\u001b[36m8\u001b[0m - \u001b[1mRemoving 0 systems: []\u001b[0m\n",
      "\u001b[32m2025-07-08 16:23:07.810\u001b[0m | \u001b[1mINFO    \u001b[0m | \u001b[36m__main__\u001b[0m:\u001b[36m<module>\u001b[0m:\u001b[36m10\u001b[0m - \u001b[1mSystems removed\u001b[0m\n"
     ]
    }
   ],
   "source": [
    "logger.info(\"Removing systems where at least one planet has no mass or semi-major axis\")\n",
    "mask = (\n",
    "    df.groupby(\"hostname\")[[\"pl_bmasse\", \"pl_orbsmax\"]]\n",
    "    .transform(lambda x: x.isnull().any())\n",
    "    .any(axis=1)\n",
    ")\n",
    "rm_systems = df[mask][\"hostname\"].unique()\n",
    "logger.info(f\"Removing {len(rm_systems)} systems: {rm_systems}\")\n",
    "df = df[~mask]\n",
    "logger.info(\"Systems removed\")"
   ]
  },
  {
   "cell_type": "markdown",
   "metadata": {},
   "source": [
    "Solve missing values in inclinations\n"
   ]
  },
  {
   "cell_type": "code",
   "execution_count": 18,
   "metadata": {},
   "outputs": [
    {
     "name": "stderr",
     "output_type": "stream",
     "text": [
      "\u001b[32m2025-07-08 16:23:11.412\u001b[0m | \u001b[1mINFO    \u001b[0m | \u001b[36m__main__\u001b[0m:\u001b[36m<module>\u001b[0m:\u001b[36m1\u001b[0m - \u001b[1mInterpolating missing values in inclinations\u001b[0m\n"
     ]
    },
    {
     "data": {
      "application/vnd.jupyter.widget-view+json": {
       "model_id": "213aa45a10b14d45856eeb36ebc6fb94",
       "version_major": 2,
       "version_minor": 0
      },
      "text/plain": [
       "Pandas Apply:   0%|          | 0/24 [00:00<?, ?it/s]"
      ]
     },
     "metadata": {},
     "output_type": "display_data"
    },
    {
     "name": "stderr",
     "output_type": "stream",
     "text": [
      "\u001b[32m2025-07-08 16:23:11.475\u001b[0m | \u001b[1mINFO    \u001b[0m | \u001b[36m__main__\u001b[0m:\u001b[36m<module>\u001b[0m:\u001b[36m10\u001b[0m - \u001b[1mValues interpolated\u001b[0m\n"
     ]
    }
   ],
   "source": [
    "logger.info(\"Interpolating missing values in inclinations\")\n",
    "df[\n",
    "    [\n",
    "        \"pl_orbincl\",\n",
    "        \"pl_orbinclerr1\",\n",
    "        \"pl_orbinclerr2\",\n",
    "        \"flag\",\n",
    "    ]\n",
    "] = df.swifter.apply(interp_inclination, args=(df,), axis=1)\n",
    "logger.info(\"Values interpolated\")"
   ]
  },
  {
   "cell_type": "markdown",
   "metadata": {},
   "source": [
    "Interpolate missing values in semi-major axis uncertainties\n"
   ]
  },
  {
   "cell_type": "code",
   "execution_count": 19,
   "metadata": {},
   "outputs": [
    {
     "name": "stderr",
     "output_type": "stream",
     "text": [
      "\u001b[32m2025-07-08 16:23:15.533\u001b[0m | \u001b[1mINFO    \u001b[0m | \u001b[36m__main__\u001b[0m:\u001b[36m<module>\u001b[0m:\u001b[36m1\u001b[0m - \u001b[1mInterpolating missing values in semi-major axis uncertainties\u001b[0m\n"
     ]
    },
    {
     "data": {
      "application/vnd.jupyter.widget-view+json": {
       "model_id": "a471a243f5164f00a1419cc74ae501e4",
       "version_major": 2,
       "version_minor": 0
      },
      "text/plain": [
       "Pandas Apply:   0%|          | 0/24 [00:00<?, ?it/s]"
      ]
     },
     "metadata": {},
     "output_type": "display_data"
    },
    {
     "name": "stderr",
     "output_type": "stream",
     "text": [
      "\u001b[32m2025-07-08 16:23:15.567\u001b[0m | \u001b[1mINFO    \u001b[0m | \u001b[36m__main__\u001b[0m:\u001b[36m<module>\u001b[0m:\u001b[36m9\u001b[0m - \u001b[1mValues interpolated\u001b[0m\n"
     ]
    }
   ],
   "source": [
    "logger.info(\"Interpolating missing values in semi-major axis uncertainties\")\n",
    "df[\n",
    "    [\n",
    "        \"pl_orbsmaxerr1\",\n",
    "        \"pl_orbsmaxerr2\",\n",
    "        \"flag\",\n",
    "    ]\n",
    "] = df.swifter.apply(interp_sma, axis=1)\n",
    "logger.info(\"Values interpolated\")"
   ]
  },
  {
   "cell_type": "code",
   "execution_count": null,
   "metadata": {},
   "outputs": [],
   "source": []
  },
  {
   "cell_type": "markdown",
   "metadata": {},
   "source": [
    "### Task 6: compute the parameters for the NAMD calculation\n"
   ]
  },
  {
   "cell_type": "markdown",
   "metadata": {},
   "source": [
    "Compute the relative inclination\n"
   ]
  },
  {
   "cell_type": "code",
   "execution_count": 20,
   "metadata": {},
   "outputs": [
    {
     "name": "stderr",
     "output_type": "stream",
     "text": [
      "\u001b[32m2025-07-08 16:23:22.955\u001b[0m | \u001b[1mINFO    \u001b[0m | \u001b[36m__main__\u001b[0m:\u001b[36m<module>\u001b[0m:\u001b[36m1\u001b[0m - \u001b[1mComputing the relative inclinations\u001b[0m\n"
     ]
    },
    {
     "data": {
      "application/vnd.jupyter.widget-view+json": {
       "model_id": "efcf6a1321b94228aab5007eb702b81a",
       "version_major": 2,
       "version_minor": 0
      },
      "text/plain": [
       "Pandas Apply:   0%|          | 0/24 [00:00<?, ?it/s]"
      ]
     },
     "metadata": {},
     "output_type": "display_data"
    },
    {
     "name": "stderr",
     "output_type": "stream",
     "text": [
      "\u001b[32m2025-07-08 16:23:23.029\u001b[0m | \u001b[1mINFO    \u001b[0m | \u001b[36m__main__\u001b[0m:\u001b[36m<module>\u001b[0m:\u001b[36m9\u001b[0m - \u001b[1mValues computed\u001b[0m\n"
     ]
    }
   ],
   "source": [
    "logger.info(\"Computing the relative inclinations\")\n",
    "df[\n",
    "    [\n",
    "        \"pl_relincl\",\n",
    "        \"pl_relinclerr1\",\n",
    "        \"pl_relinclerr2\",\n",
    "    ]\n",
    "] = df.swifter.apply(solve_relincl, args=(df,), axis=1)\n",
    "logger.info(\"Values computed\")"
   ]
  },
  {
   "cell_type": "markdown",
   "metadata": {},
   "source": [
    "Interpolate missing values in true obliquity\n"
   ]
  },
  {
   "cell_type": "code",
   "execution_count": 21,
   "metadata": {},
   "outputs": [
    {
     "name": "stderr",
     "output_type": "stream",
     "text": [
      "\u001b[32m2025-07-08 16:23:27.404\u001b[0m | \u001b[1mINFO    \u001b[0m | \u001b[36m__main__\u001b[0m:\u001b[36m<module>\u001b[0m:\u001b[36m1\u001b[0m - \u001b[1mInterpolating missing values in true obliquity\u001b[0m\n"
     ]
    },
    {
     "data": {
      "application/vnd.jupyter.widget-view+json": {
       "model_id": "1b1ee939ad1a45779cfa890bc4405967",
       "version_major": 2,
       "version_minor": 0
      },
      "text/plain": [
       "Pandas Apply:   0%|          | 0/24 [00:00<?, ?it/s]"
      ]
     },
     "metadata": {},
     "output_type": "display_data"
    },
    {
     "name": "stderr",
     "output_type": "stream",
     "text": [
      "\u001b[32m2025-07-08 16:23:27.479\u001b[0m | \u001b[1mINFO    \u001b[0m | \u001b[36m__main__\u001b[0m:\u001b[36m<module>\u001b[0m:\u001b[36m10\u001b[0m - \u001b[1mValues interpolated\u001b[0m\n"
     ]
    }
   ],
   "source": [
    "logger.info(\"Interpolating missing values in true obliquity\")\n",
    "df[\n",
    "    [\n",
    "        \"pl_trueobliq\",\n",
    "        \"pl_trueobliqerr1\",\n",
    "        \"pl_trueobliqerr2\",\n",
    "        \"flag\",\n",
    "    ]\n",
    "] = df.swifter.apply(interp_trueobliq, args=(df,), axis=1)\n",
    "logger.info(\"Values interpolated\")"
   ]
  },
  {
   "cell_type": "code",
   "execution_count": null,
   "metadata": {},
   "outputs": [],
   "source": []
  },
  {
   "cell_type": "markdown",
   "metadata": {},
   "source": [
    "### Task 7: storing the curated+interpolated database\n"
   ]
  },
  {
   "cell_type": "code",
   "execution_count": 22,
   "metadata": {},
   "outputs": [
    {
     "name": "stderr",
     "output_type": "stream",
     "text": [
      "\u001b[32m2025-07-08 16:23:39.534\u001b[0m | \u001b[1mINFO    \u001b[0m | \u001b[36m__main__\u001b[0m:\u001b[36m<module>\u001b[0m:\u001b[36m1\u001b[0m - \u001b[1mStoring the curated+interpolated database\u001b[0m\n",
      "\u001b[32m2025-07-08 16:23:39.542\u001b[0m | \u001b[1mINFO    \u001b[0m | \u001b[36m__main__\u001b[0m:\u001b[36m<module>\u001b[0m:\u001b[36m4\u001b[0m - \u001b[1mDatabase stored at /export/NAS/ariel/data/andrea.bocchieri/ExoNAMD/exonamd/data/exo_interp_custom_db_20241017e.csv\u001b[0m\n"
     ]
    }
   ],
   "source": [
    "logger.info(\"Storing the curated+interpolated database\")\n",
    "out_path = os.path.join(ROOT, \"data\", f\"exo_interp_{fname}.csv\")\n",
    "df.to_csv(out_path, index=False)\n",
    "logger.info(f\"Database stored at {out_path}\")"
   ]
  },
  {
   "cell_type": "code",
   "execution_count": 23,
   "metadata": {},
   "outputs": [],
   "source": [
    "df = pd.read_csv(os.path.join(ROOT, \"data\", f\"exo_interp_{fname}.csv\"))"
   ]
  },
  {
   "cell_type": "code",
   "execution_count": null,
   "metadata": {},
   "outputs": [],
   "source": []
  },
  {
   "cell_type": "markdown",
   "metadata": {},
   "source": [
    "### Task 8: computing the NAMD\n"
   ]
  },
  {
   "cell_type": "markdown",
   "metadata": {},
   "source": [
    "Drop columns that are no longer needed"
   ]
  },
  {
   "cell_type": "code",
   "execution_count": 24,
   "metadata": {},
   "outputs": [
    {
     "name": "stderr",
     "output_type": "stream",
     "text": [
      "\u001b[32m2025-07-08 16:23:55.421\u001b[0m | \u001b[34m\u001b[1mDEBUG   \u001b[0m | \u001b[36m__main__\u001b[0m:\u001b[36m<module>\u001b[0m:\u001b[36m1\u001b[0m - \u001b[34m\u001b[1mDropping columns that are no longer needed\u001b[0m\n",
      "\u001b[32m2025-07-08 16:23:55.424\u001b[0m | \u001b[34m\u001b[1mDEBUG   \u001b[0m | \u001b[36m__main__\u001b[0m:\u001b[36m<module>\u001b[0m:\u001b[36m3\u001b[0m - \u001b[34m\u001b[1mColumns dropped\u001b[0m\n"
     ]
    }
   ],
   "source": [
    "logger.debug(\"Dropping columns that are no longer needed\")\n",
    "df.drop(columns=[\"pl_orbincl\", \"pl_orbinclerr1\", \"pl_orbinclerr2\"], inplace=True)\n",
    "logger.debug(\"Columns dropped\")"
   ]
  },
  {
   "cell_type": "markdown",
   "metadata": {},
   "source": [
    "Solve the relative and absolute namd\n"
   ]
  },
  {
   "cell_type": "code",
   "execution_count": 25,
   "metadata": {},
   "outputs": [
    {
     "name": "stderr",
     "output_type": "stream",
     "text": [
      "\u001b[32m2025-07-08 16:23:57.442\u001b[0m | \u001b[1mINFO    \u001b[0m | \u001b[36m__main__\u001b[0m:\u001b[36m<module>\u001b[0m:\u001b[36m1\u001b[0m - \u001b[1mComputing the relative NAMD\u001b[0m\n",
      "\u001b[32m2025-07-08 16:23:57.485\u001b[0m | \u001b[1mINFO    \u001b[0m | \u001b[36m__main__\u001b[0m:\u001b[36m<module>\u001b[0m:\u001b[36m9\u001b[0m - \u001b[1mRelative NAMD computed\u001b[0m\n"
     ]
    }
   ],
   "source": [
    "logger.info(\"Computing the relative NAMD\")\n",
    "df = groupby_apply_merge(\n",
    "    df,\n",
    "    \"hostname\",\n",
    "    solve_namd,\n",
    "    kind=\"rel\",\n",
    "    allow_overwrite=True,\n",
    ")\n",
    "logger.info(\"Relative NAMD computed\")"
   ]
  },
  {
   "cell_type": "code",
   "execution_count": 26,
   "metadata": {},
   "outputs": [
    {
     "name": "stderr",
     "output_type": "stream",
     "text": [
      "\u001b[32m2025-07-08 16:24:00.691\u001b[0m | \u001b[1mINFO    \u001b[0m | \u001b[36m__main__\u001b[0m:\u001b[36m<module>\u001b[0m:\u001b[36m1\u001b[0m - \u001b[1mComputing the absolute NAMD\u001b[0m\n",
      "\u001b[32m2025-07-08 16:24:00.712\u001b[0m | \u001b[1mINFO    \u001b[0m | \u001b[36m__main__\u001b[0m:\u001b[36m<module>\u001b[0m:\u001b[36m9\u001b[0m - \u001b[1mAbsolute NAMD computed\u001b[0m\n"
     ]
    }
   ],
   "source": [
    "logger.info(\"Computing the absolute NAMD\")\n",
    "df = groupby_apply_merge(\n",
    "    df,\n",
    "    \"hostname\",\n",
    "    solve_namd,\n",
    "    kind=\"abs\",\n",
    "    allow_overwrite=True,\n",
    ")\n",
    "logger.info(\"Absolute NAMD computed\")"
   ]
  },
  {
   "cell_type": "code",
   "execution_count": 27,
   "metadata": {},
   "outputs": [
    {
     "data": {
      "image/png": "[encoded data removed]",
      "text/plain": [
       "<Figure size 640x480 with 1 Axes>"
      ]
     },
     "metadata": {},
     "output_type": "display_data"
    }
   ],
   "source": [
    "_ = (\n",
    "    df.groupby(\"hostname\")[[\"namd_rel\", \"namd_abs\"]]\n",
    "    .transform(\"mean\")\n",
    "    .plot(kind=\"scatter\", x=\"namd_rel\", y=\"namd_abs\", loglog=True)\n",
    ")"
   ]
  },
  {
   "cell_type": "code",
   "execution_count": 41,
   "metadata": {},
   "outputs": [
    {
     "data": {
      "text/html": [
       "<div>\n",
       "<style scoped>\n",
       "    .dataframe tbody tr th:only-of-type {\n",
       "        vertical-align: middle;\n",
       "    }\n",
       "\n",
       "    .dataframe tbody tr th {\n",
       "        vertical-align: top;\n",
       "    }\n",
       "\n",
       "    .dataframe thead th {\n",
       "        text-align: right;\n",
       "    }\n",
       "</style>\n",
       "<table border=\"1\" class=\"dataframe\">\n",
       "  <thead>\n",
       "    <tr style=\"text-align: right;\">\n",
       "      <th></th>\n",
       "      <th>namd_rel</th>\n",
       "      <th>namd_abs</th>\n",
       "    </tr>\n",
       "  </thead>\n",
       "  <tbody>\n",
       "    <tr>\n",
       "      <th>0</th>\n",
       "      <td>0.001142</td>\n",
       "      <td>1.202155e-03</td>\n",
       "    </tr>\n",
       "    <tr>\n",
       "      <th>1</th>\n",
       "      <td>0.001142</td>\n",
       "      <td>1.202155e-03</td>\n",
       "    </tr>\n",
       "    <tr>\n",
       "      <th>2</th>\n",
       "      <td>0.001142</td>\n",
       "      <td>1.202155e-03</td>\n",
       "    </tr>\n",
       "    <tr>\n",
       "      <th>3</th>\n",
       "      <td>0.001142</td>\n",
       "      <td>1.202155e-03</td>\n",
       "    </tr>\n",
       "    <tr>\n",
       "      <th>4</th>\n",
       "      <td>0.001142</td>\n",
       "      <td>1.202155e-03</td>\n",
       "    </tr>\n",
       "    <tr>\n",
       "      <th>5</th>\n",
       "      <td>0.001142</td>\n",
       "      <td>1.202155e-03</td>\n",
       "    </tr>\n",
       "    <tr>\n",
       "      <th>6</th>\n",
       "      <td>0.001142</td>\n",
       "      <td>1.202155e-03</td>\n",
       "    </tr>\n",
       "    <tr>\n",
       "      <th>7</th>\n",
       "      <td>0.001142</td>\n",
       "      <td>1.202155e-03</td>\n",
       "    </tr>\n",
       "    <tr>\n",
       "      <th>8</th>\n",
       "      <td>0.001142</td>\n",
       "      <td>3.690002e-02</td>\n",
       "    </tr>\n",
       "    <tr>\n",
       "      <th>9</th>\n",
       "      <td>0.001142</td>\n",
       "      <td>3.690002e-02</td>\n",
       "    </tr>\n",
       "    <tr>\n",
       "      <th>10</th>\n",
       "      <td>0.001142</td>\n",
       "      <td>3.690002e-02</td>\n",
       "    </tr>\n",
       "    <tr>\n",
       "      <th>11</th>\n",
       "      <td>0.001142</td>\n",
       "      <td>3.690002e-02</td>\n",
       "    </tr>\n",
       "    <tr>\n",
       "      <th>12</th>\n",
       "      <td>0.001142</td>\n",
       "      <td>3.690002e-02</td>\n",
       "    </tr>\n",
       "    <tr>\n",
       "      <th>13</th>\n",
       "      <td>0.001142</td>\n",
       "      <td>3.690002e-02</td>\n",
       "    </tr>\n",
       "    <tr>\n",
       "      <th>14</th>\n",
       "      <td>0.001142</td>\n",
       "      <td>3.690002e-02</td>\n",
       "    </tr>\n",
       "    <tr>\n",
       "      <th>15</th>\n",
       "      <td>0.001142</td>\n",
       "      <td>3.690002e-02</td>\n",
       "    </tr>\n",
       "    <tr>\n",
       "      <th>16</th>\n",
       "      <td>0.000000</td>\n",
       "      <td>5.861665e-07</td>\n",
       "    </tr>\n",
       "    <tr>\n",
       "      <th>17</th>\n",
       "      <td>0.000000</td>\n",
       "      <td>5.861665e-07</td>\n",
       "    </tr>\n",
       "    <tr>\n",
       "      <th>18</th>\n",
       "      <td>0.000000</td>\n",
       "      <td>5.861665e-07</td>\n",
       "    </tr>\n",
       "    <tr>\n",
       "      <th>19</th>\n",
       "      <td>0.000000</td>\n",
       "      <td>5.861665e-07</td>\n",
       "    </tr>\n",
       "    <tr>\n",
       "      <th>20</th>\n",
       "      <td>0.000000</td>\n",
       "      <td>5.861665e-07</td>\n",
       "    </tr>\n",
       "    <tr>\n",
       "      <th>21</th>\n",
       "      <td>0.000000</td>\n",
       "      <td>5.861665e-07</td>\n",
       "    </tr>\n",
       "    <tr>\n",
       "      <th>22</th>\n",
       "      <td>0.000000</td>\n",
       "      <td>5.861665e-07</td>\n",
       "    </tr>\n",
       "    <tr>\n",
       "      <th>23</th>\n",
       "      <td>0.000000</td>\n",
       "      <td>5.861665e-07</td>\n",
       "    </tr>\n",
       "  </tbody>\n",
       "</table>\n",
       "</div>"
      ],
      "text/plain": [
       "    namd_rel      namd_abs\n",
       "0   0.001142  1.202155e-03\n",
       "1   0.001142  1.202155e-03\n",
       "2   0.001142  1.202155e-03\n",
       "3   0.001142  1.202155e-03\n",
       "4   0.001142  1.202155e-03\n",
       "5   0.001142  1.202155e-03\n",
       "6   0.001142  1.202155e-03\n",
       "7   0.001142  1.202155e-03\n",
       "8   0.001142  3.690002e-02\n",
       "9   0.001142  3.690002e-02\n",
       "10  0.001142  3.690002e-02\n",
       "11  0.001142  3.690002e-02\n",
       "12  0.001142  3.690002e-02\n",
       "13  0.001142  3.690002e-02\n",
       "14  0.001142  3.690002e-02\n",
       "15  0.001142  3.690002e-02\n",
       "16  0.000000  5.861665e-07\n",
       "17  0.000000  5.861665e-07\n",
       "18  0.000000  5.861665e-07\n",
       "19  0.000000  5.861665e-07\n",
       "20  0.000000  5.861665e-07\n",
       "21  0.000000  5.861665e-07\n",
       "22  0.000000  5.861665e-07\n",
       "23  0.000000  5.861665e-07"
      ]
     },
     "execution_count": 41,
     "metadata": {},
     "output_type": "execute_result"
    }
   ],
   "source": [
    "df[[\"namd_rel\", \"namd_abs\"]]"
   ]
  },
  {
   "cell_type": "code",
   "execution_count": 28,
   "metadata": {},
   "outputs": [
    {
     "data": {
      "image/png": "[encoded data removed]",
      "text/plain": [
       "<Figure size 640x480 with 1 Axes>"
      ]
     },
     "metadata": {},
     "output_type": "display_data"
    }
   ],
   "source": [
    "_ = (\n",
    "    df.groupby(\"hostname\")[[\"sy_pnum\", \"namd_rel\"]]\n",
    "    .mean()\n",
    "    .reset_index()\n",
    "    .plot(kind=\"scatter\", x=\"sy_pnum\", y=\"namd_rel\", logy=True, title=\"Full sample\")\n",
    ")"
   ]
  },
  {
   "cell_type": "code",
   "execution_count": 29,
   "metadata": {},
   "outputs": [
    {
     "data": {
      "image/png": "[encoded data removed]",
      "text/plain": [
       "<Figure size 640x480 with 1 Axes>"
      ]
     },
     "metadata": {},
     "output_type": "display_data"
    }
   ],
   "source": [
    "_ = (\n",
    "    df.groupby(\"hostname\")[[\"sy_pnum\", \"namd_abs\"]]\n",
    "    .mean()\n",
    "    .reset_index()\n",
    "    .plot(kind=\"scatter\", x=\"sy_pnum\", y=\"namd_abs\", logy=True, title=\"Full sample\")\n",
    ")"
   ]
  },
  {
   "cell_type": "code",
   "execution_count": null,
   "metadata": {},
   "outputs": [],
   "source": []
  },
  {
   "cell_type": "markdown",
   "metadata": {},
   "source": [
    "### Task 9: computing the NAMD and associated confidence intervals\n"
   ]
  },
  {
   "cell_type": "code",
   "execution_count": 30,
   "metadata": {},
   "outputs": [],
   "source": [
    "Npt = 200000\n",
    "threshold = 1000"
   ]
  },
  {
   "cell_type": "code",
   "execution_count": 31,
   "metadata": {},
   "outputs": [
    {
     "name": "stderr",
     "output_type": "stream",
     "text": [
      "\u001b[32m2025-07-08 16:24:48.225\u001b[0m | \u001b[1mINFO    \u001b[0m | \u001b[36m__main__\u001b[0m:\u001b[36m<module>\u001b[0m:\u001b[36m1\u001b[0m - \u001b[1mComputing the Monte Carlo relative NAMD\u001b[0m\n"
     ]
    },
    {
     "name": "stderr",
     "output_type": "stream",
     "text": [
      "\u001b[32m2025-07-08 16:24:49.255\u001b[0m | \u001b[1mINFO    \u001b[0m | \u001b[36m__main__\u001b[0m:\u001b[36m<module>\u001b[0m:\u001b[36m11\u001b[0m - \u001b[1mRelative NAMD computed\u001b[0m\n"
     ]
    }
   ],
   "source": [
    "logger.info(\"Computing the Monte Carlo relative NAMD\")\n",
    "df = groupby_apply_merge(\n",
    "    df,\n",
    "    \"hostname\",\n",
    "    solve_namd_mc,\n",
    "    kind=\"rel\",\n",
    "    Npt=Npt,\n",
    "    threshold=threshold,\n",
    "    allow_overwrite=True,\n",
    ")\n",
    "logger.info(\"Relative NAMD computed\")"
   ]
  },
  {
   "cell_type": "code",
   "execution_count": 32,
   "metadata": {},
   "outputs": [
    {
     "name": "stderr",
     "output_type": "stream",
     "text": [
      "\u001b[32m2025-07-08 16:24:50.115\u001b[0m | \u001b[1mINFO    \u001b[0m | \u001b[36m__main__\u001b[0m:\u001b[36m<module>\u001b[0m:\u001b[36m1\u001b[0m - \u001b[1mComputing the Monte Carlo absolute NAMD\u001b[0m\n"
     ]
    },
    {
     "name": "stderr",
     "output_type": "stream",
     "text": [
      "\u001b[32m2025-07-08 16:24:51.046\u001b[0m | \u001b[1mINFO    \u001b[0m | \u001b[36m__main__\u001b[0m:\u001b[36m<module>\u001b[0m:\u001b[36m11\u001b[0m - \u001b[1mAbsolute NAMD computed\u001b[0m\n"
     ]
    }
   ],
   "source": [
    "logger.info(\"Computing the Monte Carlo absolute NAMD\")\n",
    "df = groupby_apply_merge(\n",
    "    df,\n",
    "    \"hostname\",\n",
    "    solve_namd_mc,\n",
    "    kind=\"abs\",\n",
    "    Npt=Npt,\n",
    "    threshold=threshold,\n",
    "    allow_overwrite=True,\n",
    ")\n",
    "logger.info(\"Absolute NAMD computed\")"
   ]
  },
  {
   "cell_type": "code",
   "execution_count": 33,
   "metadata": {},
   "outputs": [
    {
     "data": {
      "image/png": "[encoded data removed]",
      "text/plain": [
       "<Figure size 640x480 with 1 Axes>"
      ]
     },
     "metadata": {},
     "output_type": "display_data"
    }
   ],
   "source": [
    "_ = (\n",
    "    df.groupby(\"hostname\")[[\"namd_rel_q50\", \"namd_abs_q50\"]]\n",
    "    .transform(\"mean\")\n",
    "    .plot(kind=\"scatter\", x=\"namd_rel_q50\", y=\"namd_abs_q50\", loglog=True)\n",
    ")"
   ]
  },
  {
   "cell_type": "code",
   "execution_count": 34,
   "metadata": {},
   "outputs": [
    {
     "name": "stderr",
     "output_type": "stream",
     "text": [
      "\u001b[32m2025-07-08 16:25:34.698\u001b[0m | \u001b[1mINFO    \u001b[0m | \u001b[36m__main__\u001b[0m:\u001b[36m<module>\u001b[0m:\u001b[36m1\u001b[0m - \u001b[1mStoring the NAMD database\u001b[0m\n",
      "\u001b[32m2025-07-08 16:25:34.708\u001b[0m | \u001b[1mINFO    \u001b[0m | \u001b[36m__main__\u001b[0m:\u001b[36m<module>\u001b[0m:\u001b[36m4\u001b[0m - \u001b[1mDatabase stored at /export/NAS/ariel/data/andrea.bocchieri/ExoNAMD/exonamd/data/exo_namd_custom_db_20241017e.csv\u001b[0m\n"
     ]
    }
   ],
   "source": [
    "logger.info(\"Storing the NAMD database\")\n",
    "out_path = os.path.join(ROOT, \"data\", f\"exo_namd_{fname}.csv\")\n",
    "df.to_csv(out_path, index=False)\n",
    "logger.info(f\"Database stored at {out_path}\")"
   ]
  },
  {
   "cell_type": "code",
   "execution_count": 35,
   "metadata": {},
   "outputs": [],
   "source": [
    "df = pd.read_csv(os.path.join(ROOT, \"data\", f\"exo_namd_{fname}.csv\"))"
   ]
  },
  {
   "cell_type": "code",
   "execution_count": null,
   "metadata": {},
   "outputs": [],
   "source": []
  },
  {
   "cell_type": "markdown",
   "metadata": {},
   "source": [
    "### Some plots\n"
   ]
  },
  {
   "cell_type": "code",
   "execution_count": 36,
   "metadata": {},
   "outputs": [
    {
     "name": "stderr",
     "output_type": "stream",
     "text": [
      "\u001b[32m2025-07-08 16:25:39.625\u001b[0m | \u001b[1mINFO    \u001b[0m | \u001b[36m__main__\u001b[0m:\u001b[36m<module>\u001b[0m:\u001b[36m1\u001b[0m - \u001b[1mPlotting the NAMD vs. multiplicity\u001b[0m\n"
     ]
    },
    {
     "data": {
      "image/png": "[encoded data removed]",
      "text/plain": [
       "<Figure size 640x480 with 2 Axes>"
      ]
     },
     "metadata": {},
     "output_type": "display_data"
    },
    {
     "name": "stderr",
     "output_type": "stream",
     "text": [
      "\u001b[32m2025-07-08 16:25:39.943\u001b[0m | \u001b[1mINFO    \u001b[0m | \u001b[36m__main__\u001b[0m:\u001b[36m<module>\u001b[0m:\u001b[36m12\u001b[0m - \u001b[1mPlot done\u001b[0m\n"
     ]
    }
   ],
   "source": [
    "logger.info(\"Plotting the NAMD vs. multiplicity\")\n",
    "pop_plot(\n",
    "    df=df.groupby(\"hostname\").apply(\n",
    "        lambda g: g.select_dtypes(exclude=[\"object\"]).mean(),\n",
    "    ),\n",
    "    kind=\"rel\",\n",
    "    # title=\"Core planets\",\n",
    "    which=\"namd\",\n",
    "    yscale=\"log\",\n",
    "    xoffs=True,\n",
    ")\n",
    "logger.info(\"Plot done\")"
   ]
  },
  {
   "cell_type": "code",
   "execution_count": 37,
   "metadata": {},
   "outputs": [
    {
     "name": "stderr",
     "output_type": "stream",
     "text": [
      "\u001b[32m2025-07-08 16:25:51.829\u001b[0m | \u001b[1mINFO    \u001b[0m | \u001b[36m__main__\u001b[0m:\u001b[36m<module>\u001b[0m:\u001b[36m1\u001b[0m - \u001b[1mPlotting the NAMD vs. multiplicity\u001b[0m\n"
     ]
    },
    {
     "data": {
      "image/png": "[encoded data removed]",
      "text/plain": [
       "<Figure size 640x480 with 2 Axes>"
      ]
     },
     "metadata": {},
     "output_type": "display_data"
    },
    {
     "name": "stderr",
     "output_type": "stream",
     "text": [
      "\u001b[32m2025-07-08 16:25:52.271\u001b[0m | \u001b[1mINFO    \u001b[0m | \u001b[36m__main__\u001b[0m:\u001b[36m<module>\u001b[0m:\u001b[36m12\u001b[0m - \u001b[1mPlot done\u001b[0m\n"
     ]
    }
   ],
   "source": [
    "logger.info(\"Plotting the NAMD vs. multiplicity\")\n",
    "pop_plot(\n",
    "    df=df.groupby(\"hostname\").apply(\n",
    "        lambda g: g.select_dtypes(exclude=[\"object\"]).mean(),\n",
    "    ),\n",
    "    kind=\"abs\",\n",
    "    # title=\"Core planets\",\n",
    "    which=\"namd\",\n",
    "    yscale=\"log\",\n",
    "    xoffs=True,\n",
    ")\n",
    "logger.info(\"Plot done\")"
   ]
  },
  {
   "cell_type": "code",
   "execution_count": 38,
   "metadata": {},
   "outputs": [],
   "source": [
    "# Npt = 10000000\n",
    "# threshold = 1000"
   ]
  },
  {
   "cell_type": "code",
   "execution_count": 39,
   "metadata": {},
   "outputs": [],
   "source": [
    "# plot_host_namd(\n",
    "#     df=df,\n",
    "#     hostname=\"TRAPPIST-1\",\n",
    "#     kind=\"abs\",\n",
    "#     Npt=Npt,\n",
    "#     threshold=threshold,\n",
    "# )"
   ]
  },
  {
   "cell_type": "code",
   "execution_count": 40,
   "metadata": {},
   "outputs": [],
   "source": [
    "# plot_host_namd(\n",
    "#     df=df,\n",
    "#     hostname=\"Kepler-462\",\n",
    "#     kind=\"abs\",\n",
    "#     Npt=Npt,\n",
    "#     threshold=threshold,\n",
    "# )"
   ]
  },
  {
   "cell_type": "markdown",
   "metadata": {},
   "source": [
    "TODO: \n",
    "\n",
    "1. check systems where the sy_pnum is different from the number of planets in the system reported in the exoplanet archive. e.g. XO-2 N\n",
    "2. check compatibility with TepCat"
   ]
  },
  {
   "cell_type": "code",
   "execution_count": 717,
   "metadata": {},
   "outputs": [
    {
     "data": {
      "image/png": "[encoded data removed]",
      "text/plain": [
       "<Figure size 640x480 with 1 Axes>"
      ]
     },
     "metadata": {},
     "output_type": "display_data"
    }
   ],
   "source": [
    "df_plot = df.groupby(\"hostname\")[\n",
    "    [\n",
    "        \"namd_rel\",\n",
    "        \"namd_abs\",\n",
    "        \"namd_rel_q16\",\n",
    "        \"namd_rel_q50\",\n",
    "        \"namd_rel_q84\",\n",
    "        \"namd_abs_q16\",\n",
    "        \"namd_abs_q50\",\n",
    "        \"namd_abs_q84\",\n",
    "    ]\n",
    "].apply(lambda g: g.select_dtypes(exclude=[\"object\"]).mean())\n",
    "\n",
    "\n",
    "import matplotlib.pyplot as plt\n",
    "\n",
    "fig = plt.figure()\n",
    "\n",
    "plt.yscale(\"log\")\n",
    "plt.xscale(\"log\")\n",
    "plt.xlabel(\"namd_rel\")\n",
    "plt.ylabel(\"namd_abs\")\n",
    "\n",
    "plt.errorbar(\n",
    "    x=df_plot[\"namd_rel_q50\"],\n",
    "    y=df_plot[\"namd_abs_q50\"],\n",
    "    xerr=(\n",
    "        df_plot[\"namd_rel_q84\"] - df_plot[\"namd_rel_q50\"],\n",
    "        df_plot[\"namd_rel_q50\"] - df_plot[\"namd_rel_q16\"],\n",
    "    ),\n",
    "    yerr=(\n",
    "        df_plot[\"namd_abs_q84\"] - df_plot[\"namd_abs_q50\"],\n",
    "        df_plot[\"namd_abs_q50\"] - df_plot[\"namd_abs_q16\"],\n",
    "    ),\n",
    "    fmt=\"o\",\n",
    "    markersize=3,\n",
    "    capsize=5,\n",
    "    alpha=0.5,\n",
    ")\n",
    "\n",
    "SS = df_plot[df_plot.index == \"SS\"]\n",
    "\n",
    "plt.errorbar(\n",
    "    x=SS[\"namd_rel_q50\"],\n",
    "    y=SS[\"namd_abs_q50\"],\n",
    "    xerr=(\n",
    "        SS[\"namd_rel_q84\"] - SS[\"namd_rel_q50\"],\n",
    "        SS[\"namd_rel_q50\"] - SS[\"namd_rel_q16\"],\n",
    "    ),\n",
    "    yerr=(\n",
    "        SS[\"namd_abs_q84\"] - SS[\"namd_abs_q50\"],\n",
    "        SS[\"namd_abs_q50\"] - SS[\"namd_abs_q16\"],\n",
    "    ),\n",
    "    fmt=\"o\",\n",
    "    markersize=3,\n",
    "    capsize=5,\n",
    "    alpha=0.5,\n",
    "    color=\"r\",\n",
    ")\n",
    "\n",
    "missing_mc = df_plot[\n",
    "    np.logical_or(df_plot[\"namd_abs_q50\"].isna(), df_plot[\"namd_rel_q50\"].isna())\n",
    "]\n",
    "\n",
    "plt.plot(\n",
    "    missing_mc[\"namd_rel\"],\n",
    "    missing_mc[\"namd_abs\"],\n",
    "    \"o\",\n",
    "    color=\"k\",\n",
    "    alpha=0.5,\n",
    "    markersize=3,\n",
    ")\n",
    "\n",
    "ymin = 1e-6\n",
    "ymax = 10\n",
    "xmin = 1e-6\n",
    "xmax = 1\n",
    "\n",
    "plt.xlim(xmin, xmax)\n",
    "plt.ylim(ymin, ymax)\n",
    "plt.vlines(1.3e-3, *plt.ylim(), colors=[\"k\"], linestyles=[\"--\"])\n",
    "plt.hlines(1.3e-3, *plt.xlim(), colors=[\"k\"], linestyles=[\"--\"])\n",
    "\n",
    "fig.text(0.3, 0.85, \"Perturbed, non-excited\", ha=\"center\", va=\"center\")\n",
    "fig.text(0.7, 0.85, \"Perturbed, excited\", ha=\"center\", va=\"center\")\n",
    "\n",
    "fig.text(0.3, 0.15, \"Non-perturbed, non-excited\", ha=\"center\", va=\"center\")\n",
    "fig.text(0.7, 0.15, \"Non-perturbed, excited\", ha=\"center\", va=\"center\")\n",
    "\n",
    "plt.show()"
   ]
  },
  {
   "cell_type": "code",
   "execution_count": 718,
   "metadata": {},
   "outputs": [],
   "source": [
    "# df[[\"pl_name\", \"namd_rel\", \"namd_abs\"]].values"
   ]
  },
  {
   "cell_type": "code",
   "execution_count": 720,
   "metadata": {},
   "outputs": [],
   "source": [
    "# df[df[\"hostname\"].isin([\"TRAPPIST-1\", \"TOI-942\"])].to_csv(\"deleteme.csv\")"
   ]
  },
  {
   "cell_type": "code",
   "execution_count": 721,
   "metadata": {},
   "outputs": [],
   "source": [
    "# df[\"hostname\"].unique().size"
   ]
  },
  {
   "cell_type": "code",
   "execution_count": 722,
   "metadata": {},
   "outputs": [],
   "source": [
    "# df_exo = pd.read_csv(\n",
    "#     os.path.join('../exonamd', \"data\", \"exo.csv\"),\n",
    "# )\n",
    "\n",
    "# systems = [\"TRAPPIST-1\", \"HD 110067\", \"55 Cnc\", \"KOI-351\", \"GJ 876\"]\n",
    "# df_exo = df_exo[df_exo[\"hostname\"].isin(systems)]\n",
    "\n",
    "# df_exo = df_exo[df_exo[\"default_flag\"] == 1]\n",
    "\n",
    "# # df_exo[\"pl_trueobliq\"] = df_exo[\"pl_trueobliq\"].fillna(np.random.uniform(0, 15))\n",
    "# # df_exo[\"pl_orbeccen\"] = df_exo[\"pl_orbeccen\"].fillna(np.random.uniform(0, 0.15))\n",
    "# # df_exo[\"pl_orbeccen\"] = 0.0\n",
    "# df_exo[\"pl_trueobliq\"] = df_exo[\"pl_trueobliq\"].fillna(np.random.uniform(0.005, 0.01))\n",
    "# df_exo[\"pl_orbeccen\"] = df_exo[\"pl_orbeccen\"].fillna(np.random.uniform(0.005, 0.01))\n",
    "\n",
    "# df_exo.to_csv(os.path.join('../exonamd', \"data\", \"df_exo_famous.csv\"), index=False)\n",
    "\n",
    "# df_db = pd.read_csv(\n",
    "#     os.path.join('../exonamd', \"data\", \"custom_db_20241227.csv\"),\n",
    "# )\n",
    "\n",
    "# df_db.loc[df_db[\"hostname\"] == \"TOI-942\", \"pl_orbeccen\"] = 0.2\n",
    "# df_db.loc[df_db[\"hostname\"] == \"TOI-942\", \"pl_orbeccenerr1\"] = 0.1\n",
    "# df_db.loc[df_db[\"hostname\"] == \"TOI-942\", \"pl_orbeccenerr2\"] = -0.001\n",
    "\n",
    "# df_new = pd.concat([df_db, df_exo])\n",
    "# df_new.to_csv(os.path.join('../exonamd', \"data\", \"custom_db_20241227_plus_famous.csv\"), index=False)\n",
    "\n",
    "# df_exo[[\"default_flag\", \"pl_name\", \"pl_bmasse\", \"pl_trueobliq\", \"pl_orbeccen\"]].values"
   ]
  },
  {
   "cell_type": "code",
   "execution_count": 678,
   "metadata": {},
   "outputs": [],
   "source": [
    "# df.loc[df[\"hostname\"] == \"TOI-942\", \"pl_orbeccenerr2\"] = -0.01"
   ]
  },
  {
   "cell_type": "code",
   "execution_count": 719,
   "metadata": {},
   "outputs": [],
   "source": [
    "# df.loc[df[\"hostname\"] == \"TOI-942\", [\"pl_bmasse\", \"pl_bmasseerr1\", \"pl_bmasseerr2\"]]"
   ]
  },
  {
   "cell_type": "code",
   "execution_count": null,
   "metadata": {},
   "outputs": [],
   "source": []
  }
 ],
 "metadata": {
  "kernelspec": {
   "display_name": "exonamd",
   "language": "python",
   "name": "python3"
  },
  "language_info": {
   "codemirror_mode": {
    "name": "ipython",
    "version": 3
   },
   "file_extension": ".py",
   "mimetype": "text/x-python",
   "name": "python",
   "nbconvert_exporter": "python",
   "pygments_lexer": "ipython3",
   "version": "3.10.14"
  }
 },
 "nbformat": 4,
 "nbformat_minor": 2
}
