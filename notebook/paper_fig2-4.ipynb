{
 "cells": [
  {
   "cell_type": "code",
   "execution_count": 1,
   "id": "99b237c4",
   "metadata": {},
   "outputs": [],
   "source": [
    "%load_ext autoreload\n",
    "%autoreload 2"
   ]
  },
  {
   "cell_type": "code",
   "execution_count": 2,
   "id": "8037f196",
   "metadata": {},
   "outputs": [],
   "source": [
    "from loguru import logger\n",
    "import numpy as np\n",
    "import pandas as pd\n",
    "\n",
    "from exonamd.run import *\n",
    "from exonamd.plot import pop_plot, simple_plot\n",
    "from exonamd.solve import solve_namd_mc\n",
    "\n",
    "from pathlib import Path"
   ]
  },
  {
   "cell_type": "code",
   "execution_count": 3,
   "id": "f45d28d0",
   "metadata": {},
   "outputs": [
    {
     "name": "stderr",
     "output_type": "stream",
     "text": [
      "\u001b[32m2025-09-10 18:27:38.312\u001b[0m | \u001b[1mINFO    \u001b[0m | \u001b[36mexonamd.run\u001b[0m:\u001b[36minterp_db\u001b[0m:\u001b[36m173\u001b[0m - \u001b[1mThinning down the data with nanmedian\u001b[0m\n",
      "\u001b[32m2025-09-10 18:27:38.314\u001b[0m | \u001b[33m\u001b[1mWARNING \u001b[0m | \u001b[36mexonamd.run\u001b[0m:\u001b[36minterp_db\u001b[0m:\u001b[36m176\u001b[0m - \u001b[33m\u001b[1mNaT values in rowupdate: 55\u001b[0m\n",
      "/home/ariel/andrea.bocchieri/.local/lib/python3.10/site-packages/swifter/swifter.py:87: UserWarning: This pandas object has duplicate indices, and swifter may not be able to improve performance. Consider resetting the indices with `df.reset_index(drop=True)`.\n",
      "  warnings.warn(\n",
      "\u001b[32m2025-09-10 18:27:38.339\u001b[0m | \u001b[1mINFO    \u001b[0m | \u001b[36mexonamd.run\u001b[0m:\u001b[36minterp_db\u001b[0m:\u001b[36m185\u001b[0m - \u001b[1mData thinned down\u001b[0m\n",
      "\u001b[32m2025-09-10 18:27:38.340\u001b[0m | \u001b[1mINFO    \u001b[0m | \u001b[36mexonamd.run\u001b[0m:\u001b[36minterp_db\u001b[0m:\u001b[36m187\u001b[0m - \u001b[1mChecking for duplicates\u001b[0m\n",
      "\u001b[32m2025-09-10 18:27:38.345\u001b[0m | \u001b[1mINFO    \u001b[0m | \u001b[36mexonamd.run\u001b[0m:\u001b[36minterp_db\u001b[0m:\u001b[36m195\u001b[0m - \u001b[1mNo duplicates found\u001b[0m\n",
      "\u001b[32m2025-09-10 18:27:38.346\u001b[0m | \u001b[1mINFO    \u001b[0m | \u001b[36mexonamd.run\u001b[0m:\u001b[36minterp_db\u001b[0m:\u001b[36m197\u001b[0m - \u001b[1mInstantiating the flags\u001b[0m\n",
      "\u001b[32m2025-09-10 18:27:38.347\u001b[0m | \u001b[1mINFO    \u001b[0m | \u001b[36mexonamd.run\u001b[0m:\u001b[36minterp_db\u001b[0m:\u001b[36m199\u001b[0m - \u001b[1mFlags instantiated\u001b[0m\n",
      "\u001b[32m2025-09-10 18:27:38.348\u001b[0m | \u001b[1mINFO    \u001b[0m | \u001b[36mexonamd.run\u001b[0m:\u001b[36minterp_db\u001b[0m:\u001b[36m201\u001b[0m - \u001b[1mInterpolating missing eccentricity values\u001b[0m\n"
     ]
    },
    {
     "data": {
      "application/vnd.jupyter.widget-view+json": {
       "model_id": "424b762953a648a0bbfde696f7b88d2f",
       "version_major": 2,
       "version_minor": 0
      },
      "text/plain": [
       "Pandas Apply:   0%|          | 0/54 [00:00<?, ?it/s]"
      ]
     },
     "metadata": {},
     "output_type": "display_data"
    },
    {
     "name": "stderr",
     "output_type": "stream",
     "text": [
      "\u001b[32m2025-09-10 18:27:38.401\u001b[0m | \u001b[1mINFO    \u001b[0m | \u001b[36mexonamd.run\u001b[0m:\u001b[36minterp_db\u001b[0m:\u001b[36m210\u001b[0m - \u001b[1mValues interpolated\u001b[0m\n",
      "\u001b[32m2025-09-10 18:27:38.402\u001b[0m | \u001b[1mINFO    \u001b[0m | \u001b[36mexonamd.run\u001b[0m:\u001b[36minterp_db\u001b[0m:\u001b[36m212\u001b[0m - \u001b[1mInterpolating missing planetary mass values\u001b[0m\n"
     ]
    },
    {
     "data": {
      "application/vnd.jupyter.widget-view+json": {
       "model_id": "70080ef151ef4565b193589830e5170c",
       "version_major": 2,
       "version_minor": 0
      },
      "text/plain": [
       "Pandas Apply:   0%|          | 0/54 [00:00<?, ?it/s]"
      ]
     },
     "metadata": {},
     "output_type": "display_data"
    },
    {
     "name": "stderr",
     "output_type": "stream",
     "text": [
      "\u001b[32m2025-09-10 18:27:39.604\u001b[0m | \u001b[1mINFO    \u001b[0m | \u001b[36mexonamd.run\u001b[0m:\u001b[36minterp_db\u001b[0m:\u001b[36m221\u001b[0m - \u001b[1mValues interpolated\u001b[0m\n",
      "\u001b[32m2025-09-10 18:27:39.605\u001b[0m | \u001b[34m\u001b[1mDEBUG   \u001b[0m | \u001b[36mexonamd.run\u001b[0m:\u001b[36minterp_db\u001b[0m:\u001b[36m223\u001b[0m - \u001b[34m\u001b[1mDropping columns that are no longer needed\u001b[0m\n",
      "\u001b[32m2025-09-10 18:27:39.607\u001b[0m | \u001b[34m\u001b[1mDEBUG   \u001b[0m | \u001b[36mexonamd.run\u001b[0m:\u001b[36minterp_db\u001b[0m:\u001b[36m225\u001b[0m - \u001b[34m\u001b[1mColumns dropped\u001b[0m\n",
      "\u001b[32m2025-09-10 18:27:39.608\u001b[0m | \u001b[1mINFO    \u001b[0m | \u001b[36mexonamd.run\u001b[0m:\u001b[36minterp_db\u001b[0m:\u001b[36m227\u001b[0m - \u001b[1mRemoving systems where at least one planet has no mass or semi-major axis\u001b[0m\n",
      "\u001b[32m2025-09-10 18:27:39.626\u001b[0m | \u001b[1mINFO    \u001b[0m | \u001b[36mexonamd.run\u001b[0m:\u001b[36minterp_db\u001b[0m:\u001b[36m236\u001b[0m - \u001b[1mRemoving 0 systems: []\u001b[0m\n",
      "\u001b[32m2025-09-10 18:27:39.627\u001b[0m | \u001b[1mINFO    \u001b[0m | \u001b[36mexonamd.run\u001b[0m:\u001b[36minterp_db\u001b[0m:\u001b[36m238\u001b[0m - \u001b[1mSystems removed\u001b[0m\n",
      "\u001b[32m2025-09-10 18:27:39.628\u001b[0m | \u001b[1mINFO    \u001b[0m | \u001b[36mexonamd.run\u001b[0m:\u001b[36minterp_db\u001b[0m:\u001b[36m240\u001b[0m - \u001b[1mInterpolating missing values in inclinations\u001b[0m\n"
     ]
    },
    {
     "data": {
      "application/vnd.jupyter.widget-view+json": {
       "model_id": "dc15a0bd0e2c45d29e6563706a9bf036",
       "version_major": 2,
       "version_minor": 0
      },
      "text/plain": [
       "Pandas Apply:   0%|          | 0/54 [00:00<?, ?it/s]"
      ]
     },
     "metadata": {},
     "output_type": "display_data"
    },
    {
     "name": "stderr",
     "output_type": "stream",
     "text": [
      "\u001b[32m2025-09-10 18:27:39.765\u001b[0m | \u001b[1mINFO    \u001b[0m | \u001b[36mexonamd.run\u001b[0m:\u001b[36minterp_db\u001b[0m:\u001b[36m249\u001b[0m - \u001b[1mValues interpolated\u001b[0m\n",
      "\u001b[32m2025-09-10 18:27:39.766\u001b[0m | \u001b[1mINFO    \u001b[0m | \u001b[36mexonamd.run\u001b[0m:\u001b[36minterp_db\u001b[0m:\u001b[36m251\u001b[0m - \u001b[1mInterpolating missing values in semi-major axis uncertainties\u001b[0m\n"
     ]
    },
    {
     "data": {
      "application/vnd.jupyter.widget-view+json": {
       "model_id": "a92ec2b5ffd248ee902dd5c625a8eef4",
       "version_major": 2,
       "version_minor": 0
      },
      "text/plain": [
       "Pandas Apply:   0%|          | 0/54 [00:00<?, ?it/s]"
      ]
     },
     "metadata": {},
     "output_type": "display_data"
    },
    {
     "name": "stderr",
     "output_type": "stream",
     "text": [
      "\u001b[32m2025-09-10 18:27:39.812\u001b[0m | \u001b[1mINFO    \u001b[0m | \u001b[36mexonamd.run\u001b[0m:\u001b[36minterp_db\u001b[0m:\u001b[36m259\u001b[0m - \u001b[1mValues interpolated\u001b[0m\n",
      "\u001b[32m2025-09-10 18:27:39.814\u001b[0m | \u001b[1mINFO    \u001b[0m | \u001b[36mexonamd.run\u001b[0m:\u001b[36minterp_db\u001b[0m:\u001b[36m262\u001b[0m - \u001b[1mComputing the relative inclinations\u001b[0m\n"
     ]
    },
    {
     "data": {
      "application/vnd.jupyter.widget-view+json": {
       "model_id": "ed9d523b19f24705bbe4965f6309b887",
       "version_major": 2,
       "version_minor": 0
      },
      "text/plain": [
       "Pandas Apply:   0%|          | 0/54 [00:00<?, ?it/s]"
      ]
     },
     "metadata": {},
     "output_type": "display_data"
    },
    {
     "name": "stderr",
     "output_type": "stream",
     "text": [
      "\u001b[32m2025-09-10 18:27:39.957\u001b[0m | \u001b[1mINFO    \u001b[0m | \u001b[36mexonamd.run\u001b[0m:\u001b[36minterp_db\u001b[0m:\u001b[36m270\u001b[0m - \u001b[1mValues computed\u001b[0m\n",
      "\u001b[32m2025-09-10 18:27:39.958\u001b[0m | \u001b[1mINFO    \u001b[0m | \u001b[36mexonamd.run\u001b[0m:\u001b[36minterp_db\u001b[0m:\u001b[36m272\u001b[0m - \u001b[1mInterpolating missing values in true obliquity\u001b[0m\n"
     ]
    },
    {
     "data": {
      "application/vnd.jupyter.widget-view+json": {
       "model_id": "09263b07fe3645ddae3760971bb98d3b",
       "version_major": 2,
       "version_minor": 0
      },
      "text/plain": [
       "Pandas Apply:   0%|          | 0/54 [00:00<?, ?it/s]"
      ]
     },
     "metadata": {},
     "output_type": "display_data"
    },
    {
     "name": "stderr",
     "output_type": "stream",
     "text": [
      "\u001b[32m2025-09-10 18:27:40.163\u001b[0m | \u001b[1mINFO    \u001b[0m | \u001b[36mexonamd.run\u001b[0m:\u001b[36minterp_db\u001b[0m:\u001b[36m281\u001b[0m - \u001b[1mValues interpolated\u001b[0m\n",
      "\u001b[32m2025-09-10 18:27:40.165\u001b[0m | \u001b[1mINFO    \u001b[0m | \u001b[36mexonamd.run\u001b[0m:\u001b[36minterp_db\u001b[0m:\u001b[36m284\u001b[0m - \u001b[1mStoring the curated+interpolated database\u001b[0m\n",
      "\u001b[32m2025-09-10 18:27:40.173\u001b[0m | \u001b[1mINFO    \u001b[0m | \u001b[36mexonamd.run\u001b[0m:\u001b[36minterp_db\u001b[0m:\u001b[36m289\u001b[0m - \u001b[1mDatabase stored at /home/ariel/andrea.bocchieri/DATA/ExoNAMD/exonamd/data/custom_db_20250814_interp.csv\u001b[0m\n"
     ]
    }
   ],
   "source": [
    "file_path = (\n",
    "    \"/home/ariel/andrea.bocchieri/DATA/ExoNAMD/exonamd/data/custom_db_20250814.csv\"\n",
    ")\n",
    "\n",
    "df_exo = pd.read_csv(file_path)\n",
    "\n",
    "df_interp = interp_db(\n",
    "    df=df_exo, out_path=Path(file_path).parent / \"custom_db_20250814_interp.csv\"\n",
    ")"
   ]
  },
  {
   "cell_type": "code",
   "execution_count": 4,
   "id": "e30e0423",
   "metadata": {},
   "outputs": [
    {
     "data": {
      "text/html": [
       "<div>\n",
       "<style scoped>\n",
       "    .dataframe tbody tr th:only-of-type {\n",
       "        vertical-align: middle;\n",
       "    }\n",
       "\n",
       "    .dataframe tbody tr th {\n",
       "        vertical-align: top;\n",
       "    }\n",
       "\n",
       "    .dataframe thead th {\n",
       "        text-align: right;\n",
       "    }\n",
       "</style>\n",
       "<table border=\"1\" class=\"dataframe\">\n",
       "  <thead>\n",
       "    <tr style=\"text-align: right;\">\n",
       "      <th></th>\n",
       "      <th>hostname</th>\n",
       "      <th>pl_name</th>\n",
       "      <th>flag</th>\n",
       "    </tr>\n",
       "  </thead>\n",
       "  <tbody>\n",
       "    <tr>\n",
       "      <th>53</th>\n",
       "      <td>AU Mic</td>\n",
       "      <td>AU Mic</td>\n",
       "      <td>0</td>\n",
       "    </tr>\n",
       "    <tr>\n",
       "      <th>44</th>\n",
       "      <td>HD 118203</td>\n",
       "      <td>HD 118203b</td>\n",
       "      <td>0</td>\n",
       "    </tr>\n",
       "    <tr>\n",
       "      <th>45</th>\n",
       "      <td>HD 118203</td>\n",
       "      <td>HD 118203c</td>\n",
       "      <td>0</td>\n",
       "    </tr>\n",
       "    <tr>\n",
       "      <th>30</th>\n",
       "      <td>K2-290</td>\n",
       "      <td>K2-290 b</td>\n",
       "      <td>02+-</td>\n",
       "    </tr>\n",
       "    <tr>\n",
       "      <th>31</th>\n",
       "      <td>K2-290</td>\n",
       "      <td>K2-290 c</td>\n",
       "      <td>0</td>\n",
       "    </tr>\n",
       "    <tr>\n",
       "      <th>32</th>\n",
       "      <td>Kepler-462</td>\n",
       "      <td>Kepler-462 b</td>\n",
       "      <td>0</td>\n",
       "    </tr>\n",
       "    <tr>\n",
       "      <th>33</th>\n",
       "      <td>Kepler-462</td>\n",
       "      <td>Kepler-462 c</td>\n",
       "      <td>02+-</td>\n",
       "    </tr>\n",
       "    <tr>\n",
       "      <th>23</th>\n",
       "      <td>Kepler-56</td>\n",
       "      <td>Kepler-56b</td>\n",
       "      <td>0</td>\n",
       "    </tr>\n",
       "    <tr>\n",
       "      <th>24</th>\n",
       "      <td>Kepler-56</td>\n",
       "      <td>Kepler-56c</td>\n",
       "      <td>0</td>\n",
       "    </tr>\n",
       "    <tr>\n",
       "      <th>51</th>\n",
       "      <td>TOI-421</td>\n",
       "      <td>TOI-421b</td>\n",
       "      <td>0</td>\n",
       "    </tr>\n",
       "    <tr>\n",
       "      <th>52</th>\n",
       "      <td>TOI-421</td>\n",
       "      <td>TOI-421c</td>\n",
       "      <td>0</td>\n",
       "    </tr>\n",
       "    <tr>\n",
       "      <th>17</th>\n",
       "      <td>TOI-942</td>\n",
       "      <td>TOI-942b</td>\n",
       "      <td>02+-</td>\n",
       "    </tr>\n",
       "    <tr>\n",
       "      <th>18</th>\n",
       "      <td>TOI-942</td>\n",
       "      <td>TOI-942c</td>\n",
       "      <td>02+-</td>\n",
       "    </tr>\n",
       "  </tbody>\n",
       "</table>\n",
       "</div>"
      ],
      "text/plain": [
       "      hostname       pl_name  flag\n",
       "53      AU Mic        AU Mic     0\n",
       "44   HD 118203    HD 118203b     0\n",
       "45   HD 118203    HD 118203c     0\n",
       "30      K2-290      K2-290 b  02+-\n",
       "31      K2-290      K2-290 c     0\n",
       "32  Kepler-462  Kepler-462 b     0\n",
       "33  Kepler-462  Kepler-462 c  02+-\n",
       "23   Kepler-56    Kepler-56b     0\n",
       "24   Kepler-56    Kepler-56c     0\n",
       "51     TOI-421      TOI-421b     0\n",
       "52     TOI-421      TOI-421c     0\n",
       "17     TOI-942      TOI-942b  02+-\n",
       "18     TOI-942      TOI-942c  02+-"
      ]
     },
     "execution_count": 4,
     "metadata": {},
     "output_type": "execute_result"
    }
   ],
   "source": [
    "# select only the hostnames for which the flag is \"0\" for all the planets\n",
    "# df_interp.groupby(\"hostname\").filter(lambda x: all(x[\"flag\"].isin([\"0\"]))).hostname.unique()\n",
    "df_interp.groupby(\"hostname\").filter(\n",
    "    lambda g: not g[\"flag\"].str.contains(\"5\").any()\n",
    ")[[\"hostname\", \"pl_name\", \"flag\"]]"
   ]
  },
  {
   "cell_type": "code",
   "execution_count": 5,
   "id": "0f448c2e",
   "metadata": {},
   "outputs": [
    {
     "data": {
      "text/plain": [
       "array(['AU Mic', 'HD 118203', 'K2-290', 'Kepler-462', 'Kepler-56',\n",
       "       'TOI-421', 'TOI-942'], dtype=object)"
      ]
     },
     "execution_count": 5,
     "metadata": {},
     "output_type": "execute_result"
    }
   ],
   "source": [
    "df_interp.groupby(\"hostname\").filter(\n",
    "    lambda g: not g[\"flag\"].str.contains(\"5\").any()\n",
    ").hostname.unique()"
   ]
  },
  {
   "cell_type": "code",
   "execution_count": 6,
   "id": "684d96f3",
   "metadata": {},
   "outputs": [
    {
     "name": "stdout",
     "output_type": "stream",
     "text": [
      "['WASP-84' 'TOI-1136' 'TOI-5398' 'WASP-47' 'TOI-2076' 'TOI-942' 'HD 3167'\n",
      " 'Kepler-56' 'WASP-148' 'TOI-451' 'K2-290' 'Kepler-462' 'SS' 'TOI-2202'\n",
      " 'HD 118203' 'HIP 41378' 'TOI-421' 'AU Mic' '55 Cncx' 'GJ 876x'\n",
      " 'HD 110067x' 'HD 191939x' 'KOI-351x' 'TOI-942x' 'TOI-942xx' 'TOI-942xxx'\n",
      " 'TRAPPIST-1x' 'SSE' 'SSEn']\n",
      "29\n",
      "sy_pnum\n",
      "2    13\n",
      "3     3\n",
      "4     3\n",
      "5     2\n",
      "6     3\n",
      "7     1\n",
      "8     4\n",
      "Name: hostname, dtype: int64\n"
     ]
    }
   ],
   "source": [
    "file_path = (\n",
    "    \"/home/ariel/andrea.bocchieri/DATA/ExoNAMD/exonamd/data/custom_db_20250814.csv\"\n",
    ")\n",
    "\n",
    "df_exo = pd.read_csv(file_path)\n",
    "\n",
    "# load /home/ariel/andrea.bocchieri/DATA/ExoNAMD/exonamd/data/custom_db_20241017e.csv as well\n",
    "# and concat the databases\n",
    "\n",
    "# df_ss = pd.read_csv(\n",
    "#     \"/home/ariel/andrea.bocchieri/DATA/ExoNAMD/exonamd/data/custom_db_20241017e.csv\"\n",
    "# )\n",
    "# # take only the systems with hostname equal to \"SSE\"\n",
    "# df_ss = df_ss[df_ss.hostname.isin([\"SSE\"])]\n",
    "\n",
    "df_fake = pd.read_csv(\n",
    "    \"/home/ariel/andrea.bocchieri/DATA/ExoNAMD/exonamd/data/custom_db_20250811_fakes.csv\"\n",
    ")\n",
    "# take only those where the hostname ends with one or multiple \"x\"\n",
    "# df_fake = df_fake[df_fake.hostname.str.endswith(\"x\")]\n",
    "\n",
    "# df_exo = pd.concat([df_exo, df_ss, df_fake], ignore_index=True)\n",
    "df_exo = pd.concat([df_exo, df_fake], ignore_index=True)\n",
    "\n",
    "print(df_exo.hostname.unique())\n",
    "print(df_exo.hostname.nunique())\n",
    "\n",
    "print(df_exo.groupby(\"sy_pnum\").hostname.nunique())"
   ]
  },
  {
   "cell_type": "code",
   "execution_count": 7,
   "id": "097cf37a",
   "metadata": {},
   "outputs": [
    {
     "name": "stderr",
     "output_type": "stream",
     "text": [
      "\u001b[32m2025-09-10 18:27:40.815\u001b[0m | \u001b[1mINFO    \u001b[0m | \u001b[36mexonamd.run\u001b[0m:\u001b[36minterp_db\u001b[0m:\u001b[36m173\u001b[0m - \u001b[1mThinning down the data with nanmedian\u001b[0m\n",
      "\u001b[32m2025-09-10 18:27:40.817\u001b[0m | \u001b[33m\u001b[1mWARNING \u001b[0m | \u001b[36mexonamd.run\u001b[0m:\u001b[36minterp_db\u001b[0m:\u001b[36m176\u001b[0m - \u001b[33m\u001b[1mNaT values in rowupdate: 83\u001b[0m\n"
     ]
    },
    {
     "name": "stderr",
     "output_type": "stream",
     "text": [
      "/home/ariel/andrea.bocchieri/.local/lib/python3.10/site-packages/swifter/swifter.py:87: UserWarning: This pandas object has duplicate indices, and swifter may not be able to improve performance. Consider resetting the indices with `df.reset_index(drop=True)`.\n",
      "  warnings.warn(\n",
      "\u001b[32m2025-09-10 18:27:40.849\u001b[0m | \u001b[1mINFO    \u001b[0m | \u001b[36mexonamd.run\u001b[0m:\u001b[36minterp_db\u001b[0m:\u001b[36m185\u001b[0m - \u001b[1mData thinned down\u001b[0m\n",
      "\u001b[32m2025-09-10 18:27:40.851\u001b[0m | \u001b[1mINFO    \u001b[0m | \u001b[36mexonamd.run\u001b[0m:\u001b[36minterp_db\u001b[0m:\u001b[36m187\u001b[0m - \u001b[1mChecking for duplicates\u001b[0m\n",
      "\u001b[32m2025-09-10 18:27:40.856\u001b[0m | \u001b[1mINFO    \u001b[0m | \u001b[36mexonamd.run\u001b[0m:\u001b[36minterp_db\u001b[0m:\u001b[36m195\u001b[0m - \u001b[1mNo duplicates found\u001b[0m\n",
      "\u001b[32m2025-09-10 18:27:40.857\u001b[0m | \u001b[1mINFO    \u001b[0m | \u001b[36mexonamd.run\u001b[0m:\u001b[36minterp_db\u001b[0m:\u001b[36m197\u001b[0m - \u001b[1mInstantiating the flags\u001b[0m\n",
      "\u001b[32m2025-09-10 18:27:40.858\u001b[0m | \u001b[1mINFO    \u001b[0m | \u001b[36mexonamd.run\u001b[0m:\u001b[36minterp_db\u001b[0m:\u001b[36m199\u001b[0m - \u001b[1mFlags instantiated\u001b[0m\n",
      "\u001b[32m2025-09-10 18:27:40.859\u001b[0m | \u001b[1mINFO    \u001b[0m | \u001b[36mexonamd.run\u001b[0m:\u001b[36minterp_db\u001b[0m:\u001b[36m201\u001b[0m - \u001b[1mInterpolating missing eccentricity values\u001b[0m\n"
     ]
    },
    {
     "data": {
      "application/vnd.jupyter.widget-view+json": {
       "model_id": "0965240a90d04fd7a4420b1c61f1ea3e",
       "version_major": 2,
       "version_minor": 0
      },
      "text/plain": [
       "Pandas Apply:   0%|          | 0/112 [00:00<?, ?it/s]"
      ]
     },
     "metadata": {},
     "output_type": "display_data"
    },
    {
     "name": "stderr",
     "output_type": "stream",
     "text": [
      "\u001b[32m2025-09-10 18:27:40.932\u001b[0m | \u001b[1mINFO    \u001b[0m | \u001b[36mexonamd.run\u001b[0m:\u001b[36minterp_db\u001b[0m:\u001b[36m210\u001b[0m - \u001b[1mValues interpolated\u001b[0m\n",
      "\u001b[32m2025-09-10 18:27:40.934\u001b[0m | \u001b[1mINFO    \u001b[0m | \u001b[36mexonamd.run\u001b[0m:\u001b[36minterp_db\u001b[0m:\u001b[36m212\u001b[0m - \u001b[1mInterpolating missing planetary mass values\u001b[0m\n"
     ]
    },
    {
     "data": {
      "application/vnd.jupyter.widget-view+json": {
       "model_id": "876ef668ab0041d09f649f234f6811d1",
       "version_major": 2,
       "version_minor": 0
      },
      "text/plain": [
       "Pandas Apply:   0%|          | 0/112 [00:00<?, ?it/s]"
      ]
     },
     "metadata": {},
     "output_type": "display_data"
    },
    {
     "name": "stderr",
     "output_type": "stream",
     "text": [
      "\u001b[32m2025-09-10 18:27:42.789\u001b[0m | \u001b[1mINFO    \u001b[0m | \u001b[36mexonamd.run\u001b[0m:\u001b[36minterp_db\u001b[0m:\u001b[36m221\u001b[0m - \u001b[1mValues interpolated\u001b[0m\n",
      "\u001b[32m2025-09-10 18:27:42.791\u001b[0m | \u001b[34m\u001b[1mDEBUG   \u001b[0m | \u001b[36mexonamd.run\u001b[0m:\u001b[36minterp_db\u001b[0m:\u001b[36m223\u001b[0m - \u001b[34m\u001b[1mDropping columns that are no longer needed\u001b[0m\n",
      "\u001b[32m2025-09-10 18:27:42.793\u001b[0m | \u001b[34m\u001b[1mDEBUG   \u001b[0m | \u001b[36mexonamd.run\u001b[0m:\u001b[36minterp_db\u001b[0m:\u001b[36m225\u001b[0m - \u001b[34m\u001b[1mColumns dropped\u001b[0m\n",
      "\u001b[32m2025-09-10 18:27:42.794\u001b[0m | \u001b[1mINFO    \u001b[0m | \u001b[36mexonamd.run\u001b[0m:\u001b[36minterp_db\u001b[0m:\u001b[36m227\u001b[0m - \u001b[1mRemoving systems where at least one planet has no mass or semi-major axis\u001b[0m\n",
      "\u001b[32m2025-09-10 18:27:42.822\u001b[0m | \u001b[1mINFO    \u001b[0m | \u001b[36mexonamd.run\u001b[0m:\u001b[36minterp_db\u001b[0m:\u001b[36m236\u001b[0m - \u001b[1mRemoving 1 systems: ['KOI-351x']\u001b[0m\n",
      "\u001b[32m2025-09-10 18:27:42.824\u001b[0m | \u001b[1mINFO    \u001b[0m | \u001b[36mexonamd.run\u001b[0m:\u001b[36minterp_db\u001b[0m:\u001b[36m238\u001b[0m - \u001b[1mSystems removed\u001b[0m\n",
      "\u001b[32m2025-09-10 18:27:42.825\u001b[0m | \u001b[1mINFO    \u001b[0m | \u001b[36mexonamd.run\u001b[0m:\u001b[36minterp_db\u001b[0m:\u001b[36m240\u001b[0m - \u001b[1mInterpolating missing values in inclinations\u001b[0m\n"
     ]
    },
    {
     "data": {
      "application/vnd.jupyter.widget-view+json": {
       "model_id": "4f93d506bf7743b9babb4ec8330260e2",
       "version_major": 2,
       "version_minor": 0
      },
      "text/plain": [
       "Pandas Apply:   0%|          | 0/104 [00:00<?, ?it/s]"
      ]
     },
     "metadata": {},
     "output_type": "display_data"
    },
    {
     "name": "stderr",
     "output_type": "stream",
     "text": [
      "\u001b[32m2025-09-10 18:27:43.080\u001b[0m | \u001b[1mINFO    \u001b[0m | \u001b[36mexonamd.run\u001b[0m:\u001b[36minterp_db\u001b[0m:\u001b[36m249\u001b[0m - \u001b[1mValues interpolated\u001b[0m\n",
      "\u001b[32m2025-09-10 18:27:43.083\u001b[0m | \u001b[1mINFO    \u001b[0m | \u001b[36mexonamd.run\u001b[0m:\u001b[36minterp_db\u001b[0m:\u001b[36m251\u001b[0m - \u001b[1mInterpolating missing values in semi-major axis uncertainties\u001b[0m\n"
     ]
    },
    {
     "data": {
      "application/vnd.jupyter.widget-view+json": {
       "model_id": "a230d1bfa6234bb69a72703df7f9ae91",
       "version_major": 2,
       "version_minor": 0
      },
      "text/plain": [
       "Pandas Apply:   0%|          | 0/104 [00:00<?, ?it/s]"
      ]
     },
     "metadata": {},
     "output_type": "display_data"
    },
    {
     "name": "stderr",
     "output_type": "stream",
     "text": [
      "\u001b[32m2025-09-10 18:27:43.164\u001b[0m | \u001b[1mINFO    \u001b[0m | \u001b[36mexonamd.run\u001b[0m:\u001b[36minterp_db\u001b[0m:\u001b[36m259\u001b[0m - \u001b[1mValues interpolated\u001b[0m\n",
      "\u001b[32m2025-09-10 18:27:43.165\u001b[0m | \u001b[1mINFO    \u001b[0m | \u001b[36mexonamd.run\u001b[0m:\u001b[36minterp_db\u001b[0m:\u001b[36m262\u001b[0m - \u001b[1mComputing the relative inclinations\u001b[0m\n"
     ]
    },
    {
     "data": {
      "application/vnd.jupyter.widget-view+json": {
       "model_id": "1245f56381204c19b4f8833ef9a545d4",
       "version_major": 2,
       "version_minor": 0
      },
      "text/plain": [
       "Pandas Apply:   0%|          | 0/104 [00:00<?, ?it/s]"
      ]
     },
     "metadata": {},
     "output_type": "display_data"
    },
    {
     "name": "stderr",
     "output_type": "stream",
     "text": [
      "\u001b[32m2025-09-10 18:27:43.455\u001b[0m | \u001b[1mINFO    \u001b[0m | \u001b[36mexonamd.run\u001b[0m:\u001b[36minterp_db\u001b[0m:\u001b[36m270\u001b[0m - \u001b[1mValues computed\u001b[0m\n",
      "\u001b[32m2025-09-10 18:27:43.456\u001b[0m | \u001b[1mINFO    \u001b[0m | \u001b[36mexonamd.run\u001b[0m:\u001b[36minterp_db\u001b[0m:\u001b[36m272\u001b[0m - \u001b[1mInterpolating missing values in true obliquity\u001b[0m\n"
     ]
    },
    {
     "data": {
      "application/vnd.jupyter.widget-view+json": {
       "model_id": "515c9b9c545e4976a215ad2fb568d92b",
       "version_major": 2,
       "version_minor": 0
      },
      "text/plain": [
       "Pandas Apply:   0%|          | 0/104 [00:00<?, ?it/s]"
      ]
     },
     "metadata": {},
     "output_type": "display_data"
    },
    {
     "name": "stderr",
     "output_type": "stream",
     "text": [
      "\u001b[32m2025-09-10 18:27:43.770\u001b[0m | \u001b[1mINFO    \u001b[0m | \u001b[36mexonamd.run\u001b[0m:\u001b[36minterp_db\u001b[0m:\u001b[36m281\u001b[0m - \u001b[1mValues interpolated\u001b[0m\n",
      "\u001b[32m2025-09-10 18:27:43.773\u001b[0m | \u001b[1mINFO    \u001b[0m | \u001b[36mexonamd.run\u001b[0m:\u001b[36minterp_db\u001b[0m:\u001b[36m284\u001b[0m - \u001b[1mStoring the curated+interpolated database\u001b[0m\n",
      "\u001b[32m2025-09-10 18:27:43.780\u001b[0m | \u001b[1mINFO    \u001b[0m | \u001b[36mexonamd.run\u001b[0m:\u001b[36minterp_db\u001b[0m:\u001b[36m289\u001b[0m - \u001b[1mDatabase stored at /home/ariel/andrea.bocchieri/DATA/ExoNAMD/exonamd/data/custom_db_20250811_interp_plus_fakes.csv\u001b[0m\n"
     ]
    }
   ],
   "source": [
    "df_interp = interp_db(\n",
    "    df=df_exo, out_path=Path(file_path).parent / \"custom_db_20250811_interp_plus_fakes.csv\"\n",
    ")"
   ]
  },
  {
   "cell_type": "code",
   "execution_count": 8,
   "id": "b526d50e",
   "metadata": {},
   "outputs": [
    {
     "name": "stderr",
     "output_type": "stream",
     "text": [
      "\u001b[32m2025-09-10 18:27:44.097\u001b[0m | \u001b[34m\u001b[1mDEBUG   \u001b[0m | \u001b[36mexonamd.run\u001b[0m:\u001b[36mcalc_namd\u001b[0m:\u001b[36m334\u001b[0m - \u001b[34m\u001b[1mDropping columns that are no longer needed\u001b[0m\n",
      "\u001b[32m2025-09-10 18:27:44.101\u001b[0m | \u001b[34m\u001b[1mDEBUG   \u001b[0m | \u001b[36mexonamd.run\u001b[0m:\u001b[36mcalc_namd\u001b[0m:\u001b[36m336\u001b[0m - \u001b[34m\u001b[1mColumns dropped\u001b[0m\n",
      "\u001b[32m2025-09-10 18:27:44.102\u001b[0m | \u001b[1mINFO    \u001b[0m | \u001b[36mexonamd.run\u001b[0m:\u001b[36mcalc_namd\u001b[0m:\u001b[36m345\u001b[0m - \u001b[1mComputing the relative NAMD\u001b[0m\n",
      "\u001b[32m2025-09-10 18:27:44.216\u001b[0m | \u001b[1mINFO    \u001b[0m | \u001b[36mexonamd.run\u001b[0m:\u001b[36mcalc_namd\u001b[0m:\u001b[36m353\u001b[0m - \u001b[1mRelative NAMD computed\u001b[0m\n",
      "\u001b[32m2025-09-10 18:27:44.217\u001b[0m | \u001b[1mINFO    \u001b[0m | \u001b[36mexonamd.run\u001b[0m:\u001b[36mcalc_namd\u001b[0m:\u001b[36m356\u001b[0m - \u001b[1mComputing the absolute NAMD\u001b[0m\n",
      "\u001b[32m2025-09-10 18:27:44.319\u001b[0m | \u001b[1mINFO    \u001b[0m | \u001b[36mexonamd.run\u001b[0m:\u001b[36mcalc_namd\u001b[0m:\u001b[36m364\u001b[0m - \u001b[1mAbsolute NAMD computed\u001b[0m\n",
      "/home/ariel/andrea.bocchieri/.local/lib/python3.10/site-packages/swifter/swifter.py:87: UserWarning: This pandas object has duplicate indices, and swifter may not be able to improve performance. Consider resetting the indices with `df.reset_index(drop=True)`.\n",
      "  warnings.warn(\n",
      "\u001b[32m2025-09-10 18:27:44.409\u001b[0m | \u001b[1mINFO    \u001b[0m | \u001b[36mexonamd.run\u001b[0m:\u001b[36mcalc_namd\u001b[0m:\u001b[36m444\u001b[0m - \u001b[1mComputing the Monte Carlo relative NAMD\u001b[0m\n",
      "\u001b[32m2025-09-10 18:27:50.262\u001b[0m | \u001b[1mINFO    \u001b[0m | \u001b[36mexonamd.run\u001b[0m:\u001b[36mcalc_namd\u001b[0m:\u001b[36m455\u001b[0m - \u001b[1mRelative NAMD computed\u001b[0m\n",
      "\u001b[32m2025-09-10 18:27:50.263\u001b[0m | \u001b[1mINFO    \u001b[0m | \u001b[36mexonamd.run\u001b[0m:\u001b[36mcalc_namd\u001b[0m:\u001b[36m458\u001b[0m - \u001b[1mComputing the Monte Carlo absolute NAMD\u001b[0m\n",
      "\u001b[32m2025-09-10 18:27:55.808\u001b[0m | \u001b[1mINFO    \u001b[0m | \u001b[36mexonamd.run\u001b[0m:\u001b[36mcalc_namd\u001b[0m:\u001b[36m469\u001b[0m - \u001b[1mAbsolute NAMD computed\u001b[0m\n",
      "/home/ariel/andrea.bocchieri/.local/lib/python3.10/site-packages/swifter/swifter.py:87: UserWarning: This pandas object has duplicate indices, and swifter may not be able to improve performance. Consider resetting the indices with `df.reset_index(drop=True)`.\n",
      "  warnings.warn(\n"
     ]
    },
    {
     "data": {
      "image/png": "[encoded data removed]",
      "text/plain": [
       "<Figure size 640x480 with 1 Axes>"
      ]
     },
     "metadata": {},
     "output_type": "display_data"
    },
    {
     "data": {
      "image/png": "[encoded data removed]",
      "text/plain": [
       "<Figure size 640x480 with 1 Axes>"
      ]
     },
     "metadata": {},
     "output_type": "display_data"
    },
    {
     "data": {
      "image/png": "[encoded data removed]",
      "text/plain": [
       "<Figure size 640x480 with 1 Axes>"
      ]
     },
     "metadata": {},
     "output_type": "display_data"
    },
    {
     "data": {
      "image/png": "[encoded data removed]",
      "text/plain": [
       "<Figure size 640x480 with 1 Axes>"
      ]
     },
     "metadata": {},
     "output_type": "display_data"
    }
   ],
   "source": [
    "df_namd = calc_namd(\n",
    "    df=df_interp,\n",
    "    save=False,\n",
    "    plot=True,\n",
    "    core=False,\n",
    "    filt=None,\n",
    "    # which=[\"rel\"],\n",
    "    # which=[\"abs\"],\n",
    "    which=[\"rel\", \"abs\"],\n",
    "    threshold=100,\n",
    "    # use_trunc_normal=False,\n",
    "    use_trunc_normal=True,\n",
    "    Npt=int(1e5),\n",
    ")"
   ]
  },
  {
   "cell_type": "code",
   "execution_count": 9,
   "id": "3bacbc35",
   "metadata": {},
   "outputs": [],
   "source": [
    "mask = df_namd.hostname == \"SS\"\n",
    "cols_rel = [\"namd_rel\", \"namd_rel_mc\", \"namd_rel_q16\", \"namd_rel_q50\", \"namd_rel_q84\"]\n",
    "cols_abs = [\"namd_abs\", \"namd_abs_mc\", \"namd_abs_q16\", \"namd_abs_q50\", \"namd_abs_q84\"]\n",
    "\n",
    "df_namd.loc[mask, cols_rel] = df_namd.loc[mask, cols_abs].to_numpy()"
   ]
  },
  {
   "cell_type": "code",
   "execution_count": 10,
   "id": "5c6d0f47",
   "metadata": {},
   "outputs": [
    {
     "data": {
      "text/html": [
       "<div>\n",
       "<style scoped>\n",
       "    .dataframe tbody tr th:only-of-type {\n",
       "        vertical-align: middle;\n",
       "    }\n",
       "\n",
       "    .dataframe tbody tr th {\n",
       "        vertical-align: top;\n",
       "    }\n",
       "\n",
       "    .dataframe thead th {\n",
       "        text-align: right;\n",
       "    }\n",
       "</style>\n",
       "<table border=\"1\" class=\"dataframe\">\n",
       "  <thead>\n",
       "    <tr style=\"text-align: right;\">\n",
       "      <th></th>\n",
       "      <th>namd_rel</th>\n",
       "      <th>namd_rel_mc</th>\n",
       "      <th>namd_rel_q16</th>\n",
       "      <th>namd_rel_q50</th>\n",
       "      <th>namd_rel_q84</th>\n",
       "    </tr>\n",
       "  </thead>\n",
       "  <tbody>\n",
       "    <tr>\n",
       "      <th>34</th>\n",
       "      <td>0.001157</td>\n",
       "      <td>NaN</td>\n",
       "      <td>0.001157</td>\n",
       "      <td>0.001157</td>\n",
       "      <td>0.001157</td>\n",
       "    </tr>\n",
       "    <tr>\n",
       "      <th>35</th>\n",
       "      <td>0.001157</td>\n",
       "      <td>NaN</td>\n",
       "      <td>0.001157</td>\n",
       "      <td>0.001157</td>\n",
       "      <td>0.001157</td>\n",
       "    </tr>\n",
       "    <tr>\n",
       "      <th>36</th>\n",
       "      <td>0.001157</td>\n",
       "      <td>NaN</td>\n",
       "      <td>0.001157</td>\n",
       "      <td>0.001157</td>\n",
       "      <td>0.001157</td>\n",
       "    </tr>\n",
       "    <tr>\n",
       "      <th>37</th>\n",
       "      <td>0.001157</td>\n",
       "      <td>NaN</td>\n",
       "      <td>0.001157</td>\n",
       "      <td>0.001157</td>\n",
       "      <td>0.001157</td>\n",
       "    </tr>\n",
       "    <tr>\n",
       "      <th>38</th>\n",
       "      <td>0.001157</td>\n",
       "      <td>NaN</td>\n",
       "      <td>0.001157</td>\n",
       "      <td>0.001157</td>\n",
       "      <td>0.001157</td>\n",
       "    </tr>\n",
       "    <tr>\n",
       "      <th>39</th>\n",
       "      <td>0.001157</td>\n",
       "      <td>NaN</td>\n",
       "      <td>0.001157</td>\n",
       "      <td>0.001157</td>\n",
       "      <td>0.001157</td>\n",
       "    </tr>\n",
       "    <tr>\n",
       "      <th>40</th>\n",
       "      <td>0.001157</td>\n",
       "      <td>NaN</td>\n",
       "      <td>0.001157</td>\n",
       "      <td>0.001157</td>\n",
       "      <td>0.001157</td>\n",
       "    </tr>\n",
       "    <tr>\n",
       "      <th>41</th>\n",
       "      <td>0.001157</td>\n",
       "      <td>NaN</td>\n",
       "      <td>0.001157</td>\n",
       "      <td>0.001157</td>\n",
       "      <td>0.001157</td>\n",
       "    </tr>\n",
       "  </tbody>\n",
       "</table>\n",
       "</div>"
      ],
      "text/plain": [
       "    namd_rel  namd_rel_mc  namd_rel_q16  namd_rel_q50  namd_rel_q84\n",
       "34  0.001157          NaN      0.001157      0.001157      0.001157\n",
       "35  0.001157          NaN      0.001157      0.001157      0.001157\n",
       "36  0.001157          NaN      0.001157      0.001157      0.001157\n",
       "37  0.001157          NaN      0.001157      0.001157      0.001157\n",
       "38  0.001157          NaN      0.001157      0.001157      0.001157\n",
       "39  0.001157          NaN      0.001157      0.001157      0.001157\n",
       "40  0.001157          NaN      0.001157      0.001157      0.001157\n",
       "41  0.001157          NaN      0.001157      0.001157      0.001157"
      ]
     },
     "execution_count": 10,
     "metadata": {},
     "output_type": "execute_result"
    }
   ],
   "source": [
    "df_namd[df_namd.hostname == \"SS\"][[\"namd_rel\", \"namd_rel_mc\", \"namd_rel_q16\", \"namd_rel_q50\", \"namd_rel_q84\"]]"
   ]
  },
  {
   "cell_type": "code",
   "execution_count": 11,
   "id": "78a56cd3",
   "metadata": {},
   "outputs": [
    {
     "data": {
      "text/html": [
       "<div>\n",
       "<style scoped>\n",
       "    .dataframe tbody tr th:only-of-type {\n",
       "        vertical-align: middle;\n",
       "    }\n",
       "\n",
       "    .dataframe tbody tr th {\n",
       "        vertical-align: top;\n",
       "    }\n",
       "\n",
       "    .dataframe thead th {\n",
       "        text-align: right;\n",
       "    }\n",
       "</style>\n",
       "<table border=\"1\" class=\"dataframe\">\n",
       "  <thead>\n",
       "    <tr style=\"text-align: right;\">\n",
       "      <th></th>\n",
       "      <th>namd_abs</th>\n",
       "      <th>namd_abs_mc</th>\n",
       "      <th>namd_abs_q16</th>\n",
       "      <th>namd_abs_q50</th>\n",
       "      <th>namd_abs_q84</th>\n",
       "    </tr>\n",
       "  </thead>\n",
       "  <tbody>\n",
       "    <tr>\n",
       "      <th>34</th>\n",
       "      <td>0.001157</td>\n",
       "      <td>NaN</td>\n",
       "      <td>0.001157</td>\n",
       "      <td>0.001157</td>\n",
       "      <td>0.001157</td>\n",
       "    </tr>\n",
       "    <tr>\n",
       "      <th>35</th>\n",
       "      <td>0.001157</td>\n",
       "      <td>NaN</td>\n",
       "      <td>0.001157</td>\n",
       "      <td>0.001157</td>\n",
       "      <td>0.001157</td>\n",
       "    </tr>\n",
       "    <tr>\n",
       "      <th>36</th>\n",
       "      <td>0.001157</td>\n",
       "      <td>NaN</td>\n",
       "      <td>0.001157</td>\n",
       "      <td>0.001157</td>\n",
       "      <td>0.001157</td>\n",
       "    </tr>\n",
       "    <tr>\n",
       "      <th>37</th>\n",
       "      <td>0.001157</td>\n",
       "      <td>NaN</td>\n",
       "      <td>0.001157</td>\n",
       "      <td>0.001157</td>\n",
       "      <td>0.001157</td>\n",
       "    </tr>\n",
       "    <tr>\n",
       "      <th>38</th>\n",
       "      <td>0.001157</td>\n",
       "      <td>NaN</td>\n",
       "      <td>0.001157</td>\n",
       "      <td>0.001157</td>\n",
       "      <td>0.001157</td>\n",
       "    </tr>\n",
       "    <tr>\n",
       "      <th>39</th>\n",
       "      <td>0.001157</td>\n",
       "      <td>NaN</td>\n",
       "      <td>0.001157</td>\n",
       "      <td>0.001157</td>\n",
       "      <td>0.001157</td>\n",
       "    </tr>\n",
       "    <tr>\n",
       "      <th>40</th>\n",
       "      <td>0.001157</td>\n",
       "      <td>NaN</td>\n",
       "      <td>0.001157</td>\n",
       "      <td>0.001157</td>\n",
       "      <td>0.001157</td>\n",
       "    </tr>\n",
       "    <tr>\n",
       "      <th>41</th>\n",
       "      <td>0.001157</td>\n",
       "      <td>NaN</td>\n",
       "      <td>0.001157</td>\n",
       "      <td>0.001157</td>\n",
       "      <td>0.001157</td>\n",
       "    </tr>\n",
       "  </tbody>\n",
       "</table>\n",
       "</div>"
      ],
      "text/plain": [
       "    namd_abs  namd_abs_mc  namd_abs_q16  namd_abs_q50  namd_abs_q84\n",
       "34  0.001157          NaN      0.001157      0.001157      0.001157\n",
       "35  0.001157          NaN      0.001157      0.001157      0.001157\n",
       "36  0.001157          NaN      0.001157      0.001157      0.001157\n",
       "37  0.001157          NaN      0.001157      0.001157      0.001157\n",
       "38  0.001157          NaN      0.001157      0.001157      0.001157\n",
       "39  0.001157          NaN      0.001157      0.001157      0.001157\n",
       "40  0.001157          NaN      0.001157      0.001157      0.001157\n",
       "41  0.001157          NaN      0.001157      0.001157      0.001157"
      ]
     },
     "execution_count": 11,
     "metadata": {},
     "output_type": "execute_result"
    }
   ],
   "source": [
    "df_namd[df_namd.hostname == \"SS\"][[\"namd_abs\", \"namd_abs_mc\", \"namd_abs_q16\", \"namd_abs_q50\", \"namd_abs_q84\"]]\n"
   ]
  },
  {
   "cell_type": "code",
   "execution_count": 12,
   "id": "4feaab89",
   "metadata": {},
   "outputs": [
    {
     "data": {
      "text/plain": [
       "18"
      ]
     },
     "execution_count": 12,
     "metadata": {},
     "output_type": "execute_result"
    }
   ],
   "source": [
    "df_namd[~df_namd.hostname.isin(df_fake.hostname.unique())].hostname.nunique()"
   ]
  },
  {
   "cell_type": "code",
   "execution_count": 13,
   "id": "3f088ddd",
   "metadata": {},
   "outputs": [
    {
     "name": "stderr",
     "output_type": "stream",
     "text": [
      "\u001b[32m2025-09-10 18:27:58.354\u001b[0m | \u001b[1mINFO    \u001b[0m | \u001b[36m__main__\u001b[0m:\u001b[36m<module>\u001b[0m:\u001b[36m4\u001b[0m - \u001b[1mPlotting the absolute NAMD vs. multiplicity\u001b[0m\n"
     ]
    },
    {
     "data": {
      "image/png": "[encoded data removed]",
      "text/plain": [
       "<Figure size 600x600 with 2 Axes>"
      ]
     },
     "metadata": {},
     "output_type": "display_data"
    },
    {
     "name": "stderr",
     "output_type": "stream",
     "text": [
      "\u001b[32m2025-09-10 18:27:59.100\u001b[0m | \u001b[1mINFO    \u001b[0m | \u001b[36m__main__\u001b[0m:\u001b[36m<module>\u001b[0m:\u001b[36m18\u001b[0m - \u001b[1mPlot done\u001b[0m\n"
     ]
    }
   ],
   "source": [
    "# for this figure we need to define df_namd_ without systems with hostname in df_fake\n",
    "df_namd_ = df_namd[~df_namd.hostname.isin(df_fake.hostname.unique())]\n",
    "\n",
    "logger.info(\"Plotting the absolute NAMD vs. multiplicity\")\n",
    "pop_plot(\n",
    "    df=df_namd_.groupby(\"hostname\").apply(\n",
    "        lambda g: g.select_dtypes(exclude=[\"object\"]).mean(),\n",
    "        # include_groups=False,\n",
    "    ),\n",
    "    kind=\"abs\",\n",
    "    # title=\"Core planets\",\n",
    "    which=\"namd\",\n",
    "    yscale=\"log\",\n",
    "    out_path=\"/home/ariel/andrea.bocchieri/DATA/ExoNAMD/notebook/plots/exo_namd_abs_paper.pdf\",\n",
    "    replace_nan=False,\n",
    "    xoffs=0.15,\n",
    ")\n",
    "logger.info(\"Plot done\")"
   ]
  },
  {
   "cell_type": "code",
   "execution_count": 14,
   "id": "38dbf1e4",
   "metadata": {},
   "outputs": [
    {
     "name": "stdout",
     "output_type": "stream",
     "text": [
      "18\n",
      "sy_pnum\n",
      "2    10\n",
      "3     3\n",
      "4     2\n",
      "5     1\n",
      "6     1\n",
      "8     1\n",
      "Name: hostname, dtype: int64\n"
     ]
    }
   ],
   "source": [
    "print(df_namd_.hostname.nunique())\n",
    "print(df_namd_.groupby(\"sy_pnum\").hostname.nunique())"
   ]
  },
  {
   "cell_type": "code",
   "execution_count": 15,
   "id": "cf6a3f9d",
   "metadata": {},
   "outputs": [
    {
     "data": {
      "text/plain": [
       "array(['55 Cncx', 'AU Mic', 'GJ 876x', 'HD 110067x', 'HD 118203',\n",
       "       'HD 191939x', 'HD 3167', 'HIP 41378', 'K2-290', 'Kepler-462',\n",
       "       'Kepler-56', 'SS', 'SSE', 'SSEn', 'TOI-1136', 'TOI-2076',\n",
       "       'TOI-2202', 'TOI-421', 'TOI-451', 'TOI-5398', 'TOI-942',\n",
       "       'TOI-942x', 'TOI-942xx', 'TOI-942xxx', 'TRAPPIST-1x', 'WASP-148',\n",
       "       'WASP-47', 'WASP-84'], dtype=object)"
      ]
     },
     "execution_count": 15,
     "metadata": {},
     "output_type": "execute_result"
    }
   ],
   "source": [
    "df_namd.hostname.unique()"
   ]
  },
  {
   "cell_type": "code",
   "execution_count": 16,
   "id": "b9f20f62",
   "metadata": {},
   "outputs": [
    {
     "name": "stdout",
     "output_type": "stream",
     "text": [
      "18 10\n"
     ]
    }
   ],
   "source": [
    "df_namd_plot = df_namd_.groupby(\"hostname\")[\n",
    "    [\n",
    "        \"namd_rel\",\n",
    "        \"namd_abs\",\n",
    "        \"namd_rel_q16\",\n",
    "        \"namd_rel_q50\",\n",
    "        \"namd_rel_q84\",\n",
    "        \"namd_abs_q16\",\n",
    "        \"namd_abs_q50\",\n",
    "        \"namd_abs_q84\",\n",
    "    ]\n",
    "].apply(lambda g: g.select_dtypes(exclude=[\"object\"]).mean())\n",
    "\n",
    "df_namd_fake = (\n",
    "    df_namd[df_namd.hostname.isin(df_fake.hostname.unique())]\n",
    "    .groupby(\"hostname\")[\n",
    "        [\n",
    "            \"namd_rel\",\n",
    "            \"namd_abs\",\n",
    "            \"namd_rel_q16\",\n",
    "            \"namd_rel_q50\",\n",
    "            \"namd_rel_q84\",\n",
    "            \"namd_abs_q16\",\n",
    "            \"namd_abs_q50\",\n",
    "            \"namd_abs_q84\",\n",
    "        ]\n",
    "    ]\n",
    "    .apply(lambda g: g.select_dtypes(exclude=[\"object\"]).mean())\n",
    ")\n",
    "\n",
    "print(len(df_namd_plot), len(df_namd_fake))"
   ]
  },
  {
   "cell_type": "code",
   "execution_count": 17,
   "id": "1b427059",
   "metadata": {},
   "outputs": [
    {
     "data": {
      "text/html": [
       "<div>\n",
       "<style scoped>\n",
       "    .dataframe tbody tr th:only-of-type {\n",
       "        vertical-align: middle;\n",
       "    }\n",
       "\n",
       "    .dataframe tbody tr th {\n",
       "        vertical-align: top;\n",
       "    }\n",
       "\n",
       "    .dataframe thead th {\n",
       "        text-align: right;\n",
       "    }\n",
       "</style>\n",
       "<table border=\"1\" class=\"dataframe\">\n",
       "  <thead>\n",
       "    <tr style=\"text-align: right;\">\n",
       "      <th></th>\n",
       "      <th>namd_rel</th>\n",
       "      <th>namd_abs</th>\n",
       "      <th>namd_rel_q16</th>\n",
       "      <th>namd_rel_q50</th>\n",
       "      <th>namd_rel_q84</th>\n",
       "      <th>namd_abs_q16</th>\n",
       "      <th>namd_abs_q50</th>\n",
       "      <th>namd_abs_q84</th>\n",
       "    </tr>\n",
       "    <tr>\n",
       "      <th>hostname</th>\n",
       "      <th></th>\n",
       "      <th></th>\n",
       "      <th></th>\n",
       "      <th></th>\n",
       "      <th></th>\n",
       "      <th></th>\n",
       "      <th></th>\n",
       "      <th></th>\n",
       "    </tr>\n",
       "  </thead>\n",
       "  <tbody>\n",
       "    <tr>\n",
       "      <th>AU Mic</th>\n",
       "      <td>0.000000</td>\n",
       "      <td>0.046231</td>\n",
       "      <td>0.000000</td>\n",
       "      <td>0.000000</td>\n",
       "      <td>0.000001</td>\n",
       "      <td>0.010194</td>\n",
       "      <td>0.053459</td>\n",
       "      <td>0.140029</td>\n",
       "    </tr>\n",
       "    <tr>\n",
       "      <th>HD 118203</th>\n",
       "      <td>0.033952</td>\n",
       "      <td>0.041910</td>\n",
       "      <td>0.039391</td>\n",
       "      <td>0.074055</td>\n",
       "      <td>0.196379</td>\n",
       "      <td>0.033299</td>\n",
       "      <td>0.045876</td>\n",
       "      <td>0.064048</td>\n",
       "    </tr>\n",
       "    <tr>\n",
       "      <th>HD 3167</th>\n",
       "      <td>0.000006</td>\n",
       "      <td>0.405599</td>\n",
       "      <td>0.000781</td>\n",
       "      <td>0.002667</td>\n",
       "      <td>0.006985</td>\n",
       "      <td>0.378356</td>\n",
       "      <td>0.407973</td>\n",
       "      <td>0.438252</td>\n",
       "    </tr>\n",
       "    <tr>\n",
       "      <th>HIP 41378</th>\n",
       "      <td>0.003474</td>\n",
       "      <td>0.104308</td>\n",
       "      <td>0.001470</td>\n",
       "      <td>0.003627</td>\n",
       "      <td>0.008479</td>\n",
       "      <td>0.093930</td>\n",
       "      <td>0.106363</td>\n",
       "      <td>0.119742</td>\n",
       "    </tr>\n",
       "    <tr>\n",
       "      <th>K2-290</th>\n",
       "      <td>0.000005</td>\n",
       "      <td>0.529443</td>\n",
       "      <td>0.000003</td>\n",
       "      <td>0.000007</td>\n",
       "      <td>0.000014</td>\n",
       "      <td>0.485124</td>\n",
       "      <td>0.529366</td>\n",
       "      <td>0.574855</td>\n",
       "    </tr>\n",
       "    <tr>\n",
       "      <th>Kepler-462</th>\n",
       "      <td>0.086488</td>\n",
       "      <td>0.263741</td>\n",
       "      <td>0.060339</td>\n",
       "      <td>0.084283</td>\n",
       "      <td>0.109019</td>\n",
       "      <td>0.231805</td>\n",
       "      <td>0.261566</td>\n",
       "      <td>0.294638</td>\n",
       "    </tr>\n",
       "    <tr>\n",
       "      <th>Kepler-56</th>\n",
       "      <td>0.000000</td>\n",
       "      <td>0.051676</td>\n",
       "      <td>0.000001</td>\n",
       "      <td>0.000003</td>\n",
       "      <td>0.000007</td>\n",
       "      <td>0.019822</td>\n",
       "      <td>0.054471</td>\n",
       "      <td>0.111416</td>\n",
       "    </tr>\n",
       "    <tr>\n",
       "      <th>SS</th>\n",
       "      <td>0.001157</td>\n",
       "      <td>0.001157</td>\n",
       "      <td>0.001157</td>\n",
       "      <td>0.001157</td>\n",
       "      <td>0.001157</td>\n",
       "      <td>0.001157</td>\n",
       "      <td>0.001157</td>\n",
       "      <td>0.001157</td>\n",
       "    </tr>\n",
       "    <tr>\n",
       "      <th>TOI-1136</th>\n",
       "      <td>0.001265</td>\n",
       "      <td>0.001188</td>\n",
       "      <td>0.001116</td>\n",
       "      <td>0.001344</td>\n",
       "      <td>0.001619</td>\n",
       "      <td>0.013486</td>\n",
       "      <td>0.026459</td>\n",
       "      <td>0.047520</td>\n",
       "    </tr>\n",
       "    <tr>\n",
       "      <th>TOI-2076</th>\n",
       "      <td>0.001732</td>\n",
       "      <td>0.013972</td>\n",
       "      <td>0.000915</td>\n",
       "      <td>0.002137</td>\n",
       "      <td>0.004344</td>\n",
       "      <td>0.010253</td>\n",
       "      <td>0.017386</td>\n",
       "      <td>0.027197</td>\n",
       "    </tr>\n",
       "    <tr>\n",
       "      <th>TOI-2202</th>\n",
       "      <td>0.001902</td>\n",
       "      <td>0.037550</td>\n",
       "      <td>0.002375</td>\n",
       "      <td>0.005242</td>\n",
       "      <td>0.011195</td>\n",
       "      <td>0.024826</td>\n",
       "      <td>0.043175</td>\n",
       "      <td>0.067836</td>\n",
       "    </tr>\n",
       "    <tr>\n",
       "      <th>TOI-421</th>\n",
       "      <td>0.016088</td>\n",
       "      <td>0.101503</td>\n",
       "      <td>0.011100</td>\n",
       "      <td>0.016506</td>\n",
       "      <td>0.023170</td>\n",
       "      <td>0.086479</td>\n",
       "      <td>0.103104</td>\n",
       "      <td>0.121915</td>\n",
       "    </tr>\n",
       "    <tr>\n",
       "      <th>TOI-451</th>\n",
       "      <td>0.000018</td>\n",
       "      <td>0.060307</td>\n",
       "      <td>0.000012</td>\n",
       "      <td>0.000038</td>\n",
       "      <td>0.000102</td>\n",
       "      <td>0.034085</td>\n",
       "      <td>0.075081</td>\n",
       "      <td>0.139409</td>\n",
       "    </tr>\n",
       "    <tr>\n",
       "      <th>TOI-5398</th>\n",
       "      <td>0.008680</td>\n",
       "      <td>0.015237</td>\n",
       "      <td>0.004060</td>\n",
       "      <td>0.009018</td>\n",
       "      <td>0.016626</td>\n",
       "      <td>0.010002</td>\n",
       "      <td>0.018154</td>\n",
       "      <td>0.029608</td>\n",
       "    </tr>\n",
       "    <tr>\n",
       "      <th>TOI-942</th>\n",
       "      <td>0.002596</td>\n",
       "      <td>0.025401</td>\n",
       "      <td>0.001927</td>\n",
       "      <td>0.006630</td>\n",
       "      <td>0.016231</td>\n",
       "      <td>0.023176</td>\n",
       "      <td>0.046240</td>\n",
       "      <td>0.082110</td>\n",
       "    </tr>\n",
       "    <tr>\n",
       "      <th>WASP-148</th>\n",
       "      <td>0.038411</td>\n",
       "      <td>0.020714</td>\n",
       "      <td>0.033166</td>\n",
       "      <td>0.042493</td>\n",
       "      <td>0.054335</td>\n",
       "      <td>0.019535</td>\n",
       "      <td>0.023673</td>\n",
       "      <td>0.030322</td>\n",
       "    </tr>\n",
       "    <tr>\n",
       "      <th>WASP-47</th>\n",
       "      <td>0.030337</td>\n",
       "      <td>0.061199</td>\n",
       "      <td>0.028396</td>\n",
       "      <td>0.030603</td>\n",
       "      <td>0.032911</td>\n",
       "      <td>0.044980</td>\n",
       "      <td>0.062258</td>\n",
       "      <td>0.088467</td>\n",
       "    </tr>\n",
       "    <tr>\n",
       "      <th>WASP-84</th>\n",
       "      <td>0.000145</td>\n",
       "      <td>0.011374</td>\n",
       "      <td>0.000098</td>\n",
       "      <td>0.000143</td>\n",
       "      <td>0.000198</td>\n",
       "      <td>0.004151</td>\n",
       "      <td>0.011634</td>\n",
       "      <td>0.023307</td>\n",
       "    </tr>\n",
       "  </tbody>\n",
       "</table>\n",
       "</div>"
      ],
      "text/plain": [
       "            namd_rel  namd_abs  namd_rel_q16  namd_rel_q50  namd_rel_q84  \\\n",
       "hostname                                                                   \n",
       "AU Mic      0.000000  0.046231      0.000000      0.000000      0.000001   \n",
       "HD 118203   0.033952  0.041910      0.039391      0.074055      0.196379   \n",
       "HD 3167     0.000006  0.405599      0.000781      0.002667      0.006985   \n",
       "HIP 41378   0.003474  0.104308      0.001470      0.003627      0.008479   \n",
       "K2-290      0.000005  0.529443      0.000003      0.000007      0.000014   \n",
       "Kepler-462  0.086488  0.263741      0.060339      0.084283      0.109019   \n",
       "Kepler-56   0.000000  0.051676      0.000001      0.000003      0.000007   \n",
       "SS          0.001157  0.001157      0.001157      0.001157      0.001157   \n",
       "TOI-1136    0.001265  0.001188      0.001116      0.001344      0.001619   \n",
       "TOI-2076    0.001732  0.013972      0.000915      0.002137      0.004344   \n",
       "TOI-2202    0.001902  0.037550      0.002375      0.005242      0.011195   \n",
       "TOI-421     0.016088  0.101503      0.011100      0.016506      0.023170   \n",
       "TOI-451     0.000018  0.060307      0.000012      0.000038      0.000102   \n",
       "TOI-5398    0.008680  0.015237      0.004060      0.009018      0.016626   \n",
       "TOI-942     0.002596  0.025401      0.001927      0.006630      0.016231   \n",
       "WASP-148    0.038411  0.020714      0.033166      0.042493      0.054335   \n",
       "WASP-47     0.030337  0.061199      0.028396      0.030603      0.032911   \n",
       "WASP-84     0.000145  0.011374      0.000098      0.000143      0.000198   \n",
       "\n",
       "            namd_abs_q16  namd_abs_q50  namd_abs_q84  \n",
       "hostname                                              \n",
       "AU Mic          0.010194      0.053459      0.140029  \n",
       "HD 118203       0.033299      0.045876      0.064048  \n",
       "HD 3167         0.378356      0.407973      0.438252  \n",
       "HIP 41378       0.093930      0.106363      0.119742  \n",
       "K2-290          0.485124      0.529366      0.574855  \n",
       "Kepler-462      0.231805      0.261566      0.294638  \n",
       "Kepler-56       0.019822      0.054471      0.111416  \n",
       "SS              0.001157      0.001157      0.001157  \n",
       "TOI-1136        0.013486      0.026459      0.047520  \n",
       "TOI-2076        0.010253      0.017386      0.027197  \n",
       "TOI-2202        0.024826      0.043175      0.067836  \n",
       "TOI-421         0.086479      0.103104      0.121915  \n",
       "TOI-451         0.034085      0.075081      0.139409  \n",
       "TOI-5398        0.010002      0.018154      0.029608  \n",
       "TOI-942         0.023176      0.046240      0.082110  \n",
       "WASP-148        0.019535      0.023673      0.030322  \n",
       "WASP-47         0.044980      0.062258      0.088467  \n",
       "WASP-84         0.004151      0.011634      0.023307  "
      ]
     },
     "execution_count": 17,
     "metadata": {},
     "output_type": "execute_result"
    }
   ],
   "source": [
    "# df_namd_plot\n",
    "# print with 5 decimals\n",
    "df_namd_plot.round(6)"
   ]
  },
  {
   "cell_type": "code",
   "execution_count": 18,
   "id": "f93c8e19",
   "metadata": {},
   "outputs": [
    {
     "data": {
      "text/html": [
       "<div>\n",
       "<style scoped>\n",
       "    .dataframe tbody tr th:only-of-type {\n",
       "        vertical-align: middle;\n",
       "    }\n",
       "\n",
       "    .dataframe tbody tr th {\n",
       "        vertical-align: top;\n",
       "    }\n",
       "\n",
       "    .dataframe thead th {\n",
       "        text-align: right;\n",
       "    }\n",
       "</style>\n",
       "<table border=\"1\" class=\"dataframe\">\n",
       "  <thead>\n",
       "    <tr style=\"text-align: right;\">\n",
       "      <th></th>\n",
       "      <th>namd_rel</th>\n",
       "      <th>namd_abs</th>\n",
       "      <th>namd_rel_q16</th>\n",
       "      <th>namd_rel_q50</th>\n",
       "      <th>namd_rel_q84</th>\n",
       "      <th>namd_abs_q16</th>\n",
       "      <th>namd_abs_q50</th>\n",
       "      <th>namd_abs_q84</th>\n",
       "    </tr>\n",
       "    <tr>\n",
       "      <th>hostname</th>\n",
       "      <th></th>\n",
       "      <th></th>\n",
       "      <th></th>\n",
       "      <th></th>\n",
       "      <th></th>\n",
       "      <th></th>\n",
       "      <th></th>\n",
       "      <th></th>\n",
       "    </tr>\n",
       "  </thead>\n",
       "  <tbody>\n",
       "    <tr>\n",
       "      <th>55 Cncx</th>\n",
       "      <td>8.035724e-03</td>\n",
       "      <td>8.035726e-03</td>\n",
       "      <td>5.847064e-03</td>\n",
       "      <td>8.136655e-03</td>\n",
       "      <td>1.077760e-02</td>\n",
       "      <td>5.805727e-03</td>\n",
       "      <td>8.075373e-03</td>\n",
       "      <td>1.073589e-02</td>\n",
       "    </tr>\n",
       "    <tr>\n",
       "      <th>GJ 876x</th>\n",
       "      <td>6.951919e-03</td>\n",
       "      <td>6.951921e-03</td>\n",
       "      <td>6.884852e-03</td>\n",
       "      <td>6.956950e-03</td>\n",
       "      <td>7.030316e-03</td>\n",
       "      <td>6.884953e-03</td>\n",
       "      <td>6.957202e-03</td>\n",
       "      <td>7.030717e-03</td>\n",
       "    </tr>\n",
       "    <tr>\n",
       "      <th>HD 110067x</th>\n",
       "      <td>4.233427e-05</td>\n",
       "      <td>1.709887e-05</td>\n",
       "      <td>3.821364e-05</td>\n",
       "      <td>4.358274e-05</td>\n",
       "      <td>4.990773e-05</td>\n",
       "      <td>1.709887e-05</td>\n",
       "      <td>1.709887e-05</td>\n",
       "      <td>1.709887e-05</td>\n",
       "    </tr>\n",
       "    <tr>\n",
       "      <th>HD 191939x</th>\n",
       "      <td>1.897625e-01</td>\n",
       "      <td>1.897618e-01</td>\n",
       "      <td>1.897690e-01</td>\n",
       "      <td>1.897936e-01</td>\n",
       "      <td>1.898795e-01</td>\n",
       "      <td>1.897611e-01</td>\n",
       "      <td>1.897619e-01</td>\n",
       "      <td>1.897628e-01</td>\n",
       "    </tr>\n",
       "    <tr>\n",
       "      <th>SSE</th>\n",
       "      <td>1.141626e-03</td>\n",
       "      <td>1.012178e-02</td>\n",
       "      <td>1.141626e-03</td>\n",
       "      <td>1.141626e-03</td>\n",
       "      <td>1.141626e-03</td>\n",
       "      <td>1.012178e-02</td>\n",
       "      <td>1.012178e-02</td>\n",
       "      <td>1.012178e-02</td>\n",
       "    </tr>\n",
       "    <tr>\n",
       "      <th>SSEn</th>\n",
       "      <td>1.458319e-11</td>\n",
       "      <td>1.465562e-07</td>\n",
       "      <td>1.458316e-11</td>\n",
       "      <td>1.458319e-11</td>\n",
       "      <td>1.458322e-11</td>\n",
       "      <td>1.465562e-07</td>\n",
       "      <td>1.465562e-07</td>\n",
       "      <td>1.465562e-07</td>\n",
       "    </tr>\n",
       "    <tr>\n",
       "      <th>TOI-942x</th>\n",
       "      <td>2.020410e-02</td>\n",
       "      <td>2.020410e-02</td>\n",
       "      <td>1.374319e-02</td>\n",
       "      <td>2.079612e-02</td>\n",
       "      <td>2.942579e-02</td>\n",
       "      <td>1.372373e-02</td>\n",
       "      <td>2.068795e-02</td>\n",
       "      <td>2.931078e-02</td>\n",
       "    </tr>\n",
       "    <tr>\n",
       "      <th>TOI-942xx</th>\n",
       "      <td>5.012563e-03</td>\n",
       "      <td>5.012563e-03</td>\n",
       "      <td>2.590944e-03</td>\n",
       "      <td>5.679566e-03</td>\n",
       "      <td>1.033790e-02</td>\n",
       "      <td>2.593813e-03</td>\n",
       "      <td>5.693589e-03</td>\n",
       "      <td>1.031480e-02</td>\n",
       "    </tr>\n",
       "    <tr>\n",
       "      <th>TOI-942xxx</th>\n",
       "      <td>1.250782e-03</td>\n",
       "      <td>1.250782e-03</td>\n",
       "      <td>7.390018e-04</td>\n",
       "      <td>2.247279e-03</td>\n",
       "      <td>5.069663e-03</td>\n",
       "      <td>7.388738e-04</td>\n",
       "      <td>2.255062e-03</td>\n",
       "      <td>5.062975e-03</td>\n",
       "    </tr>\n",
       "    <tr>\n",
       "      <th>TRAPPIST-1x</th>\n",
       "      <td>1.754423e-05</td>\n",
       "      <td>1.709887e-05</td>\n",
       "      <td>2.015486e-05</td>\n",
       "      <td>2.263854e-05</td>\n",
       "      <td>2.635670e-05</td>\n",
       "      <td>1.709887e-05</td>\n",
       "      <td>1.709887e-05</td>\n",
       "      <td>1.709887e-05</td>\n",
       "    </tr>\n",
       "  </tbody>\n",
       "</table>\n",
       "</div>"
      ],
      "text/plain": [
       "                 namd_rel      namd_abs  namd_rel_q16  namd_rel_q50  \\\n",
       "hostname                                                              \n",
       "55 Cncx      8.035724e-03  8.035726e-03  5.847064e-03  8.136655e-03   \n",
       "GJ 876x      6.951919e-03  6.951921e-03  6.884852e-03  6.956950e-03   \n",
       "HD 110067x   4.233427e-05  1.709887e-05  3.821364e-05  4.358274e-05   \n",
       "HD 191939x   1.897625e-01  1.897618e-01  1.897690e-01  1.897936e-01   \n",
       "SSE          1.141626e-03  1.012178e-02  1.141626e-03  1.141626e-03   \n",
       "SSEn         1.458319e-11  1.465562e-07  1.458316e-11  1.458319e-11   \n",
       "TOI-942x     2.020410e-02  2.020410e-02  1.374319e-02  2.079612e-02   \n",
       "TOI-942xx    5.012563e-03  5.012563e-03  2.590944e-03  5.679566e-03   \n",
       "TOI-942xxx   1.250782e-03  1.250782e-03  7.390018e-04  2.247279e-03   \n",
       "TRAPPIST-1x  1.754423e-05  1.709887e-05  2.015486e-05  2.263854e-05   \n",
       "\n",
       "             namd_rel_q84  namd_abs_q16  namd_abs_q50  namd_abs_q84  \n",
       "hostname                                                             \n",
       "55 Cncx      1.077760e-02  5.805727e-03  8.075373e-03  1.073589e-02  \n",
       "GJ 876x      7.030316e-03  6.884953e-03  6.957202e-03  7.030717e-03  \n",
       "HD 110067x   4.990773e-05  1.709887e-05  1.709887e-05  1.709887e-05  \n",
       "HD 191939x   1.898795e-01  1.897611e-01  1.897619e-01  1.897628e-01  \n",
       "SSE          1.141626e-03  1.012178e-02  1.012178e-02  1.012178e-02  \n",
       "SSEn         1.458322e-11  1.465562e-07  1.465562e-07  1.465562e-07  \n",
       "TOI-942x     2.942579e-02  1.372373e-02  2.068795e-02  2.931078e-02  \n",
       "TOI-942xx    1.033790e-02  2.593813e-03  5.693589e-03  1.031480e-02  \n",
       "TOI-942xxx   5.069663e-03  7.388738e-04  2.255062e-03  5.062975e-03  \n",
       "TRAPPIST-1x  2.635670e-05  1.709887e-05  1.709887e-05  1.709887e-05  "
      ]
     },
     "execution_count": 18,
     "metadata": {},
     "output_type": "execute_result"
    }
   ],
   "source": [
    "df_namd_fake"
   ]
  },
  {
   "cell_type": "code",
   "execution_count": 19,
   "id": "3262e6b5",
   "metadata": {},
   "outputs": [
    {
     "name": "stdout",
     "output_type": "stream",
     "text": [
      "0\n"
     ]
    },
    {
     "data": {
      "image/png": "[encoded data removed]",
      "text/plain": [
       "<Figure size 1200x900 with 1 Axes>"
      ]
     },
     "metadata": {},
     "output_type": "display_data"
    }
   ],
   "source": [
    "import matplotlib.pyplot as plt\n",
    "\n",
    "fig = plt.figure(figsize=(8, 6), dpi=150)\n",
    "\n",
    "plt.yscale(\"log\")\n",
    "plt.xscale(\"log\")\n",
    "plt.xlabel(rf\"log$\\,$R-NAMD\")\n",
    "plt.ylabel(rf\"log$\\,$A-NAMD\")\n",
    "\n",
    "ax = plt.gca()\n",
    "for df_p, color in zip([df_namd_plot, df_namd_fake], [\"C0\", \"C2\"]):\n",
    "\n",
    "    ax.plot(\n",
    "        df_p[\"namd_rel_q50\"],\n",
    "        df_p[\"namd_abs_q50\"],\n",
    "        linestyle=\"none\",\n",
    "        marker=\"D\",\n",
    "        markersize=4,\n",
    "        alpha=0.4,\n",
    "        zorder=3,  # above error bars\n",
    "        color=\"gray\",\n",
    "    )\n",
    "\n",
    "    ax.errorbar(\n",
    "        x=df_p[\"namd_rel_q50\"],\n",
    "        y=df_p[\"namd_abs_q50\"],\n",
    "        xerr=(\n",
    "            df_p[\"namd_rel_q84\"] - df_p[\"namd_rel_q50\"],\n",
    "            df_p[\"namd_rel_q50\"] - df_p[\"namd_rel_q16\"],\n",
    "        ),\n",
    "        yerr=(\n",
    "            df_p[\"namd_abs_q84\"] - df_p[\"namd_abs_q50\"],\n",
    "            df_p[\"namd_abs_q50\"] - df_p[\"namd_abs_q16\"],\n",
    "        ),\n",
    "        fmt=\"none\",      # draw only bars\n",
    "        capsize=5,\n",
    "        alpha=0.5,\n",
    "        zorder=1,        # under the diamonds\n",
    "        color=color,\n",
    "    )\n",
    "\n",
    "missing_mc = df_namd_plot[\n",
    "    np.logical_or(\n",
    "        df_namd_plot[\"namd_abs_q50\"].isna(), df_namd_plot[\"namd_rel_q50\"].isna()\n",
    "    )\n",
    "]\n",
    "print(len(missing_mc))\n",
    "\n",
    "plt.plot(\n",
    "    missing_mc[\"namd_rel\"],\n",
    "    missing_mc[\"namd_abs\"],\n",
    "    \"o\",\n",
    "    color=\"k\",\n",
    "    alpha=0.5,\n",
    "    markersize=3,\n",
    ")\n",
    "\n",
    "ymin = 1e-5\n",
    "ymax = 1\n",
    "xmin = 1e-7\n",
    "xmax = 1\n",
    "\n",
    "# xmin = xmax = ymin = ymax = None\n",
    "\n",
    "plt.xlim(xmin, xmax)\n",
    "plt.ylim(ymin, ymax)\n",
    "# plt.vlines(1.3e-3, *plt.ylim(), colors=[\"k\"], linestyles=[\"--\"])\n",
    "# plt.hlines(1.3e-3, *plt.xlim(), colors=[\"k\"], linestyles=[\"--\"])\n",
    "\n",
    "plt.vlines(\n",
    "    df_namd_plot.loc[\"SS\"][\"namd_rel\"],\n",
    "    *plt.ylim(),\n",
    "    colors=[\"k\"],\n",
    "    linestyles=[\"--\"],\n",
    "    alpha=0.6,\n",
    "    zorder=0\n",
    ")\n",
    "plt.hlines(\n",
    "    df_namd_plot.loc[\"SS\"][\"namd_abs\"],\n",
    "    *plt.xlim(),\n",
    "    colors=[\"k\"],\n",
    "    linestyles=[\"--\"],\n",
    "    alpha=0.6,\n",
    "    zorder=0\n",
    ")\n",
    "\n",
    "# plt.vlines(df_namd_ss.loc[\"SSE\"][\"namd_rel\"], *plt.ylim(), colors=[\"b\"], linestyles=[\"--\"], alpha=0.3, zorder=0)\n",
    "plt.hlines(\n",
    "    df_namd_fake.loc[\"SSE\"][\"namd_abs\"],\n",
    "    *plt.xlim(),\n",
    "    colors=[\"r\"],\n",
    "    linestyles=[\"--\"],\n",
    "    alpha=0.6,\n",
    "    zorder=0\n",
    ")\n",
    "\n",
    "fig.text(0.3, 0.865, \"Perturbed, non-excited\", ha=\"center\", va=\"center\")\n",
    "fig.text(0.7, 0.865, \"Perturbed, excited\", ha=\"center\", va=\"center\")\n",
    "\n",
    "fig.text(0.3, 0.13, \"Non-perturbed, non-excited\", ha=\"center\", va=\"center\")\n",
    "fig.text(0.72, 0.13, \"Non-perturbed, excited\", ha=\"center\", va=\"center\")\n",
    "plt.grid(which=\"major\", lw=0.15, ls=\"--\", alpha=0.8)\n",
    "\n",
    "from matplotlib.ticker import LogLocator, FuncFormatter, NullFormatter\n",
    "ax.xaxis.set_major_locator(LogLocator(base=10))\n",
    "ax.xaxis.set_major_formatter(\n",
    "    FuncFormatter(lambda y, pos: f\"{int(np.log10(y))}\" if y > 0 else \"\")\n",
    ")\n",
    "ax.xaxis.set_minor_formatter(NullFormatter())\n",
    "ax.yaxis.set_major_locator(LogLocator(base=10))\n",
    "ax.yaxis.set_major_formatter(\n",
    "    FuncFormatter(lambda y, pos: f\"{int(np.log10(y))}\" if y > 0 else \"\")\n",
    ")\n",
    "ax.yaxis.set_minor_formatter(NullFormatter())\n",
    "\n",
    "plt.savefig(\n",
    "    \"/home/ariel/andrea.bocchieri/DATA/ExoNAMD/notebook/plots/four_quadrants_plot_paper.pdf\",\n",
    "    bbox_inches=\"tight\",\n",
    "    dpi=300,\n",
    ")\n",
    "plt.show()"
   ]
  },
  {
   "cell_type": "code",
   "execution_count": null,
   "id": "78379658",
   "metadata": {},
   "outputs": [],
   "source": []
  },
  {
   "cell_type": "code",
   "execution_count": 20,
   "id": "b5e2c782",
   "metadata": {},
   "outputs": [
    {
     "data": {
      "text/plain": [
       "(namd_rel    0.001157\n",
       " namd_abs    0.001157\n",
       " Name: SS, dtype: float64,\n",
       " 0.010121775638911982)"
      ]
     },
     "execution_count": 20,
     "metadata": {},
     "output_type": "execute_result"
    }
   ],
   "source": [
    "df_namd_plot.loc[\"SS\"][[\"namd_rel\", \"namd_abs\"]], df_namd_fake.loc[\"SSE\"][\"namd_abs\"]"
   ]
  },
  {
   "cell_type": "code",
   "execution_count": null,
   "id": "4b8fed44",
   "metadata": {},
   "outputs": [],
   "source": []
  },
  {
   "cell_type": "code",
   "execution_count": 21,
   "id": "9aada936",
   "metadata": {},
   "outputs": [
    {
     "data": {
      "text/html": [
       "<div>\n",
       "<style scoped>\n",
       "    .dataframe tbody tr th:only-of-type {\n",
       "        vertical-align: middle;\n",
       "    }\n",
       "\n",
       "    .dataframe tbody tr th {\n",
       "        vertical-align: top;\n",
       "    }\n",
       "\n",
       "    .dataframe thead th {\n",
       "        text-align: right;\n",
       "    }\n",
       "</style>\n",
       "<table border=\"1\" class=\"dataframe\">\n",
       "  <thead>\n",
       "    <tr style=\"text-align: right;\">\n",
       "      <th></th>\n",
       "      <th>namd_rel</th>\n",
       "      <th>namd_abs</th>\n",
       "      <th>namd_rel_q16</th>\n",
       "      <th>namd_rel_q50</th>\n",
       "      <th>namd_rel_q84</th>\n",
       "      <th>namd_abs_q16</th>\n",
       "      <th>namd_abs_q50</th>\n",
       "      <th>namd_abs_q84</th>\n",
       "    </tr>\n",
       "    <tr>\n",
       "      <th>hostname</th>\n",
       "      <th></th>\n",
       "      <th></th>\n",
       "      <th></th>\n",
       "      <th></th>\n",
       "      <th></th>\n",
       "      <th></th>\n",
       "      <th></th>\n",
       "      <th></th>\n",
       "    </tr>\n",
       "  </thead>\n",
       "  <tbody>\n",
       "    <tr>\n",
       "      <th>SSEn</th>\n",
       "      <td>1.458319e-11</td>\n",
       "      <td>1.465562e-07</td>\n",
       "      <td>1.458316e-11</td>\n",
       "      <td>1.458319e-11</td>\n",
       "      <td>1.458322e-11</td>\n",
       "      <td>1.465562e-07</td>\n",
       "      <td>1.465562e-07</td>\n",
       "      <td>1.465562e-07</td>\n",
       "    </tr>\n",
       "    <tr>\n",
       "      <th>TRAPPIST-1x</th>\n",
       "      <td>1.754423e-05</td>\n",
       "      <td>1.709887e-05</td>\n",
       "      <td>2.015486e-05</td>\n",
       "      <td>2.263854e-05</td>\n",
       "      <td>2.635670e-05</td>\n",
       "      <td>1.709887e-05</td>\n",
       "      <td>1.709887e-05</td>\n",
       "      <td>1.709887e-05</td>\n",
       "    </tr>\n",
       "    <tr>\n",
       "      <th>HD 110067x</th>\n",
       "      <td>4.233427e-05</td>\n",
       "      <td>1.709887e-05</td>\n",
       "      <td>3.821364e-05</td>\n",
       "      <td>4.358274e-05</td>\n",
       "      <td>4.990773e-05</td>\n",
       "      <td>1.709887e-05</td>\n",
       "      <td>1.709887e-05</td>\n",
       "      <td>1.709887e-05</td>\n",
       "    </tr>\n",
       "    <tr>\n",
       "      <th>SSE</th>\n",
       "      <td>1.141626e-03</td>\n",
       "      <td>1.012178e-02</td>\n",
       "      <td>1.141626e-03</td>\n",
       "      <td>1.141626e-03</td>\n",
       "      <td>1.141626e-03</td>\n",
       "      <td>1.012178e-02</td>\n",
       "      <td>1.012178e-02</td>\n",
       "      <td>1.012178e-02</td>\n",
       "    </tr>\n",
       "    <tr>\n",
       "      <th>TOI-942xxx</th>\n",
       "      <td>1.250782e-03</td>\n",
       "      <td>1.250782e-03</td>\n",
       "      <td>7.390018e-04</td>\n",
       "      <td>2.247279e-03</td>\n",
       "      <td>5.069663e-03</td>\n",
       "      <td>7.388738e-04</td>\n",
       "      <td>2.255062e-03</td>\n",
       "      <td>5.062975e-03</td>\n",
       "    </tr>\n",
       "    <tr>\n",
       "      <th>TOI-942xx</th>\n",
       "      <td>5.012563e-03</td>\n",
       "      <td>5.012563e-03</td>\n",
       "      <td>2.590944e-03</td>\n",
       "      <td>5.679566e-03</td>\n",
       "      <td>1.033790e-02</td>\n",
       "      <td>2.593813e-03</td>\n",
       "      <td>5.693589e-03</td>\n",
       "      <td>1.031480e-02</td>\n",
       "    </tr>\n",
       "    <tr>\n",
       "      <th>GJ 876x</th>\n",
       "      <td>6.951919e-03</td>\n",
       "      <td>6.951921e-03</td>\n",
       "      <td>6.884852e-03</td>\n",
       "      <td>6.956950e-03</td>\n",
       "      <td>7.030316e-03</td>\n",
       "      <td>6.884953e-03</td>\n",
       "      <td>6.957202e-03</td>\n",
       "      <td>7.030717e-03</td>\n",
       "    </tr>\n",
       "    <tr>\n",
       "      <th>55 Cncx</th>\n",
       "      <td>8.035724e-03</td>\n",
       "      <td>8.035726e-03</td>\n",
       "      <td>5.847064e-03</td>\n",
       "      <td>8.136655e-03</td>\n",
       "      <td>1.077760e-02</td>\n",
       "      <td>5.805727e-03</td>\n",
       "      <td>8.075373e-03</td>\n",
       "      <td>1.073589e-02</td>\n",
       "    </tr>\n",
       "    <tr>\n",
       "      <th>TOI-942x</th>\n",
       "      <td>2.020410e-02</td>\n",
       "      <td>2.020410e-02</td>\n",
       "      <td>1.374319e-02</td>\n",
       "      <td>2.079612e-02</td>\n",
       "      <td>2.942579e-02</td>\n",
       "      <td>1.372373e-02</td>\n",
       "      <td>2.068795e-02</td>\n",
       "      <td>2.931078e-02</td>\n",
       "    </tr>\n",
       "    <tr>\n",
       "      <th>HD 191939x</th>\n",
       "      <td>1.897625e-01</td>\n",
       "      <td>1.897618e-01</td>\n",
       "      <td>1.897690e-01</td>\n",
       "      <td>1.897936e-01</td>\n",
       "      <td>1.898795e-01</td>\n",
       "      <td>1.897611e-01</td>\n",
       "      <td>1.897619e-01</td>\n",
       "      <td>1.897628e-01</td>\n",
       "    </tr>\n",
       "  </tbody>\n",
       "</table>\n",
       "</div>"
      ],
      "text/plain": [
       "                 namd_rel      namd_abs  namd_rel_q16  namd_rel_q50  \\\n",
       "hostname                                                              \n",
       "SSEn         1.458319e-11  1.465562e-07  1.458316e-11  1.458319e-11   \n",
       "TRAPPIST-1x  1.754423e-05  1.709887e-05  2.015486e-05  2.263854e-05   \n",
       "HD 110067x   4.233427e-05  1.709887e-05  3.821364e-05  4.358274e-05   \n",
       "SSE          1.141626e-03  1.012178e-02  1.141626e-03  1.141626e-03   \n",
       "TOI-942xxx   1.250782e-03  1.250782e-03  7.390018e-04  2.247279e-03   \n",
       "TOI-942xx    5.012563e-03  5.012563e-03  2.590944e-03  5.679566e-03   \n",
       "GJ 876x      6.951919e-03  6.951921e-03  6.884852e-03  6.956950e-03   \n",
       "55 Cncx      8.035724e-03  8.035726e-03  5.847064e-03  8.136655e-03   \n",
       "TOI-942x     2.020410e-02  2.020410e-02  1.374319e-02  2.079612e-02   \n",
       "HD 191939x   1.897625e-01  1.897618e-01  1.897690e-01  1.897936e-01   \n",
       "\n",
       "             namd_rel_q84  namd_abs_q16  namd_abs_q50  namd_abs_q84  \n",
       "hostname                                                             \n",
       "SSEn         1.458322e-11  1.465562e-07  1.465562e-07  1.465562e-07  \n",
       "TRAPPIST-1x  2.635670e-05  1.709887e-05  1.709887e-05  1.709887e-05  \n",
       "HD 110067x   4.990773e-05  1.709887e-05  1.709887e-05  1.709887e-05  \n",
       "SSE          1.141626e-03  1.012178e-02  1.012178e-02  1.012178e-02  \n",
       "TOI-942xxx   5.069663e-03  7.388738e-04  2.255062e-03  5.062975e-03  \n",
       "TOI-942xx    1.033790e-02  2.593813e-03  5.693589e-03  1.031480e-02  \n",
       "GJ 876x      7.030316e-03  6.884953e-03  6.957202e-03  7.030717e-03  \n",
       "55 Cncx      1.077760e-02  5.805727e-03  8.075373e-03  1.073589e-02  \n",
       "TOI-942x     2.942579e-02  1.372373e-02  2.068795e-02  2.931078e-02  \n",
       "HD 191939x   1.898795e-01  1.897611e-01  1.897619e-01  1.897628e-01  "
      ]
     },
     "execution_count": 21,
     "metadata": {},
     "output_type": "execute_result"
    }
   ],
   "source": [
    "# sort df_namd_fake by the namd_rel_q50\n",
    "df_namd_fake.sort_values(\"namd_rel_q50\")"
   ]
  },
  {
   "cell_type": "code",
   "execution_count": 22,
   "id": "678b3cdd",
   "metadata": {},
   "outputs": [
    {
     "data": {
      "text/html": [
       "<div>\n",
       "<style scoped>\n",
       "    .dataframe tbody tr th:only-of-type {\n",
       "        vertical-align: middle;\n",
       "    }\n",
       "\n",
       "    .dataframe tbody tr th {\n",
       "        vertical-align: top;\n",
       "    }\n",
       "\n",
       "    .dataframe thead th {\n",
       "        text-align: right;\n",
       "    }\n",
       "</style>\n",
       "<table border=\"1\" class=\"dataframe\">\n",
       "  <thead>\n",
       "    <tr style=\"text-align: right;\">\n",
       "      <th></th>\n",
       "      <th>pl_name</th>\n",
       "      <th>pl_bmasse</th>\n",
       "      <th>flag</th>\n",
       "      <th>namd_rel</th>\n",
       "      <th>namd_rel_q50</th>\n",
       "      <th>namd_abs</th>\n",
       "      <th>namd_abs_q50</th>\n",
       "    </tr>\n",
       "  </thead>\n",
       "  <tbody>\n",
       "    <tr>\n",
       "      <th>17</th>\n",
       "      <td>TOI-942b</td>\n",
       "      <td>17.754121</td>\n",
       "      <td>02+-</td>\n",
       "      <td>0.002596</td>\n",
       "      <td>0.00663</td>\n",
       "      <td>0.025401</td>\n",
       "      <td>0.04624</td>\n",
       "    </tr>\n",
       "    <tr>\n",
       "      <th>18</th>\n",
       "      <td>TOI-942c</td>\n",
       "      <td>27.362538</td>\n",
       "      <td>02+-</td>\n",
       "      <td>0.002596</td>\n",
       "      <td>0.00663</td>\n",
       "      <td>0.025401</td>\n",
       "      <td>0.04624</td>\n",
       "    </tr>\n",
       "  </tbody>\n",
       "</table>\n",
       "</div>"
      ],
      "text/plain": [
       "     pl_name  pl_bmasse  flag  namd_rel  namd_rel_q50  namd_abs  namd_abs_q50\n",
       "17  TOI-942b  17.754121  02+-  0.002596       0.00663  0.025401       0.04624\n",
       "18  TOI-942c  27.362538  02+-  0.002596       0.00663  0.025401       0.04624"
      ]
     },
     "execution_count": 22,
     "metadata": {},
     "output_type": "execute_result"
    }
   ],
   "source": [
    "df_namd[df_namd[\"hostname\"]==\"TOI-942\"][[\"pl_name\", \"pl_bmasse\", \"flag\", \"namd_rel\", \"namd_rel_q50\", \"namd_abs\", \"namd_abs_q50\"]]"
   ]
  },
  {
   "cell_type": "code",
   "execution_count": null,
   "id": "eacff5df",
   "metadata": {},
   "outputs": [],
   "source": []
  }
 ],
 "metadata": {
  "kernelspec": {
   "display_name": "exo_namd",
   "language": "python",
   "name": "python3"
  },
  "language_info": {
   "codemirror_mode": {
    "name": "ipython",
    "version": 3
   },
   "file_extension": ".py",
   "mimetype": "text/x-python",
   "name": "python",
   "nbconvert_exporter": "python",
   "pygments_lexer": "ipython3",
   "version": "3.10.18"
  }
 },
 "nbformat": 4,
 "nbformat_minor": 5
}
