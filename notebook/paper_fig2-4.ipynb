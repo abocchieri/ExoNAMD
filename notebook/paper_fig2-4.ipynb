{
 "cells": [
  {
   "cell_type": "code",
   "execution_count": 1,
   "id": "99b237c4",
   "metadata": {},
   "outputs": [],
   "source": [
    "%load_ext autoreload\n",
    "%autoreload 2"
   ]
  },
  {
   "cell_type": "code",
   "execution_count": 2,
   "id": "8037f196",
   "metadata": {},
   "outputs": [],
   "source": [
    "from loguru import logger\n",
    "import numpy as np\n",
    "import pandas as pd\n",
    "\n",
    "from exonamd.run import *\n",
    "from exonamd.plot import pop_plot, simple_plot\n",
    "from exonamd.solve import solve_namd_mc\n",
    "\n",
    "from pathlib import Path"
   ]
  },
  {
   "cell_type": "code",
   "execution_count": 3,
   "id": "f45d28d0",
   "metadata": {},
   "outputs": [
    {
     "name": "stderr",
     "output_type": "stream",
     "text": [
      "\u001b[32m2025-09-10 10:13:18.022\u001b[0m | \u001b[1mINFO    \u001b[0m | \u001b[36mexonamd.run\u001b[0m:\u001b[36minterp_db\u001b[0m:\u001b[36m173\u001b[0m - \u001b[1mThinning down the data with nanmedian\u001b[0m\n",
      "\u001b[32m2025-09-10 10:13:18.024\u001b[0m | \u001b[33m\u001b[1mWARNING \u001b[0m | \u001b[36mexonamd.run\u001b[0m:\u001b[36minterp_db\u001b[0m:\u001b[36m176\u001b[0m - \u001b[33m\u001b[1mNaT values in rowupdate: 55\u001b[0m\n",
      "/home/ariel/andrea.bocchieri/.local/lib/python3.10/site-packages/swifter/swifter.py:87: UserWarning: This pandas object has duplicate indices, and swifter may not be able to improve performance. Consider resetting the indices with `df.reset_index(drop=True)`.\n",
      "  warnings.warn(\n",
      "\u001b[32m2025-09-10 10:13:18.051\u001b[0m | \u001b[1mINFO    \u001b[0m | \u001b[36mexonamd.run\u001b[0m:\u001b[36minterp_db\u001b[0m:\u001b[36m185\u001b[0m - \u001b[1mData thinned down\u001b[0m\n",
      "\u001b[32m2025-09-10 10:13:18.052\u001b[0m | \u001b[1mINFO    \u001b[0m | \u001b[36mexonamd.run\u001b[0m:\u001b[36minterp_db\u001b[0m:\u001b[36m187\u001b[0m - \u001b[1mChecking for duplicates\u001b[0m\n",
      "\u001b[32m2025-09-10 10:13:18.057\u001b[0m | \u001b[1mINFO    \u001b[0m | \u001b[36mexonamd.run\u001b[0m:\u001b[36minterp_db\u001b[0m:\u001b[36m195\u001b[0m - \u001b[1mNo duplicates found\u001b[0m\n",
      "\u001b[32m2025-09-10 10:13:18.058\u001b[0m | \u001b[1mINFO    \u001b[0m | \u001b[36mexonamd.run\u001b[0m:\u001b[36minterp_db\u001b[0m:\u001b[36m197\u001b[0m - \u001b[1mInstantiating the flags\u001b[0m\n",
      "\u001b[32m2025-09-10 10:13:18.059\u001b[0m | \u001b[1mINFO    \u001b[0m | \u001b[36mexonamd.run\u001b[0m:\u001b[36minterp_db\u001b[0m:\u001b[36m199\u001b[0m - \u001b[1mFlags instantiated\u001b[0m\n",
      "\u001b[32m2025-09-10 10:13:18.060\u001b[0m | \u001b[1mINFO    \u001b[0m | \u001b[36mexonamd.run\u001b[0m:\u001b[36minterp_db\u001b[0m:\u001b[36m201\u001b[0m - \u001b[1mInterpolating missing eccentricity values\u001b[0m\n"
     ]
    },
    {
     "data": {
      "application/vnd.jupyter.widget-view+json": {
       "model_id": "a83e953a18c3416eb6cbf6e592c011b8",
       "version_major": 2,
       "version_minor": 0
      },
      "text/plain": [
       "Pandas Apply:   0%|          | 0/54 [00:00<?, ?it/s]"
      ]
     },
     "metadata": {},
     "output_type": "display_data"
    },
    {
     "name": "stderr",
     "output_type": "stream",
     "text": [
      "\u001b[32m2025-09-10 10:13:18.136\u001b[0m | \u001b[1mINFO    \u001b[0m | \u001b[36mexonamd.run\u001b[0m:\u001b[36minterp_db\u001b[0m:\u001b[36m210\u001b[0m - \u001b[1mValues interpolated\u001b[0m\n",
      "\u001b[32m2025-09-10 10:13:18.138\u001b[0m | \u001b[1mINFO    \u001b[0m | \u001b[36mexonamd.run\u001b[0m:\u001b[36minterp_db\u001b[0m:\u001b[36m212\u001b[0m - \u001b[1mInterpolating missing planetary mass values\u001b[0m\n"
     ]
    },
    {
     "data": {
      "application/vnd.jupyter.widget-view+json": {
       "model_id": "82f4f1c3baaf4fabbc738747e6044798",
       "version_major": 2,
       "version_minor": 0
      },
      "text/plain": [
       "Pandas Apply:   0%|          | 0/54 [00:00<?, ?it/s]"
      ]
     },
     "metadata": {},
     "output_type": "display_data"
    },
    {
     "name": "stderr",
     "output_type": "stream",
     "text": [
      "\u001b[32m2025-09-10 10:13:19.265\u001b[0m | \u001b[1mINFO    \u001b[0m | \u001b[36mexonamd.run\u001b[0m:\u001b[36minterp_db\u001b[0m:\u001b[36m221\u001b[0m - \u001b[1mValues interpolated\u001b[0m\n",
      "\u001b[32m2025-09-10 10:13:19.267\u001b[0m | \u001b[34m\u001b[1mDEBUG   \u001b[0m | \u001b[36mexonamd.run\u001b[0m:\u001b[36minterp_db\u001b[0m:\u001b[36m223\u001b[0m - \u001b[34m\u001b[1mDropping columns that are no longer needed\u001b[0m\n",
      "\u001b[32m2025-09-10 10:13:19.269\u001b[0m | \u001b[34m\u001b[1mDEBUG   \u001b[0m | \u001b[36mexonamd.run\u001b[0m:\u001b[36minterp_db\u001b[0m:\u001b[36m225\u001b[0m - \u001b[34m\u001b[1mColumns dropped\u001b[0m\n",
      "\u001b[32m2025-09-10 10:13:19.270\u001b[0m | \u001b[1mINFO    \u001b[0m | \u001b[36mexonamd.run\u001b[0m:\u001b[36minterp_db\u001b[0m:\u001b[36m227\u001b[0m - \u001b[1mRemoving systems where at least one planet has no mass or semi-major axis\u001b[0m\n",
      "\u001b[32m2025-09-10 10:13:19.289\u001b[0m | \u001b[1mINFO    \u001b[0m | \u001b[36mexonamd.run\u001b[0m:\u001b[36minterp_db\u001b[0m:\u001b[36m236\u001b[0m - \u001b[1mRemoving 0 systems: []\u001b[0m\n",
      "\u001b[32m2025-09-10 10:13:19.290\u001b[0m | \u001b[1mINFO    \u001b[0m | \u001b[36mexonamd.run\u001b[0m:\u001b[36minterp_db\u001b[0m:\u001b[36m238\u001b[0m - \u001b[1mSystems removed\u001b[0m\n",
      "\u001b[32m2025-09-10 10:13:19.291\u001b[0m | \u001b[1mINFO    \u001b[0m | \u001b[36mexonamd.run\u001b[0m:\u001b[36minterp_db\u001b[0m:\u001b[36m240\u001b[0m - \u001b[1mInterpolating missing values in inclinations\u001b[0m\n"
     ]
    },
    {
     "data": {
      "application/vnd.jupyter.widget-view+json": {
       "model_id": "41b637cce318450e99d1bc433e4d6fba",
       "version_major": 2,
       "version_minor": 0
      },
      "text/plain": [
       "Pandas Apply:   0%|          | 0/54 [00:00<?, ?it/s]"
      ]
     },
     "metadata": {},
     "output_type": "display_data"
    },
    {
     "name": "stderr",
     "output_type": "stream",
     "text": [
      "\u001b[32m2025-09-10 10:13:19.430\u001b[0m | \u001b[1mINFO    \u001b[0m | \u001b[36mexonamd.run\u001b[0m:\u001b[36minterp_db\u001b[0m:\u001b[36m249\u001b[0m - \u001b[1mValues interpolated\u001b[0m\n",
      "\u001b[32m2025-09-10 10:13:19.432\u001b[0m | \u001b[1mINFO    \u001b[0m | \u001b[36mexonamd.run\u001b[0m:\u001b[36minterp_db\u001b[0m:\u001b[36m251\u001b[0m - \u001b[1mInterpolating missing values in semi-major axis uncertainties\u001b[0m\n"
     ]
    },
    {
     "data": {
      "application/vnd.jupyter.widget-view+json": {
       "model_id": "dc0efd0fee9e495eafe7946978e97bf9",
       "version_major": 2,
       "version_minor": 0
      },
      "text/plain": [
       "Pandas Apply:   0%|          | 0/54 [00:00<?, ?it/s]"
      ]
     },
     "metadata": {},
     "output_type": "display_data"
    },
    {
     "name": "stderr",
     "output_type": "stream",
     "text": [
      "\u001b[32m2025-09-10 10:13:19.478\u001b[0m | \u001b[1mINFO    \u001b[0m | \u001b[36mexonamd.run\u001b[0m:\u001b[36minterp_db\u001b[0m:\u001b[36m259\u001b[0m - \u001b[1mValues interpolated\u001b[0m\n",
      "\u001b[32m2025-09-10 10:13:19.480\u001b[0m | \u001b[1mINFO    \u001b[0m | \u001b[36mexonamd.run\u001b[0m:\u001b[36minterp_db\u001b[0m:\u001b[36m262\u001b[0m - \u001b[1mComputing the relative inclinations\u001b[0m\n"
     ]
    },
    {
     "data": {
      "application/vnd.jupyter.widget-view+json": {
       "model_id": "9bdc976f03824aee973535b2d6fc2bb2",
       "version_major": 2,
       "version_minor": 0
      },
      "text/plain": [
       "Pandas Apply:   0%|          | 0/54 [00:00<?, ?it/s]"
      ]
     },
     "metadata": {},
     "output_type": "display_data"
    },
    {
     "name": "stderr",
     "output_type": "stream",
     "text": [
      "\u001b[32m2025-09-10 10:13:19.626\u001b[0m | \u001b[1mINFO    \u001b[0m | \u001b[36mexonamd.run\u001b[0m:\u001b[36minterp_db\u001b[0m:\u001b[36m270\u001b[0m - \u001b[1mValues computed\u001b[0m\n",
      "\u001b[32m2025-09-10 10:13:19.627\u001b[0m | \u001b[1mINFO    \u001b[0m | \u001b[36mexonamd.run\u001b[0m:\u001b[36minterp_db\u001b[0m:\u001b[36m272\u001b[0m - \u001b[1mInterpolating missing values in true obliquity\u001b[0m\n"
     ]
    },
    {
     "data": {
      "application/vnd.jupyter.widget-view+json": {
       "model_id": "78340f1f328842f9a79f793ee5339a89",
       "version_major": 2,
       "version_minor": 0
      },
      "text/plain": [
       "Pandas Apply:   0%|          | 0/54 [00:00<?, ?it/s]"
      ]
     },
     "metadata": {},
     "output_type": "display_data"
    },
    {
     "name": "stderr",
     "output_type": "stream",
     "text": [
      "\u001b[32m2025-09-10 10:13:19.822\u001b[0m | \u001b[1mINFO    \u001b[0m | \u001b[36mexonamd.run\u001b[0m:\u001b[36minterp_db\u001b[0m:\u001b[36m281\u001b[0m - \u001b[1mValues interpolated\u001b[0m\n",
      "\u001b[32m2025-09-10 10:13:19.824\u001b[0m | \u001b[1mINFO    \u001b[0m | \u001b[36mexonamd.run\u001b[0m:\u001b[36minterp_db\u001b[0m:\u001b[36m284\u001b[0m - \u001b[1mStoring the curated+interpolated database\u001b[0m\n",
      "\u001b[32m2025-09-10 10:13:19.831\u001b[0m | \u001b[1mINFO    \u001b[0m | \u001b[36mexonamd.run\u001b[0m:\u001b[36minterp_db\u001b[0m:\u001b[36m289\u001b[0m - \u001b[1mDatabase stored at /home/ariel/andrea.bocchieri/DATA/ExoNAMD/exonamd/data/custom_db_20250814_interp.csv\u001b[0m\n"
     ]
    }
   ],
   "source": [
    "file_path = (\n",
    "    \"/home/ariel/andrea.bocchieri/DATA/ExoNAMD/exonamd/data/custom_db_20250814.csv\"\n",
    ")\n",
    "\n",
    "df_exo = pd.read_csv(file_path)\n",
    "\n",
    "df_interp = interp_db(\n",
    "    df=df_exo, out_path=Path(file_path).parent / \"custom_db_20250814_interp.csv\"\n",
    ")"
   ]
  },
  {
   "cell_type": "code",
   "execution_count": 4,
   "id": "e30e0423",
   "metadata": {},
   "outputs": [
    {
     "data": {
      "text/html": [
       "<div>\n",
       "<style scoped>\n",
       "    .dataframe tbody tr th:only-of-type {\n",
       "        vertical-align: middle;\n",
       "    }\n",
       "\n",
       "    .dataframe tbody tr th {\n",
       "        vertical-align: top;\n",
       "    }\n",
       "\n",
       "    .dataframe thead th {\n",
       "        text-align: right;\n",
       "    }\n",
       "</style>\n",
       "<table border=\"1\" class=\"dataframe\">\n",
       "  <thead>\n",
       "    <tr style=\"text-align: right;\">\n",
       "      <th></th>\n",
       "      <th>hostname</th>\n",
       "      <th>pl_name</th>\n",
       "      <th>flag</th>\n",
       "    </tr>\n",
       "  </thead>\n",
       "  <tbody>\n",
       "    <tr>\n",
       "      <th>53</th>\n",
       "      <td>AU Mic</td>\n",
       "      <td>AU Mic</td>\n",
       "      <td>0</td>\n",
       "    </tr>\n",
       "    <tr>\n",
       "      <th>44</th>\n",
       "      <td>HD 118203</td>\n",
       "      <td>HD 118203b</td>\n",
       "      <td>0</td>\n",
       "    </tr>\n",
       "    <tr>\n",
       "      <th>45</th>\n",
       "      <td>HD 118203</td>\n",
       "      <td>HD 118203c</td>\n",
       "      <td>0</td>\n",
       "    </tr>\n",
       "    <tr>\n",
       "      <th>30</th>\n",
       "      <td>K2-290</td>\n",
       "      <td>K2-290 b</td>\n",
       "      <td>02+-</td>\n",
       "    </tr>\n",
       "    <tr>\n",
       "      <th>31</th>\n",
       "      <td>K2-290</td>\n",
       "      <td>K2-290 c</td>\n",
       "      <td>0</td>\n",
       "    </tr>\n",
       "    <tr>\n",
       "      <th>32</th>\n",
       "      <td>Kepler-462</td>\n",
       "      <td>Kepler-462 b</td>\n",
       "      <td>0</td>\n",
       "    </tr>\n",
       "    <tr>\n",
       "      <th>33</th>\n",
       "      <td>Kepler-462</td>\n",
       "      <td>Kepler-462 c</td>\n",
       "      <td>02+-</td>\n",
       "    </tr>\n",
       "    <tr>\n",
       "      <th>23</th>\n",
       "      <td>Kepler-56</td>\n",
       "      <td>Kepler-56b</td>\n",
       "      <td>0</td>\n",
       "    </tr>\n",
       "    <tr>\n",
       "      <th>24</th>\n",
       "      <td>Kepler-56</td>\n",
       "      <td>Kepler-56c</td>\n",
       "      <td>0</td>\n",
       "    </tr>\n",
       "    <tr>\n",
       "      <th>51</th>\n",
       "      <td>TOI-421</td>\n",
       "      <td>TOI-421b</td>\n",
       "      <td>0</td>\n",
       "    </tr>\n",
       "    <tr>\n",
       "      <th>52</th>\n",
       "      <td>TOI-421</td>\n",
       "      <td>TOI-421c</td>\n",
       "      <td>0</td>\n",
       "    </tr>\n",
       "    <tr>\n",
       "      <th>17</th>\n",
       "      <td>TOI-942</td>\n",
       "      <td>TOI-942b</td>\n",
       "      <td>02+-</td>\n",
       "    </tr>\n",
       "    <tr>\n",
       "      <th>18</th>\n",
       "      <td>TOI-942</td>\n",
       "      <td>TOI-942c</td>\n",
       "      <td>02+-</td>\n",
       "    </tr>\n",
       "  </tbody>\n",
       "</table>\n",
       "</div>"
      ],
      "text/plain": [
       "      hostname       pl_name  flag\n",
       "53      AU Mic        AU Mic     0\n",
       "44   HD 118203    HD 118203b     0\n",
       "45   HD 118203    HD 118203c     0\n",
       "30      K2-290      K2-290 b  02+-\n",
       "31      K2-290      K2-290 c     0\n",
       "32  Kepler-462  Kepler-462 b     0\n",
       "33  Kepler-462  Kepler-462 c  02+-\n",
       "23   Kepler-56    Kepler-56b     0\n",
       "24   Kepler-56    Kepler-56c     0\n",
       "51     TOI-421      TOI-421b     0\n",
       "52     TOI-421      TOI-421c     0\n",
       "17     TOI-942      TOI-942b  02+-\n",
       "18     TOI-942      TOI-942c  02+-"
      ]
     },
     "execution_count": 4,
     "metadata": {},
     "output_type": "execute_result"
    }
   ],
   "source": [
    "# select only the hostnames for which the flag is \"0\" for all the planets\n",
    "# df_interp.groupby(\"hostname\").filter(lambda x: all(x[\"flag\"].isin([\"0\"]))).hostname.unique()\n",
    "df_interp.groupby(\"hostname\").filter(\n",
    "    lambda g: not g[\"flag\"].str.contains(\"5\").any()\n",
    ")[[\"hostname\", \"pl_name\", \"flag\"]]"
   ]
  },
  {
   "cell_type": "code",
   "execution_count": 5,
   "id": "0f448c2e",
   "metadata": {},
   "outputs": [
    {
     "data": {
      "text/plain": [
       "array(['AU Mic', 'HD 118203', 'K2-290', 'Kepler-462', 'Kepler-56',\n",
       "       'TOI-421', 'TOI-942'], dtype=object)"
      ]
     },
     "execution_count": 5,
     "metadata": {},
     "output_type": "execute_result"
    }
   ],
   "source": [
    "df_interp.groupby(\"hostname\").filter(\n",
    "    lambda g: not g[\"flag\"].str.contains(\"5\").any()\n",
    ").hostname.unique()"
   ]
  },
  {
   "cell_type": "code",
   "execution_count": 6,
   "id": "684d96f3",
   "metadata": {},
   "outputs": [
    {
     "name": "stdout",
     "output_type": "stream",
     "text": [
      "['WASP-84' 'TOI-1136' 'TOI-5398' 'WASP-47' 'TOI-2076' 'TOI-942' 'HD 3167'\n",
      " 'Kepler-56' 'WASP-148' 'TOI-451' 'K2-290' 'Kepler-462' 'SS' 'TOI-2202'\n",
      " 'HD 118203' 'HIP 41378' 'TOI-421' 'AU Mic' '55 Cncx' 'GJ 876x'\n",
      " 'HD 110067x' 'HD 191939x' 'KOI-351x' 'TOI-942x' 'TOI-942xx' 'TOI-942xxx'\n",
      " 'TRAPPIST-1x' 'SSE' 'SSEn']\n",
      "29\n",
      "sy_pnum\n",
      "2    13\n",
      "3     3\n",
      "4     3\n",
      "5     2\n",
      "6     3\n",
      "7     1\n",
      "8     4\n",
      "Name: hostname, dtype: int64\n"
     ]
    }
   ],
   "source": [
    "file_path = (\n",
    "    \"/home/ariel/andrea.bocchieri/DATA/ExoNAMD/exonamd/data/custom_db_20250814.csv\"\n",
    ")\n",
    "\n",
    "df_exo = pd.read_csv(file_path)\n",
    "\n",
    "# load /home/ariel/andrea.bocchieri/DATA/ExoNAMD/exonamd/data/custom_db_20241017e.csv as well\n",
    "# and concat the databases\n",
    "\n",
    "# df_ss = pd.read_csv(\n",
    "#     \"/home/ariel/andrea.bocchieri/DATA/ExoNAMD/exonamd/data/custom_db_20241017e.csv\"\n",
    "# )\n",
    "# # take only the systems with hostname equal to \"SSE\"\n",
    "# df_ss = df_ss[df_ss.hostname.isin([\"SSE\"])]\n",
    "\n",
    "df_fake = pd.read_csv(\n",
    "    \"/home/ariel/andrea.bocchieri/DATA/ExoNAMD/exonamd/data/custom_db_20250811_fakes.csv\"\n",
    ")\n",
    "# take only those where the hostname ends with one or multiple \"x\"\n",
    "# df_fake = df_fake[df_fake.hostname.str.endswith(\"x\")]\n",
    "\n",
    "# df_exo = pd.concat([df_exo, df_ss, df_fake], ignore_index=True)\n",
    "df_exo = pd.concat([df_exo, df_fake], ignore_index=True)\n",
    "\n",
    "print(df_exo.hostname.unique())\n",
    "print(df_exo.hostname.nunique())\n",
    "\n",
    "print(df_exo.groupby(\"sy_pnum\").hostname.nunique())"
   ]
  },
  {
   "cell_type": "code",
   "execution_count": 7,
   "id": "097cf37a",
   "metadata": {},
   "outputs": [
    {
     "name": "stderr",
     "output_type": "stream",
     "text": [
      "\u001b[32m2025-09-10 10:13:20.551\u001b[0m | \u001b[1mINFO    \u001b[0m | \u001b[36mexonamd.run\u001b[0m:\u001b[36minterp_db\u001b[0m:\u001b[36m173\u001b[0m - \u001b[1mThinning down the data with nanmedian\u001b[0m\n",
      "\u001b[32m2025-09-10 10:13:20.554\u001b[0m | \u001b[33m\u001b[1mWARNING \u001b[0m | \u001b[36mexonamd.run\u001b[0m:\u001b[36minterp_db\u001b[0m:\u001b[36m176\u001b[0m - \u001b[33m\u001b[1mNaT values in rowupdate: 83\u001b[0m\n",
      "/home/ariel/andrea.bocchieri/.local/lib/python3.10/site-packages/swifter/swifter.py:87: UserWarning: This pandas object has duplicate indices, and swifter may not be able to improve performance. Consider resetting the indices with `df.reset_index(drop=True)`.\n",
      "  warnings.warn(\n",
      "\u001b[32m2025-09-10 10:13:20.585\u001b[0m | \u001b[1mINFO    \u001b[0m | \u001b[36mexonamd.run\u001b[0m:\u001b[36minterp_db\u001b[0m:\u001b[36m185\u001b[0m - \u001b[1mData thinned down\u001b[0m\n",
      "\u001b[32m2025-09-10 10:13:20.586\u001b[0m | \u001b[1mINFO    \u001b[0m | \u001b[36mexonamd.run\u001b[0m:\u001b[36minterp_db\u001b[0m:\u001b[36m187\u001b[0m - \u001b[1mChecking for duplicates\u001b[0m\n",
      "\u001b[32m2025-09-10 10:13:20.592\u001b[0m | \u001b[1mINFO    \u001b[0m | \u001b[36mexonamd.run\u001b[0m:\u001b[36minterp_db\u001b[0m:\u001b[36m195\u001b[0m - \u001b[1mNo duplicates found\u001b[0m\n",
      "\u001b[32m2025-09-10 10:13:20.592\u001b[0m | \u001b[1mINFO    \u001b[0m | \u001b[36mexonamd.run\u001b[0m:\u001b[36minterp_db\u001b[0m:\u001b[36m197\u001b[0m - \u001b[1mInstantiating the flags\u001b[0m\n",
      "\u001b[32m2025-09-10 10:13:20.594\u001b[0m | \u001b[1mINFO    \u001b[0m | \u001b[36mexonamd.run\u001b[0m:\u001b[36minterp_db\u001b[0m:\u001b[36m199\u001b[0m - \u001b[1mFlags instantiated\u001b[0m\n",
      "\u001b[32m2025-09-10 10:13:20.595\u001b[0m | \u001b[1mINFO    \u001b[0m | \u001b[36mexonamd.run\u001b[0m:\u001b[36minterp_db\u001b[0m:\u001b[36m201\u001b[0m - \u001b[1mInterpolating missing eccentricity values\u001b[0m\n"
     ]
    },
    {
     "data": {
      "application/vnd.jupyter.widget-view+json": {
       "model_id": "0209ca29d6c2485fb0beade0b0738db1",
       "version_major": 2,
       "version_minor": 0
      },
      "text/plain": [
       "Pandas Apply:   0%|          | 0/112 [00:00<?, ?it/s]"
      ]
     },
     "metadata": {},
     "output_type": "display_data"
    },
    {
     "name": "stderr",
     "output_type": "stream",
     "text": [
      "\u001b[32m2025-09-10 10:13:20.669\u001b[0m | \u001b[1mINFO    \u001b[0m | \u001b[36mexonamd.run\u001b[0m:\u001b[36minterp_db\u001b[0m:\u001b[36m210\u001b[0m - \u001b[1mValues interpolated\u001b[0m\n",
      "\u001b[32m2025-09-10 10:13:20.671\u001b[0m | \u001b[1mINFO    \u001b[0m | \u001b[36mexonamd.run\u001b[0m:\u001b[36minterp_db\u001b[0m:\u001b[36m212\u001b[0m - \u001b[1mInterpolating missing planetary mass values\u001b[0m\n"
     ]
    },
    {
     "data": {
      "application/vnd.jupyter.widget-view+json": {
       "model_id": "75c19186c21648349c8b0a39d7724ac8",
       "version_major": 2,
       "version_minor": 0
      },
      "text/plain": [
       "Pandas Apply:   0%|          | 0/112 [00:00<?, ?it/s]"
      ]
     },
     "metadata": {},
     "output_type": "display_data"
    },
    {
     "name": "stderr",
     "output_type": "stream",
     "text": [
      "\u001b[32m2025-09-10 10:13:22.333\u001b[0m | \u001b[1mINFO    \u001b[0m | \u001b[36mexonamd.run\u001b[0m:\u001b[36minterp_db\u001b[0m:\u001b[36m221\u001b[0m - \u001b[1mValues interpolated\u001b[0m\n",
      "\u001b[32m2025-09-10 10:13:22.335\u001b[0m | \u001b[34m\u001b[1mDEBUG   \u001b[0m | \u001b[36mexonamd.run\u001b[0m:\u001b[36minterp_db\u001b[0m:\u001b[36m223\u001b[0m - \u001b[34m\u001b[1mDropping columns that are no longer needed\u001b[0m\n",
      "\u001b[32m2025-09-10 10:13:22.337\u001b[0m | \u001b[34m\u001b[1mDEBUG   \u001b[0m | \u001b[36mexonamd.run\u001b[0m:\u001b[36minterp_db\u001b[0m:\u001b[36m225\u001b[0m - \u001b[34m\u001b[1mColumns dropped\u001b[0m\n",
      "\u001b[32m2025-09-10 10:13:22.338\u001b[0m | \u001b[1mINFO    \u001b[0m | \u001b[36mexonamd.run\u001b[0m:\u001b[36minterp_db\u001b[0m:\u001b[36m227\u001b[0m - \u001b[1mRemoving systems where at least one planet has no mass or semi-major axis\u001b[0m\n",
      "\u001b[32m2025-09-10 10:13:22.366\u001b[0m | \u001b[1mINFO    \u001b[0m | \u001b[36mexonamd.run\u001b[0m:\u001b[36minterp_db\u001b[0m:\u001b[36m236\u001b[0m - \u001b[1mRemoving 1 systems: ['KOI-351x']\u001b[0m\n",
      "\u001b[32m2025-09-10 10:13:22.368\u001b[0m | \u001b[1mINFO    \u001b[0m | \u001b[36mexonamd.run\u001b[0m:\u001b[36minterp_db\u001b[0m:\u001b[36m238\u001b[0m - \u001b[1mSystems removed\u001b[0m\n",
      "\u001b[32m2025-09-10 10:13:22.369\u001b[0m | \u001b[1mINFO    \u001b[0m | \u001b[36mexonamd.run\u001b[0m:\u001b[36minterp_db\u001b[0m:\u001b[36m240\u001b[0m - \u001b[1mInterpolating missing values in inclinations\u001b[0m\n"
     ]
    },
    {
     "data": {
      "application/vnd.jupyter.widget-view+json": {
       "model_id": "972ec3cc4415459d98c76167260ee42a",
       "version_major": 2,
       "version_minor": 0
      },
      "text/plain": [
       "Pandas Apply:   0%|          | 0/104 [00:00<?, ?it/s]"
      ]
     },
     "metadata": {},
     "output_type": "display_data"
    },
    {
     "name": "stderr",
     "output_type": "stream",
     "text": [
      "\u001b[32m2025-09-10 10:13:22.636\u001b[0m | \u001b[1mINFO    \u001b[0m | \u001b[36mexonamd.run\u001b[0m:\u001b[36minterp_db\u001b[0m:\u001b[36m249\u001b[0m - \u001b[1mValues interpolated\u001b[0m\n",
      "\u001b[32m2025-09-10 10:13:22.638\u001b[0m | \u001b[1mINFO    \u001b[0m | \u001b[36mexonamd.run\u001b[0m:\u001b[36minterp_db\u001b[0m:\u001b[36m251\u001b[0m - \u001b[1mInterpolating missing values in semi-major axis uncertainties\u001b[0m\n"
     ]
    },
    {
     "data": {
      "application/vnd.jupyter.widget-view+json": {
       "model_id": "663929c8c375423d863d218371b868eb",
       "version_major": 2,
       "version_minor": 0
      },
      "text/plain": [
       "Pandas Apply:   0%|          | 0/104 [00:00<?, ?it/s]"
      ]
     },
     "metadata": {},
     "output_type": "display_data"
    },
    {
     "name": "stderr",
     "output_type": "stream",
     "text": [
      "\u001b[32m2025-09-10 10:13:22.707\u001b[0m | \u001b[1mINFO    \u001b[0m | \u001b[36mexonamd.run\u001b[0m:\u001b[36minterp_db\u001b[0m:\u001b[36m259\u001b[0m - \u001b[1mValues interpolated\u001b[0m\n",
      "\u001b[32m2025-09-10 10:13:22.709\u001b[0m | \u001b[1mINFO    \u001b[0m | \u001b[36mexonamd.run\u001b[0m:\u001b[36minterp_db\u001b[0m:\u001b[36m262\u001b[0m - \u001b[1mComputing the relative inclinations\u001b[0m\n"
     ]
    },
    {
     "data": {
      "application/vnd.jupyter.widget-view+json": {
       "model_id": "16ae40c1f80943a08ae8bfa32e9b46df",
       "version_major": 2,
       "version_minor": 0
      },
      "text/plain": [
       "Pandas Apply:   0%|          | 0/104 [00:00<?, ?it/s]"
      ]
     },
     "metadata": {},
     "output_type": "display_data"
    },
    {
     "name": "stderr",
     "output_type": "stream",
     "text": [
      "\u001b[32m2025-09-10 10:13:22.977\u001b[0m | \u001b[1mINFO    \u001b[0m | \u001b[36mexonamd.run\u001b[0m:\u001b[36minterp_db\u001b[0m:\u001b[36m270\u001b[0m - \u001b[1mValues computed\u001b[0m\n",
      "\u001b[32m2025-09-10 10:13:22.978\u001b[0m | \u001b[1mINFO    \u001b[0m | \u001b[36mexonamd.run\u001b[0m:\u001b[36minterp_db\u001b[0m:\u001b[36m272\u001b[0m - \u001b[1mInterpolating missing values in true obliquity\u001b[0m\n"
     ]
    },
    {
     "data": {
      "application/vnd.jupyter.widget-view+json": {
       "model_id": "cdf0c38dcab4488786fb5fafae64ce85",
       "version_major": 2,
       "version_minor": 0
      },
      "text/plain": [
       "Pandas Apply:   0%|          | 0/104 [00:00<?, ?it/s]"
      ]
     },
     "metadata": {},
     "output_type": "display_data"
    },
    {
     "name": "stderr",
     "output_type": "stream",
     "text": [
      "\u001b[32m2025-09-10 10:13:23.343\u001b[0m | \u001b[1mINFO    \u001b[0m | \u001b[36mexonamd.run\u001b[0m:\u001b[36minterp_db\u001b[0m:\u001b[36m281\u001b[0m - \u001b[1mValues interpolated\u001b[0m\n",
      "\u001b[32m2025-09-10 10:13:23.346\u001b[0m | \u001b[1mINFO    \u001b[0m | \u001b[36mexonamd.run\u001b[0m:\u001b[36minterp_db\u001b[0m:\u001b[36m284\u001b[0m - \u001b[1mStoring the curated+interpolated database\u001b[0m\n",
      "\u001b[32m2025-09-10 10:13:23.352\u001b[0m | \u001b[1mINFO    \u001b[0m | \u001b[36mexonamd.run\u001b[0m:\u001b[36minterp_db\u001b[0m:\u001b[36m289\u001b[0m - \u001b[1mDatabase stored at /home/ariel/andrea.bocchieri/DATA/ExoNAMD/exonamd/data/custom_db_20250811_interp_plus_fakes.csv\u001b[0m\n"
     ]
    }
   ],
   "source": [
    "df_interp = interp_db(\n",
    "    df=df_exo, out_path=Path(file_path).parent / \"custom_db_20250811_interp_plus_fakes.csv\"\n",
    ")"
   ]
  },
  {
   "cell_type": "code",
   "execution_count": 8,
   "id": "b526d50e",
   "metadata": {},
   "outputs": [
    {
     "name": "stderr",
     "output_type": "stream",
     "text": [
      "\u001b[32m2025-09-10 10:13:23.490\u001b[0m | \u001b[34m\u001b[1mDEBUG   \u001b[0m | \u001b[36mexonamd.run\u001b[0m:\u001b[36mcalc_namd\u001b[0m:\u001b[36m334\u001b[0m - \u001b[34m\u001b[1mDropping columns that are no longer needed\u001b[0m\n",
      "\u001b[32m2025-09-10 10:13:23.493\u001b[0m | \u001b[34m\u001b[1mDEBUG   \u001b[0m | \u001b[36mexonamd.run\u001b[0m:\u001b[36mcalc_namd\u001b[0m:\u001b[36m336\u001b[0m - \u001b[34m\u001b[1mColumns dropped\u001b[0m\n",
      "\u001b[32m2025-09-10 10:13:23.494\u001b[0m | \u001b[1mINFO    \u001b[0m | \u001b[36mexonamd.run\u001b[0m:\u001b[36mcalc_namd\u001b[0m:\u001b[36m345\u001b[0m - \u001b[1mComputing the relative NAMD\u001b[0m\n"
     ]
    },
    {
     "name": "stderr",
     "output_type": "stream",
     "text": [
      "\u001b[32m2025-09-10 10:13:23.592\u001b[0m | \u001b[1mINFO    \u001b[0m | \u001b[36mexonamd.run\u001b[0m:\u001b[36mcalc_namd\u001b[0m:\u001b[36m353\u001b[0m - \u001b[1mRelative NAMD computed\u001b[0m\n",
      "\u001b[32m2025-09-10 10:13:23.594\u001b[0m | \u001b[1mINFO    \u001b[0m | \u001b[36mexonamd.run\u001b[0m:\u001b[36mcalc_namd\u001b[0m:\u001b[36m356\u001b[0m - \u001b[1mComputing the absolute NAMD\u001b[0m\n",
      "\u001b[32m2025-09-10 10:13:23.705\u001b[0m | \u001b[1mINFO    \u001b[0m | \u001b[36mexonamd.run\u001b[0m:\u001b[36mcalc_namd\u001b[0m:\u001b[36m364\u001b[0m - \u001b[1mAbsolute NAMD computed\u001b[0m\n",
      "/home/ariel/andrea.bocchieri/.local/lib/python3.10/site-packages/swifter/swifter.py:87: UserWarning: This pandas object has duplicate indices, and swifter may not be able to improve performance. Consider resetting the indices with `df.reset_index(drop=True)`.\n",
      "  warnings.warn(\n",
      "\u001b[32m2025-09-10 10:13:23.806\u001b[0m | \u001b[1mINFO    \u001b[0m | \u001b[36mexonamd.run\u001b[0m:\u001b[36mcalc_namd\u001b[0m:\u001b[36m444\u001b[0m - \u001b[1mComputing the Monte Carlo relative NAMD\u001b[0m\n",
      "\u001b[32m2025-09-10 10:13:29.629\u001b[0m | \u001b[1mINFO    \u001b[0m | \u001b[36mexonamd.run\u001b[0m:\u001b[36mcalc_namd\u001b[0m:\u001b[36m455\u001b[0m - \u001b[1mRelative NAMD computed\u001b[0m\n",
      "\u001b[32m2025-09-10 10:13:29.634\u001b[0m | \u001b[1mINFO    \u001b[0m | \u001b[36mexonamd.run\u001b[0m:\u001b[36mcalc_namd\u001b[0m:\u001b[36m458\u001b[0m - \u001b[1mComputing the Monte Carlo absolute NAMD\u001b[0m\n",
      "\u001b[32m2025-09-10 10:13:35.196\u001b[0m | \u001b[1mINFO    \u001b[0m | \u001b[36mexonamd.run\u001b[0m:\u001b[36mcalc_namd\u001b[0m:\u001b[36m469\u001b[0m - \u001b[1mAbsolute NAMD computed\u001b[0m\n",
      "/home/ariel/andrea.bocchieri/.local/lib/python3.10/site-packages/swifter/swifter.py:87: UserWarning: This pandas object has duplicate indices, and swifter may not be able to improve performance. Consider resetting the indices with `df.reset_index(drop=True)`.\n",
      "  warnings.warn(\n"
     ]
    },
    {
     "data": {
      "image/png": "[encoded data removed]",
      "text/plain": [
       "<Figure size 640x480 with 1 Axes>"
      ]
     },
     "metadata": {},
     "output_type": "display_data"
    },
    {
     "data": {
      "image/png": "[encoded data removed]",
      "text/plain": [
       "<Figure size 640x480 with 1 Axes>"
      ]
     },
     "metadata": {},
     "output_type": "display_data"
    },
    {
     "data": {
      "image/png": "[encoded data removed]",
      "text/plain": [
       "<Figure size 640x480 with 1 Axes>"
      ]
     },
     "metadata": {},
     "output_type": "display_data"
    },
    {
     "data": {
      "image/png": "[encoded data removed]",
      "text/plain": [
       "<Figure size 640x480 with 1 Axes>"
      ]
     },
     "metadata": {},
     "output_type": "display_data"
    }
   ],
   "source": [
    "df_namd = calc_namd(\n",
    "    df=df_interp,\n",
    "    save=False,\n",
    "    plot=True,\n",
    "    core=False,\n",
    "    filt=None,\n",
    "    # which=[\"rel\"],\n",
    "    # which=[\"abs\"],\n",
    "    which=[\"rel\", \"abs\"],\n",
    "    threshold=100,\n",
    "    # use_trunc_normal=False,\n",
    "    use_trunc_normal=True,\n",
    "    Npt=int(1e5),\n",
    ")"
   ]
  },
  {
   "cell_type": "code",
   "execution_count": 9,
   "id": "3bacbc35",
   "metadata": {},
   "outputs": [],
   "source": [
    "mask = df_namd.hostname == \"SS\"\n",
    "cols_rel = [\"namd_rel\", \"namd_rel_mc\", \"namd_rel_q16\", \"namd_rel_q50\", \"namd_rel_q84\"]\n",
    "cols_abs = [\"namd_abs\", \"namd_abs_mc\", \"namd_abs_q16\", \"namd_abs_q50\", \"namd_abs_q84\"]\n",
    "\n",
    "df_namd.loc[mask, cols_rel] = df_namd.loc[mask, cols_abs].to_numpy()"
   ]
  },
  {
   "cell_type": "code",
   "execution_count": 10,
   "id": "5c6d0f47",
   "metadata": {},
   "outputs": [
    {
     "data": {
      "text/html": [
       "<div>\n",
       "<style scoped>\n",
       "    .dataframe tbody tr th:only-of-type {\n",
       "        vertical-align: middle;\n",
       "    }\n",
       "\n",
       "    .dataframe tbody tr th {\n",
       "        vertical-align: top;\n",
       "    }\n",
       "\n",
       "    .dataframe thead th {\n",
       "        text-align: right;\n",
       "    }\n",
       "</style>\n",
       "<table border=\"1\" class=\"dataframe\">\n",
       "  <thead>\n",
       "    <tr style=\"text-align: right;\">\n",
       "      <th></th>\n",
       "      <th>namd_rel</th>\n",
       "      <th>namd_rel_mc</th>\n",
       "      <th>namd_rel_q16</th>\n",
       "      <th>namd_rel_q50</th>\n",
       "      <th>namd_rel_q84</th>\n",
       "    </tr>\n",
       "  </thead>\n",
       "  <tbody>\n",
       "    <tr>\n",
       "      <th>34</th>\n",
       "      <td>0.001157</td>\n",
       "      <td>NaN</td>\n",
       "      <td>0.001157</td>\n",
       "      <td>0.001157</td>\n",
       "      <td>0.001157</td>\n",
       "    </tr>\n",
       "    <tr>\n",
       "      <th>35</th>\n",
       "      <td>0.001157</td>\n",
       "      <td>NaN</td>\n",
       "      <td>0.001157</td>\n",
       "      <td>0.001157</td>\n",
       "      <td>0.001157</td>\n",
       "    </tr>\n",
       "    <tr>\n",
       "      <th>36</th>\n",
       "      <td>0.001157</td>\n",
       "      <td>NaN</td>\n",
       "      <td>0.001157</td>\n",
       "      <td>0.001157</td>\n",
       "      <td>0.001157</td>\n",
       "    </tr>\n",
       "    <tr>\n",
       "      <th>37</th>\n",
       "      <td>0.001157</td>\n",
       "      <td>NaN</td>\n",
       "      <td>0.001157</td>\n",
       "      <td>0.001157</td>\n",
       "      <td>0.001157</td>\n",
       "    </tr>\n",
       "    <tr>\n",
       "      <th>38</th>\n",
       "      <td>0.001157</td>\n",
       "      <td>NaN</td>\n",
       "      <td>0.001157</td>\n",
       "      <td>0.001157</td>\n",
       "      <td>0.001157</td>\n",
       "    </tr>\n",
       "    <tr>\n",
       "      <th>39</th>\n",
       "      <td>0.001157</td>\n",
       "      <td>NaN</td>\n",
       "      <td>0.001157</td>\n",
       "      <td>0.001157</td>\n",
       "      <td>0.001157</td>\n",
       "    </tr>\n",
       "    <tr>\n",
       "      <th>40</th>\n",
       "      <td>0.001157</td>\n",
       "      <td>NaN</td>\n",
       "      <td>0.001157</td>\n",
       "      <td>0.001157</td>\n",
       "      <td>0.001157</td>\n",
       "    </tr>\n",
       "    <tr>\n",
       "      <th>41</th>\n",
       "      <td>0.001157</td>\n",
       "      <td>NaN</td>\n",
       "      <td>0.001157</td>\n",
       "      <td>0.001157</td>\n",
       "      <td>0.001157</td>\n",
       "    </tr>\n",
       "  </tbody>\n",
       "</table>\n",
       "</div>"
      ],
      "text/plain": [
       "    namd_rel  namd_rel_mc  namd_rel_q16  namd_rel_q50  namd_rel_q84\n",
       "34  0.001157          NaN      0.001157      0.001157      0.001157\n",
       "35  0.001157          NaN      0.001157      0.001157      0.001157\n",
       "36  0.001157          NaN      0.001157      0.001157      0.001157\n",
       "37  0.001157          NaN      0.001157      0.001157      0.001157\n",
       "38  0.001157          NaN      0.001157      0.001157      0.001157\n",
       "39  0.001157          NaN      0.001157      0.001157      0.001157\n",
       "40  0.001157          NaN      0.001157      0.001157      0.001157\n",
       "41  0.001157          NaN      0.001157      0.001157      0.001157"
      ]
     },
     "execution_count": 10,
     "metadata": {},
     "output_type": "execute_result"
    }
   ],
   "source": [
    "df_namd[df_namd.hostname == \"SS\"][[\"namd_rel\", \"namd_rel_mc\", \"namd_rel_q16\", \"namd_rel_q50\", \"namd_rel_q84\"]]"
   ]
  },
  {
   "cell_type": "code",
   "execution_count": 11,
   "id": "78a56cd3",
   "metadata": {},
   "outputs": [
    {
     "data": {
      "text/html": [
       "<div>\n",
       "<style scoped>\n",
       "    .dataframe tbody tr th:only-of-type {\n",
       "        vertical-align: middle;\n",
       "    }\n",
       "\n",
       "    .dataframe tbody tr th {\n",
       "        vertical-align: top;\n",
       "    }\n",
       "\n",
       "    .dataframe thead th {\n",
       "        text-align: right;\n",
       "    }\n",
       "</style>\n",
       "<table border=\"1\" class=\"dataframe\">\n",
       "  <thead>\n",
       "    <tr style=\"text-align: right;\">\n",
       "      <th></th>\n",
       "      <th>namd_abs</th>\n",
       "      <th>namd_abs_mc</th>\n",
       "      <th>namd_abs_q16</th>\n",
       "      <th>namd_abs_q50</th>\n",
       "      <th>namd_abs_q84</th>\n",
       "    </tr>\n",
       "  </thead>\n",
       "  <tbody>\n",
       "    <tr>\n",
       "      <th>34</th>\n",
       "      <td>0.001157</td>\n",
       "      <td>NaN</td>\n",
       "      <td>0.001157</td>\n",
       "      <td>0.001157</td>\n",
       "      <td>0.001157</td>\n",
       "    </tr>\n",
       "    <tr>\n",
       "      <th>35</th>\n",
       "      <td>0.001157</td>\n",
       "      <td>NaN</td>\n",
       "      <td>0.001157</td>\n",
       "      <td>0.001157</td>\n",
       "      <td>0.001157</td>\n",
       "    </tr>\n",
       "    <tr>\n",
       "      <th>36</th>\n",
       "      <td>0.001157</td>\n",
       "      <td>NaN</td>\n",
       "      <td>0.001157</td>\n",
       "      <td>0.001157</td>\n",
       "      <td>0.001157</td>\n",
       "    </tr>\n",
       "    <tr>\n",
       "      <th>37</th>\n",
       "      <td>0.001157</td>\n",
       "      <td>NaN</td>\n",
       "      <td>0.001157</td>\n",
       "      <td>0.001157</td>\n",
       "      <td>0.001157</td>\n",
       "    </tr>\n",
       "    <tr>\n",
       "      <th>38</th>\n",
       "      <td>0.001157</td>\n",
       "      <td>NaN</td>\n",
       "      <td>0.001157</td>\n",
       "      <td>0.001157</td>\n",
       "      <td>0.001157</td>\n",
       "    </tr>\n",
       "    <tr>\n",
       "      <th>39</th>\n",
       "      <td>0.001157</td>\n",
       "      <td>NaN</td>\n",
       "      <td>0.001157</td>\n",
       "      <td>0.001157</td>\n",
       "      <td>0.001157</td>\n",
       "    </tr>\n",
       "    <tr>\n",
       "      <th>40</th>\n",
       "      <td>0.001157</td>\n",
       "      <td>NaN</td>\n",
       "      <td>0.001157</td>\n",
       "      <td>0.001157</td>\n",
       "      <td>0.001157</td>\n",
       "    </tr>\n",
       "    <tr>\n",
       "      <th>41</th>\n",
       "      <td>0.001157</td>\n",
       "      <td>NaN</td>\n",
       "      <td>0.001157</td>\n",
       "      <td>0.001157</td>\n",
       "      <td>0.001157</td>\n",
       "    </tr>\n",
       "  </tbody>\n",
       "</table>\n",
       "</div>"
      ],
      "text/plain": [
       "    namd_abs  namd_abs_mc  namd_abs_q16  namd_abs_q50  namd_abs_q84\n",
       "34  0.001157          NaN      0.001157      0.001157      0.001157\n",
       "35  0.001157          NaN      0.001157      0.001157      0.001157\n",
       "36  0.001157          NaN      0.001157      0.001157      0.001157\n",
       "37  0.001157          NaN      0.001157      0.001157      0.001157\n",
       "38  0.001157          NaN      0.001157      0.001157      0.001157\n",
       "39  0.001157          NaN      0.001157      0.001157      0.001157\n",
       "40  0.001157          NaN      0.001157      0.001157      0.001157\n",
       "41  0.001157          NaN      0.001157      0.001157      0.001157"
      ]
     },
     "execution_count": 11,
     "metadata": {},
     "output_type": "execute_result"
    }
   ],
   "source": [
    "df_namd[df_namd.hostname == \"SS\"][[\"namd_abs\", \"namd_abs_mc\", \"namd_abs_q16\", \"namd_abs_q50\", \"namd_abs_q84\"]]\n"
   ]
  },
  {
   "cell_type": "code",
   "execution_count": 12,
   "id": "4feaab89",
   "metadata": {},
   "outputs": [
    {
     "data": {
      "text/plain": [
       "18"
      ]
     },
     "execution_count": 12,
     "metadata": {},
     "output_type": "execute_result"
    }
   ],
   "source": [
    "df_namd[~df_namd.hostname.isin(df_fake.hostname.unique())].hostname.nunique()"
   ]
  },
  {
   "cell_type": "code",
   "execution_count": 13,
   "id": "3f088ddd",
   "metadata": {},
   "outputs": [
    {
     "name": "stderr",
     "output_type": "stream",
     "text": [
      "\u001b[32m2025-09-10 10:13:38.270\u001b[0m | \u001b[1mINFO    \u001b[0m | \u001b[36m__main__\u001b[0m:\u001b[36m<module>\u001b[0m:\u001b[36m4\u001b[0m - \u001b[1mPlotting the absolute NAMD vs. multiplicity\u001b[0m\n"
     ]
    },
    {
     "data": {
      "image/png": "[encoded data removed]",
      "text/plain": [
       "<Figure size 600x600 with 2 Axes>"
      ]
     },
     "metadata": {},
     "output_type": "display_data"
    },
    {
     "name": "stderr",
     "output_type": "stream",
     "text": [
      "\u001b[32m2025-09-10 10:13:39.007\u001b[0m | \u001b[1mINFO    \u001b[0m | \u001b[36m__main__\u001b[0m:\u001b[36m<module>\u001b[0m:\u001b[36m18\u001b[0m - \u001b[1mPlot done\u001b[0m\n"
     ]
    }
   ],
   "source": [
    "# for this figure we need to define df_namd_ without systems with hostname in df_fake\n",
    "df_namd_ = df_namd[~df_namd.hostname.isin(df_fake.hostname.unique())]\n",
    "\n",
    "logger.info(\"Plotting the absolute NAMD vs. multiplicity\")\n",
    "pop_plot(\n",
    "    df=df_namd_.groupby(\"hostname\").apply(\n",
    "        lambda g: g.select_dtypes(exclude=[\"object\"]).mean(),\n",
    "        # include_groups=False,\n",
    "    ),\n",
    "    kind=\"abs\",\n",
    "    # title=\"Core planets\",\n",
    "    which=\"namd\",\n",
    "    yscale=\"log\",\n",
    "    out_path=\"/home/ariel/andrea.bocchieri/DATA/ExoNAMD/notebook/plots/exo_namd_abs_paper.pdf\",\n",
    "    replace_nan=False,\n",
    "    xoffs=0.15,\n",
    ")\n",
    "logger.info(\"Plot done\")"
   ]
  },
  {
   "cell_type": "code",
   "execution_count": 14,
   "id": "38dbf1e4",
   "metadata": {},
   "outputs": [
    {
     "name": "stdout",
     "output_type": "stream",
     "text": [
      "18\n",
      "sy_pnum\n",
      "2    10\n",
      "3     3\n",
      "4     2\n",
      "5     1\n",
      "6     1\n",
      "8     1\n",
      "Name: hostname, dtype: int64\n"
     ]
    }
   ],
   "source": [
    "print(df_namd_.hostname.nunique())\n",
    "print(df_namd_.groupby(\"sy_pnum\").hostname.nunique())"
   ]
  },
  {
   "cell_type": "code",
   "execution_count": 15,
   "id": "cf6a3f9d",
   "metadata": {},
   "outputs": [
    {
     "data": {
      "text/plain": [
       "array(['55 Cncx', 'AU Mic', 'GJ 876x', 'HD 110067x', 'HD 118203',\n",
       "       'HD 191939x', 'HD 3167', 'HIP 41378', 'K2-290', 'Kepler-462',\n",
       "       'Kepler-56', 'SS', 'SSE', 'SSEn', 'TOI-1136', 'TOI-2076',\n",
       "       'TOI-2202', 'TOI-421', 'TOI-451', 'TOI-5398', 'TOI-942',\n",
       "       'TOI-942x', 'TOI-942xx', 'TOI-942xxx', 'TRAPPIST-1x', 'WASP-148',\n",
       "       'WASP-47', 'WASP-84'], dtype=object)"
      ]
     },
     "execution_count": 15,
     "metadata": {},
     "output_type": "execute_result"
    }
   ],
   "source": [
    "df_namd.hostname.unique()"
   ]
  },
  {
   "cell_type": "code",
   "execution_count": 16,
   "id": "b9f20f62",
   "metadata": {},
   "outputs": [
    {
     "name": "stdout",
     "output_type": "stream",
     "text": [
      "18 10\n"
     ]
    }
   ],
   "source": [
    "df_namd_plot = df_namd_.groupby(\"hostname\")[\n",
    "    [\n",
    "        \"namd_rel\",\n",
    "        \"namd_abs\",\n",
    "        \"namd_rel_q16\",\n",
    "        \"namd_rel_q50\",\n",
    "        \"namd_rel_q84\",\n",
    "        \"namd_abs_q16\",\n",
    "        \"namd_abs_q50\",\n",
    "        \"namd_abs_q84\",\n",
    "    ]\n",
    "].apply(lambda g: g.select_dtypes(exclude=[\"object\"]).mean())\n",
    "\n",
    "df_namd_fake = (\n",
    "    df_namd[df_namd.hostname.isin(df_fake.hostname.unique())]\n",
    "    .groupby(\"hostname\")[\n",
    "        [\n",
    "            \"namd_rel\",\n",
    "            \"namd_abs\",\n",
    "            \"namd_rel_q16\",\n",
    "            \"namd_rel_q50\",\n",
    "            \"namd_rel_q84\",\n",
    "            \"namd_abs_q16\",\n",
    "            \"namd_abs_q50\",\n",
    "            \"namd_abs_q84\",\n",
    "        ]\n",
    "    ]\n",
    "    .apply(lambda g: g.select_dtypes(exclude=[\"object\"]).mean())\n",
    ")\n",
    "\n",
    "print(len(df_namd_plot), len(df_namd_fake))"
   ]
  },
  {
   "cell_type": "code",
   "execution_count": 17,
   "id": "1b427059",
   "metadata": {},
   "outputs": [
    {
     "data": {
      "text/html": [
       "<div>\n",
       "<style scoped>\n",
       "    .dataframe tbody tr th:only-of-type {\n",
       "        vertical-align: middle;\n",
       "    }\n",
       "\n",
       "    .dataframe tbody tr th {\n",
       "        vertical-align: top;\n",
       "    }\n",
       "\n",
       "    .dataframe thead th {\n",
       "        text-align: right;\n",
       "    }\n",
       "</style>\n",
       "<table border=\"1\" class=\"dataframe\">\n",
       "  <thead>\n",
       "    <tr style=\"text-align: right;\">\n",
       "      <th></th>\n",
       "      <th>namd_rel</th>\n",
       "      <th>namd_abs</th>\n",
       "      <th>namd_rel_q16</th>\n",
       "      <th>namd_rel_q50</th>\n",
       "      <th>namd_rel_q84</th>\n",
       "      <th>namd_abs_q16</th>\n",
       "      <th>namd_abs_q50</th>\n",
       "      <th>namd_abs_q84</th>\n",
       "    </tr>\n",
       "    <tr>\n",
       "      <th>hostname</th>\n",
       "      <th></th>\n",
       "      <th></th>\n",
       "      <th></th>\n",
       "      <th></th>\n",
       "      <th></th>\n",
       "      <th></th>\n",
       "      <th></th>\n",
       "      <th></th>\n",
       "    </tr>\n",
       "  </thead>\n",
       "  <tbody>\n",
       "    <tr>\n",
       "      <th>AU Mic</th>\n",
       "      <td>0.000000</td>\n",
       "      <td>0.046231</td>\n",
       "      <td>0.000000</td>\n",
       "      <td>0.000000</td>\n",
       "      <td>0.000001</td>\n",
       "      <td>0.009949</td>\n",
       "      <td>0.052979</td>\n",
       "      <td>0.140499</td>\n",
       "    </tr>\n",
       "    <tr>\n",
       "      <th>HD 118203</th>\n",
       "      <td>0.033952</td>\n",
       "      <td>0.041910</td>\n",
       "      <td>0.039275</td>\n",
       "      <td>0.074132</td>\n",
       "      <td>0.196471</td>\n",
       "      <td>0.033358</td>\n",
       "      <td>0.045931</td>\n",
       "      <td>0.064122</td>\n",
       "    </tr>\n",
       "    <tr>\n",
       "      <th>HD 3167</th>\n",
       "      <td>0.000006</td>\n",
       "      <td>0.405599</td>\n",
       "      <td>0.000769</td>\n",
       "      <td>0.002651</td>\n",
       "      <td>0.006932</td>\n",
       "      <td>0.378353</td>\n",
       "      <td>0.407978</td>\n",
       "      <td>0.438415</td>\n",
       "    </tr>\n",
       "    <tr>\n",
       "      <th>HIP 41378</th>\n",
       "      <td>0.003475</td>\n",
       "      <td>0.104309</td>\n",
       "      <td>0.001462</td>\n",
       "      <td>0.003623</td>\n",
       "      <td>0.008475</td>\n",
       "      <td>0.094046</td>\n",
       "      <td>0.106279</td>\n",
       "      <td>0.119723</td>\n",
       "    </tr>\n",
       "    <tr>\n",
       "      <th>K2-290</th>\n",
       "      <td>0.000005</td>\n",
       "      <td>0.529438</td>\n",
       "      <td>0.000003</td>\n",
       "      <td>0.000007</td>\n",
       "      <td>0.000014</td>\n",
       "      <td>0.485683</td>\n",
       "      <td>0.529696</td>\n",
       "      <td>0.575119</td>\n",
       "    </tr>\n",
       "    <tr>\n",
       "      <th>Kepler-462</th>\n",
       "      <td>0.086552</td>\n",
       "      <td>0.263796</td>\n",
       "      <td>0.060939</td>\n",
       "      <td>0.084429</td>\n",
       "      <td>0.108902</td>\n",
       "      <td>0.231967</td>\n",
       "      <td>0.261716</td>\n",
       "      <td>0.294704</td>\n",
       "    </tr>\n",
       "    <tr>\n",
       "      <th>Kepler-56</th>\n",
       "      <td>0.000000</td>\n",
       "      <td>0.051676</td>\n",
       "      <td>0.000001</td>\n",
       "      <td>0.000003</td>\n",
       "      <td>0.000007</td>\n",
       "      <td>0.019718</td>\n",
       "      <td>0.054385</td>\n",
       "      <td>0.111736</td>\n",
       "    </tr>\n",
       "    <tr>\n",
       "      <th>SS</th>\n",
       "      <td>0.001157</td>\n",
       "      <td>0.001157</td>\n",
       "      <td>0.001157</td>\n",
       "      <td>0.001157</td>\n",
       "      <td>0.001157</td>\n",
       "      <td>0.001157</td>\n",
       "      <td>0.001157</td>\n",
       "      <td>0.001157</td>\n",
       "    </tr>\n",
       "    <tr>\n",
       "      <th>TOI-1136</th>\n",
       "      <td>0.001265</td>\n",
       "      <td>0.001188</td>\n",
       "      <td>0.001115</td>\n",
       "      <td>0.001346</td>\n",
       "      <td>0.001621</td>\n",
       "      <td>0.013533</td>\n",
       "      <td>0.026543</td>\n",
       "      <td>0.047504</td>\n",
       "    </tr>\n",
       "    <tr>\n",
       "      <th>TOI-2076</th>\n",
       "      <td>0.001732</td>\n",
       "      <td>0.013972</td>\n",
       "      <td>0.000913</td>\n",
       "      <td>0.002136</td>\n",
       "      <td>0.004341</td>\n",
       "      <td>0.010213</td>\n",
       "      <td>0.017357</td>\n",
       "      <td>0.027080</td>\n",
       "    </tr>\n",
       "    <tr>\n",
       "      <th>TOI-2202</th>\n",
       "      <td>0.001902</td>\n",
       "      <td>0.037550</td>\n",
       "      <td>0.002380</td>\n",
       "      <td>0.005254</td>\n",
       "      <td>0.011157</td>\n",
       "      <td>0.024765</td>\n",
       "      <td>0.043319</td>\n",
       "      <td>0.068216</td>\n",
       "    </tr>\n",
       "    <tr>\n",
       "      <th>TOI-421</th>\n",
       "      <td>0.016088</td>\n",
       "      <td>0.101503</td>\n",
       "      <td>0.011043</td>\n",
       "      <td>0.016488</td>\n",
       "      <td>0.023155</td>\n",
       "      <td>0.086597</td>\n",
       "      <td>0.103300</td>\n",
       "      <td>0.121860</td>\n",
       "    </tr>\n",
       "    <tr>\n",
       "      <th>TOI-451</th>\n",
       "      <td>0.000018</td>\n",
       "      <td>0.060307</td>\n",
       "      <td>0.000012</td>\n",
       "      <td>0.000037</td>\n",
       "      <td>0.000101</td>\n",
       "      <td>0.033933</td>\n",
       "      <td>0.075193</td>\n",
       "      <td>0.139675</td>\n",
       "    </tr>\n",
       "    <tr>\n",
       "      <th>TOI-5398</th>\n",
       "      <td>0.008680</td>\n",
       "      <td>0.015237</td>\n",
       "      <td>0.004053</td>\n",
       "      <td>0.009029</td>\n",
       "      <td>0.016683</td>\n",
       "      <td>0.010066</td>\n",
       "      <td>0.018184</td>\n",
       "      <td>0.029654</td>\n",
       "    </tr>\n",
       "    <tr>\n",
       "      <th>TOI-942</th>\n",
       "      <td>0.002589</td>\n",
       "      <td>0.025257</td>\n",
       "      <td>0.001951</td>\n",
       "      <td>0.006609</td>\n",
       "      <td>0.016124</td>\n",
       "      <td>0.023233</td>\n",
       "      <td>0.046299</td>\n",
       "      <td>0.082027</td>\n",
       "    </tr>\n",
       "    <tr>\n",
       "      <th>WASP-148</th>\n",
       "      <td>0.038411</td>\n",
       "      <td>0.020714</td>\n",
       "      <td>0.033121</td>\n",
       "      <td>0.042482</td>\n",
       "      <td>0.054297</td>\n",
       "      <td>0.019557</td>\n",
       "      <td>0.023702</td>\n",
       "      <td>0.030321</td>\n",
       "    </tr>\n",
       "    <tr>\n",
       "      <th>WASP-47</th>\n",
       "      <td>0.030337</td>\n",
       "      <td>0.061199</td>\n",
       "      <td>0.028394</td>\n",
       "      <td>0.030597</td>\n",
       "      <td>0.032893</td>\n",
       "      <td>0.044992</td>\n",
       "      <td>0.062467</td>\n",
       "      <td>0.088403</td>\n",
       "    </tr>\n",
       "    <tr>\n",
       "      <th>WASP-84</th>\n",
       "      <td>0.000145</td>\n",
       "      <td>0.011374</td>\n",
       "      <td>0.000098</td>\n",
       "      <td>0.000143</td>\n",
       "      <td>0.000198</td>\n",
       "      <td>0.004115</td>\n",
       "      <td>0.011536</td>\n",
       "      <td>0.023347</td>\n",
       "    </tr>\n",
       "  </tbody>\n",
       "</table>\n",
       "</div>"
      ],
      "text/plain": [
       "            namd_rel  namd_abs  namd_rel_q16  namd_rel_q50  namd_rel_q84  \\\n",
       "hostname                                                                   \n",
       "AU Mic      0.000000  0.046231      0.000000      0.000000      0.000001   \n",
       "HD 118203   0.033952  0.041910      0.039275      0.074132      0.196471   \n",
       "HD 3167     0.000006  0.405599      0.000769      0.002651      0.006932   \n",
       "HIP 41378   0.003475  0.104309      0.001462      0.003623      0.008475   \n",
       "K2-290      0.000005  0.529438      0.000003      0.000007      0.000014   \n",
       "Kepler-462  0.086552  0.263796      0.060939      0.084429      0.108902   \n",
       "Kepler-56   0.000000  0.051676      0.000001      0.000003      0.000007   \n",
       "SS          0.001157  0.001157      0.001157      0.001157      0.001157   \n",
       "TOI-1136    0.001265  0.001188      0.001115      0.001346      0.001621   \n",
       "TOI-2076    0.001732  0.013972      0.000913      0.002136      0.004341   \n",
       "TOI-2202    0.001902  0.037550      0.002380      0.005254      0.011157   \n",
       "TOI-421     0.016088  0.101503      0.011043      0.016488      0.023155   \n",
       "TOI-451     0.000018  0.060307      0.000012      0.000037      0.000101   \n",
       "TOI-5398    0.008680  0.015237      0.004053      0.009029      0.016683   \n",
       "TOI-942     0.002589  0.025257      0.001951      0.006609      0.016124   \n",
       "WASP-148    0.038411  0.020714      0.033121      0.042482      0.054297   \n",
       "WASP-47     0.030337  0.061199      0.028394      0.030597      0.032893   \n",
       "WASP-84     0.000145  0.011374      0.000098      0.000143      0.000198   \n",
       "\n",
       "            namd_abs_q16  namd_abs_q50  namd_abs_q84  \n",
       "hostname                                              \n",
       "AU Mic          0.009949      0.052979      0.140499  \n",
       "HD 118203       0.033358      0.045931      0.064122  \n",
       "HD 3167         0.378353      0.407978      0.438415  \n",
       "HIP 41378       0.094046      0.106279      0.119723  \n",
       "K2-290          0.485683      0.529696      0.575119  \n",
       "Kepler-462      0.231967      0.261716      0.294704  \n",
       "Kepler-56       0.019718      0.054385      0.111736  \n",
       "SS              0.001157      0.001157      0.001157  \n",
       "TOI-1136        0.013533      0.026543      0.047504  \n",
       "TOI-2076        0.010213      0.017357      0.027080  \n",
       "TOI-2202        0.024765      0.043319      0.068216  \n",
       "TOI-421         0.086597      0.103300      0.121860  \n",
       "TOI-451         0.033933      0.075193      0.139675  \n",
       "TOI-5398        0.010066      0.018184      0.029654  \n",
       "TOI-942         0.023233      0.046299      0.082027  \n",
       "WASP-148        0.019557      0.023702      0.030321  \n",
       "WASP-47         0.044992      0.062467      0.088403  \n",
       "WASP-84         0.004115      0.011536      0.023347  "
      ]
     },
     "execution_count": 17,
     "metadata": {},
     "output_type": "execute_result"
    }
   ],
   "source": [
    "# df_namd_plot\n",
    "# print with 5 decimals\n",
    "df_namd_plot.round(6)"
   ]
  },
  {
   "cell_type": "code",
   "execution_count": 18,
   "id": "f93c8e19",
   "metadata": {},
   "outputs": [
    {
     "data": {
      "text/html": [
       "<div>\n",
       "<style scoped>\n",
       "    .dataframe tbody tr th:only-of-type {\n",
       "        vertical-align: middle;\n",
       "    }\n",
       "\n",
       "    .dataframe tbody tr th {\n",
       "        vertical-align: top;\n",
       "    }\n",
       "\n",
       "    .dataframe thead th {\n",
       "        text-align: right;\n",
       "    }\n",
       "</style>\n",
       "<table border=\"1\" class=\"dataframe\">\n",
       "  <thead>\n",
       "    <tr style=\"text-align: right;\">\n",
       "      <th></th>\n",
       "      <th>namd_rel</th>\n",
       "      <th>namd_abs</th>\n",
       "      <th>namd_rel_q16</th>\n",
       "      <th>namd_rel_q50</th>\n",
       "      <th>namd_rel_q84</th>\n",
       "      <th>namd_abs_q16</th>\n",
       "      <th>namd_abs_q50</th>\n",
       "      <th>namd_abs_q84</th>\n",
       "    </tr>\n",
       "    <tr>\n",
       "      <th>hostname</th>\n",
       "      <th></th>\n",
       "      <th></th>\n",
       "      <th></th>\n",
       "      <th></th>\n",
       "      <th></th>\n",
       "      <th></th>\n",
       "      <th></th>\n",
       "      <th></th>\n",
       "    </tr>\n",
       "  </thead>\n",
       "  <tbody>\n",
       "    <tr>\n",
       "      <th>55 Cncx</th>\n",
       "      <td>8.035724e-03</td>\n",
       "      <td>8.035726e-03</td>\n",
       "      <td>5.866919e-03</td>\n",
       "      <td>8.109613e-03</td>\n",
       "      <td>1.074536e-02</td>\n",
       "      <td>5.777153e-03</td>\n",
       "      <td>8.049496e-03</td>\n",
       "      <td>1.070314e-02</td>\n",
       "    </tr>\n",
       "    <tr>\n",
       "      <th>GJ 876x</th>\n",
       "      <td>6.951919e-03</td>\n",
       "      <td>6.951921e-03</td>\n",
       "      <td>6.885058e-03</td>\n",
       "      <td>6.956952e-03</td>\n",
       "      <td>7.030219e-03</td>\n",
       "      <td>6.884715e-03</td>\n",
       "      <td>6.957144e-03</td>\n",
       "      <td>7.030970e-03</td>\n",
       "    </tr>\n",
       "    <tr>\n",
       "      <th>HD 110067x</th>\n",
       "      <td>4.233427e-05</td>\n",
       "      <td>1.709887e-05</td>\n",
       "      <td>3.819562e-05</td>\n",
       "      <td>4.353192e-05</td>\n",
       "      <td>4.988517e-05</td>\n",
       "      <td>1.709887e-05</td>\n",
       "      <td>1.709887e-05</td>\n",
       "      <td>1.709887e-05</td>\n",
       "    </tr>\n",
       "    <tr>\n",
       "      <th>HD 191939x</th>\n",
       "      <td>1.897625e-01</td>\n",
       "      <td>1.897618e-01</td>\n",
       "      <td>1.897690e-01</td>\n",
       "      <td>1.897937e-01</td>\n",
       "      <td>1.898794e-01</td>\n",
       "      <td>1.897611e-01</td>\n",
       "      <td>1.897619e-01</td>\n",
       "      <td>1.897628e-01</td>\n",
       "    </tr>\n",
       "    <tr>\n",
       "      <th>SSE</th>\n",
       "      <td>1.141626e-03</td>\n",
       "      <td>1.012178e-02</td>\n",
       "      <td>1.141626e-03</td>\n",
       "      <td>1.141626e-03</td>\n",
       "      <td>1.141626e-03</td>\n",
       "      <td>1.012178e-02</td>\n",
       "      <td>1.012178e-02</td>\n",
       "      <td>1.012178e-02</td>\n",
       "    </tr>\n",
       "    <tr>\n",
       "      <th>SSEn</th>\n",
       "      <td>1.458319e-11</td>\n",
       "      <td>1.465562e-07</td>\n",
       "      <td>1.458316e-11</td>\n",
       "      <td>1.458319e-11</td>\n",
       "      <td>1.458322e-11</td>\n",
       "      <td>1.465562e-07</td>\n",
       "      <td>1.465562e-07</td>\n",
       "      <td>1.465562e-07</td>\n",
       "    </tr>\n",
       "    <tr>\n",
       "      <th>TOI-942x</th>\n",
       "      <td>2.020410e-02</td>\n",
       "      <td>2.020410e-02</td>\n",
       "      <td>1.373361e-02</td>\n",
       "      <td>2.070701e-02</td>\n",
       "      <td>2.930433e-02</td>\n",
       "      <td>1.371035e-02</td>\n",
       "      <td>2.068745e-02</td>\n",
       "      <td>2.927814e-02</td>\n",
       "    </tr>\n",
       "    <tr>\n",
       "      <th>TOI-942xx</th>\n",
       "      <td>5.012563e-03</td>\n",
       "      <td>5.012563e-03</td>\n",
       "      <td>2.578821e-03</td>\n",
       "      <td>5.696080e-03</td>\n",
       "      <td>1.036769e-02</td>\n",
       "      <td>2.580043e-03</td>\n",
       "      <td>5.684882e-03</td>\n",
       "      <td>1.025943e-02</td>\n",
       "    </tr>\n",
       "    <tr>\n",
       "      <th>TOI-942xxx</th>\n",
       "      <td>1.250782e-03</td>\n",
       "      <td>1.250782e-03</td>\n",
       "      <td>7.438486e-04</td>\n",
       "      <td>2.260621e-03</td>\n",
       "      <td>5.066936e-03</td>\n",
       "      <td>7.354836e-04</td>\n",
       "      <td>2.277561e-03</td>\n",
       "      <td>5.093778e-03</td>\n",
       "    </tr>\n",
       "    <tr>\n",
       "      <th>TRAPPIST-1x</th>\n",
       "      <td>1.754423e-05</td>\n",
       "      <td>1.709887e-05</td>\n",
       "      <td>2.013961e-05</td>\n",
       "      <td>2.261002e-05</td>\n",
       "      <td>2.632752e-05</td>\n",
       "      <td>1.709887e-05</td>\n",
       "      <td>1.709887e-05</td>\n",
       "      <td>1.709887e-05</td>\n",
       "    </tr>\n",
       "  </tbody>\n",
       "</table>\n",
       "</div>"
      ],
      "text/plain": [
       "                 namd_rel      namd_abs  namd_rel_q16  namd_rel_q50  \\\n",
       "hostname                                                              \n",
       "55 Cncx      8.035724e-03  8.035726e-03  5.866919e-03  8.109613e-03   \n",
       "GJ 876x      6.951919e-03  6.951921e-03  6.885058e-03  6.956952e-03   \n",
       "HD 110067x   4.233427e-05  1.709887e-05  3.819562e-05  4.353192e-05   \n",
       "HD 191939x   1.897625e-01  1.897618e-01  1.897690e-01  1.897937e-01   \n",
       "SSE          1.141626e-03  1.012178e-02  1.141626e-03  1.141626e-03   \n",
       "SSEn         1.458319e-11  1.465562e-07  1.458316e-11  1.458319e-11   \n",
       "TOI-942x     2.020410e-02  2.020410e-02  1.373361e-02  2.070701e-02   \n",
       "TOI-942xx    5.012563e-03  5.012563e-03  2.578821e-03  5.696080e-03   \n",
       "TOI-942xxx   1.250782e-03  1.250782e-03  7.438486e-04  2.260621e-03   \n",
       "TRAPPIST-1x  1.754423e-05  1.709887e-05  2.013961e-05  2.261002e-05   \n",
       "\n",
       "             namd_rel_q84  namd_abs_q16  namd_abs_q50  namd_abs_q84  \n",
       "hostname                                                             \n",
       "55 Cncx      1.074536e-02  5.777153e-03  8.049496e-03  1.070314e-02  \n",
       "GJ 876x      7.030219e-03  6.884715e-03  6.957144e-03  7.030970e-03  \n",
       "HD 110067x   4.988517e-05  1.709887e-05  1.709887e-05  1.709887e-05  \n",
       "HD 191939x   1.898794e-01  1.897611e-01  1.897619e-01  1.897628e-01  \n",
       "SSE          1.141626e-03  1.012178e-02  1.012178e-02  1.012178e-02  \n",
       "SSEn         1.458322e-11  1.465562e-07  1.465562e-07  1.465562e-07  \n",
       "TOI-942x     2.930433e-02  1.371035e-02  2.068745e-02  2.927814e-02  \n",
       "TOI-942xx    1.036769e-02  2.580043e-03  5.684882e-03  1.025943e-02  \n",
       "TOI-942xxx   5.066936e-03  7.354836e-04  2.277561e-03  5.093778e-03  \n",
       "TRAPPIST-1x  2.632752e-05  1.709887e-05  1.709887e-05  1.709887e-05  "
      ]
     },
     "execution_count": 18,
     "metadata": {},
     "output_type": "execute_result"
    }
   ],
   "source": [
    "df_namd_fake"
   ]
  },
  {
   "cell_type": "code",
   "execution_count": 21,
   "id": "3262e6b5",
   "metadata": {},
   "outputs": [
    {
     "name": "stdout",
     "output_type": "stream",
     "text": [
      "0\n"
     ]
    },
    {
     "data": {
      "image/png": "[encoded data removed]",
      "text/plain": [
       "<Figure size 1200x900 with 1 Axes>"
      ]
     },
     "metadata": {},
     "output_type": "display_data"
    }
   ],
   "source": [
    "import matplotlib.pyplot as plt\n",
    "\n",
    "fig = plt.figure(figsize=(8, 6), dpi=150)\n",
    "\n",
    "plt.yscale(\"log\")\n",
    "plt.xscale(\"log\")\n",
    "plt.xlabel(rf\"log$_{{10}}$ R-NAMD\")\n",
    "plt.ylabel(rf\"log$_{{10}}$ A-NAMD\")\n",
    "\n",
    "ax = plt.gca()\n",
    "for df_p, color in zip([df_namd_plot, df_namd_fake], [\"C0\", \"C2\"]):\n",
    "\n",
    "    ax.plot(\n",
    "        df_p[\"namd_rel_q50\"],\n",
    "        df_p[\"namd_abs_q50\"],\n",
    "        linestyle=\"none\",\n",
    "        marker=\"D\",\n",
    "        markersize=4,\n",
    "        alpha=0.4,\n",
    "        zorder=3,  # above error bars\n",
    "        color=\"gray\",\n",
    "    )\n",
    "\n",
    "    ax.errorbar(\n",
    "        x=df_p[\"namd_rel_q50\"],\n",
    "        y=df_p[\"namd_abs_q50\"],\n",
    "        xerr=(\n",
    "            df_p[\"namd_rel_q84\"] - df_p[\"namd_rel_q50\"],\n",
    "            df_p[\"namd_rel_q50\"] - df_p[\"namd_rel_q16\"],\n",
    "        ),\n",
    "        yerr=(\n",
    "            df_p[\"namd_abs_q84\"] - df_p[\"namd_abs_q50\"],\n",
    "            df_p[\"namd_abs_q50\"] - df_p[\"namd_abs_q16\"],\n",
    "        ),\n",
    "        fmt=\"none\",      # draw only bars\n",
    "        capsize=5,\n",
    "        alpha=0.5,\n",
    "        zorder=1,        # under the diamonds\n",
    "        color=color,\n",
    "    )\n",
    "\n",
    "missing_mc = df_namd_plot[\n",
    "    np.logical_or(\n",
    "        df_namd_plot[\"namd_abs_q50\"].isna(), df_namd_plot[\"namd_rel_q50\"].isna()\n",
    "    )\n",
    "]\n",
    "print(len(missing_mc))\n",
    "\n",
    "plt.plot(\n",
    "    missing_mc[\"namd_rel\"],\n",
    "    missing_mc[\"namd_abs\"],\n",
    "    \"o\",\n",
    "    color=\"k\",\n",
    "    alpha=0.5,\n",
    "    markersize=3,\n",
    ")\n",
    "\n",
    "ymin = 1e-5\n",
    "ymax = 1\n",
    "xmin = 1e-7\n",
    "xmax = 1\n",
    "\n",
    "# xmin = xmax = ymin = ymax = None\n",
    "\n",
    "plt.xlim(xmin, xmax)\n",
    "plt.ylim(ymin, ymax)\n",
    "# plt.vlines(1.3e-3, *plt.ylim(), colors=[\"k\"], linestyles=[\"--\"])\n",
    "# plt.hlines(1.3e-3, *plt.xlim(), colors=[\"k\"], linestyles=[\"--\"])\n",
    "\n",
    "plt.vlines(\n",
    "    df_namd_plot.loc[\"SS\"][\"namd_rel\"],\n",
    "    *plt.ylim(),\n",
    "    colors=[\"k\"],\n",
    "    linestyles=[\"--\"],\n",
    "    alpha=0.6,\n",
    "    zorder=0\n",
    ")\n",
    "plt.hlines(\n",
    "    df_namd_plot.loc[\"SS\"][\"namd_abs\"],\n",
    "    *plt.xlim(),\n",
    "    colors=[\"k\"],\n",
    "    linestyles=[\"--\"],\n",
    "    alpha=0.6,\n",
    "    zorder=0\n",
    ")\n",
    "\n",
    "# plt.vlines(df_namd_ss.loc[\"SSE\"][\"namd_rel\"], *plt.ylim(), colors=[\"b\"], linestyles=[\"--\"], alpha=0.3, zorder=0)\n",
    "plt.hlines(\n",
    "    df_namd_fake.loc[\"SSE\"][\"namd_abs\"],\n",
    "    *plt.xlim(),\n",
    "    colors=[\"r\"],\n",
    "    linestyles=[\"--\"],\n",
    "    alpha=0.6,\n",
    "    zorder=0\n",
    ")\n",
    "\n",
    "fig.text(0.3, 0.865, \"Perturbed, non-excited\", ha=\"center\", va=\"center\")\n",
    "fig.text(0.7, 0.865, \"Perturbed, excited\", ha=\"center\", va=\"center\")\n",
    "\n",
    "fig.text(0.3, 0.13, \"Non-perturbed, non-excited\", ha=\"center\", va=\"center\")\n",
    "fig.text(0.72, 0.13, \"Non-perturbed, excited\", ha=\"center\", va=\"center\")\n",
    "plt.grid(which=\"major\", lw=0.15, ls=\"--\", alpha=0.8)\n",
    "\n",
    "from matplotlib.ticker import LogLocator, FuncFormatter, NullFormatter\n",
    "ax.xaxis.set_major_locator(LogLocator(base=10))\n",
    "ax.xaxis.set_major_formatter(\n",
    "    FuncFormatter(lambda y, pos: f\"{int(np.log10(y))}\" if y > 0 else \"\")\n",
    ")\n",
    "ax.xaxis.set_minor_formatter(NullFormatter())\n",
    "ax.yaxis.set_major_locator(LogLocator(base=10))\n",
    "ax.yaxis.set_major_formatter(\n",
    "    FuncFormatter(lambda y, pos: f\"{int(np.log10(y))}\" if y > 0 else \"\")\n",
    ")\n",
    "ax.yaxis.set_minor_formatter(NullFormatter())\n",
    "\n",
    "plt.savefig(\n",
    "    \"/home/ariel/andrea.bocchieri/DATA/ExoNAMD/notebook/plots/four_quadrants_plot_paper.pdf\",\n",
    "    bbox_inches=\"tight\",\n",
    "    dpi=300,\n",
    ")\n",
    "plt.show()"
   ]
  },
  {
   "cell_type": "code",
   "execution_count": null,
   "id": "78379658",
   "metadata": {},
   "outputs": [],
   "source": []
  },
  {
   "cell_type": "code",
   "execution_count": 26,
   "id": "b5e2c782",
   "metadata": {},
   "outputs": [
    {
     "data": {
      "text/plain": [
       "(namd_rel    0.001157\n",
       " namd_abs    0.001157\n",
       " Name: SS, dtype: float64,\n",
       " 0.010121775638911982)"
      ]
     },
     "execution_count": 26,
     "metadata": {},
     "output_type": "execute_result"
    }
   ],
   "source": [
    "df_namd_plot.loc[\"SS\"][[\"namd_rel\", \"namd_abs\"]], df_namd_fake.loc[\"SSE\"][\"namd_abs\"]"
   ]
  },
  {
   "cell_type": "code",
   "execution_count": null,
   "id": "4b8fed44",
   "metadata": {},
   "outputs": [],
   "source": []
  },
  {
   "cell_type": "code",
   "execution_count": 19,
   "id": "9aada936",
   "metadata": {},
   "outputs": [
    {
     "data": {
      "text/html": [
       "<div>\n",
       "<style scoped>\n",
       "    .dataframe tbody tr th:only-of-type {\n",
       "        vertical-align: middle;\n",
       "    }\n",
       "\n",
       "    .dataframe tbody tr th {\n",
       "        vertical-align: top;\n",
       "    }\n",
       "\n",
       "    .dataframe thead th {\n",
       "        text-align: right;\n",
       "    }\n",
       "</style>\n",
       "<table border=\"1\" class=\"dataframe\">\n",
       "  <thead>\n",
       "    <tr style=\"text-align: right;\">\n",
       "      <th></th>\n",
       "      <th>namd_rel</th>\n",
       "      <th>namd_abs</th>\n",
       "      <th>namd_rel_q16</th>\n",
       "      <th>namd_rel_q50</th>\n",
       "      <th>namd_rel_q84</th>\n",
       "      <th>namd_abs_q16</th>\n",
       "      <th>namd_abs_q50</th>\n",
       "      <th>namd_abs_q84</th>\n",
       "    </tr>\n",
       "    <tr>\n",
       "      <th>hostname</th>\n",
       "      <th></th>\n",
       "      <th></th>\n",
       "      <th></th>\n",
       "      <th></th>\n",
       "      <th></th>\n",
       "      <th></th>\n",
       "      <th></th>\n",
       "      <th></th>\n",
       "    </tr>\n",
       "  </thead>\n",
       "  <tbody>\n",
       "    <tr>\n",
       "      <th>SSEn</th>\n",
       "      <td>1.458319e-11</td>\n",
       "      <td>1.465562e-07</td>\n",
       "      <td>1.458317e-11</td>\n",
       "      <td>1.458319e-11</td>\n",
       "      <td>1.458322e-11</td>\n",
       "      <td>1.465562e-07</td>\n",
       "      <td>1.465562e-07</td>\n",
       "      <td>1.465562e-07</td>\n",
       "    </tr>\n",
       "    <tr>\n",
       "      <th>TRAPPIST-1x</th>\n",
       "      <td>1.754423e-05</td>\n",
       "      <td>1.709887e-05</td>\n",
       "      <td>2.014984e-05</td>\n",
       "      <td>2.261152e-05</td>\n",
       "      <td>2.633491e-05</td>\n",
       "      <td>1.709887e-05</td>\n",
       "      <td>1.709887e-05</td>\n",
       "      <td>1.709887e-05</td>\n",
       "    </tr>\n",
       "    <tr>\n",
       "      <th>HD 110067x</th>\n",
       "      <td>4.233427e-05</td>\n",
       "      <td>1.709887e-05</td>\n",
       "      <td>3.820725e-05</td>\n",
       "      <td>4.350199e-05</td>\n",
       "      <td>4.983980e-05</td>\n",
       "      <td>1.709887e-05</td>\n",
       "      <td>1.709887e-05</td>\n",
       "      <td>1.709887e-05</td>\n",
       "    </tr>\n",
       "    <tr>\n",
       "      <th>SSE</th>\n",
       "      <td>1.141626e-03</td>\n",
       "      <td>1.012178e-02</td>\n",
       "      <td>1.141626e-03</td>\n",
       "      <td>1.141626e-03</td>\n",
       "      <td>1.141626e-03</td>\n",
       "      <td>1.012178e-02</td>\n",
       "      <td>1.012178e-02</td>\n",
       "      <td>1.012178e-02</td>\n",
       "    </tr>\n",
       "    <tr>\n",
       "      <th>TOI-942xxx</th>\n",
       "      <td>1.250782e-03</td>\n",
       "      <td>1.250782e-03</td>\n",
       "      <td>7.334450e-04</td>\n",
       "      <td>2.245756e-03</td>\n",
       "      <td>5.054171e-03</td>\n",
       "      <td>7.447844e-04</td>\n",
       "      <td>2.240711e-03</td>\n",
       "      <td>5.095775e-03</td>\n",
       "    </tr>\n",
       "    <tr>\n",
       "      <th>TOI-942xx</th>\n",
       "      <td>5.012563e-03</td>\n",
       "      <td>5.012563e-03</td>\n",
       "      <td>2.568894e-03</td>\n",
       "      <td>5.657845e-03</td>\n",
       "      <td>1.032694e-02</td>\n",
       "      <td>2.586403e-03</td>\n",
       "      <td>5.668782e-03</td>\n",
       "      <td>1.031599e-02</td>\n",
       "    </tr>\n",
       "    <tr>\n",
       "      <th>GJ 876x</th>\n",
       "      <td>6.951919e-03</td>\n",
       "      <td>6.951921e-03</td>\n",
       "      <td>6.884593e-03</td>\n",
       "      <td>6.957213e-03</td>\n",
       "      <td>7.030614e-03</td>\n",
       "      <td>6.885683e-03</td>\n",
       "      <td>6.957320e-03</td>\n",
       "      <td>7.030352e-03</td>\n",
       "    </tr>\n",
       "    <tr>\n",
       "      <th>55 Cncx</th>\n",
       "      <td>8.035724e-03</td>\n",
       "      <td>8.035726e-03</td>\n",
       "      <td>5.864201e-03</td>\n",
       "      <td>8.106578e-03</td>\n",
       "      <td>1.076627e-02</td>\n",
       "      <td>5.792785e-03</td>\n",
       "      <td>8.071404e-03</td>\n",
       "      <td>1.068353e-02</td>\n",
       "    </tr>\n",
       "    <tr>\n",
       "      <th>TOI-942x</th>\n",
       "      <td>2.020410e-02</td>\n",
       "      <td>2.020410e-02</td>\n",
       "      <td>1.374689e-02</td>\n",
       "      <td>2.078242e-02</td>\n",
       "      <td>2.940494e-02</td>\n",
       "      <td>1.370058e-02</td>\n",
       "      <td>2.069317e-02</td>\n",
       "      <td>2.938595e-02</td>\n",
       "    </tr>\n",
       "    <tr>\n",
       "      <th>HD 191939x</th>\n",
       "      <td>1.897625e-01</td>\n",
       "      <td>1.897618e-01</td>\n",
       "      <td>1.897690e-01</td>\n",
       "      <td>1.897937e-01</td>\n",
       "      <td>1.898805e-01</td>\n",
       "      <td>1.897611e-01</td>\n",
       "      <td>1.897619e-01</td>\n",
       "      <td>1.897628e-01</td>\n",
       "    </tr>\n",
       "  </tbody>\n",
       "</table>\n",
       "</div>"
      ],
      "text/plain": [
       "                 namd_rel      namd_abs  namd_rel_q16  namd_rel_q50  \\\n",
       "hostname                                                              \n",
       "SSEn         1.458319e-11  1.465562e-07  1.458317e-11  1.458319e-11   \n",
       "TRAPPIST-1x  1.754423e-05  1.709887e-05  2.014984e-05  2.261152e-05   \n",
       "HD 110067x   4.233427e-05  1.709887e-05  3.820725e-05  4.350199e-05   \n",
       "SSE          1.141626e-03  1.012178e-02  1.141626e-03  1.141626e-03   \n",
       "TOI-942xxx   1.250782e-03  1.250782e-03  7.334450e-04  2.245756e-03   \n",
       "TOI-942xx    5.012563e-03  5.012563e-03  2.568894e-03  5.657845e-03   \n",
       "GJ 876x      6.951919e-03  6.951921e-03  6.884593e-03  6.957213e-03   \n",
       "55 Cncx      8.035724e-03  8.035726e-03  5.864201e-03  8.106578e-03   \n",
       "TOI-942x     2.020410e-02  2.020410e-02  1.374689e-02  2.078242e-02   \n",
       "HD 191939x   1.897625e-01  1.897618e-01  1.897690e-01  1.897937e-01   \n",
       "\n",
       "             namd_rel_q84  namd_abs_q16  namd_abs_q50  namd_abs_q84  \n",
       "hostname                                                             \n",
       "SSEn         1.458322e-11  1.465562e-07  1.465562e-07  1.465562e-07  \n",
       "TRAPPIST-1x  2.633491e-05  1.709887e-05  1.709887e-05  1.709887e-05  \n",
       "HD 110067x   4.983980e-05  1.709887e-05  1.709887e-05  1.709887e-05  \n",
       "SSE          1.141626e-03  1.012178e-02  1.012178e-02  1.012178e-02  \n",
       "TOI-942xxx   5.054171e-03  7.447844e-04  2.240711e-03  5.095775e-03  \n",
       "TOI-942xx    1.032694e-02  2.586403e-03  5.668782e-03  1.031599e-02  \n",
       "GJ 876x      7.030614e-03  6.885683e-03  6.957320e-03  7.030352e-03  \n",
       "55 Cncx      1.076627e-02  5.792785e-03  8.071404e-03  1.068353e-02  \n",
       "TOI-942x     2.940494e-02  1.370058e-02  2.069317e-02  2.938595e-02  \n",
       "HD 191939x   1.898805e-01  1.897611e-01  1.897619e-01  1.897628e-01  "
      ]
     },
     "execution_count": 19,
     "metadata": {},
     "output_type": "execute_result"
    }
   ],
   "source": [
    "# sort df_namd_fake by the namd_rel_q50\n",
    "df_namd_fake.sort_values(\"namd_rel_q50\")"
   ]
  },
  {
   "cell_type": "code",
   "execution_count": 20,
   "id": "678b3cdd",
   "metadata": {},
   "outputs": [
    {
     "data": {
      "text/html": [
       "<div>\n",
       "<style scoped>\n",
       "    .dataframe tbody tr th:only-of-type {\n",
       "        vertical-align: middle;\n",
       "    }\n",
       "\n",
       "    .dataframe tbody tr th {\n",
       "        vertical-align: top;\n",
       "    }\n",
       "\n",
       "    .dataframe thead th {\n",
       "        text-align: right;\n",
       "    }\n",
       "</style>\n",
       "<table border=\"1\" class=\"dataframe\">\n",
       "  <thead>\n",
       "    <tr style=\"text-align: right;\">\n",
       "      <th></th>\n",
       "      <th>pl_name</th>\n",
       "      <th>pl_bmasse</th>\n",
       "      <th>flag</th>\n",
       "      <th>namd_rel</th>\n",
       "      <th>namd_rel_q50</th>\n",
       "      <th>namd_abs</th>\n",
       "      <th>namd_abs_q50</th>\n",
       "    </tr>\n",
       "  </thead>\n",
       "  <tbody>\n",
       "    <tr>\n",
       "      <th>17</th>\n",
       "      <td>TOI-942b</td>\n",
       "      <td>17.857443</td>\n",
       "      <td>02+-</td>\n",
       "      <td>0.002592</td>\n",
       "      <td>0.006592</td>\n",
       "      <td>0.025319</td>\n",
       "      <td>0.046325</td>\n",
       "    </tr>\n",
       "    <tr>\n",
       "      <th>18</th>\n",
       "      <td>TOI-942c</td>\n",
       "      <td>27.239353</td>\n",
       "      <td>02+-</td>\n",
       "      <td>0.002592</td>\n",
       "      <td>0.006592</td>\n",
       "      <td>0.025319</td>\n",
       "      <td>0.046325</td>\n",
       "    </tr>\n",
       "  </tbody>\n",
       "</table>\n",
       "</div>"
      ],
      "text/plain": [
       "     pl_name  pl_bmasse  flag  namd_rel  namd_rel_q50  namd_abs  namd_abs_q50\n",
       "17  TOI-942b  17.857443  02+-  0.002592      0.006592  0.025319      0.046325\n",
       "18  TOI-942c  27.239353  02+-  0.002592      0.006592  0.025319      0.046325"
      ]
     },
     "execution_count": 20,
     "metadata": {},
     "output_type": "execute_result"
    }
   ],
   "source": [
    "df_namd[df_namd[\"hostname\"]==\"TOI-942\"][[\"pl_name\", \"pl_bmasse\", \"flag\", \"namd_rel\", \"namd_rel_q50\", \"namd_abs\", \"namd_abs_q50\"]]"
   ]
  },
  {
   "cell_type": "code",
   "execution_count": null,
   "id": "eacff5df",
   "metadata": {},
   "outputs": [],
   "source": []
  }
 ],
 "metadata": {
  "kernelspec": {
   "display_name": "exo_namd",
   "language": "python",
   "name": "python3"
  },
  "language_info": {
   "codemirror_mode": {
    "name": "ipython",
    "version": 3
   },
   "file_extension": ".py",
   "mimetype": "text/x-python",
   "name": "python",
   "nbconvert_exporter": "python",
   "pygments_lexer": "ipython3",
   "version": "3.10.18"
  }
 },
 "nbformat": 4,
 "nbformat_minor": 5
}
